{
 "cells": [
  {
   "cell_type": "markdown",
   "id": "1421b4aa-68b9-4d3c-9760-e7728aad28c8",
   "metadata": {},
   "source": [
    "### \n",
    "🧠 Problem: Character Frequency Counter\n",
    "You are given a paragraph of text stored as a string. Your task is to:\n",
    "\n",
    "Ignore case sensitivity (treat A and a as same).\n",
    "\n",
    "Count how many times each character (a–z) appears in the text (ignore spaces, punctuation, numbers).\n",
    "\n",
    "Print the characters and their counts in alphabetical order."
   ]
  },
  {
   "cell_type": "code",
   "execution_count": 60,
   "id": "7df9a0c5-3cae-4b83-b8c3-11f16d4bc2ad",
   "metadata": {},
   "outputs": [
    {
     "name": "stdout",
     "output_type": "stream",
     "text": [
      "A:5\n",
      "C:2\n",
      "D:2\n",
      "E:9\n",
      "F:4\n",
      "G:1\n",
      "I:7\n",
      "K:1\n",
      "L:3\n",
      "M:1\n",
      "N:6\n",
      "O:3\n",
      "P:2\n",
      "R:2\n",
      "S:3\n",
      "T:2\n",
      "U:2\n",
      "Y:1\n"
     ]
    }
   ],
   "source": [
    "text = \"Anime is life. Naruto and Luffy are legends! One Piece is peak fiction.\"\n",
    "# text = 'kiraa'\n",
    "\n",
    "import re\n",
    "\n",
    "pattern =  re.findall(r'[a-z]' , text.lower())\n",
    "emp_dict = {}\n",
    "\n",
    "for char in pattern:\n",
    "    if char not in emp_dict:\n",
    "        emp_dict[char] = 1\n",
    "    else:\n",
    "        emp_dict[char] += 1\n",
    "sorted_dict = dict(sorted(emp_dict.items()))\n",
    "for chars, val in sorted_dict.items():\n",
    "    print(f\"{chars.upper()}:{val}\")\n"
   ]
  },
  {
   "cell_type": "code",
   "execution_count": null,
   "id": "6edf4299-c35a-4d45-ab03-2c38331a4202",
   "metadata": {},
   "outputs": [],
   "source": []
  },
  {
   "cell_type": "code",
   "execution_count": null,
   "id": "7cb9bb5d-f2c3-4057-8928-8acd56ea1c3d",
   "metadata": {},
   "outputs": [],
   "source": []
  }
 ],
 "metadata": {
  "kernelspec": {
   "display_name": "Python 3 (ipykernel)",
   "language": "python",
   "name": "python3"
  },
  "language_info": {
   "codemirror_mode": {
    "name": "ipython",
    "version": 3
   },
   "file_extension": ".py",
   "mimetype": "text/x-python",
   "name": "python",
   "nbconvert_exporter": "python",
   "pygments_lexer": "ipython3",
   "version": "3.12.7"
  }
 },
 "nbformat": 4,
 "nbformat_minor": 5
}
