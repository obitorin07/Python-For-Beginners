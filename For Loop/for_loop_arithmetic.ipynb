{
 "cells": [
  {
   "cell_type": "markdown",
   "id": "d4738b76-3dcb-4a48-94e5-d63b1dd039a2",
   "metadata": {},
   "source": [
    "# Looping"
   ]
  },
  {
   "cell_type": "code",
   "execution_count": 5,
   "id": "1d15c68a-104c-4fc9-ac3b-1cc8aca150fc",
   "metadata": {},
   "outputs": [],
   "source": [
    "x = [10,20,20,2,0,5]"
   ]
  },
  {
   "cell_type": "code",
   "execution_count": 6,
   "id": "0639d4c0-c8ff-4069-be20-2b280cc862f1",
   "metadata": {},
   "outputs": [
    {
     "data": {
      "text/plain": [
       "[10, 20, 20, 2, 0, 5]"
      ]
     },
     "execution_count": 6,
     "metadata": {},
     "output_type": "execute_result"
    }
   ],
   "source": [
    "x"
   ]
  },
  {
   "cell_type": "code",
   "execution_count": 7,
   "id": "2873bf28-207c-44ee-ae3a-2c50decb4327",
   "metadata": {},
   "outputs": [],
   "source": [
    "x.insert(-1,\"Hello\")"
   ]
  },
  {
   "cell_type": "code",
   "execution_count": 8,
   "id": "a25697fd-6339-4e9e-a5c1-98437dc7e179",
   "metadata": {},
   "outputs": [
    {
     "data": {
      "text/plain": [
       "[10, 20, 20, 2, 0, 'Hello', 5]"
      ]
     },
     "execution_count": 8,
     "metadata": {},
     "output_type": "execute_result"
    }
   ],
   "source": [
    "x"
   ]
  },
  {
   "cell_type": "code",
   "execution_count": 21,
   "id": "cc67d334-d9d0-4bd9-850c-32d33506b082",
   "metadata": {
    "scrolled": true
   },
   "outputs": [
    {
     "name": "stdout",
     "output_type": "stream",
     "text": [
      "10\n",
      "20\n",
      "20\n",
      "2\n",
      "0\n",
      "Hello\n",
      "5\n"
     ]
    }
   ],
   "source": [
    "for i in x:\n",
    "    print(i)"
   ]
  },
  {
   "cell_type": "markdown",
   "id": "8d8cb2da-dd88-4587-b3de-15b37875d645",
   "metadata": {},
   "source": [
    "# Reverse Print"
   ]
  },
  {
   "cell_type": "code",
   "execution_count": 20,
   "id": "625bac30-a947-4356-8591-645b15a5b5fa",
   "metadata": {},
   "outputs": [
    {
     "name": "stdout",
     "output_type": "stream",
     "text": [
      "5\n",
      "Hello\n",
      "0\n",
      "2\n",
      "20\n",
      "20\n",
      "10\n"
     ]
    }
   ],
   "source": [
    "\n",
    "for i in range(len(x)-1,-1,-1):\n",
    "    print(x[i])"
   ]
  },
  {
   "cell_type": "markdown",
   "id": "48caab25-62cb-4697-ab49-99f3899e7522",
   "metadata": {},
   "source": [
    "# Printing EVen Number Index value"
   ]
  },
  {
   "cell_type": "code",
   "execution_count": 34,
   "id": "d94954f0-829d-4be3-8a16-878943b46716",
   "metadata": {},
   "outputs": [],
   "source": [
    "list1 = [20,5,3,4,5,4,54,5,6,15,4,8,7,51,54,1,54,4,5]\n"
   ]
  },
  {
   "cell_type": "code",
   "execution_count": 36,
   "id": "9a839658",
   "metadata": {},
   "outputs": [
    {
     "data": {
      "text/plain": [
       "[20, 5, 3, 4, 5, 4, 54, 5, 6, 15, 4, 8, 7, 51, 54, 1, 54, 4, 5]"
      ]
     },
     "execution_count": 36,
     "metadata": {},
     "output_type": "execute_result"
    }
   ],
   "source": [
    "list1"
   ]
  },
  {
   "cell_type": "code",
   "execution_count": 35,
   "id": "fb7e2df3-80aa-45ef-b2bb-ebd3a2163597",
   "metadata": {},
   "outputs": [
    {
     "name": "stdout",
     "output_type": "stream",
     "text": [
      "20\n",
      "3\n",
      "5\n",
      "54\n",
      "6\n",
      "4\n",
      "7\n",
      "54\n",
      "54\n",
      "5\n"
     ]
    }
   ],
   "source": [
    "for i in range (0,len(list1),2):\n",
    "    print(list1[i])"
   ]
  },
  {
   "cell_type": "markdown",
   "id": "0acf48ba-a5da-445e-bc95-5e4a88cab2db",
   "metadata": {},
   "source": [
    "# performing arithmetic addition All elements from list"
   ]
  },
  {
   "cell_type": "code",
   "execution_count": 38,
   "id": "05003f24-b77f-4c6c-9b3c-c5fef95aa202",
   "metadata": {},
   "outputs": [
    {
     "name": "stdout",
     "output_type": "stream",
     "text": [
      "2\n",
      "6\n",
      "10\n",
      "14\n",
      "18\n",
      "22\n",
      "26\n",
      "30\n",
      "34\n",
      "38\n",
      "42\n",
      "46\n"
     ]
    }
   ],
   "source": [
    "list2 =[]\n",
    "for i in range (2,50,4):\n",
    "    print(i)\n",
    "    list2.append(i)"
   ]
  },
  {
   "cell_type": "code",
   "execution_count": 40,
   "id": "13095e8c-8f72-483b-bafb-ed31aa9a4959",
   "metadata": {},
   "outputs": [
    {
     "data": {
      "text/plain": [
       "[2, 6, 10, 14, 18, 22, 26, 30, 34, 38, 42, 46]"
      ]
     },
     "execution_count": 40,
     "metadata": {},
     "output_type": "execute_result"
    }
   ],
   "source": [
    "list2"
   ]
  },
  {
   "cell_type": "code",
   "execution_count": 49,
   "id": "12e41950-2fa4-42b8-a06b-ab3e32fe3cf4",
   "metadata": {},
   "outputs": [
    {
     "name": "stdout",
     "output_type": "stream",
     "text": [
      "Now Currrent Element from list Value Is 2 and Addition Value is 2\n",
      "Now Currrent Element from list Value Is 6 and Addition Value is 8\n",
      "Now Currrent Element from list Value Is 10 and Addition Value is 18\n",
      "Now Currrent Element from list Value Is 14 and Addition Value is 32\n",
      "Now Currrent Element from list Value Is 18 and Addition Value is 50\n",
      "Now Currrent Element from list Value Is 22 and Addition Value is 72\n",
      "Now Currrent Element from list Value Is 26 and Addition Value is 98\n",
      "Now Currrent Element from list Value Is 30 and Addition Value is 128\n",
      "Now Currrent Element from list Value Is 34 and Addition Value is 162\n",
      "Now Currrent Element from list Value Is 38 and Addition Value is 200\n",
      "Now Currrent Element from list Value Is 42 and Addition Value is 242\n",
      "Now Currrent Element from list Value Is 46 and Addition Value is 288\n",
      "The Addition of all The Elements from The List: 288\n"
     ]
    }
   ],
   "source": [
    "addition =0\n",
    "for i in list2:\n",
    "    addition = addition +i\n",
    "    print(\"Now Currrent Element from list Value Is {1} and Addition Value is {0}\".format(addition,i))\n",
    "print(\"The Addition of all The Elements from The List:\",addition)"
   ]
  },
  {
   "cell_type": "code",
   "execution_count": null,
   "id": "6eecc54f-666e-4a06-9828-6a0cbc85c970",
   "metadata": {},
   "outputs": [],
   "source": []
  }
 ],
 "metadata": {
  "kernelspec": {
   "display_name": "Python 3 (ipykernel)",
   "language": "python",
   "name": "python3"
  },
  "language_info": {
   "codemirror_mode": {
    "name": "ipython",
    "version": 3
   },
   "file_extension": ".py",
   "mimetype": "text/x-python",
   "name": "python",
   "nbconvert_exporter": "python",
   "pygments_lexer": "ipython3",
   "version": "3.11.7"
  }
 },
 "nbformat": 4,
 "nbformat_minor": 5
}
