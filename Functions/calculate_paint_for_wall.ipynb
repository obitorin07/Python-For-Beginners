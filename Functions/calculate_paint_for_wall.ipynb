{
 "cells": [
  {
   "cell_type": "markdown",
   "id": "da640267-6e6b-460c-a7f0-c2f7f2c8daa5",
   "metadata": {},
   "source": [
    "# Find How many cans are required to paint wall"
   ]
  },
  {
   "cell_type": "code",
   "execution_count": null,
   "id": "5a5f6654-1e24-402d-a256-7b976b120a7e",
   "metadata": {},
   "outputs": [],
   "source": [
    "# one can cover 6 square meter\n",
    "#formula\n",
    "#number of can = height * width /can_cover\n",
    "\n",
    "def find_how_many_cans(height ,width):\n",
    "    can_cover =6\n",
    "    total = (height*width)/can_cover\n",
    "    print(\"Total Cans Required :\",round(total))\n",
    "height = int(input(\"Enter The height:\"))\n",
    "width = int (input(\"Enter The width:\"))\n",
    "\n",
    "find_how_many_cans(height,width)\n"
   ]
  },
  {
   "cell_type": "code",
   "execution_count": null,
   "id": "ce7ea935-8b3e-4fcc-8ab4-8147f61dcc64",
   "metadata": {},
   "outputs": [],
   "source": []
  }
 ],
 "metadata": {
  "kernelspec": {
   "display_name": "Python 3 (ipykernel)",
   "language": "python",
   "name": "python3"
  },
  "language_info": {
   "codemirror_mode": {
    "name": "ipython",
    "version": 3
   },
   "file_extension": ".py",
   "mimetype": "text/x-python",
   "name": "python",
   "nbconvert_exporter": "python",
   "pygments_lexer": "ipython3",
   "version": "3.11.7"
  }
 },
 "nbformat": 4,
 "nbformat_minor": 5
}
