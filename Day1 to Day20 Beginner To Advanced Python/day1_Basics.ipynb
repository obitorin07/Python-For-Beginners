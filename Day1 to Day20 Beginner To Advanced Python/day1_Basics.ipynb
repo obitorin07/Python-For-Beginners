{
  "nbformat": 4,
  "nbformat_minor": 0,
  "metadata": {
    "colab": {
      "provenance": []
    },
    "kernelspec": {
      "name": "python3",
      "display_name": "Python 3"
    },
    "language_info": {
      "name": "python"
    }
  },
  "cells": [
    {
      "cell_type": "markdown",
      "source": [
        "#About Variables"
      ],
      "metadata": {
        "id": "dhoEd5fGODPM"
      }
    },
    {
      "cell_type": "code",
      "source": [
        " a = 10\n",
        " A =20\n",
        ""
      ],
      "metadata": {
        "id": "ORGd00xPOGrk"
      },
      "execution_count": 2,
      "outputs": []
    },
    {
      "cell_type": "code",
      "source": [
        "print(a)\n"
      ],
      "metadata": {
        "colab": {
          "base_uri": "https://localhost:8080/"
        },
        "id": "yPrsiY7FOJt7",
        "outputId": "303d4d3f-9068-48b6-d70b-1047368f93c3"
      },
      "execution_count": 3,
      "outputs": [
        {
          "output_type": "stream",
          "name": "stdout",
          "text": [
            "10\n"
          ]
        }
      ]
    },
    {
      "cell_type": "code",
      "source": [
        "print(A)"
      ],
      "metadata": {
        "colab": {
          "base_uri": "https://localhost:8080/"
        },
        "id": "O2i7dMxLOPlD",
        "outputId": "3c42d619-1635-4535-8a8e-008428fd59e6"
      },
      "execution_count": 4,
      "outputs": [
        {
          "output_type": "stream",
          "name": "stdout",
          "text": [
            "20\n"
          ]
        }
      ]
    },
    {
      "cell_type": "markdown",
      "source": [
        "About Case Sensitive"
      ],
      "metadata": {
        "id": "7BBI6HA4OafN"
      }
    },
    {
      "cell_type": "code",
      "source": [
        "Name =\"Kiran\"\n",
        "name = \"Obito\""
      ],
      "metadata": {
        "id": "Ff8GWcAhOeYg"
      },
      "execution_count": 5,
      "outputs": []
    },
    {
      "cell_type": "code",
      "source": [
        "# it will print Kiran because python is case sensitive each charcter has their own different value\n",
        "print(Name)"
      ],
      "metadata": {
        "colab": {
          "base_uri": "https://localhost:8080/"
        },
        "id": "9kjWBZG3Ok32",
        "outputId": "c3832495-a34b-4188-9816-210a53ec52df"
      },
      "execution_count": 6,
      "outputs": [
        {
          "output_type": "stream",
          "name": "stdout",
          "text": [
            "Kiran\n"
          ]
        }
      ]
    },
    {
      "cell_type": "code",
      "source": [
        "print(name)"
      ],
      "metadata": {
        "colab": {
          "base_uri": "https://localhost:8080/"
        },
        "id": "-ZIy3l7cOzhb",
        "outputId": "aafbc76e-d007-40b6-ad2d-b1b481f35f13"
      },
      "execution_count": 7,
      "outputs": [
        {
          "output_type": "stream",
          "name": "stdout",
          "text": [
            "Obito\n"
          ]
        }
      ]
    },
    {
      "cell_type": "code",
      "source": [],
      "metadata": {
        "id": "47Mt3GVlO2dG"
      },
      "execution_count": null,
      "outputs": []
    },
    {
      "cell_type": "markdown",
      "source": [
        "### variable to declare some important rules"
      ],
      "metadata": {
        "id": "PYEuqjSzPRTn"
      }
    },
    {
      "cell_type": "code",
      "source": [
        "name =\"kiran\""
      ],
      "metadata": {
        "id": "fEpcNFAxPVRj"
      },
      "execution_count": 8,
      "outputs": []
    },
    {
      "cell_type": "code",
      "source": [
        "name"
      ],
      "metadata": {
        "colab": {
          "base_uri": "https://localhost:8080/",
          "height": 35
        },
        "id": "AlofegqKPYYd",
        "outputId": "d55de8f7-b60b-4136-e0cb-d39b8000c965"
      },
      "execution_count": 9,
      "outputs": [
        {
          "output_type": "execute_result",
          "data": {
            "text/plain": [
              "'kiran'"
            ],
            "application/vnd.google.colaboratory.intrinsic+json": {
              "type": "string"
            }
          },
          "metadata": {},
          "execution_count": 9
        }
      ]
    },
    {
      "cell_type": "code",
      "source": [
        "_name =\"kiran\""
      ],
      "metadata": {
        "id": "-8lu3mLQPZAE"
      },
      "execution_count": 10,
      "outputs": []
    },
    {
      "cell_type": "code",
      "source": [
        "_name"
      ],
      "metadata": {
        "colab": {
          "base_uri": "https://localhost:8080/",
          "height": 35
        },
        "id": "S8tY4r7TPbde",
        "outputId": "76f71373-78b2-4de7-fe10-9111edad2bf9"
      },
      "execution_count": 11,
      "outputs": [
        {
          "output_type": "execute_result",
          "data": {
            "text/plain": [
              "'kiran'"
            ],
            "application/vnd.google.colaboratory.intrinsic+json": {
              "type": "string"
            }
          },
          "metadata": {},
          "execution_count": 11
        }
      ]
    },
    {
      "cell_type": "code",
      "source": [
        "# it will 100% shows an error\n",
        "1name =\"Hello my name\""
      ],
      "metadata": {
        "colab": {
          "base_uri": "https://localhost:8080/",
          "height": 106
        },
        "id": "hO_v1R26Pckl",
        "outputId": "a44d8c2a-5c18-45b8-91de-ce8c8eb794ff"
      },
      "execution_count": 13,
      "outputs": [
        {
          "output_type": "error",
          "ename": "SyntaxError",
          "evalue": "invalid decimal literal (<ipython-input-13-a81377cd1e51>, line 2)",
          "traceback": [
            "\u001b[0;36m  File \u001b[0;32m\"<ipython-input-13-a81377cd1e51>\"\u001b[0;36m, line \u001b[0;32m2\u001b[0m\n\u001b[0;31m    1name =\"Hello my name\"\u001b[0m\n\u001b[0m    ^\u001b[0m\n\u001b[0;31mSyntaxError\u001b[0m\u001b[0;31m:\u001b[0m invalid decimal literal\n"
          ]
        }
      ]
    },
    {
      "cell_type": "code",
      "source": [],
      "metadata": {
        "id": "t8P1RZNzPf_M"
      },
      "execution_count": null,
      "outputs": []
    },
    {
      "cell_type": "markdown",
      "source": [
        "\n",
        "\n",
        "1.   We cannot use first letter start with numers\n",
        "2.   first letters should an alphabets\n",
        "3.   We cannot use special character(@!$^&*) rather than _\n",
        "\n"
      ],
      "metadata": {
        "id": "misEV2U4PoKx"
      }
    },
    {
      "cell_type": "code",
      "source": [],
      "metadata": {
        "id": "TICZkqoYQB5b"
      },
      "execution_count": null,
      "outputs": []
    }
  ]
}