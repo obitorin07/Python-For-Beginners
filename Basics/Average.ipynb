{
  "nbformat": 4,
  "nbformat_minor": 0,
  "metadata": {
    "colab": {
      "provenance": []
    },
    "kernelspec": {
      "name": "python3",
      "display_name": "Python 3"
    },
    "language_info": {
      "name": "python"
    }
  },
  "cells": [
    {
      "cell_type": "markdown",
      "source": [
        "# Calculating the Average of Three Numbers\n",
        "\n",
        "*   sum of all number / count number of values\n",
        "\n",
        "\n"
      ],
      "metadata": {
        "id": "4lzvaZIqyrab"
      }
    },
    {
      "cell_type": "code",
      "execution_count": null,
      "metadata": {
        "id": "18DYUNfZyklR"
      },
      "outputs": [],
      "source": []
    },
    {
      "cell_type": "markdown",
      "source": [
        "#### Method 1: Using basic arithmetic\n"
      ],
      "metadata": {
        "id": "EpKTZwa1yuEj"
      }
    },
    {
      "cell_type": "code",
      "source": [
        "num1 = 2\n",
        "num2 = 4\n",
        "num3 = 6\n",
        "avg_result = (num1 + num2 + num3) / 3\n",
        "print(f\"The Average of {num1}, {num2}, {num3} is :\",avg_result)\n"
      ],
      "metadata": {
        "colab": {
          "base_uri": "https://localhost:8080/"
        },
        "id": "UG35SSxvyr-o",
        "outputId": "a90a96cd-1f5a-4d48-f98c-b421b4bdd024"
      },
      "execution_count": 4,
      "outputs": [
        {
          "output_type": "stream",
          "name": "stdout",
          "text": [
            "The Average of 2, 4, 6 is : 4.0\n"
          ]
        }
      ]
    },
    {
      "cell_type": "code",
      "source": [],
      "metadata": {
        "id": "kFo_Xtfoyumy"
      },
      "execution_count": null,
      "outputs": []
    },
    {
      "cell_type": "markdown",
      "source": [
        "\n",
        "#### Method 2: Using sum() and len() functions\n"
      ],
      "metadata": {
        "id": "x-Ztr9gpywmd"
      }
    },
    {
      "cell_type": "code",
      "source": [
        "numbers = [255,20,100,125,50]\n",
        "avg_res = sum(numbers) / len(numbers)\n",
        "print(\"The avarage value is :\", avg_res)"
      ],
      "metadata": {
        "colab": {
          "base_uri": "https://localhost:8080/"
        },
        "id": "qtTphOtSyxET",
        "outputId": "c928c50c-9f33-4a2f-c296-f09a2ae1d732"
      },
      "execution_count": 8,
      "outputs": [
        {
          "output_type": "stream",
          "name": "stdout",
          "text": [
            "The avarage value is : 110.0\n"
          ]
        }
      ]
    },
    {
      "cell_type": "markdown",
      "source": [
        "#### Method 3: User Input\n"
      ],
      "metadata": {
        "id": "AB16ClN_yzl6"
      }
    },
    {
      "cell_type": "code",
      "source": [
        "n1 = int(input(\"Enter The First Number:\"))\n",
        "n2 = int(input(\"Enter The Second Number:\"))\n",
        "n3 = int(input(\"Enter The Third Number:\"))\n",
        "result = (n1 + n2 + n3) /3\n",
        "print(f\"The Average of {n1}, {n2}, {n3} is :\",result)\n"
      ],
      "metadata": {
        "colab": {
          "base_uri": "https://localhost:8080/"
        },
        "id": "kNCO6n4oy0OT",
        "outputId": "185ca636-577a-4e80-88ec-7fcead53c8d1"
      },
      "execution_count": 10,
      "outputs": [
        {
          "output_type": "stream",
          "name": "stdout",
          "text": [
            "Enter The First Number:10\n",
            "Enter The Second Number:20\n",
            "Enter The Third Number:30\n",
            "The Average of 10, 20, 30 is : 20.0\n"
          ]
        }
      ]
    },
    {
      "cell_type": "code",
      "source": [
        "n1 = int(input(\"Enter The First Number:\"))\n",
        "n2 = int(input(\"Enter The Second Number:\"))\n",
        "n3 = int(input(\"Enter The Third Number:\"))\n",
        "\n",
        "print(f\"The Average of {n1}, {n2}, {n3} is :\",(n1 + n2 +n3)/3)\n"
      ],
      "metadata": {
        "colab": {
          "base_uri": "https://localhost:8080/"
        },
        "id": "XJO35zcp0Qg4",
        "outputId": "e30b9a8b-7996-401a-d004-50ebb3d9c5e4"
      },
      "execution_count": 11,
      "outputs": [
        {
          "output_type": "stream",
          "name": "stdout",
          "text": [
            "Enter The First Number:10\n",
            "Enter The Second Number:20\n",
            "Enter The Third Number:30\n",
            "The Average of 10, 20, 30 is : 20.0\n"
          ]
        }
      ]
    },
    {
      "cell_type": "code",
      "source": [
        "#thank you"
      ],
      "metadata": {
        "id": "hW0qr4XX0hCM"
      },
      "execution_count": null,
      "outputs": []
    }
  ]
}