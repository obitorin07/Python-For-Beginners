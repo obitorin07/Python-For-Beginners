{
  "nbformat": 4,
  "nbformat_minor": 0,
  "metadata": {
    "colab": {
      "provenance": []
    },
    "kernelspec": {
      "name": "python3",
      "display_name": "Python 3"
    },
    "language_info": {
      "name": "python"
    }
  },
  "cells": [
    {
      "cell_type": "code",
      "execution_count": 4,
      "metadata": {
        "colab": {
          "base_uri": "https://localhost:8080/"
        },
        "id": "iSMJLRaxwkYy",
        "outputId": "9685528c-db49-4911-b662-2c667adffaf6"
      },
      "outputs": [
        {
          "output_type": "stream",
          "name": "stdout",
          "text": [
            "Enter The value:12345\n",
            "['1', '2', '3', '4', '5']\n"
          ]
        },
        {
          "output_type": "execute_result",
          "data": {
            "text/plain": [
              "5"
            ]
          },
          "metadata": {},
          "execution_count": 4
        }
      ],
      "source": [
        "a = list(input(\"Enter The value:\"))\n",
        "print(a)\n",
        "len(a)\n"
      ]
    },
    {
      "cell_type": "markdown",
      "source": [
        "#INDEX VALUE HERE\n",
        "\n",
        "\n",
        "1 2 3 4 5\n",
        "\n",
        "---\n",
        "\n",
        "\n",
        "0 1 2 3 4\n",
        "\n",
        "\n",
        "\n",
        "\n"
      ],
      "metadata": {
        "id": "h__BKiGDw2CQ"
      }
    },
    {
      "cell_type": "code",
      "source": [
        "for i in range(1,len(a),1):\n",
        "  print(a[i:] + a[:i] )"
      ],
      "metadata": {
        "colab": {
          "base_uri": "https://localhost:8080/"
        },
        "id": "kdfqUdYUwpgr",
        "outputId": "c7c92d22-129a-40d5-d16d-a76529a84d56"
      },
      "execution_count": 5,
      "outputs": [
        {
          "output_type": "stream",
          "name": "stdout",
          "text": [
            "['2', '3', '4', '5', '1']\n",
            "['3', '4', '5', '1', '2']\n",
            "['4', '5', '1', '2', '3']\n",
            "['5', '1', '2', '3', '4']\n"
          ]
        }
      ]
    },
    {
      "cell_type": "code",
      "source": [
        "x = ['1', '2', '3', '4', '5']\n",
        "x[0:5]"
      ],
      "metadata": {
        "colab": {
          "base_uri": "https://localhost:8080/"
        },
        "id": "vSb6dYqhw1TI",
        "outputId": "5bd2c125-f8e9-4ed2-c10a-9484f5a8bdda"
      },
      "execution_count": 11,
      "outputs": [
        {
          "output_type": "execute_result",
          "data": {
            "text/plain": [
              "['1', '2', '3', '4', '5']"
            ]
          },
          "metadata": {},
          "execution_count": 11
        }
      ]
    },
    {
      "cell_type": "code",
      "source": [],
      "metadata": {
        "id": "BSBRp_yqwzaq"
      },
      "execution_count": null,
      "outputs": []
    },
    {
      "cell_type": "markdown",
      "source": [
        "#Distance between 2 data points  in x y\n",
        "\n",
        "##euclidean distance method\n",
        "##d = √[(x2 – x1)2 + (y2 – y1)2]"
      ],
      "metadata": {
        "id": "LK12i8oe2kxo"
      }
    },
    {
      "cell_type": "code",
      "source": [
        "import math\n",
        "x1 = int(input('Enter The x1:'))\n",
        "y1 = int(input(\"Enter The y1:\"))\n",
        "print(x1,y1)"
      ],
      "metadata": {
        "colab": {
          "base_uri": "https://localhost:8080/"
        },
        "id": "x-zJQ0TH2xkJ",
        "outputId": "d5ec7167-897e-4f4d-deae-8c2a7af25360"
      },
      "execution_count": 14,
      "outputs": [
        {
          "output_type": "stream",
          "name": "stdout",
          "text": [
            "Enter The x1:10\n",
            "Enter The y1:20\n",
            "10 20\n"
          ]
        }
      ]
    },
    {
      "cell_type": "code",
      "source": [
        "x2 = int(input('Enter The x2:'))\n",
        "y2 = int(input(\"Enter The y2:\"))\n",
        "print(x2,y2)"
      ],
      "metadata": {
        "id": "Z5fXN6ji3llf"
      },
      "execution_count": null,
      "outputs": []
    },
    {
      "cell_type": "code",
      "source": [
        "#distance between  2 data points in x and y\n",
        "# formula\n",
        "#d = √[(x2 – x1)2 + (y2 – y1)2]\n",
        "distance =math.sqrt((x2-x1)**2 +((y2-y1)**2))\n",
        "print(\"The Distance of 2 point is =\",distance)"
      ],
      "metadata": {
        "colab": {
          "base_uri": "https://localhost:8080/"
        },
        "id": "dfOMavMe3whU",
        "outputId": "c618f40f-6b9f-4eab-fe7b-ececad2d231c"
      },
      "execution_count": 22,
      "outputs": [
        {
          "output_type": "stream",
          "name": "stdout",
          "text": [
            "The Distance of 2 point is = 7.0710678118654755\n"
          ]
        }
      ]
    },
    {
      "cell_type": "code",
      "source": [
        "distance"
      ],
      "metadata": {
        "colab": {
          "base_uri": "https://localhost:8080/"
        },
        "id": "U6wwl8Zn4xjk",
        "outputId": "324c783e-1620-48ed-812e-fd4033628b93"
      },
      "execution_count": 23,
      "outputs": [
        {
          "output_type": "execute_result",
          "data": {
            "text/plain": [
              "7.0710678118654755"
            ]
          },
          "metadata": {},
          "execution_count": 23
        }
      ]
    },
    {
      "cell_type": "code",
      "source": [
        "!pwd"
      ],
      "metadata": {
        "colab": {
          "base_uri": "https://localhost:8080/"
        },
        "id": "xUm3_U_z4y0_",
        "outputId": "9e192e82-6de6-471e-9b76-c2d7ed770271"
      },
      "execution_count": 24,
      "outputs": [
        {
          "output_type": "stream",
          "name": "stdout",
          "text": [
            "/content\n"
          ]
        }
      ]
    },
    {
      "cell_type": "code",
      "source": [
        "!clear"
      ],
      "metadata": {
        "colab": {
          "base_uri": "https://localhost:8080/"
        },
        "id": "r97kD7nH7su8",
        "outputId": "e55fb3c1-3563-41c1-ce37-60b8cc3f0394"
      },
      "execution_count": 30,
      "outputs": [
        {
          "output_type": "stream",
          "name": "stdout",
          "text": [
            "\u001b[H\u001b[2J"
          ]
        }
      ]
    },
    {
      "cell_type": "code",
      "source": [],
      "metadata": {
        "id": "MYRStgta8Ea0"
      },
      "execution_count": null,
      "outputs": []
    },
    {
      "cell_type": "markdown",
      "source": [
        "#conditional statement"
      ],
      "metadata": {
        "id": "xAUCeEFc8Xow"
      }
    },
    {
      "cell_type": "code",
      "source": [
        "a =20\n",
        "b =10\n",
        "if a>b:\n",
        "  print(\"yes its big\")\n",
        "else:\n",
        "  print(\"no not big\")"
      ],
      "metadata": {
        "colab": {
          "base_uri": "https://localhost:8080/"
        },
        "id": "1CFC05w28ZV9",
        "outputId": "9b4b6aae-4499-46f4-c7b3-c1ecb3113ee4"
      },
      "execution_count": 27,
      "outputs": [
        {
          "output_type": "stream",
          "name": "stdout",
          "text": [
            "yes its big\n"
          ]
        }
      ]
    },
    {
      "cell_type": "code",
      "source": [
        "is_male = True\n",
        "if is_male :\n",
        "  print(\"You are Male Sigma man\")\n",
        "else:\n",
        "  print(\"You are women not an sigma\")"
      ],
      "metadata": {
        "colab": {
          "base_uri": "https://localhost:8080/"
        },
        "id": "cNljQ4Dl8jFn",
        "outputId": "f0954041-be48-4cae-9cde-ce47ab0f49dc"
      },
      "execution_count": 29,
      "outputs": [
        {
          "output_type": "stream",
          "name": "stdout",
          "text": [
            "You are Male Sigma man\n"
          ]
        }
      ]
    },
    {
      "cell_type": "code",
      "source": [
        "is_male = True\n",
        "is_tall = False\n",
        "\n",
        "if is_male and is_tall:\n",
        "  print(\"Your are taller Sigma Guy\")\n",
        "elif is_male and not(is_tall):\n",
        "  print(\"Your are short sigma guy\")\n",
        "elif not(is_male) and is_tall:\n",
        "  print(\"You are tall but not a male may be women \")\n",
        "else:\n",
        "  print(\"you are not male and neither you are tall \")"
      ],
      "metadata": {
        "colab": {
          "base_uri": "https://localhost:8080/"
        },
        "id": "1jrvALo5-Aeb",
        "outputId": "e47e4503-4e6a-4ef2-c176-76a35dc7e0fe"
      },
      "execution_count": 35,
      "outputs": [
        {
          "output_type": "stream",
          "name": "stdout",
          "text": [
            "Your are taller Sigma Guy\n"
          ]
        }
      ]
    },
    {
      "cell_type": "code",
      "source": [],
      "metadata": {
        "id": "qck0LUdw_Xu8"
      },
      "execution_count": null,
      "outputs": []
    },
    {
      "cell_type": "markdown",
      "source": [
        "#nested if statement"
      ],
      "metadata": {
        "id": "om_gHNLU_mIR"
      }
    },
    {
      "cell_type": "code",
      "source": [
        "score = 500\n",
        "money = 6000\n",
        "age = 65\n",
        "\n",
        "if score > 100:\n",
        "  print(\"You have good marks \")\n",
        "  if money >5000:\n",
        "    print(\"You have lot of money \")\n",
        "    if age >=30:\n",
        "      print(\"You passed exam in middle age well done \")\n",
        "    else:\n",
        "      print(\"You passed exam in young age good\")\n",
        "  else:\n",
        "    print(\"You dont have enough money \")\n",
        "\n",
        "else:\n",
        "  print(\"You have bad marks but dont give up try again\")\n"
      ],
      "metadata": {
        "colab": {
          "base_uri": "https://localhost:8080/"
        },
        "id": "-7RQDPux_p7U",
        "outputId": "c7b825eb-a746-4f42-abb4-0f0c6c6a7264"
      },
      "execution_count": 36,
      "outputs": [
        {
          "output_type": "stream",
          "name": "stdout",
          "text": [
            "You have good marks \n",
            "You have lot of money \n",
            "You passed exam in middle age well done \n"
          ]
        }
      ]
    },
    {
      "cell_type": "code",
      "source": [],
      "metadata": {
        "id": "bRuGd7qrAliR"
      },
      "execution_count": null,
      "outputs": []
    },
    {
      "cell_type": "markdown",
      "source": [
        "###same code in dynamic"
      ],
      "metadata": {
        "id": "eWN9tW4OApuE"
      }
    },
    {
      "cell_type": "code",
      "source": [
        "# score = 500\n",
        "# money = 6000\n",
        "# age = 65\n",
        "score = int(input(\"Enter The Scores :\"))\n",
        "money = float(input(\"Enter The Money how much do u have:\"))\n",
        "age = int(input(\"Enter The Your age :\"))\n",
        "\n",
        "\n",
        "if score > 100:\n",
        "  print(\"You have good marks \")\n",
        "  if money >5000:\n",
        "    print(\"You have lot of money \")\n",
        "    if age >=30:\n",
        "      print(\"You passed exam in middle age well done \")\n",
        "    else:\n",
        "      print(\"You passed exam in young age good\")\n",
        "  else:\n",
        "    print(\"You dont have enough money \")\n",
        "\n",
        "else:\n",
        "  print(\"You have bad marks but dont give up try again and you have nothing now but one dayu definitly\")\n"
      ],
      "metadata": {
        "colab": {
          "base_uri": "https://localhost:8080/"
        },
        "id": "7sVtBbneArx1",
        "outputId": "d87656cb-068f-4596-88fb-8d8681440ec8"
      },
      "execution_count": 40,
      "outputs": [
        {
          "output_type": "stream",
          "name": "stdout",
          "text": [
            "Enter The Scores :500\n",
            "Enter The Money how much do u have:7500\n",
            "Enter The Your age :45\n",
            "You have good marks \n",
            "You have lot of money \n",
            "You passed exam in middle age well done \n"
          ]
        }
      ]
    },
    {
      "cell_type": "code",
      "source": [],
      "metadata": {
        "id": "nT6iMDyLBAJv"
      },
      "execution_count": null,
      "outputs": []
    }
  ]
}