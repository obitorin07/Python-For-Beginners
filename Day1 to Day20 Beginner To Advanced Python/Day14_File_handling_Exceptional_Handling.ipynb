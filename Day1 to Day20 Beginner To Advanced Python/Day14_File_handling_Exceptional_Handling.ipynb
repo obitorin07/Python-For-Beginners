{
  "nbformat": 4,
  "nbformat_minor": 0,
  "metadata": {
    "colab": {
      "provenance": []
    },
    "kernelspec": {
      "name": "python3",
      "display_name": "Python 3"
    },
    "language_info": {
      "name": "python"
    }
  },
  "cells": [
    {
      "cell_type": "markdown",
      "source": [
        "#File Handling"
      ],
      "metadata": {
        "id": "8AU-H0xGsGKE"
      }
    },
    {
      "cell_type": "code",
      "execution_count": 1,
      "metadata": {
        "colab": {
          "base_uri": "https://localhost:8080/"
        },
        "id": "J4RpAK8wryoU",
        "outputId": "f13fae17-9de7-42b2-f45e-1c1c46a56477"
      },
      "outputs": [
        {
          "output_type": "stream",
          "name": "stdout",
          "text": [
            "about_python.txt  sample_data\n"
          ]
        }
      ],
      "source": [
        "!ls"
      ]
    },
    {
      "cell_type": "code",
      "source": [
        "file = open(\"about_python.txt\",'r',newline='')\n",
        "print(file)"
      ],
      "metadata": {
        "colab": {
          "base_uri": "https://localhost:8080/"
        },
        "id": "fZuade1_sJrQ",
        "outputId": "8fd1abae-86c0-40ca-a423-2f5cce39d732"
      },
      "execution_count": 3,
      "outputs": [
        {
          "output_type": "stream",
          "name": "stdout",
          "text": [
            "<_io.TextIOWrapper name='about_python.txt' mode='r' encoding='UTF-8'>\n"
          ]
        }
      ]
    },
    {
      "cell_type": "code",
      "source": [
        "file = open(\"about_python.txt\",'r')\n",
        "file_read =file.read()\n",
        "\n",
        "print(file_read)\n",
        "file.close()"
      ],
      "metadata": {
        "colab": {
          "base_uri": "https://localhost:8080/"
        },
        "id": "ftVf4vtTvPjE",
        "outputId": "4bf3446b-127e-41f2-8216-2fff21997775"
      },
      "execution_count": 25,
      "outputs": [
        {
          "output_type": "stream",
          "name": "stdout",
          "text": [
            "Python is everything \n",
            "python is love\n",
            "python is all rounder\n",
            "python is beautiful language\n",
            "it is strongest language in the world\n",
            "\n"
          ]
        }
      ]
    },
    {
      "cell_type": "code",
      "source": [
        "with open('about_python.txt') as file:\n",
        "  print(file.readline())\n",
        "  print('This reads a single line at a time ')\n",
        "  print(file.readline())\n",
        "\n",
        "  print(\"_________________________________\")\n",
        "  print(file.readlines())"
      ],
      "metadata": {
        "colab": {
          "base_uri": "https://localhost:8080/"
        },
        "id": "-gkfz1bevX7y",
        "outputId": "78265fbb-8b26-4080-f9af-f0d1b449108c"
      },
      "execution_count": 24,
      "outputs": [
        {
          "output_type": "stream",
          "name": "stdout",
          "text": [
            "Python is everything \n",
            "\n",
            "This reads a single line at a time \n",
            "python is love\n",
            "\n",
            "_________________________________\n",
            "['python is all rounder\\n', 'python is beautiful language\\n', 'it is strongest language in the world\\n']\n"
          ]
        }
      ]
    },
    {
      "cell_type": "markdown",
      "source": [
        "#Appending()"
      ],
      "metadata": {
        "id": "mvnL3tnYyaOQ"
      }
    },
    {
      "cell_type": "code",
      "source": [
        "with open ('about_python.txt','a',newline ='') as file:\n",
        "  file.write('\\nPython Is object oriented programming also')\n",
        "with open ('about_python.txt','r',newline ='') as file:\n",
        "  for i in file:\n",
        "    print(i)"
      ],
      "metadata": {
        "colab": {
          "base_uri": "https://localhost:8080/"
        },
        "id": "CfpMjNa3vkdb",
        "outputId": "a8559190-f118-4312-b2c0-a86e7050aa8b"
      },
      "execution_count": 36,
      "outputs": [
        {
          "output_type": "stream",
          "name": "stdout",
          "text": [
            "Python is everything \r\n",
            "\n",
            "python is love\r\n",
            "\n",
            "python is all rounder\r\n",
            "\n",
            "python is beautiful language\r\n",
            "\n",
            "it is strongest language in the worldPython Is object oriented programming also\n",
            "\n",
            "Python Is object oriented programming also\n"
          ]
        }
      ]
    },
    {
      "cell_type": "code",
      "source": [],
      "metadata": {
        "id": "hIor-K_Cyz8d"
      },
      "execution_count": null,
      "outputs": []
    },
    {
      "cell_type": "markdown",
      "source": [
        "#*Exceptional handling*"
      ],
      "metadata": {
        "id": "GH8tG7BS12eT"
      }
    },
    {
      "cell_type": "code",
      "source": [
        "try:\n",
        "\n",
        "  a = int(input(\"Enter The Number 1:\"))\n",
        "  b = int(input(\"Enter The Number 2 :\"))\n",
        "  c  = a+b\n",
        "  print(\"The addition of 2 number is :\",c)\n",
        "except:\n",
        "  print(\"Entered Value Seems to Non integer please enter valid number.\")"
      ],
      "metadata": {
        "colab": {
          "base_uri": "https://localhost:8080/"
        },
        "id": "JrbcYWtg187W",
        "outputId": "10a7606f-c0fe-487e-8748-ea8af182aac2"
      },
      "execution_count": 40,
      "outputs": [
        {
          "output_type": "stream",
          "name": "stdout",
          "text": [
            "Enter The Number 1:25\n",
            "Enter The Number 2 :30\n",
            "The addition of 2 number is : 55\n"
          ]
        }
      ]
    },
    {
      "cell_type": "markdown",
      "source": [
        "##voiting using exception handling"
      ],
      "metadata": {
        "id": "mFb4_rWV7mci"
      }
    },
    {
      "cell_type": "code",
      "source": [
        "#!/usr/bin/env python3\n",
        "try:\n",
        "  name = str(input(\"Enter The Name:\"))\n",
        "  age = int(input(\"Enter The Age :\"))\n",
        "\n",
        "  if age >=18:\n",
        "    print(f\"Hello {name} you can Vote\")\n",
        "  else:\n",
        "    print(f\"{name} you cannot vote\")\n",
        "\n",
        "except :\n",
        "  print(\"Entered Value type is not correct\")\n",
        "\n"
      ],
      "metadata": {
        "colab": {
          "base_uri": "https://localhost:8080/"
        },
        "id": "_tGF9GSD20ow",
        "outputId": "59749dc5-173c-4b6a-c827-6f6b54935ba7"
      },
      "execution_count": 54,
      "outputs": [
        {
          "output_type": "stream",
          "name": "stdout",
          "text": [
            "Enter The Name:Ram\n",
            "Enter The Age :25\n",
            "Hello Ram you can Vote\n"
          ]
        }
      ]
    },
    {
      "cell_type": "markdown",
      "source": [
        "##user defined exception"
      ],
      "metadata": {
        "id": "OcTVqz0zAkL-"
      }
    },
    {
      "cell_type": "code",
      "source": [
        "#!/usr/bin/env python3\n",
        "\n",
        "name = str(input(\"Enter The Name:\"))\n",
        "age = int(input(\"Enter The Age :\"))\n",
        "\n",
        "if age >=18:\n",
        "  print(f\"Hello {name} you can Vote\")\n",
        "else:\n",
        "  raise Exception (f\"{name} you cannot vote you are still child\")\n"
      ],
      "metadata": {
        "colab": {
          "base_uri": "https://localhost:8080/",
          "height": 211
        },
        "id": "Z894dFtw7qLy",
        "outputId": "e9931b5d-61fd-4a95-9bcf-8725391ab361"
      },
      "execution_count": 59,
      "outputs": [
        {
          "name": "stdout",
          "output_type": "stream",
          "text": [
            "Enter The Name:Obito uchia\n",
            "Enter The Age :17\n"
          ]
        },
        {
          "output_type": "error",
          "ename": "Exception",
          "evalue": "Obito uchia you cannot vote you are still child",
          "traceback": [
            "\u001b[0;31m---------------------------------------------------------------------------\u001b[0m",
            "\u001b[0;31mException\u001b[0m                                 Traceback (most recent call last)",
            "\u001b[0;32m<ipython-input-59-ca58b23818e0>\u001b[0m in \u001b[0;36m<cell line: 6>\u001b[0;34m()\u001b[0m\n\u001b[1;32m      7\u001b[0m   \u001b[0mprint\u001b[0m\u001b[0;34m(\u001b[0m\u001b[0;34mf\"Hello {name} you can Vote\"\u001b[0m\u001b[0;34m)\u001b[0m\u001b[0;34m\u001b[0m\u001b[0;34m\u001b[0m\u001b[0m\n\u001b[1;32m      8\u001b[0m \u001b[0;32melse\u001b[0m\u001b[0;34m:\u001b[0m\u001b[0;34m\u001b[0m\u001b[0;34m\u001b[0m\u001b[0m\n\u001b[0;32m----> 9\u001b[0;31m   \u001b[0;32mraise\u001b[0m \u001b[0mException\u001b[0m \u001b[0;34m(\u001b[0m\u001b[0;34mf\"{name} you cannot vote you are still child\"\u001b[0m\u001b[0;34m)\u001b[0m\u001b[0;34m\u001b[0m\u001b[0;34m\u001b[0m\u001b[0m\n\u001b[0m",
            "\u001b[0;31mException\u001b[0m: Obito uchia you cannot vote you are still child"
          ]
        }
      ]
    },
    {
      "cell_type": "code",
      "source": [],
      "metadata": {
        "id": "Dysuy2irAUsD"
      },
      "execution_count": null,
      "outputs": []
    }
  ]
}