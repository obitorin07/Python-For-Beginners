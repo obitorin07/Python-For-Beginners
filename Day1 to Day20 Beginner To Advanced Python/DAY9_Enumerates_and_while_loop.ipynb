{
  "nbformat": 4,
  "nbformat_minor": 0,
  "metadata": {
    "colab": {
      "provenance": []
    },
    "kernelspec": {
      "name": "python3",
      "display_name": "Python 3"
    },
    "language_info": {
      "name": "python"
    }
  },
  "cells": [
    {
      "cell_type": "markdown",
      "source": [
        "##for else"
      ],
      "metadata": {
        "id": "j8XGlCWbd1We"
      }
    },
    {
      "cell_type": "code",
      "execution_count": 7,
      "metadata": {
        "colab": {
          "base_uri": "https://localhost:8080/"
        },
        "id": "kZl7yvQ1clC-",
        "outputId": "df89e186-c5ea-471d-e22c-fba48d226526"
      },
      "outputs": [
        {
          "output_type": "stream",
          "name": "stdout",
          "text": [
            "There is no even numbers in list\n"
          ]
        }
      ],
      "source": [
        "#!/usr/bin/env python3\n",
        "numbers =(1,5,7,9,11,23,565,15,125,147)\n",
        "for num in numbers:\n",
        "  if num%2==0:\n",
        "    print(\"In numbers there is even numbers are exist\")\n",
        "    break\n",
        "else:\n",
        "  print(\"There is no even numbers in list\")\n",
        "\n"
      ]
    },
    {
      "cell_type": "code",
      "source": [],
      "metadata": {
        "id": "yxiwZuJ3d3Sh"
      },
      "execution_count": null,
      "outputs": []
    },
    {
      "cell_type": "markdown",
      "source": [
        "##Enumerate()"
      ],
      "metadata": {
        "id": "1VHJ01gTfyJ_"
      }
    },
    {
      "cell_type": "code",
      "source": [
        "for i, j in enumerate(numbers):\n",
        "  print(i,j)"
      ],
      "metadata": {
        "colab": {
          "base_uri": "https://localhost:8080/"
        },
        "id": "EkqvEllgf2aj",
        "outputId": "1712e9fa-7c5e-4280-cc30-6f99fdd29d93"
      },
      "execution_count": 10,
      "outputs": [
        {
          "output_type": "stream",
          "name": "stdout",
          "text": [
            "0 1\n",
            "1 5\n",
            "2 7\n",
            "3 9\n",
            "4 11\n",
            "5 23\n",
            "6 565\n",
            "7 15\n",
            "8 125\n",
            "9 147\n"
          ]
        }
      ]
    },
    {
      "cell_type": "code",
      "source": [
        "for i in range(10):\n",
        "  print(i,end =' ')"
      ],
      "metadata": {
        "colab": {
          "base_uri": "https://localhost:8080/"
        },
        "id": "RZYxjzbOf8as",
        "outputId": "7f2bf75b-5086-4c40-c466-f5af6c9af3c1"
      },
      "execution_count": 14,
      "outputs": [
        {
          "output_type": "stream",
          "name": "stdout",
          "text": [
            "0 1 2 3 4 5 6 7 8 9 "
          ]
        }
      ]
    },
    {
      "cell_type": "code",
      "source": [
        "print(\"In python index is start from 0\")\n",
        "for i ,j in enumerate(range(2,20,2)):\n",
        "\n",
        "  print(f\"The Index of {j} is {i}\")"
      ],
      "metadata": {
        "colab": {
          "base_uri": "https://localhost:8080/"
        },
        "id": "Z6j-tv9wgUvV",
        "outputId": "de339bb3-0680-4c69-b7d1-70a992cbe794"
      },
      "execution_count": 21,
      "outputs": [
        {
          "output_type": "stream",
          "name": "stdout",
          "text": [
            "In python index is start from 0\n",
            "The Index of 2 is 0\n",
            "The Index of 4 is 1\n",
            "The Index of 6 is 2\n",
            "The Index of 8 is 3\n",
            "The Index of 10 is 4\n",
            "The Index of 12 is 5\n",
            "The Index of 14 is 6\n",
            "The Index of 16 is 7\n",
            "The Index of 18 is 8\n"
          ]
        }
      ]
    },
    {
      "cell_type": "code",
      "source": [
        "list_names =['Obito','Rin','Kushina','Ray','Minato']\n",
        "x =enumerate(list_names)\n",
        "for i in x:\n",
        "  print(list(i),end =\"\")\n"
      ],
      "metadata": {
        "colab": {
          "base_uri": "https://localhost:8080/"
        },
        "id": "tAyaz1TvgfkM",
        "outputId": "0c9c9868-a6e1-4ada-cdea-7bbfc687d3fa"
      },
      "execution_count": 31,
      "outputs": [
        {
          "output_type": "stream",
          "name": "stdout",
          "text": [
            "[0, 'Obito'][1, 'Rin'][2, 'Kushina'][3, 'Ray'][4, 'Minato']"
          ]
        }
      ]
    },
    {
      "cell_type": "code",
      "source": [],
      "metadata": {
        "id": "Ry40bsGAio4m"
      },
      "execution_count": 29,
      "outputs": []
    },
    {
      "cell_type": "markdown",
      "source": [
        "#while loop\n",
        "\n",
        "this will run until condition is became false\n",
        "loop only start when condition is true"
      ],
      "metadata": {
        "id": "9ZTgYUy_jb-o"
      }
    },
    {
      "cell_type": "code",
      "source": [
        "num =0\n",
        "while num<10:\n",
        "  num+=1\n",
        "  print(num)"
      ],
      "metadata": {
        "colab": {
          "base_uri": "https://localhost:8080/"
        },
        "id": "oU03yW0Cjd-9",
        "outputId": "b5293079-5066-4ca0-dcf5-cf481a24cd70"
      },
      "execution_count": 36,
      "outputs": [
        {
          "output_type": "stream",
          "name": "stdout",
          "text": [
            "1\n",
            "2\n",
            "3\n",
            "4\n",
            "5\n",
            "6\n",
            "7\n",
            "8\n",
            "9\n",
            "10\n"
          ]
        }
      ]
    },
    {
      "cell_type": "code",
      "source": [
        "num = 10\n",
        "while num>5:\n",
        "  num-=1\n",
        "  print(num)"
      ],
      "metadata": {
        "colab": {
          "base_uri": "https://localhost:8080/"
        },
        "id": "FOGFj-Mxjq6R",
        "outputId": "bcbd60f7-bcea-4b7d-e743-61d1587dfa03"
      },
      "execution_count": 40,
      "outputs": [
        {
          "output_type": "stream",
          "name": "stdout",
          "text": [
            "9\n",
            "8\n",
            "7\n",
            "6\n",
            "5\n"
          ]
        }
      ]
    },
    {
      "cell_type": "code",
      "source": [
        "number =0\n",
        "while number <20:\n",
        "  number = number +1\n",
        "  if number%2==0:\n",
        "    print('even',number)\n",
        "  else:\n",
        "    print('odd',number)"
      ],
      "metadata": {
        "colab": {
          "base_uri": "https://localhost:8080/"
        },
        "id": "fqyImMs9lKR_",
        "outputId": "7157c7f3-1646-4cf0-cab1-0ebbe0434552"
      },
      "execution_count": 41,
      "outputs": [
        {
          "output_type": "stream",
          "name": "stdout",
          "text": [
            "odd 1\n",
            "even 2\n",
            "odd 3\n",
            "even 4\n",
            "odd 5\n",
            "even 6\n",
            "odd 7\n",
            "even 8\n",
            "odd 9\n",
            "even 10\n",
            "odd 11\n",
            "even 12\n",
            "odd 13\n",
            "even 14\n",
            "odd 15\n",
            "even 16\n",
            "odd 17\n",
            "even 18\n",
            "odd 19\n",
            "even 20\n"
          ]
        }
      ]
    },
    {
      "cell_type": "code",
      "source": [
        "#!/usr/bin/env python3\n",
        "number =0\n",
        "while number <20:\n",
        "  number = number +1\n",
        "  if number== 3 or number==7:\n",
        "    print('number is skiped',number)\n",
        "    continue\n",
        "  print(number)"
      ],
      "metadata": {
        "colab": {
          "base_uri": "https://localhost:8080/"
        },
        "id": "dLn5WmUGm3Fa",
        "outputId": "3d5319a7-508b-446c-de03-f38d311092b9"
      },
      "execution_count": 54,
      "outputs": [
        {
          "output_type": "stream",
          "name": "stdout",
          "text": [
            "1\n",
            "2\n",
            "number is skiped 3\n",
            "4\n",
            "5\n",
            "6\n",
            "number is skiped 7\n",
            "8\n",
            "9\n",
            "10\n",
            "11\n",
            "12\n",
            "13\n",
            "14\n",
            "15\n",
            "16\n",
            "17\n",
            "18\n",
            "19\n",
            "20\n"
          ]
        }
      ]
    },
    {
      "cell_type": "code",
      "source": [],
      "metadata": {
        "id": "VUcLYe7ZnJLi"
      },
      "execution_count": null,
      "outputs": []
    },
    {
      "cell_type": "markdown",
      "source": [
        "#nested loop\n",
        "loop inside another loop is called nested loop"
      ],
      "metadata": {
        "id": "AxzcXsXUpLgm"
      }
    },
    {
      "cell_type": "code",
      "source": [
        "x =list(range(7,10+1))"
      ],
      "metadata": {
        "id": "mSr4GYfupNyl"
      },
      "execution_count": 67,
      "outputs": []
    },
    {
      "cell_type": "code",
      "source": [
        "x"
      ],
      "metadata": {
        "colab": {
          "base_uri": "https://localhost:8080/"
        },
        "id": "jrQiT8PipUQL",
        "outputId": "2b559a1f-e155-4259-cac4-07ed6cfae157"
      },
      "execution_count": 68,
      "outputs": [
        {
          "output_type": "execute_result",
          "data": {
            "text/plain": [
              "[7, 8, 9, 10]"
            ]
          },
          "metadata": {},
          "execution_count": 68
        }
      ]
    },
    {
      "cell_type": "code",
      "source": [
        "#!/usr/bin/env python3\n",
        "list_values =[[0, 1, 2, 3, 4, 5],[7, 8, 9, 10]]\n",
        "for i in list_values:\n",
        "  #for debug purpose or to know structure\n",
        "  #print(i)\n",
        "  for j in i:\n",
        "    print(f\"The Sqaure of {j} is\",j**2)\n",
        "    #here it first take i[0] list from i then after all done it again go for loop and again take i[1]\n",
        ""
      ],
      "metadata": {
        "colab": {
          "base_uri": "https://localhost:8080/"
        },
        "id": "pQ-5BqD9p8mF",
        "outputId": "b5274e08-81cd-4f2f-85bf-859d7fbe1e3d"
      },
      "execution_count": 74,
      "outputs": [
        {
          "output_type": "stream",
          "name": "stdout",
          "text": [
            "The Sqaure of 0 is 0\n",
            "The Sqaure of 1 is 1\n",
            "The Sqaure of 2 is 4\n",
            "The Sqaure of 3 is 9\n",
            "The Sqaure of 4 is 16\n",
            "The Sqaure of 5 is 25\n",
            "The Sqaure of 7 is 49\n",
            "The Sqaure of 8 is 64\n",
            "The Sqaure of 9 is 81\n",
            "The Sqaure of 10 is 100\n"
          ]
        }
      ]
    },
    {
      "cell_type": "code",
      "source": [
        "num =6\n",
        "for i in range(num):\n",
        "  for j in range(1,i+1):\n",
        "    print(\"* \" ,end='')\n",
        "  print('\\n')"
      ],
      "metadata": {
        "colab": {
          "base_uri": "https://localhost:8080/"
        },
        "id": "PRc-ZtEZqWyi",
        "outputId": "f54261bc-a0b8-4d13-c800-a2e4bcbd96f6"
      },
      "execution_count": 107,
      "outputs": [
        {
          "output_type": "stream",
          "name": "stdout",
          "text": [
            "\n",
            "\n",
            "* \n",
            "\n",
            "* * \n",
            "\n",
            "* * * \n",
            "\n",
            "* * * * \n",
            "\n",
            "* * * * * \n",
            "\n"
          ]
        }
      ]
    },
    {
      "cell_type": "code",
      "source": [],
      "metadata": {
        "id": "bF7Oy8ryt0c_"
      },
      "execution_count": null,
      "outputs": []
    },
    {
      "cell_type": "markdown",
      "source": [
        "#functions"
      ],
      "metadata": {
        "id": "lyNUFoxpA_8v"
      }
    },
    {
      "cell_type": "code",
      "source": [
        "def addition(num1,num2):\n",
        "  return num1+num2\n",
        "\n",
        "print(addition(10,20))"
      ],
      "metadata": {
        "colab": {
          "base_uri": "https://localhost:8080/"
        },
        "id": "SrptK1d9BCD-",
        "outputId": "5cceb60c-1bdf-4cb9-fce7-add4013c4163"
      },
      "execution_count": 1,
      "outputs": [
        {
          "output_type": "stream",
          "name": "stdout",
          "text": [
            "30\n"
          ]
        }
      ]
    },
    {
      "cell_type": "code",
      "source": [
        "def rectange_angle(height,width):\n",
        "  return height*width\n",
        "\n",
        "print(rectange_angle(width=10,height=20))"
      ],
      "metadata": {
        "colab": {
          "base_uri": "https://localhost:8080/"
        },
        "id": "KFqjBGD5F2q3",
        "outputId": "638a25aa-24a4-404e-9780-19d0c1601ff8"
      },
      "execution_count": 11,
      "outputs": [
        {
          "output_type": "stream",
          "name": "stdout",
          "text": [
            "200\n"
          ]
        }
      ]
    },
    {
      "cell_type": "code",
      "source": [],
      "metadata": {
        "id": "mHqrBkatHpAh"
      },
      "execution_count": null,
      "outputs": []
    }
  ]
}