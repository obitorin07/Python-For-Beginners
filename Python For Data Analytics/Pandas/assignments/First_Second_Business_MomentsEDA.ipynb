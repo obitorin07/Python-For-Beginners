{
 "cells": [
  {
   "cell_type": "code",
   "execution_count": 138,
   "id": "f83a6d87-fe4e-4079-99d1-02cae029af0c",
   "metadata": {},
   "outputs": [
    {
     "name": "stdout",
     "output_type": "stream",
     "text": [
      "Requirement already satisfied: scipy in d:\\anaconda\\envs\\obitorin07\\lib\\site-packages (1.13.1)\n",
      "Requirement already satisfied: numpy<2.3,>=1.22.4 in d:\\anaconda\\envs\\obitorin07\\lib\\site-packages (from scipy) (1.26.4)\n"
     ]
    }
   ],
   "source": [
    "import pandas as pd \n",
    "import numpy as np\n",
    "!pip install scipy\n",
    "from scipy import stats"
   ]
  },
  {
   "cell_type": "code",
   "execution_count": 65,
   "id": "e144dfd1-7e95-4c89-a5bc-a5881e60487b",
   "metadata": {},
   "outputs": [],
   "source": [
    "df = pd.read_csv(r\"sample_Data_Set.csv\") #load dataset"
   ]
  },
  {
   "cell_type": "code",
   "execution_count": 82,
   "id": "9ef488a1-0598-4fe4-8094-84b965be4b8e",
   "metadata": {},
   "outputs": [
    {
     "data": {
      "text/html": [
       "<div>\n",
       "<style scoped>\n",
       "    .dataframe tbody tr th:only-of-type {\n",
       "        vertical-align: middle;\n",
       "    }\n",
       "\n",
       "    .dataframe tbody tr th {\n",
       "        vertical-align: top;\n",
       "    }\n",
       "\n",
       "    .dataframe thead th {\n",
       "        text-align: right;\n",
       "    }\n",
       "</style>\n",
       "<table border=\"1\" class=\"dataframe\">\n",
       "  <thead>\n",
       "    <tr style=\"text-align: right;\">\n",
       "      <th></th>\n",
       "      <th>Age</th>\n",
       "      <th>Salary</th>\n",
       "      <th>Experience</th>\n",
       "      <th>Education_Level</th>\n",
       "      <th>Hours_Per_Week</th>\n",
       "      <th>Job_Satisfaction</th>\n",
       "      <th>Department</th>\n",
       "      <th>Gender</th>\n",
       "    </tr>\n",
       "  </thead>\n",
       "  <tbody>\n",
       "    <tr>\n",
       "      <th>0</th>\n",
       "      <td>25</td>\n",
       "      <td>50000</td>\n",
       "      <td>2</td>\n",
       "      <td>12</td>\n",
       "      <td>40</td>\n",
       "      <td>3</td>\n",
       "      <td>Sales</td>\n",
       "      <td>Female</td>\n",
       "    </tr>\n",
       "    <tr>\n",
       "      <th>1</th>\n",
       "      <td>32</td>\n",
       "      <td>60000</td>\n",
       "      <td>5</td>\n",
       "      <td>16</td>\n",
       "      <td>50</td>\n",
       "      <td>4</td>\n",
       "      <td>Marketing</td>\n",
       "      <td>Male</td>\n",
       "    </tr>\n",
       "    <tr>\n",
       "      <th>2</th>\n",
       "      <td>47</td>\n",
       "      <td>80000</td>\n",
       "      <td>20</td>\n",
       "      <td>16</td>\n",
       "      <td>45</td>\n",
       "      <td>5</td>\n",
       "      <td>Finance</td>\n",
       "      <td>Female</td>\n",
       "    </tr>\n",
       "    <tr>\n",
       "      <th>3</th>\n",
       "      <td>51</td>\n",
       "      <td>75000</td>\n",
       "      <td>15</td>\n",
       "      <td>14</td>\n",
       "      <td>60</td>\n",
       "      <td>4</td>\n",
       "      <td>IT</td>\n",
       "      <td>Male</td>\n",
       "    </tr>\n",
       "    <tr>\n",
       "      <th>4</th>\n",
       "      <td>28</td>\n",
       "      <td>55000</td>\n",
       "      <td>3</td>\n",
       "      <td>12</td>\n",
       "      <td>40</td>\n",
       "      <td>3</td>\n",
       "      <td>Sales</td>\n",
       "      <td>Female</td>\n",
       "    </tr>\n",
       "    <tr>\n",
       "      <th>5</th>\n",
       "      <td>36</td>\n",
       "      <td>62000</td>\n",
       "      <td>7</td>\n",
       "      <td>16</td>\n",
       "      <td>50</td>\n",
       "      <td>4</td>\n",
       "      <td>Marketing</td>\n",
       "      <td>Male</td>\n",
       "    </tr>\n",
       "    <tr>\n",
       "      <th>6</th>\n",
       "      <td>22</td>\n",
       "      <td>45000</td>\n",
       "      <td>1</td>\n",
       "      <td>12</td>\n",
       "      <td>35</td>\n",
       "      <td>2</td>\n",
       "      <td>Sales</td>\n",
       "      <td>Female</td>\n",
       "    </tr>\n",
       "    <tr>\n",
       "      <th>7</th>\n",
       "      <td>48</td>\n",
       "      <td>70000</td>\n",
       "      <td>12</td>\n",
       "      <td>16</td>\n",
       "      <td>55</td>\n",
       "      <td>5</td>\n",
       "      <td>Finance</td>\n",
       "      <td>Male</td>\n",
       "    </tr>\n",
       "    <tr>\n",
       "      <th>8</th>\n",
       "      <td>33</td>\n",
       "      <td>67000</td>\n",
       "      <td>8</td>\n",
       "      <td>16</td>\n",
       "      <td>50</td>\n",
       "      <td>4</td>\n",
       "      <td>IT</td>\n",
       "      <td>Female</td>\n",
       "    </tr>\n",
       "    <tr>\n",
       "      <th>9</th>\n",
       "      <td>41</td>\n",
       "      <td>72000</td>\n",
       "      <td>10</td>\n",
       "      <td>14</td>\n",
       "      <td>45</td>\n",
       "      <td>3</td>\n",
       "      <td>Sales</td>\n",
       "      <td>Male</td>\n",
       "    </tr>\n",
       "    <tr>\n",
       "      <th>10</th>\n",
       "      <td>27</td>\n",
       "      <td>52000</td>\n",
       "      <td>4</td>\n",
       "      <td>14</td>\n",
       "      <td>38</td>\n",
       "      <td>3</td>\n",
       "      <td>Marketing</td>\n",
       "      <td>Female</td>\n",
       "    </tr>\n",
       "    <tr>\n",
       "      <th>11</th>\n",
       "      <td>39</td>\n",
       "      <td>65000</td>\n",
       "      <td>9</td>\n",
       "      <td>16</td>\n",
       "      <td>52</td>\n",
       "      <td>4</td>\n",
       "      <td>Finance</td>\n",
       "      <td>Male</td>\n",
       "    </tr>\n",
       "    <tr>\n",
       "      <th>12</th>\n",
       "      <td>45</td>\n",
       "      <td>78000</td>\n",
       "      <td>18</td>\n",
       "      <td>16</td>\n",
       "      <td>48</td>\n",
       "      <td>5</td>\n",
       "      <td>IT</td>\n",
       "      <td>Female</td>\n",
       "    </tr>\n",
       "    <tr>\n",
       "      <th>13</th>\n",
       "      <td>29</td>\n",
       "      <td>57000</td>\n",
       "      <td>4</td>\n",
       "      <td>14</td>\n",
       "      <td>42</td>\n",
       "      <td>3</td>\n",
       "      <td>Sales</td>\n",
       "      <td>Male</td>\n",
       "    </tr>\n",
       "    <tr>\n",
       "      <th>14</th>\n",
       "      <td>34</td>\n",
       "      <td>63000</td>\n",
       "      <td>6</td>\n",
       "      <td>16</td>\n",
       "      <td>47</td>\n",
       "      <td>4</td>\n",
       "      <td>Marketing</td>\n",
       "      <td>Female</td>\n",
       "    </tr>\n",
       "    <tr>\n",
       "      <th>15</th>\n",
       "      <td>50</td>\n",
       "      <td>74000</td>\n",
       "      <td>14</td>\n",
       "      <td>16</td>\n",
       "      <td>53</td>\n",
       "      <td>4</td>\n",
       "      <td>Finance</td>\n",
       "      <td>Male</td>\n",
       "    </tr>\n",
       "    <tr>\n",
       "      <th>16</th>\n",
       "      <td>24</td>\n",
       "      <td>48000</td>\n",
       "      <td>2</td>\n",
       "      <td>12</td>\n",
       "      <td>37</td>\n",
       "      <td>2</td>\n",
       "      <td>Sales</td>\n",
       "      <td>Female</td>\n",
       "    </tr>\n",
       "    <tr>\n",
       "      <th>17</th>\n",
       "      <td>38</td>\n",
       "      <td>66000</td>\n",
       "      <td>11</td>\n",
       "      <td>16</td>\n",
       "      <td>49</td>\n",
       "      <td>4</td>\n",
       "      <td>Marketing</td>\n",
       "      <td>Male</td>\n",
       "    </tr>\n",
       "    <tr>\n",
       "      <th>18</th>\n",
       "      <td>26</td>\n",
       "      <td>51000</td>\n",
       "      <td>3</td>\n",
       "      <td>14</td>\n",
       "      <td>39</td>\n",
       "      <td>3</td>\n",
       "      <td>Sales</td>\n",
       "      <td>Female</td>\n",
       "    </tr>\n",
       "    <tr>\n",
       "      <th>19</th>\n",
       "      <td>42</td>\n",
       "      <td>73000</td>\n",
       "      <td>13</td>\n",
       "      <td>16</td>\n",
       "      <td>54</td>\n",
       "      <td>4</td>\n",
       "      <td>Finance</td>\n",
       "      <td>Male</td>\n",
       "    </tr>\n",
       "    <tr>\n",
       "      <th>20</th>\n",
       "      <td>30</td>\n",
       "      <td>58000</td>\n",
       "      <td>5</td>\n",
       "      <td>14</td>\n",
       "      <td>43</td>\n",
       "      <td>3</td>\n",
       "      <td>IT</td>\n",
       "      <td>Female</td>\n",
       "    </tr>\n",
       "    <tr>\n",
       "      <th>21</th>\n",
       "      <td>35</td>\n",
       "      <td>64000</td>\n",
       "      <td>7</td>\n",
       "      <td>16</td>\n",
       "      <td>46</td>\n",
       "      <td>4</td>\n",
       "      <td>Sales</td>\n",
       "      <td>Male</td>\n",
       "    </tr>\n",
       "    <tr>\n",
       "      <th>22</th>\n",
       "      <td>49</td>\n",
       "      <td>77000</td>\n",
       "      <td>17</td>\n",
       "      <td>16</td>\n",
       "      <td>56</td>\n",
       "      <td>5</td>\n",
       "      <td>Marketing</td>\n",
       "      <td>Female</td>\n",
       "    </tr>\n",
       "    <tr>\n",
       "      <th>23</th>\n",
       "      <td>31</td>\n",
       "      <td>59000</td>\n",
       "      <td>6</td>\n",
       "      <td>14</td>\n",
       "      <td>44</td>\n",
       "      <td>4</td>\n",
       "      <td>Finance</td>\n",
       "      <td>Male</td>\n",
       "    </tr>\n",
       "    <tr>\n",
       "      <th>24</th>\n",
       "      <td>44</td>\n",
       "      <td>76000</td>\n",
       "      <td>16</td>\n",
       "      <td>16</td>\n",
       "      <td>50</td>\n",
       "      <td>4</td>\n",
       "      <td>IT</td>\n",
       "      <td>Female</td>\n",
       "    </tr>\n",
       "  </tbody>\n",
       "</table>\n",
       "</div>"
      ],
      "text/plain": [
       "    Age  Salary  Experience  Education_Level  Hours_Per_Week  \\\n",
       "0    25   50000           2               12              40   \n",
       "1    32   60000           5               16              50   \n",
       "2    47   80000          20               16              45   \n",
       "3    51   75000          15               14              60   \n",
       "4    28   55000           3               12              40   \n",
       "5    36   62000           7               16              50   \n",
       "6    22   45000           1               12              35   \n",
       "7    48   70000          12               16              55   \n",
       "8    33   67000           8               16              50   \n",
       "9    41   72000          10               14              45   \n",
       "10   27   52000           4               14              38   \n",
       "11   39   65000           9               16              52   \n",
       "12   45   78000          18               16              48   \n",
       "13   29   57000           4               14              42   \n",
       "14   34   63000           6               16              47   \n",
       "15   50   74000          14               16              53   \n",
       "16   24   48000           2               12              37   \n",
       "17   38   66000          11               16              49   \n",
       "18   26   51000           3               14              39   \n",
       "19   42   73000          13               16              54   \n",
       "20   30   58000           5               14              43   \n",
       "21   35   64000           7               16              46   \n",
       "22   49   77000          17               16              56   \n",
       "23   31   59000           6               14              44   \n",
       "24   44   76000          16               16              50   \n",
       "\n",
       "    Job_Satisfaction Department  Gender  \n",
       "0                  3      Sales  Female  \n",
       "1                  4  Marketing    Male  \n",
       "2                  5    Finance  Female  \n",
       "3                  4         IT    Male  \n",
       "4                  3      Sales  Female  \n",
       "5                  4  Marketing    Male  \n",
       "6                  2      Sales  Female  \n",
       "7                  5    Finance    Male  \n",
       "8                  4         IT  Female  \n",
       "9                  3      Sales    Male  \n",
       "10                 3  Marketing  Female  \n",
       "11                 4    Finance    Male  \n",
       "12                 5         IT  Female  \n",
       "13                 3      Sales    Male  \n",
       "14                 4  Marketing  Female  \n",
       "15                 4    Finance    Male  \n",
       "16                 2      Sales  Female  \n",
       "17                 4  Marketing    Male  \n",
       "18                 3      Sales  Female  \n",
       "19                 4    Finance    Male  \n",
       "20                 3         IT  Female  \n",
       "21                 4      Sales    Male  \n",
       "22                 5  Marketing  Female  \n",
       "23                 4    Finance    Male  \n",
       "24                 4         IT  Female  "
      ]
     },
     "execution_count": 82,
     "metadata": {},
     "output_type": "execute_result"
    }
   ],
   "source": [
    "df"
   ]
  },
  {
   "cell_type": "code",
   "execution_count": 67,
   "id": "fcc646d3-8506-4214-bdfb-c8391eb87a23",
   "metadata": {},
   "outputs": [
    {
     "data": {
      "text/plain": [
       "(25, 8)"
      ]
     },
     "execution_count": 67,
     "metadata": {},
     "output_type": "execute_result"
    }
   ],
   "source": [
    "df.shape"
   ]
  },
  {
   "cell_type": "code",
   "execution_count": 108,
   "id": "7b4629ce-1022-4ee7-894a-642af3b8febc",
   "metadata": {},
   "outputs": [
    {
     "data": {
      "text/plain": [
       "Age                 object\n",
       "Salary               int64\n",
       "Experience           int64\n",
       "Education_Level     object\n",
       "Hours_Per_Week       int64\n",
       "Job_Satisfaction     int64\n",
       "Department          object\n",
       "Gender              object\n",
       "dtype: object"
      ]
     },
     "execution_count": 108,
     "metadata": {},
     "output_type": "execute_result"
    }
   ],
   "source": [
    "df.dtypes"
   ]
  },
  {
   "cell_type": "code",
   "execution_count": 69,
   "id": "8e4f716a-f52e-46c1-8dd7-d1d1be8e2604",
   "metadata": {},
   "outputs": [
    {
     "data": {
      "text/plain": [
       "Index(['Age', 'Salary', 'Experience', 'Education_Level', 'Hours_Per_Week',\n",
       "       'Job_Satisfaction', 'Department', 'Gender'],\n",
       "      dtype='object')"
      ]
     },
     "execution_count": 69,
     "metadata": {},
     "output_type": "execute_result"
    }
   ],
   "source": [
    "df.columns"
   ]
  },
  {
   "cell_type": "code",
   "execution_count": 107,
   "id": "114ce6fc-f3b4-4024-a144-c1fc4c766d93",
   "metadata": {},
   "outputs": [],
   "source": [
    "#change datatypes because some column doesnt make sense lets convert data into categorical \n",
    "df = df.astype({'Age':\"object\",'Education_Level':'object',})"
   ]
  },
  {
   "cell_type": "code",
   "execution_count": 106,
   "id": "eabd8a08-0ddc-4358-80e2-4c9a346528c2",
   "metadata": {},
   "outputs": [
    {
     "data": {
      "text/html": [
       "<div>\n",
       "<style scoped>\n",
       "    .dataframe tbody tr th:only-of-type {\n",
       "        vertical-align: middle;\n",
       "    }\n",
       "\n",
       "    .dataframe tbody tr th {\n",
       "        vertical-align: top;\n",
       "    }\n",
       "\n",
       "    .dataframe thead th {\n",
       "        text-align: right;\n",
       "    }\n",
       "</style>\n",
       "<table border=\"1\" class=\"dataframe\">\n",
       "  <thead>\n",
       "    <tr style=\"text-align: right;\">\n",
       "      <th></th>\n",
       "      <th>Age</th>\n",
       "      <th>Salary</th>\n",
       "      <th>Experience</th>\n",
       "      <th>Education_Level</th>\n",
       "      <th>Hours_Per_Week</th>\n",
       "      <th>Job_Satisfaction</th>\n",
       "      <th>Department</th>\n",
       "      <th>Gender</th>\n",
       "    </tr>\n",
       "  </thead>\n",
       "  <tbody>\n",
       "    <tr>\n",
       "      <th>count</th>\n",
       "      <td>25.0</td>\n",
       "      <td>25.000000</td>\n",
       "      <td>25.000000</td>\n",
       "      <td>25.000000</td>\n",
       "      <td>25.000000</td>\n",
       "      <td>25.000000</td>\n",
       "      <td>25</td>\n",
       "      <td>25</td>\n",
       "    </tr>\n",
       "    <tr>\n",
       "      <th>unique</th>\n",
       "      <td>25.0</td>\n",
       "      <td>NaN</td>\n",
       "      <td>NaN</td>\n",
       "      <td>NaN</td>\n",
       "      <td>NaN</td>\n",
       "      <td>NaN</td>\n",
       "      <td>4</td>\n",
       "      <td>2</td>\n",
       "    </tr>\n",
       "    <tr>\n",
       "      <th>top</th>\n",
       "      <td>25.0</td>\n",
       "      <td>NaN</td>\n",
       "      <td>NaN</td>\n",
       "      <td>NaN</td>\n",
       "      <td>NaN</td>\n",
       "      <td>NaN</td>\n",
       "      <td>Sales</td>\n",
       "      <td>Female</td>\n",
       "    </tr>\n",
       "    <tr>\n",
       "      <th>freq</th>\n",
       "      <td>1.0</td>\n",
       "      <td>NaN</td>\n",
       "      <td>NaN</td>\n",
       "      <td>NaN</td>\n",
       "      <td>NaN</td>\n",
       "      <td>NaN</td>\n",
       "      <td>8</td>\n",
       "      <td>13</td>\n",
       "    </tr>\n",
       "    <tr>\n",
       "      <th>mean</th>\n",
       "      <td>NaN</td>\n",
       "      <td>63880.000000</td>\n",
       "      <td>8.720000</td>\n",
       "      <td>14.800000</td>\n",
       "      <td>46.720000</td>\n",
       "      <td>3.720000</td>\n",
       "      <td>NaN</td>\n",
       "      <td>NaN</td>\n",
       "    </tr>\n",
       "    <tr>\n",
       "      <th>std</th>\n",
       "      <td>NaN</td>\n",
       "      <td>10244.185343</td>\n",
       "      <td>5.579128</td>\n",
       "      <td>1.527525</td>\n",
       "      <td>6.484083</td>\n",
       "      <td>0.842615</td>\n",
       "      <td>NaN</td>\n",
       "      <td>NaN</td>\n",
       "    </tr>\n",
       "    <tr>\n",
       "      <th>min</th>\n",
       "      <td>NaN</td>\n",
       "      <td>45000.000000</td>\n",
       "      <td>1.000000</td>\n",
       "      <td>12.000000</td>\n",
       "      <td>35.000000</td>\n",
       "      <td>2.000000</td>\n",
       "      <td>NaN</td>\n",
       "      <td>NaN</td>\n",
       "    </tr>\n",
       "    <tr>\n",
       "      <th>25%</th>\n",
       "      <td>NaN</td>\n",
       "      <td>57000.000000</td>\n",
       "      <td>4.000000</td>\n",
       "      <td>14.000000</td>\n",
       "      <td>42.000000</td>\n",
       "      <td>3.000000</td>\n",
       "      <td>NaN</td>\n",
       "      <td>NaN</td>\n",
       "    </tr>\n",
       "    <tr>\n",
       "      <th>50%</th>\n",
       "      <td>NaN</td>\n",
       "      <td>64000.000000</td>\n",
       "      <td>7.000000</td>\n",
       "      <td>16.000000</td>\n",
       "      <td>47.000000</td>\n",
       "      <td>4.000000</td>\n",
       "      <td>NaN</td>\n",
       "      <td>NaN</td>\n",
       "    </tr>\n",
       "    <tr>\n",
       "      <th>75%</th>\n",
       "      <td>NaN</td>\n",
       "      <td>73000.000000</td>\n",
       "      <td>13.000000</td>\n",
       "      <td>16.000000</td>\n",
       "      <td>50.000000</td>\n",
       "      <td>4.000000</td>\n",
       "      <td>NaN</td>\n",
       "      <td>NaN</td>\n",
       "    </tr>\n",
       "    <tr>\n",
       "      <th>max</th>\n",
       "      <td>NaN</td>\n",
       "      <td>80000.000000</td>\n",
       "      <td>20.000000</td>\n",
       "      <td>16.000000</td>\n",
       "      <td>60.000000</td>\n",
       "      <td>5.000000</td>\n",
       "      <td>NaN</td>\n",
       "      <td>NaN</td>\n",
       "    </tr>\n",
       "  </tbody>\n",
       "</table>\n",
       "</div>"
      ],
      "text/plain": [
       "         Age        Salary  Experience  Education_Level  Hours_Per_Week  \\\n",
       "count   25.0     25.000000   25.000000        25.000000       25.000000   \n",
       "unique  25.0           NaN         NaN              NaN             NaN   \n",
       "top     25.0           NaN         NaN              NaN             NaN   \n",
       "freq     1.0           NaN         NaN              NaN             NaN   \n",
       "mean     NaN  63880.000000    8.720000        14.800000       46.720000   \n",
       "std      NaN  10244.185343    5.579128         1.527525        6.484083   \n",
       "min      NaN  45000.000000    1.000000        12.000000       35.000000   \n",
       "25%      NaN  57000.000000    4.000000        14.000000       42.000000   \n",
       "50%      NaN  64000.000000    7.000000        16.000000       47.000000   \n",
       "75%      NaN  73000.000000   13.000000        16.000000       50.000000   \n",
       "max      NaN  80000.000000   20.000000        16.000000       60.000000   \n",
       "\n",
       "        Job_Satisfaction Department  Gender  \n",
       "count          25.000000         25      25  \n",
       "unique               NaN          4       2  \n",
       "top                  NaN      Sales  Female  \n",
       "freq                 NaN          8      13  \n",
       "mean            3.720000        NaN     NaN  \n",
       "std             0.842615        NaN     NaN  \n",
       "min             2.000000        NaN     NaN  \n",
       "25%             3.000000        NaN     NaN  \n",
       "50%             4.000000        NaN     NaN  \n",
       "75%             4.000000        NaN     NaN  \n",
       "max             5.000000        NaN     NaN  "
      ]
     },
     "execution_count": 106,
     "metadata": {},
     "output_type": "execute_result"
    }
   ],
   "source": [
    "df.describe(include='all')"
   ]
  },
  {
   "cell_type": "code",
   "execution_count": 118,
   "id": "1014ab5e-437c-4a3c-9428-7e892bfa1ea9",
   "metadata": {},
   "outputs": [
    {
     "name": "stdout",
     "output_type": "stream",
     "text": [
      "<class 'pandas.core.frame.DataFrame'>\n",
      "RangeIndex: 25 entries, 0 to 24\n",
      "Data columns (total 8 columns):\n",
      " #   Column            Non-Null Count  Dtype \n",
      "---  ------            --------------  ----- \n",
      " 0   Age               25 non-null     object\n",
      " 1   Salary            25 non-null     int64 \n",
      " 2   Experience        25 non-null     int64 \n",
      " 3   Education_Level   25 non-null     object\n",
      " 4   Hours_Per_Week    25 non-null     int64 \n",
      " 5   Job_Satisfaction  25 non-null     int64 \n",
      " 6   Department        25 non-null     object\n",
      " 7   Gender            25 non-null     object\n",
      "dtypes: int64(4), object(4)\n",
      "memory usage: 1.7+ KB\n"
     ]
    }
   ],
   "source": [
    "df.info()"
   ]
  },
  {
   "cell_type": "code",
   "execution_count": 119,
   "id": "7eb59660-937d-44df-937b-5a5062139dc7",
   "metadata": {},
   "outputs": [
    {
     "data": {
      "text/plain": [
       "Salary              63880.00\n",
       "Experience              8.72\n",
       "Hours_Per_Week         46.72\n",
       "Job_Satisfaction        3.72\n",
       "dtype: float64"
      ]
     },
     "execution_count": 119,
     "metadata": {},
     "output_type": "execute_result"
    }
   ],
   "source": [
    "df.select_dtypes(include='number').mean()"
   ]
  },
  {
   "cell_type": "code",
   "execution_count": 120,
   "id": "9db60704-8473-4e1d-b3e7-0e56b9d0d011",
   "metadata": {},
   "outputs": [
    {
     "data": {
      "text/plain": [
       "Salary              64000.0\n",
       "Experience              7.0\n",
       "Hours_Per_Week         47.0\n",
       "Job_Satisfaction        4.0\n",
       "dtype: float64"
      ]
     },
     "execution_count": 120,
     "metadata": {},
     "output_type": "execute_result"
    }
   ],
   "source": [
    "df.select_dtypes(include='number').median()"
   ]
  },
  {
   "cell_type": "code",
   "execution_count": 149,
   "id": "06109a5e-2bf2-4479-afeb-3d70f553cc1d",
   "metadata": {},
   "outputs": [],
   "source": [
    "# df.select_dtypes(exclude='number').mode()\n",
    "# stats.mode(df.Experience)\n",
    "\n",
    "# df.Experience.value_counts().idxmax()\n",
    "\n",
    "#these are also used to find mode "
   ]
  },
  {
   "cell_type": "code",
   "execution_count": 130,
   "id": "01a5267e-5e5d-45f9-8463-5c92df2f3cbf",
   "metadata": {},
   "outputs": [
    {
     "data": {
      "text/plain": [
       "Salary              1.049433e+08\n",
       "Experience          3.112667e+01\n",
       "Hours_Per_Week      4.204333e+01\n",
       "Job_Satisfaction    7.100000e-01\n",
       "dtype: float64"
      ]
     },
     "execution_count": 130,
     "metadata": {},
     "output_type": "execute_result"
    }
   ],
   "source": [
    "df.select_dtypes(include='number').var()"
   ]
  },
  {
   "cell_type": "code",
   "execution_count": 131,
   "id": "a1dddfc7-1fa0-42ae-8cc7-06e5726cb387",
   "metadata": {},
   "outputs": [
    {
     "data": {
      "text/plain": [
       "Salary              10244.185343\n",
       "Experience              5.579128\n",
       "Hours_Per_Week          6.484083\n",
       "Job_Satisfaction        0.842615\n",
       "dtype: float64"
      ]
     },
     "execution_count": 131,
     "metadata": {},
     "output_type": "execute_result"
    }
   ],
   "source": [
    "df.select_dtypes(include='number').std()"
   ]
  },
  {
   "cell_type": "code",
   "execution_count": 132,
   "id": "dc9b53ae-eec5-4950-9162-ae197b3d1bc0",
   "metadata": {},
   "outputs": [
    {
     "data": {
      "text/plain": [
       "Salary              35000\n",
       "Experience             19\n",
       "Hours_Per_Week         25\n",
       "Job_Satisfaction        3\n",
       "dtype: int64"
      ]
     },
     "execution_count": 132,
     "metadata": {},
     "output_type": "execute_result"
    }
   ],
   "source": [
    "range = df.select_dtypes(include='number').max() - df.select_dtypes(include='number').min()\n",
    "range"
   ]
  },
  {
   "cell_type": "code",
   "execution_count": 133,
   "id": "cf13238f-787b-4024-b2e7-0ee0a1b8d80d",
   "metadata": {},
   "outputs": [
    {
     "data": {
      "text/plain": [
       "Age                 0\n",
       "Salary              0\n",
       "Experience          0\n",
       "Education_Level     0\n",
       "Hours_Per_Week      0\n",
       "Job_Satisfaction    0\n",
       "Department          0\n",
       "Gender              0\n",
       "dtype: int64"
      ]
     },
     "execution_count": 133,
     "metadata": {},
     "output_type": "execute_result"
    }
   ],
   "source": [
    "df.isna().sum()\n"
   ]
  },
  {
   "cell_type": "code",
   "execution_count": 83,
   "id": "4a97ce82-36e7-44f0-9079-5cfd67f1f5c9",
   "metadata": {},
   "outputs": [
    {
     "data": {
      "text/plain": [
       "Age                  int64\n",
       "Salary               int64\n",
       "Experience           int64\n",
       "Education_Level      int64\n",
       "Hours_Per_Week       int64\n",
       "Job_Satisfaction     int64\n",
       "Department          object\n",
       "Gender              object\n",
       "dtype: object"
      ]
     },
     "execution_count": 83,
     "metadata": {},
     "output_type": "execute_result"
    }
   ],
   "source": [
    "df.dtypes"
   ]
  },
  {
   "cell_type": "code",
   "execution_count": null,
   "id": "537d2b0d-578e-4f3c-a94c-87fef3a36c85",
   "metadata": {},
   "outputs": [],
   "source": []
  },
  {
   "cell_type": "code",
   "execution_count": null,
   "id": "41211b3e-52c7-40d3-81dd-c8528d14b98b",
   "metadata": {},
   "outputs": [],
   "source": []
  },
  {
   "cell_type": "code",
   "execution_count": null,
   "id": "a5ca30f2-1b75-4318-9c7e-4281a9a6130d",
   "metadata": {},
   "outputs": [],
   "source": []
  },
  {
   "cell_type": "code",
   "execution_count": null,
   "id": "fec4fb71-b83c-4748-9ecb-7cd9738b004f",
   "metadata": {},
   "outputs": [],
   "source": []
  },
  {
   "cell_type": "code",
   "execution_count": null,
   "id": "0143e696-eec3-46c1-b8ee-97b4f0bebae2",
   "metadata": {},
   "outputs": [],
   "source": []
  },
  {
   "cell_type": "code",
   "execution_count": null,
   "id": "769ae1da-499b-4935-90a7-a07c37076626",
   "metadata": {},
   "outputs": [],
   "source": []
  },
  {
   "cell_type": "code",
   "execution_count": null,
   "id": "376d659c-5f4d-4992-a183-167925237d64",
   "metadata": {},
   "outputs": [],
   "source": []
  },
  {
   "cell_type": "code",
   "execution_count": null,
   "id": "892436a3-351f-457d-9419-dabbd1777e3c",
   "metadata": {},
   "outputs": [],
   "source": []
  },
  {
   "cell_type": "code",
   "execution_count": null,
   "id": "ae553126-f43c-4fc2-9c64-0af3677854cb",
   "metadata": {},
   "outputs": [],
   "source": []
  },
  {
   "cell_type": "code",
   "execution_count": null,
   "id": "68f2e36c-74d0-48a7-8f37-dcb29740e07a",
   "metadata": {},
   "outputs": [],
   "source": []
  },
  {
   "cell_type": "code",
   "execution_count": null,
   "id": "36e120dc-c63e-416f-9ae6-3b20d00f4b2c",
   "metadata": {},
   "outputs": [],
   "source": []
  },
  {
   "cell_type": "code",
   "execution_count": null,
   "id": "8266859f-d6c8-44f8-8579-9cf359138e92",
   "metadata": {},
   "outputs": [],
   "source": []
  },
  {
   "cell_type": "code",
   "execution_count": null,
   "id": "0d13a0d9-8de9-4bab-8603-f1647fd84143",
   "metadata": {},
   "outputs": [],
   "source": []
  },
  {
   "cell_type": "code",
   "execution_count": null,
   "id": "4d8fd7e0-37c5-4a13-aab2-7d29a8a57caf",
   "metadata": {},
   "outputs": [],
   "source": []
  },
  {
   "cell_type": "code",
   "execution_count": null,
   "id": "8ebef7cc-8a7a-46c4-8ae0-dc42c98e89cd",
   "metadata": {},
   "outputs": [],
   "source": []
  }
 ],
 "metadata": {
  "kernelspec": {
   "display_name": "Python 3 (ipykernel)",
   "language": "python",
   "name": "python3"
  },
  "language_info": {
   "codemirror_mode": {
    "name": "ipython",
    "version": 3
   },
   "file_extension": ".py",
   "mimetype": "text/x-python",
   "name": "python",
   "nbconvert_exporter": "python",
   "pygments_lexer": "ipython3",
   "version": "3.12.4"
  }
 },
 "nbformat": 4,
 "nbformat_minor": 5
}
