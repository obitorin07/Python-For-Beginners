{
 "cells": [
  {
   "cell_type": "markdown",
   "id": "2146b970-a881-488f-8469-6949e6e04d22",
   "metadata": {},
   "source": [
    "# Calculator Using Function\n"
   ]
  },
  {
   "cell_type": "code",
   "execution_count": 1,
   "id": "e2bbaf1e-2ebb-4e91-8830-15efd990a0e7",
   "metadata": {},
   "outputs": [
    {
     "name": "stdin",
     "output_type": "stream",
     "text": [
      "Enter The Choice You Want To Perform:\n",
      "1.Addition\n",
      "2.Substraction\n",
      "3.Multiplication\n",
      "4.Division\n",
      "5.Modulus: 3\n",
      "Enter The First Number : 10\n",
      "Enter The Second Number: 5\n"
     ]
    },
    {
     "name": "stdout",
     "output_type": "stream",
     "text": [
      "The Multiplication of 10.0 5.0 is 50.0\n"
     ]
    }
   ],
   "source": [
    "class calculator:\n",
    "    def __init__(self,num1,num2):\n",
    "        self.num1=num1\n",
    "        self.num2= num2\n",
    "    def add(self):\n",
    "        add =self.num1+self.num2\n",
    "        return \"The Addition of {} {} is {}\".format(self.num1,self.num2,add)\n",
    "    def sub(self):\n",
    "        sub =self.num1-self.num2\n",
    "        return \"The Substraction of {} {} is {}\".format(self.num1,self.num2,sub)\n",
    "    def mul(self):\n",
    "        mul =self.num1*self.num2\n",
    "        return \"The Multiplication of {} {} is {}\".format(self.num1,self.num2,mul)\n",
    "    def div(self):\n",
    "        if self.num1 ==0 or self.num2 ==0:\n",
    "            return \"0 cannot be Devide\"\n",
    "        else:\n",
    "            div =self.num1/self.num2\n",
    "        return \"The Division of {} {} is {}\".format(self.num1,self.num2,div)\n",
    "    def mod(self):\n",
    "        mod =self.num1%self.num2\n",
    "        return \"The Mod of {} {} is {}\".format(self.num1,self.num2,mod)\n",
    "    \n",
    "user_choice =input(\"Enter The Choice You Want To Perform:\\n1.Addition\\n2.Substraction\\n3.Multiplication\\n4.Division\\n5.Modulus:\")\n",
    "num1 = float(input(\"Enter The First Number :\"))\n",
    "num2 =float(input(\"Enter The Second Number:\"))\n",
    "\n",
    "cal =calculator(num1,num2)\n",
    "if user_choice ==\"1\":\n",
    "    print(cal.add())\n",
    "elif user_choice==\"2\":\n",
    "    print(cal.sub())\n",
    "elif user_choice==\"3\":\n",
    "    print(cal.mul())\n",
    "elif user_choice==\"4\":\n",
    "   print( cal.div())\n",
    "elif user_choice == \"5\":\n",
    "   print( cal.mod())\n",
    "else:\n",
    "    print(\"Thank You Using Our Calculator\")\n",
    "    \n"
   ]
  },
  {
   "cell_type": "code",
   "execution_count": null,
   "id": "80c7a17f-74b1-4039-83dc-8693b787411d",
   "metadata": {},
   "outputs": [],
   "source": []
  }
 ],
 "metadata": {
  "kernelspec": {
   "display_name": "Python 3 (ipykernel)",
   "language": "python",
   "name": "python3"
  },
  "language_info": {
   "codemirror_mode": {
    "name": "ipython",
    "version": 3
   },
   "file_extension": ".py",
   "mimetype": "text/x-python",
   "name": "python",
   "nbconvert_exporter": "python",
   "pygments_lexer": "ipython3",
   "version": "3.11.7"
  }
 },
 "nbformat": 4,
 "nbformat_minor": 5
}
