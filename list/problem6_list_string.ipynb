{
 "cells": [
  {
   "cell_type": "markdown",
   "id": "691b4309-686d-43c6-bad5-94fcda266499",
   "metadata": {},
   "source": [
    "### Problem 6: Clean and Deduplicate Anime Names"
   ]
  },
  {
   "cell_type": "code",
   "execution_count": 2,
   "id": "b6d34da4-3e97-4e3d-8407-7c185beb045b",
   "metadata": {},
   "outputs": [],
   "source": [
    "anime_names = [\n",
    "    \"  NARUTO  Uzumaki\",\n",
    "    \"sakura haruno\",\n",
    "    \"SAITAMA  \",\n",
    "    \"naruto uzumaki\",\n",
    "    \"  goku  \",\n",
    "    \"Sakura Haruno\",\n",
    "    \"Luffy  monkey d\",\n",
    "    \"  saitama  \"\n",
    "]\n"
   ]
  },
  {
   "cell_type": "markdown",
   "id": "65eeb2d6-caed-4e01-bf0b-0404fdc30bb7",
   "metadata": {},
   "source": [
    "* Clean each name by removing extra spaces and fixing capitalization (e.g. \"naruto uzumaki\" → \"Naruto Uzumaki\")\n",
    "* Remove duplicates\n",
    "* Print total number of unique cleaned anime names\n",
    "*Print all unique cleaned anime names sorted alphabetically"
   ]
  },
  {
   "cell_type": "code",
   "execution_count": 31,
   "id": "80c7a4ab-7995-479d-9ebb-6c5d541b5da4",
   "metadata": {},
   "outputs": [
    {
     "name": "stdout",
     "output_type": "stream",
     "text": [
      "The original Anime name list length is  8\n",
      "Number of unique Names : 5\n",
      "['Goku', 'Luffy Monkey D', 'Naruto Uzumaki', 'Saitama', 'Sakura Haruno']\n"
     ]
    }
   ],
   "source": [
    "size_of_array = len(anime_names) \n",
    "for i in range(size_of_array):\n",
    "    cleaned_val = ' '.join(anime_names[i].strip().split())\n",
    "    anime_names[i] = cleaned_val.title()\n",
    "\n",
    "\n",
    "unique_anime_names = [] \n",
    "for name in anime_names: \n",
    "    if name not in unique_anime_names:\n",
    "        unique_anime_names.append(name) \n",
    "print(\"The original Anime name list length is \", len(anime_names))\n",
    "print(f\"Number of unique Names : {len(unique_anime_names)}\")\n",
    "\n",
    "unique_anime_names.sort()\n",
    "print(unique_anime_names)"
   ]
  },
  {
   "cell_type": "code",
   "execution_count": null,
   "id": "7858b46f-03b7-4012-8f12-1d3ae729ce41",
   "metadata": {},
   "outputs": [],
   "source": [
    "\n"
   ]
  },
  {
   "cell_type": "code",
   "execution_count": null,
   "id": "35d03c8f-6071-4ff4-8dbc-fbd2f242cbca",
   "metadata": {},
   "outputs": [],
   "source": []
  }
 ],
 "metadata": {
  "kernelspec": {
   "display_name": "Python 3 (ipykernel)",
   "language": "python",
   "name": "python3"
  },
  "language_info": {
   "codemirror_mode": {
    "name": "ipython",
    "version": 3
   },
   "file_extension": ".py",
   "mimetype": "text/x-python",
   "name": "python",
   "nbconvert_exporter": "python",
   "pygments_lexer": "ipython3",
   "version": "3.12.7"
  }
 },
 "nbformat": 4,
 "nbformat_minor": 5
}
