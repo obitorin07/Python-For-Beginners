{
 "cells": [
  {
   "cell_type": "code",
   "execution_count": 21,
   "id": "dbbca134-a19b-4d18-8ebd-56e8c67e07ca",
   "metadata": {},
   "outputs": [
    {
     "name": "stdout",
     "output_type": "stream",
     "text": [
      "The Largest number amoung -2 and 12 and 10 is : 12\n",
      "The Largest number amoung 42 and 12 and 10 is : 42\n"
     ]
    },
    {
     "name": "stdin",
     "output_type": "stream",
     "text": [
      "Enter The First Number: 25\n",
      "Enter The Second Number: 10\n",
      "Enter The Third Number: 555\n"
     ]
    },
    {
     "name": "stdout",
     "output_type": "stream",
     "text": [
      "_____________________________________\n",
      "The Largest number amoung 25 and 10 and 555 is : 555\n"
     ]
    }
   ],
   "source": [
    "#Find Largest Numbers\n",
    "\n",
    "# Method 1: Using if-else statements\n",
    "\n",
    "no1 = -2\n",
    "no2 = 12\n",
    "no3 = 10\n",
    "\n",
    "if no1 > no2  and no1 > no3 :\n",
    "    large_number = no1 \n",
    "elif no2 > no1 and no2 >no3 :\n",
    "    large_number = no2\n",
    "else:\n",
    "    large_number = no3 \n",
    "print(f\"The Largest number amoung {no1} and {no2} and {no3} is :\" , large_number)\n",
    "\n",
    "\n",
    "# Method 2: Using max() function\n",
    "no1 = 42\n",
    "no2 = 12\n",
    "no3 = 10\n",
    "\n",
    "large_number_result = max(no1 , no2 ,no3)\n",
    "print(f\"The Largest number amoung {no1} and {no2} and {no3} is :\" , large_number_result)\n",
    "\n",
    "\n",
    "\n",
    "\n",
    "# Method 3: User Input\n",
    "\n",
    "no1 = int(input(\"Enter The First Number:\"))\n",
    "no2 = int(input(\"Enter The Second Number:\"))\n",
    "no3 = int(input(\"Enter The Third Number:\"))\n",
    "\n",
    "#same logic applying for dynamic \n",
    "\n",
    "if no1 > no2  and no1 > no3 :\n",
    "    large_number = no1 \n",
    "elif no2 > no1 and no2 >no3 :\n",
    "    large_number = no2\n",
    "else:\n",
    "    large_number = no3\n",
    "print(\"_____________________________________\")\n",
    "print(f\"The Largest number amoung {no1} and {no2} and {no3} is :\" , large_number)\n",
    "\n",
    "\n",
    "\n"
   ]
  },
  {
   "cell_type": "code",
   "execution_count": null,
   "id": "5eaa86ee-fe0a-43c2-8664-5147a4ecf8ba",
   "metadata": {},
   "outputs": [],
   "source": []
  }
 ],
 "metadata": {
  "kernelspec": {
   "display_name": "Python 3 (ipykernel)",
   "language": "python",
   "name": "python3"
  },
  "language_info": {
   "codemirror_mode": {
    "name": "ipython",
    "version": 3
   },
   "file_extension": ".py",
   "mimetype": "text/x-python",
   "name": "python",
   "nbconvert_exporter": "python",
   "pygments_lexer": "ipython3",
   "version": "3.12.4"
  }
 },
 "nbformat": 4,
 "nbformat_minor": 5
}
