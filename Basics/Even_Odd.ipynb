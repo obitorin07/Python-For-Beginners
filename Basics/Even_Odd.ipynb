{
  "nbformat": 4,
  "nbformat_minor": 0,
  "metadata": {
    "colab": {
      "provenance": []
    },
    "kernelspec": {
      "name": "python3",
      "display_name": "Python 3"
    },
    "language_info": {
      "name": "python"
    }
  },
  "cells": [
    {
      "cell_type": "markdown",
      "source": [
        "# Check if given Number is Even or Odd | Ray Vision"
      ],
      "metadata": {
        "id": "7du0Q6LfoQu_"
      }
    },
    {
      "cell_type": "markdown",
      "source": [
        "#### Method 1: Static comparison using if-else statements.\n",
        "\n",
        "\n",
        "\n",
        "\n"
      ],
      "metadata": {
        "id": "0plg_2wwmwNC"
      }
    },
    {
      "cell_type": "code",
      "source": [
        "no1 = 0\n",
        "\n",
        "if no1 ==0:\n",
        "  print(\"Entered Number is Zero\")\n",
        "\n",
        "elif no1 %2==0:\n",
        "  print(f\"{no1} is Even\")\n",
        "\n",
        "else:\n",
        "  print(f\"{no1} is Odd\")"
      ],
      "metadata": {
        "colab": {
          "base_uri": "https://localhost:8080/"
        },
        "id": "gNYotYVtm02_",
        "outputId": "e48ae939-3ea8-46d1-ef8e-2876ebf2fa46"
      },
      "execution_count": 32,
      "outputs": [
        {
          "output_type": "stream",
          "name": "stdout",
          "text": [
            "Entered Number is Zero\n"
          ]
        }
      ]
    },
    {
      "cell_type": "markdown",
      "source": [
        "#### Method 2: Dynamic user input with corrected logic for checking even or odd.\n"
      ],
      "metadata": {
        "id": "t2VrQ7mwm1MY"
      }
    },
    {
      "cell_type": "code",
      "source": [
        "no1 = int(input(\"Enter The Value:\"))\n",
        "\n",
        "if no1 ==0:\n",
        "  print(\"Entered Number is Zero\")\n",
        "\n",
        "elif no1 %2==0:\n",
        "  print(f\"{no1} is Even\")\n",
        "\n",
        "else:\n",
        "  print(f\"{no1} is Odd\")"
      ],
      "metadata": {
        "colab": {
          "base_uri": "https://localhost:8080/"
        },
        "id": "vkDT5IEkm3pH",
        "outputId": "f5081b41-be51-4dc6-d947-97b28fe34ec5"
      },
      "execution_count": 36,
      "outputs": [
        {
          "output_type": "stream",
          "name": "stdout",
          "text": [
            "Enter The Value:14440\n",
            "14440 is Even\n"
          ]
        }
      ]
    },
    {
      "cell_type": "markdown",
      "source": [
        "####Extra Bonus\n",
        "\n",
        "\n"
      ],
      "metadata": {
        "id": "DhbVbZhWoC6H"
      }
    },
    {
      "cell_type": "code",
      "source": [
        "#using function\n",
        "\n",
        "def even_odd(no1):\n",
        "  if no1 ==0:\n",
        "    return \"Entered Number is Zero\"\n",
        "\n",
        "  elif no1 %2==0:\n",
        "    return f\"{no1} is Even\"\n",
        "\n",
        "  else:\n",
        "    return f\"{no1} is Odd\""
      ],
      "metadata": {
        "id": "ahBtXvTcnyD9"
      },
      "execution_count": 40,
      "outputs": []
    },
    {
      "cell_type": "code",
      "source": [
        "even_odd(100)"
      ],
      "metadata": {
        "colab": {
          "base_uri": "https://localhost:8080/",
          "height": 55
        },
        "id": "do0D6b6TzNRN",
        "outputId": "6a7ad25f-dda2-44d3-b052-6e873a19a858"
      },
      "execution_count": 41,
      "outputs": [
        {
          "output_type": "execute_result",
          "data": {
            "text/plain": [
              "'100 is Even'"
            ],
            "application/vnd.google.colaboratory.intrinsic+json": {
              "type": "string"
            }
          },
          "metadata": {},
          "execution_count": 41
        }
      ]
    },
    {
      "cell_type": "code",
      "source": [
        "even_odd(125)"
      ],
      "metadata": {
        "colab": {
          "base_uri": "https://localhost:8080/",
          "height": 55
        },
        "id": "0v8ALd24zV71",
        "outputId": "85ac39e6-0151-49e2-a647-7e6104f33167"
      },
      "execution_count": 42,
      "outputs": [
        {
          "output_type": "execute_result",
          "data": {
            "text/plain": [
              "'125 is Odd'"
            ],
            "application/vnd.google.colaboratory.intrinsic+json": {
              "type": "string"
            }
          },
          "metadata": {},
          "execution_count": 42
        }
      ]
    },
    {
      "cell_type": "code",
      "source": [
        "even_odd(0)"
      ],
      "metadata": {
        "colab": {
          "base_uri": "https://localhost:8080/",
          "height": 55
        },
        "id": "8Y_pydGvzYX9",
        "outputId": "81392e36-1289-41d2-9530-ddd97fed9c93"
      },
      "execution_count": 43,
      "outputs": [
        {
          "output_type": "execute_result",
          "data": {
            "text/plain": [
              "'Entered Number is Zero'"
            ],
            "application/vnd.google.colaboratory.intrinsic+json": {
              "type": "string"
            }
          },
          "metadata": {},
          "execution_count": 43
        }
      ]
    },
    {
      "cell_type": "code",
      "source": [],
      "metadata": {
        "id": "l_Wlz87Tzayn"
      },
      "execution_count": null,
      "outputs": []
    }
  ]
}