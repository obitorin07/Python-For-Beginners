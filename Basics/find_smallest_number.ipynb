{
 "cells": [
  {
   "cell_type": "markdown",
   "id": "a742a6b9-b4db-45be-9af3-83f0ac97660d",
   "metadata": {},
   "source": [
    "# How to Find the Smallest of Three Numbers in Python\n",
    "##### **note variable name we can take anything like  number1 , no1, num1  or x yz**"
   ]
  },
  {
   "cell_type": "markdown",
   "id": "ca006eb0-7b93-4d83-8a69-d68c5e7ca9d1",
   "metadata": {},
   "source": [
    "#### Method 1: This is a static method using if-else statements to find the smallest number among three predefined numbers."
   ]
  },
  {
   "cell_type": "code",
   "execution_count": 9,
   "id": "b7f6e2ff-d704-435b-bc40-99a4f160c5c5",
   "metadata": {},
   "outputs": [
    {
     "name": "stdout",
     "output_type": "stream",
     "text": [
      "30 is Smaller Number\n"
     ]
    }
   ],
   "source": [
    "x = 120 \n",
    "y = 250\n",
    "z = 30\n",
    "\n",
    "if x<y and x < z : \n",
    "    print(f\"{x} is Smaller Number\") \n",
    "elif y < x and y < z : \n",
    "    print(f\"{y} is Smaller Number\") \n",
    "else:\n",
    "    print(f\"{z} is Smaller Number\") "
   ]
  },
  {
   "cell_type": "code",
   "execution_count": null,
   "id": "274b68b0-3c58-4715-8568-18d411b3683d",
   "metadata": {},
   "outputs": [],
   "source": []
  },
  {
   "cell_type": "markdown",
   "id": "243898f8-cdee-47cd-9093-4551ae679fcc",
   "metadata": {},
   "source": [
    "#### Method 2: This method uses the min() function to find the smallest number among three predefined numbers."
   ]
  },
  {
   "cell_type": "code",
   "execution_count": 15,
   "id": "efb8bb00-340d-4e33-a789-4744e4a76a0b",
   "metadata": {},
   "outputs": [
    {
     "name": "stdout",
     "output_type": "stream",
     "text": [
      "The Smallest number is: -40\n"
     ]
    }
   ],
   "source": [
    "no1 = 125\n",
    "no2 = 25 \n",
    "no3 = -40\n",
    "result_small = min(no1 ,no2,no3)\n",
    "print(\"The Smallest number is:\",result_small)"
   ]
  },
  {
   "cell_type": "code",
   "execution_count": null,
   "id": "3633baf7-dcda-4fbb-8449-3ae1bc8ca35b",
   "metadata": {},
   "outputs": [],
   "source": []
  },
  {
   "cell_type": "markdown",
   "id": "37b66d2d-6b79-4ac0-a237-06d4066f94d3",
   "metadata": {},
   "source": [
    "#### Method 3: This method is dynamic, where the user inputs three numbers, and it uses if-else statements to find the smallest number."
   ]
  },
  {
   "cell_type": "code",
   "execution_count": 19,
   "id": "18732b6e-af72-4dc8-8e49-903f5c8eb728",
   "metadata": {},
   "outputs": [
    {
     "name": "stdin",
     "output_type": "stream",
     "text": [
      "Enter The First number : 25\n",
      "Enter The Second number : 365\n",
      "Enter The Third number : -5\n"
     ]
    },
    {
     "name": "stdout",
     "output_type": "stream",
     "text": [
      "-5 is smaller number\n"
     ]
    }
   ],
   "source": [
    "a = int(input(\"Enter The First number :\"))\n",
    "b = int(input(\"Enter The Second number :\"))\n",
    "c = int(input(\"Enter The Third number :\"))\n",
    "\n",
    "if b >a  and c > a :\n",
    "    print(f\"{a} is smaller number\")\n",
    "elif a> b  and c > b :\n",
    "    print(f\"{b} is smaller number\")\n",
    "else: \n",
    "    print(f\"{c} is smaller number\")"
   ]
  },
  {
   "cell_type": "code",
   "execution_count": null,
   "id": "544eb492-5a25-4197-99e9-dfae290280ab",
   "metadata": {},
   "outputs": [],
   "source": [
    "#thank you \n",
    "#note we can use any name for variable"
   ]
  }
 ],
 "metadata": {
  "kernelspec": {
   "display_name": "Python 3 (ipykernel)",
   "language": "python",
   "name": "python3"
  },
  "language_info": {
   "codemirror_mode": {
    "name": "ipython",
    "version": 3
   },
   "file_extension": ".py",
   "mimetype": "text/x-python",
   "name": "python",
   "nbconvert_exporter": "python",
   "pygments_lexer": "ipython3",
   "version": "3.12.4"
  }
 },
 "nbformat": 4,
 "nbformat_minor": 5
}
