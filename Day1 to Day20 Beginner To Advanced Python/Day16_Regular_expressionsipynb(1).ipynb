{
  "nbformat": 4,
  "nbformat_minor": 0,
  "metadata": {
    "colab": {
      "provenance": []
    },
    "kernelspec": {
      "name": "python3",
      "display_name": "Python 3"
    },
    "language_info": {
      "name": "python"
    }
  },
  "cells": [
    {
      "cell_type": "markdown",
      "source": [
        "#regex"
      ],
      "metadata": {
        "id": "gEumcGSGzScf"
      }
    },
    {
      "cell_type": "markdown",
      "source": [
        "##re.search()"
      ],
      "metadata": {
        "id": "yhGB6aPwJWW9"
      }
    },
    {
      "cell_type": "code",
      "execution_count": 13,
      "metadata": {
        "colab": {
          "base_uri": "https://localhost:8080/"
        },
        "id": "AV7Kr9UFyUSE",
        "outputId": "2c7438cb-59f8-4d1b-f411-2d70d932834a"
      },
      "outputs": [
        {
          "output_type": "stream",
          "name": "stdout",
          "text": [
            "yes found\n"
          ]
        }
      ],
      "source": [
        "import re\n",
        "data = \"Python is All rounder\"\n",
        "pattern =re.search(\"^Python.*rounder$\",data)\n",
        "if pattern :\n",
        "  print(\"yes found\")\n",
        "else:\n",
        "  print(\"Not found\")"
      ]
    },
    {
      "cell_type": "code",
      "source": [
        "import re\n",
        "txt = \"The rain in Hydrabad\"\n",
        "x = re.search(\"^The.*Hydrabad$\",txt)\n",
        "if x:\n",
        "  print(\"Yes\")\n",
        "else:\n",
        "  print(\"No\")"
      ],
      "metadata": {
        "colab": {
          "base_uri": "https://localhost:8080/"
        },
        "id": "u73QFVjvzUd7",
        "outputId": "c7fd3a35-face-46f2-d573-68bc8d60beeb"
      },
      "execution_count": 9,
      "outputs": [
        {
          "output_type": "stream",
          "name": "stdout",
          "text": [
            "Yes\n"
          ]
        }
      ]
    },
    {
      "cell_type": "markdown",
      "source": [
        "##re.findall()"
      ],
      "metadata": {
        "id": "j4ySMRkhJdpp"
      }
    },
    {
      "cell_type": "code",
      "source": [
        "import re\n",
        "txt = \"I like python what is python what are feature of python\"\n",
        "\n",
        "pattern = re.findall(\"py\",txt)\n",
        "print(pattern)"
      ],
      "metadata": {
        "colab": {
          "base_uri": "https://localhost:8080/"
        },
        "id": "UjNRxwjP4RcP",
        "outputId": "9f60b702-663e-4930-c43b-d18e7600b9b7"
      },
      "execution_count": 18,
      "outputs": [
        {
          "output_type": "stream",
          "name": "stdout",
          "text": [
            "['py', 'py', 'py']\n"
          ]
        }
      ]
    },
    {
      "cell_type": "code",
      "source": [
        "import re\n",
        "\n",
        "nameage = \"\"\" Obito is 14 and Rin is 14 and Kakashi is 20 and Hinata is 18 and Naruto is 18 and Madara is 78848448 \"\"\"\n",
        "\n",
        "age = re.findall(r'\\d{1,2}',nameage)# {1,2} it only allow 2 digits\n",
        "\n",
        "names = re.findall(r'[A-Z][a-z]*',nameage)\n",
        "print(age)\n",
        "print(names,'\\n')\n",
        "age_name = {}\n",
        "x = 0\n",
        "for name in names:\n",
        "  age_name[name] = age[x] #x is used to add index position x value is currently 0 when loop start 0 1 2 value it will add in dict\n",
        "  x+=1\n",
        "print(age_name)"
      ],
      "metadata": {
        "colab": {
          "base_uri": "https://localhost:8080/"
        },
        "id": "Pfy75nPJ8bZv",
        "outputId": "58787529-6a0f-4bdb-ec1d-3ceda71622a5"
      },
      "execution_count": 32,
      "outputs": [
        {
          "output_type": "stream",
          "name": "stdout",
          "text": [
            "['14', '14', '20', '18', '18', '78', '84', '84', '48']\n",
            "['Obito', 'Rin', 'Kakashi', 'Hinata', 'Naruto', 'Madara'] \n",
            "\n",
            "{'Obito': '14', 'Rin': '14', 'Kakashi': '20', 'Hinata': '18', 'Naruto': '18', 'Madara': '78'}\n"
          ]
        }
      ]
    },
    {
      "cell_type": "code",
      "source": [
        "import re\n",
        "nameage = \"\"\" obito is 14 and Rin is 14 and Kakashi is 20 and Hinata is 18 and naruto is 18 and madara is 78848448 \"\"\"\n",
        "\n",
        "age =re.findall(r'\\d{1,2}',nameage) #['14', '14', '20', '18', '18', '78', '84', '84', '48']\n",
        "name = re.findall(r'[A-Z][a-z]*',nameage) #['Rin', 'Kakashi', 'Hinata']\n",
        "\n",
        "# because it start to check which letter start with upper letter then after upper it check lower letter then all\n",
        "print(name)\n",
        "\n"
      ],
      "metadata": {
        "colab": {
          "base_uri": "https://localhost:8080/"
        },
        "id": "7kG_zXN7BGO1",
        "outputId": "0978e155-4142-4adf-e810-30e110db00b8"
      },
      "execution_count": 42,
      "outputs": [
        {
          "output_type": "stream",
          "name": "stdout",
          "text": [
            "['Rin', 'Kakashi', 'Hinata']\n"
          ]
        }
      ]
    },
    {
      "cell_type": "code",
      "source": [
        "age"
      ],
      "metadata": {
        "colab": {
          "base_uri": "https://localhost:8080/"
        },
        "id": "9NpaKWeAJur5",
        "outputId": "b1613efe-f28a-4904-9d6b-374f31e6d8e9"
      },
      "execution_count": 39,
      "outputs": [
        {
          "output_type": "execute_result",
          "data": {
            "text/plain": [
              "['14', '14', '20', '18', '18', '78', '84', '84', '48']"
            ]
          },
          "metadata": {},
          "execution_count": 39
        }
      ]
    },
    {
      "cell_type": "code",
      "source": [],
      "metadata": {
        "id": "Y6P_Yn3EKDfP"
      },
      "execution_count": null,
      "outputs": []
    },
    {
      "cell_type": "markdown",
      "source": [
        "##re.split()"
      ],
      "metadata": {
        "id": "lG2c3GkCMQYL"
      }
    },
    {
      "cell_type": "code",
      "source": [
        "import re\n",
        "message = 'Hello Im Obito Uchiha'\n",
        "pattern = re.split('\\s',message)  #\\s is used to check spaces white spaces\n",
        "print(pattern)"
      ],
      "metadata": {
        "colab": {
          "base_uri": "https://localhost:8080/"
        },
        "id": "Qm86Ge-zMSip",
        "outputId": "559f6d05-485d-405d-bc6a-b3c916ae4a4f"
      },
      "execution_count": 43,
      "outputs": [
        {
          "output_type": "stream",
          "name": "stdout",
          "text": [
            "['Hello', 'Im', 'Obito', 'Uchiha']\n"
          ]
        }
      ]
    },
    {
      "cell_type": "code",
      "source": [
        "import re\n",
        "alpha_num = \"i like anime 07 i dont like addition123243343\"\n",
        "pattern ='\\d+' # it checks where digits are occures more than once\n",
        "result = re.split(pattern , alpha_num) # here it split wherever digit comes it split\n",
        "print(result)"
      ],
      "metadata": {
        "colab": {
          "base_uri": "https://localhost:8080/"
        },
        "id": "soeddHMBNKhi",
        "outputId": "998d57ee-6126-4db0-bdf7-4759807156de"
      },
      "execution_count": 45,
      "outputs": [
        {
          "output_type": "stream",
          "name": "stdout",
          "text": [
            "['i like anime ', ' i dont like addition', '']\n"
          ]
        }
      ]
    },
    {
      "cell_type": "code",
      "source": [
        "import re\n",
        "phone = '987-654-3210 #Hello this is number'\n",
        "pattern  =  re.sub(r'#.*$','',phone)# it is replacing\n",
        "print(pattern)\n",
        "\n",
        "\n",
        "num =re.sub(r'\\D','',phone)#D is used opposite which is not digit it remove -\n",
        "print(num)"
      ],
      "metadata": {
        "colab": {
          "base_uri": "https://localhost:8080/"
        },
        "id": "XqQMSW0hOC8v",
        "outputId": "a0949880-7f60-4734-faa2-51d932cd3a42"
      },
      "execution_count": 61,
      "outputs": [
        {
          "output_type": "stream",
          "name": "stdout",
          "text": [
            "987-654-3210 \n",
            "9876543210\n"
          ]
        }
      ]
    },
    {
      "cell_type": "code",
      "source": [
        "import re\n",
        "names = 'Ram,Sham,Viyam,Mam,Sam'\n",
        "pattern = re.findall(r'[M-R]am',names)\n",
        "print(pattern)"
      ],
      "metadata": {
        "colab": {
          "base_uri": "https://localhost:8080/"
        },
        "id": "TUcs5UpyTDIn",
        "outputId": "0a5df5ae-84b5-4c0c-bf0e-6c30251572e1"
      },
      "execution_count": 63,
      "outputs": [
        {
          "output_type": "stream",
          "name": "stdout",
          "text": [
            "['Ram', 'Mam']\n"
          ]
        }
      ]
    },
    {
      "cell_type": "code",
      "source": [
        "import re\n",
        "\n",
        "# Example string\n",
        "string = \"Hello world! This is a test string.\"\n",
        "word = \"test\"\n",
        "\n",
        "# Check if the word exists in the string using findall\n",
        "if re.findall(word, string):\n",
        "    print(f\"The string contains the word '{word}'.\")\n",
        "else:\n",
        "    print(f\"The string does not contain the word '{word}'.\")\n"
      ],
      "metadata": {
        "colab": {
          "base_uri": "https://localhost:8080/"
        },
        "id": "d1Drr7uuWxhe",
        "outputId": "54973fd5-7b85-431a-9b14-27542c862ca8"
      },
      "execution_count": 64,
      "outputs": [
        {
          "output_type": "stream",
          "name": "stdout",
          "text": [
            "The string contains the word 'test'.\n"
          ]
        }
      ]
    }
  ]
}