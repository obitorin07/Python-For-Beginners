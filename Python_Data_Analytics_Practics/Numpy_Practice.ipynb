{
  "nbformat": 4,
  "nbformat_minor": 0,
  "metadata": {
    "colab": {
      "provenance": []
    },
    "kernelspec": {
      "name": "python3",
      "display_name": "Python 3"
    },
    "language_info": {
      "name": "python"
    }
  },
  "cells": [
    {
      "cell_type": "code",
      "execution_count": null,
      "metadata": {
        "id": "e9YMfIuv16T9"
      },
      "outputs": [],
      "source": [
        "import numpy as np"
      ]
    },
    {
      "cell_type": "code",
      "source": [
        "arr = np.array([20,15,16,18,15])"
      ],
      "metadata": {
        "id": "zFlnwssP2GJX"
      },
      "execution_count": null,
      "outputs": []
    },
    {
      "cell_type": "code",
      "source": [
        "print(type(arr)) #single dimensions"
      ],
      "metadata": {
        "colab": {
          "base_uri": "https://localhost:8080/"
        },
        "id": "En1l82bg2MPB",
        "outputId": "7981ee25-4a5a-4ca7-c2a0-ac7b2a795b7d"
      },
      "execution_count": null,
      "outputs": [
        {
          "output_type": "stream",
          "name": "stdout",
          "text": [
            "<class 'numpy.ndarray'>\n"
          ]
        }
      ]
    },
    {
      "cell_type": "code",
      "source": [
        "arr"
      ],
      "metadata": {
        "colab": {
          "base_uri": "https://localhost:8080/"
        },
        "id": "oXkYYq8U2Pn6",
        "outputId": "919baae6-e527-4d63-931c-2dca00500961"
      },
      "execution_count": null,
      "outputs": [
        {
          "output_type": "execute_result",
          "data": {
            "text/plain": [
              "array([20, 15, 16, 18, 15])"
            ]
          },
          "metadata": {},
          "execution_count": 24
        }
      ]
    },
    {
      "cell_type": "code",
      "source": [
        "arr2 =np.array(((25,11,16,15,8),(25,45,87,45,45)))\n",
        "\n"
      ],
      "metadata": {
        "id": "2Trp8dld2WRD"
      },
      "execution_count": null,
      "outputs": []
    },
    {
      "cell_type": "code",
      "source": [
        "arr2"
      ],
      "metadata": {
        "colab": {
          "base_uri": "https://localhost:8080/"
        },
        "id": "9Eoeb5Pn2hF_",
        "outputId": "d3954cc8-9c1e-4f2a-d903-330ddfabc96b"
      },
      "execution_count": null,
      "outputs": [
        {
          "output_type": "execute_result",
          "data": {
            "text/plain": [
              "array([[25, 11, 16, 15,  8],\n",
              "       [25, 45, 87, 45, 45]])"
            ]
          },
          "metadata": {},
          "execution_count": 26
        }
      ]
    },
    {
      "cell_type": "code",
      "source": [
        "arr2.ndim #2dimensions"
      ],
      "metadata": {
        "colab": {
          "base_uri": "https://localhost:8080/"
        },
        "id": "5ayW5XCF2x0z",
        "outputId": "8ff3eff0-641d-4a12-91d7-f98a8fe568db"
      },
      "execution_count": null,
      "outputs": [
        {
          "output_type": "execute_result",
          "data": {
            "text/plain": [
              "2"
            ]
          },
          "metadata": {},
          "execution_count": 27
        }
      ]
    },
    {
      "cell_type": "code",
      "source": [
        "arr.ndim"
      ],
      "metadata": {
        "colab": {
          "base_uri": "https://localhost:8080/"
        },
        "id": "JKdKp-YJ3DGa",
        "outputId": "8846eecf-6128-48b2-9e5c-d944795d14ec"
      },
      "execution_count": null,
      "outputs": [
        {
          "output_type": "execute_result",
          "data": {
            "text/plain": [
              "1"
            ]
          },
          "metadata": {},
          "execution_count": 28
        }
      ]
    },
    {
      "cell_type": "code",
      "source": [
        "arr3 = np.array([[10,20,30],[20,30,60],[10,20,15]])\n",
        "print(arr3.ndim)"
      ],
      "metadata": {
        "colab": {
          "base_uri": "https://localhost:8080/"
        },
        "id": "J3HepiTQ3HxM",
        "outputId": "fc330a8c-6bb4-4cc5-c3b7-b850d260825c"
      },
      "execution_count": null,
      "outputs": [
        {
          "output_type": "stream",
          "name": "stdout",
          "text": [
            "2\n"
          ]
        }
      ]
    },
    {
      "cell_type": "code",
      "source": [
        "arr4 = arr3 *2"
      ],
      "metadata": {
        "id": "mql9b9an4Bra"
      },
      "execution_count": null,
      "outputs": []
    },
    {
      "cell_type": "code",
      "source": [
        "arr4"
      ],
      "metadata": {
        "colab": {
          "base_uri": "https://localhost:8080/"
        },
        "id": "cFOvTJKd4z1Z",
        "outputId": "db9164bd-a7d3-4e71-8596-6d4a8169f9f6"
      },
      "execution_count": null,
      "outputs": [
        {
          "output_type": "execute_result",
          "data": {
            "text/plain": [
              "array([[ 20,  40,  60],\n",
              "       [ 40,  60, 120],\n",
              "       [ 20,  40,  30]])"
            ]
          },
          "metadata": {},
          "execution_count": 31
        }
      ]
    },
    {
      "cell_type": "code",
      "source": [
        "arr5 =[[10,20,30],[20,30,60],[10,20,15]]"
      ],
      "metadata": {
        "id": "039iO3NW40mK"
      },
      "execution_count": null,
      "outputs": []
    },
    {
      "cell_type": "code",
      "source": [
        "import time\n",
        "sqr_empty_list= []\n",
        "for i in arr5:\n",
        "  t = [] #checking how this working\n",
        "  # print(t)\n",
        "  for j in i:\n",
        "    t.append(j*2)\n",
        "    print(t)\n",
        "    time.sleep(10)\n",
        "  sqr_empty_list.append(t)\n",
        "sqr_empty_list\n"
      ],
      "metadata": {
        "colab": {
          "base_uri": "https://localhost:8080/"
        },
        "id": "jEa9-Jzu4_fM",
        "outputId": "82f98926-93b9-4bd0-f45d-0231c5c52803"
      },
      "execution_count": null,
      "outputs": [
        {
          "output_type": "stream",
          "name": "stdout",
          "text": [
            "[20]\n",
            "[20, 40]\n",
            "[20, 40, 60]\n",
            "[40]\n",
            "[40, 60]\n",
            "[40, 60, 120]\n",
            "[20]\n",
            "[20, 40]\n",
            "[20, 40, 30]\n"
          ]
        },
        {
          "output_type": "execute_result",
          "data": {
            "text/plain": [
              "[[20, 40, 60], [40, 60, 120], [20, 40, 30]]"
            ]
          },
          "metadata": {},
          "execution_count": 17
        }
      ]
    },
    {
      "cell_type": "code",
      "source": [
        "\n",
        "\n",
        "\n",
        "arr5 = [[10, 20, 30], [20, 30, 60], [10, 20, 15]]\n",
        "\n",
        "sqr_nested_list = []\n",
        "for i in arr5:\n",
        "    temp = []  # Create a temporary list to store the multiplied values for the current sublist\n",
        "    for j in i:\n",
        "        temp.append(j * 2)  # Multiply each element by 2 and append to temp\n",
        "    sqr_nested_list.append(temp)  # Append the multiplied sublist to the result list\n",
        "\n",
        "sqr_nested_list\n"
      ],
      "metadata": {
        "colab": {
          "base_uri": "https://localhost:8080/"
        },
        "id": "tEzuEfN-5BmN",
        "outputId": "a9e4bf66-e4f8-4786-b942-f185f0a74cc5"
      },
      "execution_count": null,
      "outputs": [
        {
          "output_type": "execute_result",
          "data": {
            "text/plain": [
              "[[20, 40, 60], [40, 60, 120], [20, 40, 30]]"
            ]
          },
          "metadata": {},
          "execution_count": 18
        }
      ]
    },
    {
      "cell_type": "code",
      "source": [
        "arr5 = [[10, 20, 30], [20, 30, 60], [10, 20, 15]]\n",
        "arr6 =[[10, 20, 30], [20, 30, 60], [10, 20, 15]]\n",
        "\n",
        "arr5.extend(arr6)"
      ],
      "metadata": {
        "id": "JsMTUJbj7DK4"
      },
      "execution_count": null,
      "outputs": []
    },
    {
      "cell_type": "code",
      "source": [
        "a =np.array(sqr_nested_list)\n",
        "a.ndim"
      ],
      "metadata": {
        "colab": {
          "base_uri": "https://localhost:8080/"
        },
        "id": "yyS0Hgsv-X1G",
        "outputId": "48f6b30b-63c8-48c7-c6bd-35073973fea3"
      },
      "execution_count": null,
      "outputs": [
        {
          "output_type": "execute_result",
          "data": {
            "text/plain": [
              "2"
            ]
          },
          "metadata": {},
          "execution_count": 39
        }
      ]
    },
    {
      "cell_type": "markdown",
      "source": [
        "# about dimension in simple words\n",
        "* 10  is 0\n",
        "* [10] is 1d\n",
        "* [[10],[20]] is 2d\n",
        "* [[[10],[20]],[0],[25]]] is 3d"
      ],
      "metadata": {
        "id": "kHkclMflUxOg"
      }
    },
    {
      "cell_type": "code",
      "source": [
        "arr7 = np.array([[[10, 20, 30], [20, 30, 60]],[[10,20,50],[1,5,8]]])\n"
      ],
      "metadata": {
        "id": "ZGeXLBjpUwt5"
      },
      "execution_count": null,
      "outputs": []
    },
    {
      "cell_type": "code",
      "source": [
        "arr7.ndim"
      ],
      "metadata": {
        "colab": {
          "base_uri": "https://localhost:8080/"
        },
        "id": "TP5EsZiqT9Vk",
        "outputId": "b065a6de-f75c-4450-fdb2-211e72a507a7"
      },
      "execution_count": null,
      "outputs": [
        {
          "output_type": "execute_result",
          "data": {
            "text/plain": [
              "3"
            ]
          },
          "metadata": {},
          "execution_count": 50
        }
      ]
    },
    {
      "cell_type": "code",
      "source": [
        "arr7*4"
      ],
      "metadata": {
        "colab": {
          "base_uri": "https://localhost:8080/"
        },
        "id": "SX1iiC4BVTOa",
        "outputId": "a1e08fd5-2c89-4fcf-ac48-030081605c63"
      },
      "execution_count": null,
      "outputs": [
        {
          "output_type": "execute_result",
          "data": {
            "text/plain": [
              "array([[[ 40,  80, 120],\n",
              "        [ 80, 120, 240]],\n",
              "\n",
              "       [[ 40,  80, 200],\n",
              "        [  4,  20,  32]]])"
            ]
          },
          "metadata": {},
          "execution_count": 51
        }
      ]
    },
    {
      "cell_type": "markdown",
      "source": [
        "#5d array"
      ],
      "metadata": {
        "id": "dads7tbPWSB-"
      }
    },
    {
      "cell_type": "code",
      "source": [
        "five_d = np.array([1,2,3,4,5],ndmin =5)"
      ],
      "metadata": {
        "id": "QKyPdxzmV_l_"
      },
      "execution_count": null,
      "outputs": []
    },
    {
      "cell_type": "code",
      "source": [
        "five_d #array([[[[[1, 2, 3, 4, 5]]]]])"
      ],
      "metadata": {
        "colab": {
          "base_uri": "https://localhost:8080/"
        },
        "id": "ldPM8WR8WZUe",
        "outputId": "30daedd8-2c27-443b-b275-85801f492464"
      },
      "execution_count": null,
      "outputs": [
        {
          "output_type": "execute_result",
          "data": {
            "text/plain": [
              "array([[[[[1, 2, 3, 4, 5]]]]])"
            ]
          },
          "metadata": {},
          "execution_count": 56
        }
      ]
    },
    {
      "cell_type": "markdown",
      "source": [
        "#access array 2d"
      ],
      "metadata": {
        "id": "mbDwEfViXZ0n"
      }
    },
    {
      "cell_type": "code",
      "source": [
        "arr7"
      ],
      "metadata": {
        "colab": {
          "base_uri": "https://localhost:8080/"
        },
        "id": "y7w1tCWAWrch",
        "outputId": "0c01416d-302f-4035-cd30-dcc48fed1234"
      },
      "execution_count": null,
      "outputs": [
        {
          "output_type": "execute_result",
          "data": {
            "text/plain": [
              "array([[[10, 20, 30],\n",
              "        [20, 30, 60]],\n",
              "\n",
              "       [[10, 20, 50],\n",
              "        [ 1,  5,  8]]])"
            ]
          },
          "metadata": {},
          "execution_count": 57
        }
      ]
    },
    {
      "cell_type": "code",
      "source": [
        "arr7[0][1]"
      ],
      "metadata": {
        "colab": {
          "base_uri": "https://localhost:8080/"
        },
        "id": "7YHIjYLjW5RC",
        "outputId": "0092628d-ea1c-4042-e03d-46e67980b890"
      },
      "execution_count": null,
      "outputs": [
        {
          "output_type": "execute_result",
          "data": {
            "text/plain": [
              "array([20, 30, 60])"
            ]
          },
          "metadata": {},
          "execution_count": 60
        }
      ]
    },
    {
      "cell_type": "code",
      "source": [
        "arr = np.array([[10,20,30,40,50,60],[70,80,90,100,110,120]])"
      ],
      "metadata": {
        "id": "S-kUbDioW-Fo"
      },
      "execution_count": null,
      "outputs": []
    },
    {
      "cell_type": "code",
      "source": [
        "arr[0]"
      ],
      "metadata": {
        "colab": {
          "base_uri": "https://localhost:8080/"
        },
        "id": "xTffQW5yXxoJ",
        "outputId": "fa736323-0e85-4fbf-e77c-9af1467c0e2c"
      },
      "execution_count": null,
      "outputs": [
        {
          "output_type": "execute_result",
          "data": {
            "text/plain": [
              "array([10, 20, 30, 40, 50, 60])"
            ]
          },
          "metadata": {},
          "execution_count": 63
        }
      ]
    },
    {
      "cell_type": "code",
      "source": [
        "arr[1]"
      ],
      "metadata": {
        "colab": {
          "base_uri": "https://localhost:8080/"
        },
        "id": "jSL9RRkIXydi",
        "outputId": "3da336b1-3b3b-46bb-978f-63a2314c87bf"
      },
      "execution_count": null,
      "outputs": [
        {
          "output_type": "execute_result",
          "data": {
            "text/plain": [
              "array([ 70,  80,  90, 100, 110, 120])"
            ]
          },
          "metadata": {},
          "execution_count": 64
        }
      ]
    },
    {
      "cell_type": "code",
      "source": [
        "arr[-1]"
      ],
      "metadata": {
        "colab": {
          "base_uri": "https://localhost:8080/"
        },
        "id": "a1MWvqkzX3Ms",
        "outputId": "6935ae54-ad04-4d1d-e0ab-e308b77f4af6"
      },
      "execution_count": null,
      "outputs": [
        {
          "output_type": "execute_result",
          "data": {
            "text/plain": [
              "array([ 70,  80,  90, 100, 110, 120])"
            ]
          },
          "metadata": {},
          "execution_count": 65
        }
      ]
    },
    {
      "cell_type": "code",
      "source": [
        "arr[0,5] # like this or"
      ],
      "metadata": {
        "colab": {
          "base_uri": "https://localhost:8080/"
        },
        "id": "Vnj_snp4X4n6",
        "outputId": "b00a8633-dcc1-42eb-ff8b-bdc2d17370d9"
      },
      "execution_count": null,
      "outputs": [
        {
          "output_type": "execute_result",
          "data": {
            "text/plain": [
              "60"
            ]
          },
          "metadata": {},
          "execution_count": 69
        }
      ]
    },
    {
      "cell_type": "code",
      "source": [
        "arr[0][5]# both are same"
      ],
      "metadata": {
        "colab": {
          "base_uri": "https://localhost:8080/"
        },
        "id": "GIzf65Y1X88h",
        "outputId": "aafdcbdc-4278-49e3-bf2a-c94b5714ae1e"
      },
      "execution_count": null,
      "outputs": [
        {
          "output_type": "execute_result",
          "data": {
            "text/plain": [
              "60"
            ]
          },
          "metadata": {},
          "execution_count": 71
        }
      ]
    },
    {
      "cell_type": "code",
      "source": [
        "# accessing second index\n",
        "arr[1][-3]"
      ],
      "metadata": {
        "colab": {
          "base_uri": "https://localhost:8080/"
        },
        "id": "SNIAvVPgYItP",
        "outputId": "9554b0e9-711d-4b79-8d29-9e5bc934e42d"
      },
      "execution_count": null,
      "outputs": [
        {
          "output_type": "execute_result",
          "data": {
            "text/plain": [
              "100"
            ]
          },
          "metadata": {},
          "execution_count": 72
        }
      ]
    },
    {
      "cell_type": "code",
      "source": [
        "arr [1,-3]"
      ],
      "metadata": {
        "colab": {
          "base_uri": "https://localhost:8080/"
        },
        "id": "PUBzyLVEYc_R",
        "outputId": "da9d0cc4-45b6-46f5-e38d-664dae7e7cde"
      },
      "execution_count": null,
      "outputs": [
        {
          "output_type": "execute_result",
          "data": {
            "text/plain": [
              "100"
            ]
          },
          "metadata": {},
          "execution_count": 73
        }
      ]
    },
    {
      "cell_type": "code",
      "source": [],
      "metadata": {
        "id": "vv0ZkBRVYjcX"
      },
      "execution_count": null,
      "outputs": []
    },
    {
      "cell_type": "markdown",
      "source": [
        "#arithmatic operation based on index"
      ],
      "metadata": {
        "id": "HLOWRqTdZA4B"
      }
    },
    {
      "cell_type": "code",
      "source": [
        "print(arr)"
      ],
      "metadata": {
        "colab": {
          "base_uri": "https://localhost:8080/"
        },
        "id": "OokMVTKJZFm-",
        "outputId": "18402039-0c1c-46f2-e7f3-a9e8739eb1ca"
      },
      "execution_count": null,
      "outputs": [
        {
          "output_type": "stream",
          "name": "stdout",
          "text": [
            "[[ 10  20  30  40  50  60]\n",
            " [ 70  80  90 100 110 120]]\n"
          ]
        }
      ]
    },
    {
      "cell_type": "code",
      "source": [
        "addition = arr[0,2] +arr[1,-1]"
      ],
      "metadata": {
        "id": "ObPetJErZGl5"
      },
      "execution_count": null,
      "outputs": []
    },
    {
      "cell_type": "code",
      "source": [
        "addition # 30+120 returns 150"
      ],
      "metadata": {
        "colab": {
          "base_uri": "https://localhost:8080/"
        },
        "id": "hpkJI7VcZTTD",
        "outputId": "e8354611-c226-4289-ce6a-3946a8086e1c"
      },
      "execution_count": null,
      "outputs": [
        {
          "output_type": "execute_result",
          "data": {
            "text/plain": [
              "150"
            ]
          },
          "metadata": {},
          "execution_count": 78
        }
      ]
    },
    {
      "cell_type": "code",
      "source": [],
      "metadata": {
        "id": "TslS6_BoZUKH"
      },
      "execution_count": null,
      "outputs": []
    },
    {
      "cell_type": "markdown",
      "source": [
        "#access 3d array\n",
        "* (1,2,3)"
      ],
      "metadata": {
        "id": "fNeeWpoeZ8ft"
      }
    },
    {
      "cell_type": "code",
      "source": [
        "_3d= np.array([[[10, 20, 30], [20, 30, 60]],[[10,20,50],[1,5,8]]])\n"
      ],
      "metadata": {
        "id": "iOqQs8graBaE"
      },
      "execution_count": null,
      "outputs": []
    },
    {
      "cell_type": "code",
      "source": [
        "print(_3d)"
      ],
      "metadata": {
        "colab": {
          "base_uri": "https://localhost:8080/"
        },
        "id": "YTflIE-FaIRd",
        "outputId": "cb0c3516-38d6-4670-84f9-8f288e18bf43"
      },
      "execution_count": null,
      "outputs": [
        {
          "output_type": "stream",
          "name": "stdout",
          "text": [
            "[[[10 20 30]\n",
            "  [20 30 60]]\n",
            "\n",
            " [[10 20 50]\n",
            "  [ 1  5  8]]]\n"
          ]
        }
      ]
    },
    {
      "cell_type": "code",
      "source": [
        "_3d[0][1][2] #60"
      ],
      "metadata": {
        "colab": {
          "base_uri": "https://localhost:8080/"
        },
        "id": "4cb7HdpCaJL7",
        "outputId": "3f85a780-430a-4032-b73a-3abe60de3a29"
      },
      "execution_count": null,
      "outputs": [
        {
          "output_type": "execute_result",
          "data": {
            "text/plain": [
              "60"
            ]
          },
          "metadata": {},
          "execution_count": 83
        }
      ]
    },
    {
      "cell_type": "code",
      "source": [
        "_3d[1,0,-2] #20"
      ],
      "metadata": {
        "colab": {
          "base_uri": "https://localhost:8080/"
        },
        "id": "ze62t9LvaaTU",
        "outputId": "ef917373-bd66-4929-d5bb-dc57f00f5981"
      },
      "execution_count": null,
      "outputs": [
        {
          "output_type": "execute_result",
          "data": {
            "text/plain": [
              "20"
            ]
          },
          "metadata": {},
          "execution_count": 85
        }
      ]
    },
    {
      "cell_type": "code",
      "source": [
        "import numpy as np\n",
        "\n",
        "new_array = [[[1,2,3,4,5],[2,5,4,81,15],[10,20,30,60,50]],[[10,20,30,40,50],[30,60,50,60,50],[20,50,60,40,30]]]\n",
        "arr = np.array(new_array)"
      ],
      "metadata": {
        "id": "bInVrc59alzN"
      },
      "execution_count": null,
      "outputs": []
    },
    {
      "cell_type": "code",
      "source": [
        "arr.ndim"
      ],
      "metadata": {
        "colab": {
          "base_uri": "https://localhost:8080/"
        },
        "id": "-tpW70XHA8hu",
        "outputId": "93cc7252-be38-4a22-bb36-256f51cd8533"
      },
      "execution_count": null,
      "outputs": [
        {
          "output_type": "execute_result",
          "data": {
            "text/plain": [
              "3"
            ]
          },
          "metadata": {},
          "execution_count": 14
        }
      ]
    },
    {
      "cell_type": "code",
      "source": [
        "arr[0][1][2]"
      ],
      "metadata": {
        "colab": {
          "base_uri": "https://localhost:8080/"
        },
        "id": "DQZ_IWgvBvOr",
        "outputId": "d62ad1ed-abbe-4622-9e18-739dc994b7f5"
      },
      "execution_count": null,
      "outputs": [
        {
          "output_type": "execute_result",
          "data": {
            "text/plain": [
              "4"
            ]
          },
          "metadata": {},
          "execution_count": 19
        }
      ]
    },
    {
      "cell_type": "code",
      "source": [
        "arr[0,1,2:]"
      ],
      "metadata": {
        "colab": {
          "base_uri": "https://localhost:8080/"
        },
        "id": "vF_HEnDICPeA",
        "outputId": "51339fac-f386-427a-ad4a-3f8b7cd70ec8"
      },
      "execution_count": null,
      "outputs": [
        {
          "output_type": "execute_result",
          "data": {
            "text/plain": [
              "array([ 4, 81, 15])"
            ]
          },
          "metadata": {},
          "execution_count": 21
        }
      ]
    },
    {
      "cell_type": "code",
      "source": [],
      "metadata": {
        "id": "JAPRSCKoCcII"
      },
      "execution_count": null,
      "outputs": []
    },
    {
      "cell_type": "markdown",
      "source": [
        "#slicing in 2d arrray"
      ],
      "metadata": {
        "id": "gisnNxaBDeoy"
      }
    },
    {
      "cell_type": "code",
      "source": [
        "arr1 = np.array([[10,20,30,40,50],[60,70,80,90,100]]) # want to print 70,80,90\n",
        "print(arr1[1,1:4])"
      ],
      "metadata": {
        "colab": {
          "base_uri": "https://localhost:8080/"
        },
        "id": "MZMSEQWqDggQ",
        "outputId": "e4534f24-a773-41ec-c4b1-af25a1cbc81a"
      },
      "execution_count": null,
      "outputs": [
        {
          "output_type": "stream",
          "name": "stdout",
          "text": [
            "[70 80 90]\n"
          ]
        }
      ]
    },
    {
      "cell_type": "code",
      "source": [
        "arr1 = np.array([[10,20,30,40,50],[60,70,80,90,100]]) # want to print 10,20,30\n",
        "print(arr1[0,:3]) # is equal to 0,0:3"
      ],
      "metadata": {
        "colab": {
          "base_uri": "https://localhost:8080/"
        },
        "id": "-pBF2cOrDnpM",
        "outputId": "7a663525-9179-4dc0-bf12-ed16b5fa1ec5"
      },
      "execution_count": null,
      "outputs": [
        {
          "output_type": "stream",
          "name": "stdout",
          "text": [
            "[10 20 30]\n"
          ]
        }
      ]
    },
    {
      "cell_type": "code",
      "source": [],
      "metadata": {
        "id": "uGqpDv92ETHl"
      },
      "execution_count": null,
      "outputs": []
    },
    {
      "cell_type": "markdown",
      "source": [
        "#DATA TYPES IN NUMPY\n",
        "\n",
        "\n",
        "* i - integer\n",
        "* b - bool\n",
        "* u - unsigned interger\n",
        "* f - float\n",
        "* c - complex\n",
        "* m - timedelta\n",
        "* M -datetime\n",
        "* o -Object\n",
        "* S -String\n",
        "* V fixed chunk of memory\n",
        "* U - unicode\n",
        "\n",
        "\n"
      ],
      "metadata": {
        "id": "SI7pb5QyYekB"
      }
    },
    {
      "cell_type": "markdown",
      "source": [
        "## checking data type"
      ],
      "metadata": {
        "id": "mBiBk-snZnJW"
      }
    },
    {
      "cell_type": "code",
      "source": [
        "arr1 = np.array([[10,20,30,40,50],[60,70,80,90,100]]) # want to print 70,80,90\n",
        "type(arr1)"
      ],
      "metadata": {
        "colab": {
          "base_uri": "https://localhost:8080/"
        },
        "id": "9qmr-t98ZArJ",
        "outputId": "de6a1266-d2a8-47a3-d7f1-842f1930db23"
      },
      "execution_count": null,
      "outputs": [
        {
          "output_type": "execute_result",
          "data": {
            "text/plain": [
              "numpy.ndarray"
            ]
          },
          "metadata": {},
          "execution_count": 27
        }
      ]
    },
    {
      "cell_type": "code",
      "source": [
        "arr.dtype"
      ],
      "metadata": {
        "colab": {
          "base_uri": "https://localhost:8080/"
        },
        "id": "up19PSJmZhPq",
        "outputId": "4da78e99-4b5f-4128-9604-9ac9cc7e886a"
      },
      "execution_count": null,
      "outputs": [
        {
          "output_type": "execute_result",
          "data": {
            "text/plain": [
              "dtype('int64')"
            ]
          },
          "metadata": {},
          "execution_count": 28
        }
      ]
    },
    {
      "cell_type": "code",
      "source": [
        "arr2 =np.array(['Hello','Kaise','Ho'])\n",
        "arr2.dtype"
      ],
      "metadata": {
        "colab": {
          "base_uri": "https://localhost:8080/"
        },
        "id": "YW812EhrZldl",
        "outputId": "68d9d431-ea45-47b6-b949-2d838b7bd723"
      },
      "execution_count": null,
      "outputs": [
        {
          "output_type": "execute_result",
          "data": {
            "text/plain": [
              "dtype('<U5')"
            ]
          },
          "metadata": {},
          "execution_count": 30
        }
      ]
    },
    {
      "cell_type": "code",
      "source": [],
      "metadata": {
        "id": "cbxAU4YFZ9_X"
      },
      "execution_count": null,
      "outputs": []
    },
    {
      "cell_type": "markdown",
      "source": [
        "## creating array with defined data type"
      ],
      "metadata": {
        "id": "kCxtNiAwaitN"
      }
    },
    {
      "cell_type": "code",
      "source": [
        "arr3 = np.array([1,2,3,4,5] , dtype ='S')\n",
        "print(arr3.dtype )\n",
        "print(\"__________\")\n",
        "arr3"
      ],
      "metadata": {
        "colab": {
          "base_uri": "https://localhost:8080/"
        },
        "id": "nMdYy2cPatXw",
        "outputId": "619d2775-d7aa-4a69-f38b-c4264df7ef7b"
      },
      "execution_count": null,
      "outputs": [
        {
          "output_type": "stream",
          "name": "stdout",
          "text": [
            "|S1\n",
            "__________\n"
          ]
        },
        {
          "output_type": "execute_result",
          "data": {
            "text/plain": [
              "array([b'1', b'2', b'3', b'4', b'5'], dtype='|S1')"
            ]
          },
          "metadata": {},
          "execution_count": 34
        }
      ]
    },
    {
      "cell_type": "code",
      "source": [],
      "metadata": {
        "id": "MjkwOn0RazNV"
      },
      "execution_count": null,
      "outputs": []
    },
    {
      "cell_type": "markdown",
      "source": [
        "##creating an array with data type 4 bytes interger\n",
        "\n",
        "* int 32 is 4 bytes"
      ],
      "metadata": {
        "id": "N_QXvuwtbP0-"
      }
    },
    {
      "cell_type": "code",
      "source": [
        "arr4 = np.array ([1,2,3,4,5],dtype ='i4')\n",
        "print(arr4)\n",
        "arr4.dtype"
      ],
      "metadata": {
        "colab": {
          "base_uri": "https://localhost:8080/"
        },
        "id": "NspjloFLbUGr",
        "outputId": "594f5194-e5b0-4f35-e940-a952ed081d16"
      },
      "execution_count": null,
      "outputs": [
        {
          "output_type": "stream",
          "name": "stdout",
          "text": [
            "[1 2 3 4 5]\n"
          ]
        },
        {
          "output_type": "execute_result",
          "data": {
            "text/plain": [
              "dtype('int32')"
            ]
          },
          "metadata": {},
          "execution_count": 41
        }
      ]
    },
    {
      "cell_type": "code",
      "source": [],
      "metadata": {
        "id": "M4CWyGmpbu04"
      },
      "execution_count": null,
      "outputs": []
    },
    {
      "cell_type": "markdown",
      "source": [
        "#numpy array shape 2d array"
      ],
      "metadata": {
        "id": "pe9Bp0bMcX1O"
      }
    },
    {
      "cell_type": "code",
      "source": [
        "arr5 = np.array([[10,20,30,40,50],[25,35,45,65,55]])\n",
        "print(arr5.shape) #2,4 means 2 nested arr and each arr has 5 data"
      ],
      "metadata": {
        "colab": {
          "base_uri": "https://localhost:8080/"
        },
        "id": "D5WPFfjBcZaR",
        "outputId": "563c1a18-c1dd-4cfd-e4f3-cb8b6b937852"
      },
      "execution_count": null,
      "outputs": [
        {
          "output_type": "stream",
          "name": "stdout",
          "text": [
            "(2, 5)\n"
          ]
        }
      ]
    },
    {
      "cell_type": "code",
      "source": [
        "arr5 = np.array([[10,20,40,50],[255,45,65,55]])\n",
        "print(arr5.shape) #2,4"
      ],
      "metadata": {
        "colab": {
          "base_uri": "https://localhost:8080/"
        },
        "id": "Xc_tOOMHc_oy",
        "outputId": "5dd9dd04-1f4f-4796-f324-592bf959b77b"
      },
      "execution_count": null,
      "outputs": [
        {
          "output_type": "stream",
          "name": "stdout",
          "text": [
            "(2, 4)\n"
          ]
        }
      ]
    },
    {
      "cell_type": "code",
      "source": [
        "arr5 = np.array([[10,20,40,50],[255,45,65,55],[1,2,3,6]])\n",
        "print(arr5.shape) #3,4"
      ],
      "metadata": {
        "colab": {
          "base_uri": "https://localhost:8080/"
        },
        "id": "ur9h5q2BdVit",
        "outputId": "125f7466-ac2e-4d5e-9da4-f020bb548455"
      },
      "execution_count": null,
      "outputs": [
        {
          "output_type": "stream",
          "name": "stdout",
          "text": [
            "(3, 4)\n"
          ]
        }
      ]
    },
    {
      "cell_type": "code",
      "source": [
        "arr5 = np.array([[[10,20,40,50],[255,45,65,55],[1,2,3,6]]])\n",
        "print(arr5.shape) #1,3,4\n",
        "# it telling we have 1 3rd and 3 nested arr and 4 data"
      ],
      "metadata": {
        "colab": {
          "base_uri": "https://localhost:8080/"
        },
        "id": "eYryHZMmdext",
        "outputId": "3198e7c4-c382-4c3c-e6e8-91d3fb002f1c"
      },
      "execution_count": null,
      "outputs": [
        {
          "output_type": "stream",
          "name": "stdout",
          "text": [
            "(1, 3, 4)\n"
          ]
        }
      ]
    },
    {
      "cell_type": "code",
      "source": [],
      "metadata": {
        "id": "skVnWDEKf_8h"
      },
      "execution_count": null,
      "outputs": []
    },
    {
      "cell_type": "markdown",
      "source": [
        "#Joining Numpy array"
      ],
      "metadata": {
        "id": "qeax7pd7gl0P"
      }
    },
    {
      "cell_type": "code",
      "source": [
        "arrA = np.array([1,2,3])\n",
        "arrB = np.array([4,5,6])\n",
        "\n",
        "result = np.concatenate((arrA , arrB))\n",
        "result"
      ],
      "metadata": {
        "colab": {
          "base_uri": "https://localhost:8080/"
        },
        "id": "r6mmo4tMgoK1",
        "outputId": "de4c4511-cd93-407f-e97a-636dce050f53"
      },
      "execution_count": null,
      "outputs": [
        {
          "output_type": "execute_result",
          "data": {
            "text/plain": [
              "array([1, 2, 3, 4, 5, 6])"
            ]
          },
          "metadata": {},
          "execution_count": 57
        }
      ]
    },
    {
      "cell_type": "code",
      "source": [
        "arrA = np.array([[1,2,3],[5,6,9,]])\n",
        "arrB = np.array([[4,5,6],[10,20,30]])\n",
        "\n",
        "result = np.concatenate((arrA , arrB), axis =0)\n",
        "result"
      ],
      "metadata": {
        "colab": {
          "base_uri": "https://localhost:8080/"
        },
        "id": "GqPUnAREg68W",
        "outputId": "4fef50e4-a774-4ada-8fd2-8c5a374da37b"
      },
      "execution_count": null,
      "outputs": [
        {
          "output_type": "execute_result",
          "data": {
            "text/plain": [
              "array([[ 1,  2,  3],\n",
              "       [ 5,  6,  9],\n",
              "       [ 4,  5,  6],\n",
              "       [10, 20, 30]])"
            ]
          },
          "metadata": {},
          "execution_count": 61
        }
      ]
    },
    {
      "cell_type": "code",
      "source": [
        "arrA = np.array([[1,2,3],[5,6,9,]])\n",
        "arrB = np.array([[4,5,6],[10,20,30]])\n",
        "\n",
        "result = np.concatenate((arrA , arrB), axis =1)\n",
        "result"
      ],
      "metadata": {
        "colab": {
          "base_uri": "https://localhost:8080/"
        },
        "id": "aUn3ZuMNhhfl",
        "outputId": "a442f4a9-3c6e-4766-c17d-b532b60a2dc8"
      },
      "execution_count": null,
      "outputs": [
        {
          "output_type": "execute_result",
          "data": {
            "text/plain": [
              "array([[ 1,  2,  3,  4,  5,  6],\n",
              "       [ 5,  6,  9, 10, 20, 30]])"
            ]
          },
          "metadata": {},
          "execution_count": 62
        }
      ]
    },
    {
      "cell_type": "code",
      "source": [],
      "metadata": {
        "id": "LAOk67aci4fW"
      },
      "execution_count": null,
      "outputs": []
    },
    {
      "cell_type": "markdown",
      "source": [
        "#Spliting arrays"
      ],
      "metadata": {
        "id": "QxTJspS-jnpV"
      }
    },
    {
      "cell_type": "code",
      "source": [
        "arr = np.array([10,20,30,40,50])\n",
        "splitting_arr = np.array_split(arr ,2) # here im saying make this inro 2 paRTS\n",
        "splitting_arr"
      ],
      "metadata": {
        "colab": {
          "base_uri": "https://localhost:8080/"
        },
        "id": "exfTctwWjqSC",
        "outputId": "56b20008-ffa8-4620-d9cd-f3f789e9b4a3"
      },
      "execution_count": null,
      "outputs": [
        {
          "output_type": "execute_result",
          "data": {
            "text/plain": [
              "[array([10, 20, 30]), array([40, 50])]"
            ]
          },
          "metadata": {},
          "execution_count": 69
        }
      ]
    },
    {
      "cell_type": "markdown",
      "source": [],
      "metadata": {
        "id": "XCOAGTF2kcqG"
      }
    },
    {
      "cell_type": "code",
      "source": [
        "\n",
        "arr = np.array([10,20,30,40,50,60])\n",
        "splitting_arr = np.array_split(arr ,3) # here im saying make this inro 3 paRTS\n",
        "splitting_arr"
      ],
      "metadata": {
        "colab": {
          "base_uri": "https://localhost:8080/"
        },
        "id": "UJGvgovFj7ln",
        "outputId": "e373d440-2885-4ec0-9c9e-90673d8f2307"
      },
      "execution_count": null,
      "outputs": [
        {
          "output_type": "execute_result",
          "data": {
            "text/plain": [
              "[array([10, 20]), array([30, 40]), array([50, 60])]"
            ]
          },
          "metadata": {},
          "execution_count": 68
        }
      ]
    },
    {
      "cell_type": "code",
      "source": [],
      "metadata": {
        "id": "ctlZ02TykJGJ"
      },
      "execution_count": null,
      "outputs": []
    },
    {
      "cell_type": "code",
      "source": [],
      "metadata": {
        "id": "OYEZTN3WouKu"
      },
      "execution_count": null,
      "outputs": []
    },
    {
      "cell_type": "code",
      "source": [],
      "metadata": {
        "id": "1w-_r1z2ouHN"
      },
      "execution_count": null,
      "outputs": []
    },
    {
      "cell_type": "markdown",
      "source": [
        "#ravel and flatten\n",
        "\n",
        "* it convert multi d array into single d arr\n",
        "\n",
        "##both do the same thing\n",
        "\n",
        "1. flatten():\n",
        "Returns a copy of the array collapsed into one dimension.\n",
        "Always returns a copy, so it might consume more memory.\n",
        "Guarantees that changes made to the flattened array won't affect the original array.\n",
        "2.  ravel():\n",
        "Returns a flattened one-dimensional array, but it may return a view of the original array instead of a copy if possible.\n",
        "If the returned array is a view, modifying it will modify the original array.\n",
        "Generally, ravel() is more memory-efficient than flatten() because it doesn't create a copy if it's not necessary. ---"
      ],
      "metadata": {
        "id": "re5UNZt8lPfe"
      }
    },
    {
      "cell_type": "code",
      "source": [
        "data = np.array([[[1,0,2,3,5],[1,2,3,4,5],[5,4,3,2,1],[9,8,7,6,5]]])\n",
        "print(data.dtype)\n",
        "print('Dimension of :',data.ndim)\n",
        "convert = data.ravel() #it converted into one\n",
        "print(\"After convert :\",convert)"
      ],
      "metadata": {
        "colab": {
          "base_uri": "https://localhost:8080/"
        },
        "id": "AQAyqPChlXTG",
        "outputId": "6ccfa72e-ecd3-4faf-95dc-f6f31fd406d5"
      },
      "execution_count": null,
      "outputs": [
        {
          "output_type": "stream",
          "name": "stdout",
          "text": [
            "int64\n",
            "Dimension of : 3\n",
            "After convert : [1 0 2 3 5 1 2 3 4 5 5 4 3 2 1 9 8 7 6 5]\n"
          ]
        }
      ]
    },
    {
      "cell_type": "code",
      "source": [
        "|"
      ],
      "metadata": {
        "id": "pO9W0uFkln5l"
      },
      "execution_count": null,
      "outputs": []
    },
    {
      "cell_type": "code",
      "source": [
        "data = np.array([[[1,0,2,3,5],[1,2,3,4,5],[5,4,3,2,1],[9,8,7,6,5]]])\n",
        "print(data.dtype)\n",
        "print('Dimension of :',data.ndim)\n",
        "convert = data.flatten() #it converted into one\n",
        "print(\"After convert :\",convert)"
      ],
      "metadata": {
        "colab": {
          "base_uri": "https://localhost:8080/"
        },
        "id": "772Zr1jimqQH",
        "outputId": "90bde44c-67cb-4ff0-a457-3b28bba857c1"
      },
      "execution_count": null,
      "outputs": [
        {
          "output_type": "stream",
          "name": "stdout",
          "text": [
            "int64\n",
            "Dimension of : 3\n",
            "After convert : [1 0 2 3 5 1 2 3 4 5 5 4 3 2 1 9 8 7 6 5]\n"
          ]
        }
      ]
    },
    {
      "cell_type": "code",
      "source": [],
      "metadata": {
        "colab": {
          "base_uri": "https://localhost:8080/"
        },
        "id": "dPAI000gmuQg",
        "outputId": "83d7daf8-a319-44c7-f457-cf2debff5073"
      },
      "execution_count": null,
      "outputs": [
        {
          "output_type": "execute_result",
          "data": {
            "text/plain": [
              "array([[[1, 0, 2, 3, 5],\n",
              "        [1, 2, 3, 4, 5],\n",
              "        [5, 4, 3, 2, 1],\n",
              "        [9, 8, 7, 6, 5]]])"
            ]
          },
          "metadata": {},
          "execution_count": 85
        }
      ]
    },
    {
      "cell_type": "code",
      "source": [],
      "metadata": {
        "id": "y18wFvs4myMm"
      },
      "execution_count": null,
      "outputs": []
    },
    {
      "cell_type": "markdown",
      "source": [
        "#Unique()\n",
        "\n",
        "##remove duplication"
      ],
      "metadata": {
        "id": "oYBAhOfYo3-8"
      }
    },
    {
      "cell_type": "code",
      "source": [
        "arr = np.array([1,2,3,5,4,6,8,9,7,4,5,1,1,10,2,0,1,2,0,1,20,1,2,0,1,2,5,4,8,7,9,5,4,2,1,4,62,4,2,4,81,5,1,0,10,50,0,50,51])\n",
        "\n",
        "print(arr)\n",
        "\n",
        "distinct_value = np.unique(arr)\n",
        "print(\"_____________\")\n",
        "print(\"The unique values are :\",distinct_value)"
      ],
      "metadata": {
        "colab": {
          "base_uri": "https://localhost:8080/"
        },
        "id": "7qJOsLo2o5pD",
        "outputId": "03750fb2-1d18-4689-931c-659551b5f396"
      },
      "execution_count": null,
      "outputs": [
        {
          "output_type": "stream",
          "name": "stdout",
          "text": [
            "[ 1  2  3  5  4  6  8  9  7  4  5  1  1 10  2  0  1  2  0  1 20  1  2  0\n",
            "  1  2  5  4  8  7  9  5  4  2  1  4 62  4  2  4 81  5  1  0 10 50  0 50\n",
            " 51]\n",
            "_____________\n",
            "The unique values are : [ 0  1  2  3  4  5  6  7  8  9 10 20 50 51 62 81]\n"
          ]
        }
      ]
    },
    {
      "cell_type": "code",
      "source": [
        "arr = np.array([1,2,3,5,4,6,8,9,7,4,5,1,1,10,2,0,1,2,0,1,20,1,2,0,1,2,5,4,8,7,9,5,4,2,1,4,62,4,2,4,81,5,1,0,10,50,0,50,51])\n",
        "\n",
        "print(arr)\n",
        "\n",
        "distinct_value = np.unique(arr, return_index=True)\n",
        "print(\"_____________\")\n",
        "print(\"The unique values are :\",distinct_value)"
      ],
      "metadata": {
        "colab": {
          "base_uri": "https://localhost:8080/"
        },
        "id": "kvCQuPmjpUhr",
        "outputId": "8e55c727-5b00-464b-fdae-1f154dd3a548"
      },
      "execution_count": null,
      "outputs": [
        {
          "output_type": "stream",
          "name": "stdout",
          "text": [
            "[ 1  2  3  5  4  6  8  9  7  4  5  1  1 10  2  0  1  2  0  1 20  1  2  0\n",
            "  1  2  5  4  8  7  9  5  4  2  1  4 62  4  2  4 81  5  1  0 10 50  0 50\n",
            " 51]\n",
            "_____________\n",
            "The unique values are : (array([ 0,  1,  2,  3,  4,  5,  6,  7,  8,  9, 10, 20, 50, 51, 62, 81]), array([15,  0,  1,  2,  4,  3,  5,  8,  6,  7, 13, 20, 45, 48, 36, 40]))\n"
          ]
        }
      ]
    },
    {
      "cell_type": "code",
      "source": [
        "new_arr = np.array([10,20,30,40,50,10,25,36,30,40])\n",
        "print(\"The array before Unique:\",new_arr)\n",
        "print(\"-------------------------------\")\n",
        "convert = np.unique(new_arr)\n",
        "print(\"after new clearning :\",convert)"
      ],
      "metadata": {
        "colab": {
          "base_uri": "https://localhost:8080/"
        },
        "id": "_i8Y7EI1qFCe",
        "outputId": "0f4da309-bf47-4f39-b363-cd1f103eedff"
      },
      "execution_count": null,
      "outputs": [
        {
          "output_type": "stream",
          "name": "stdout",
          "text": [
            "The array before Unique: [10 20 30 40 50 10 25 36 30 40]\n",
            "-------------------------------\n",
            "after new clearning : [10 20 25 30 36 40 50]\n"
          ]
        }
      ]
    },
    {
      "cell_type": "code",
      "source": [
        "new_arr = np.array([10,20,30,40,50,10,25,36,30,40])\n",
        "print(\"The array before Unique:\",new_arr)\n",
        "print(\"-------------------------------\")\n",
        "convert = np.unique(new_arr, return_index = True)\n",
        "print(\"after new clearning :\",convert,)"
      ],
      "metadata": {
        "colab": {
          "base_uri": "https://localhost:8080/"
        },
        "id": "2F496UPRqv0o",
        "outputId": "04c59575-8fa6-4a9e-eb33-0cadf4015db2"
      },
      "execution_count": null,
      "outputs": [
        {
          "output_type": "stream",
          "name": "stdout",
          "text": [
            "The array before Unique: [10 20 30 40 50 10 25 36 30 40]\n",
            "-------------------------------\n",
            "after new clearning : (array([10, 20, 25, 30, 36, 40, 50]), array([0, 1, 6, 2, 7, 3, 4]))\n"
          ]
        }
      ]
    },
    {
      "cell_type": "code",
      "source": [
        "new_arr = np.array([10,20,30,40,50,10,25,36,30,40])\n",
        "print(\"The array before Unique:\",new_arr)\n",
        "print(\"-------------------------------\")\n",
        "convert = np.unique(new_arr, return_counts=True)\n",
        "print(\"after new clearning :\",convert,)"
      ],
      "metadata": {
        "colab": {
          "base_uri": "https://localhost:8080/"
        },
        "id": "96IQtw8Cq5rJ",
        "outputId": "85135ee2-820b-483e-9ab0-c59ff1a2a015"
      },
      "execution_count": null,
      "outputs": [
        {
          "output_type": "stream",
          "name": "stdout",
          "text": [
            "The array before Unique: [10 20 30 40 50 10 25 36 30 40]\n",
            "-------------------------------\n",
            "after new clearning : (array([10, 20, 25, 30, 36, 40, 50]), array([2, 1, 1, 2, 1, 2, 1]))\n"
          ]
        }
      ]
    },
    {
      "cell_type": "code",
      "source": [
        "new_arr"
      ],
      "metadata": {
        "colab": {
          "base_uri": "https://localhost:8080/"
        },
        "id": "z1g67gatrIMF",
        "outputId": "d453da53-7113-4a7d-e6df-1abd3a26dbba"
      },
      "execution_count": null,
      "outputs": [
        {
          "output_type": "execute_result",
          "data": {
            "text/plain": [
              "array([10, 20, 30, 40, 50, 10, 25, 36, 30, 40])"
            ]
          },
          "metadata": {},
          "execution_count": 98
        }
      ]
    },
    {
      "cell_type": "markdown",
      "source": [
        "#delete"
      ],
      "metadata": {
        "id": "1QXQTg6brg13"
      }
    },
    {
      "cell_type": "code",
      "source": [
        "np.delete(new_arr,1) # remove 20"
      ],
      "metadata": {
        "colab": {
          "base_uri": "https://localhost:8080/"
        },
        "id": "S3aqjqswrf3U",
        "outputId": "7a2655e3-701f-4aeb-f190-3a603871dd97"
      },
      "execution_count": null,
      "outputs": [
        {
          "output_type": "execute_result",
          "data": {
            "text/plain": [
              "array([10, 30, 40, 50, 10, 25, 36, 30, 40])"
            ]
          },
          "metadata": {},
          "execution_count": 102
        }
      ]
    },
    {
      "cell_type": "code",
      "source": [
        "x = np.array([[10,20,30,40,50],[60,50,10,20,30]])\n",
        "print(x)\n",
        "c =np.delete(x,1, axis =1) #column remove from each index 1 index values\n",
        "c"
      ],
      "metadata": {
        "colab": {
          "base_uri": "https://localhost:8080/"
        },
        "id": "hGC3zr43rs_D",
        "outputId": "5a0f4fd2-3b22-43d1-83e5-f2d4d79ffe88"
      },
      "execution_count": null,
      "outputs": [
        {
          "output_type": "stream",
          "name": "stdout",
          "text": [
            "[[10 20 30 40 50]\n",
            " [60 50 10 20 30]]\n"
          ]
        },
        {
          "output_type": "execute_result",
          "data": {
            "text/plain": [
              "array([[10, 30, 40, 50],\n",
              "       [60, 10, 20, 30]])"
            ]
          },
          "metadata": {},
          "execution_count": 107
        }
      ]
    },
    {
      "cell_type": "code",
      "source": [
        "x = np.array([[10,20,30,40,50],[60,50,10,20,30]])\n",
        "print(x)\n",
        "c =np.delete(x,1, axis =0) # remove row\n",
        "c"
      ],
      "metadata": {
        "colab": {
          "base_uri": "https://localhost:8080/"
        },
        "id": "NKSsfqWbsInf",
        "outputId": "7580eb26-9c1f-482b-dab8-f345b6593ebf"
      },
      "execution_count": null,
      "outputs": [
        {
          "output_type": "stream",
          "name": "stdout",
          "text": [
            "[[10 20 30 40 50]\n",
            " [60 50 10 20 30]]\n"
          ]
        },
        {
          "output_type": "execute_result",
          "data": {
            "text/plain": [
              "array([[10, 20, 30, 40, 50]])"
            ]
          },
          "metadata": {},
          "execution_count": 109
        }
      ]
    },
    {
      "cell_type": "code",
      "source": [],
      "metadata": {
        "id": "LKXvrQkys2EY"
      },
      "execution_count": null,
      "outputs": []
    }
  ]
}