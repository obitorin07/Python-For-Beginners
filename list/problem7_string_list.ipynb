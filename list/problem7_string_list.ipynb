{
 "cells": [
  {
   "cell_type": "markdown",
   "id": "1421b4aa-68b9-4d3c-9760-e7728aad28c8",
   "metadata": {},
   "source": [
    "### \n",
    "🧠 Problem: Character Frequency Counter\n",
    "You are given a paragraph of text stored as a string. Your task is to:\n",
    "\n",
    "Ignore case sensitivity (treat A and a as same).\n",
    "\n",
    "Count how many times each character (a–z) appears in the text (ignore spaces, punctuation, numbers).\n",
    "\n",
    "Print the characters and their counts in alphabetical order."
   ]
  },
  {
   "cell_type": "code",
   "execution_count": 3,
   "id": "7df9a0c5-3cae-4b83-b8c3-11f16d4bc2ad",
   "metadata": {},
   "outputs": [
    {
     "name": "stdout",
     "output_type": "stream",
     "text": [
      "A:5\n",
      "C:2\n",
      "D:2\n",
      "E:9\n",
      "F:4\n",
      "G:1\n",
      "I:7\n",
      "K:1\n",
      "L:3\n",
      "M:1\n",
      "N:6\n",
      "O:3\n",
      "P:2\n",
      "R:2\n",
      "S:3\n",
      "T:2\n",
      "U:2\n",
      "Y:1\n"
     ]
    }
   ],
   "source": [
    "text = \"Anime is life. Naruto and Luffy are legends! One Piece is peak fiction.\"\n",
    "# text = 'kiraa'\n",
    "\n",
    "import re\n",
    "\n",
    "pattern =  re.findall(r'[a-z]' , text.lower())\n",
    "emp_dict = {}\n",
    "\n",
    "for char in pattern:\n",
    "    if char not in emp_dict:\n",
    "        emp_dict[char] = 1\n",
    "    else:\n",
    "        emp_dict[char] += 1\n",
    "sorted_dict = dict(sorted(emp_dict.items()))\n",
    "for chars, val in sorted_dict.items():\n",
    "    print(f\"{chars.upper()}:{val}\")\n"
   ]
  },
  {
   "cell_type": "markdown",
   "id": "3d5ec410-71c9-4ebd-aeb0-09acb68dc567",
   "metadata": {},
   "source": [
    "###\n",
    "\n",
    "💥 Problem: Word Frequency Counter (with Sorting)\n",
    "🎯 Task:\n",
    "You're given a block of text. Your goal is to:\n",
    "\n",
    "Remove all punctuation.\n",
    "\n",
    "Convert everything to lowercase.\n",
    "\n",
    "Count how many times each word appears.\n",
    "\n",
    "Print the words sorted by frequency (high to low).\n",
    "\n"
   ]
  },
  {
   "cell_type": "code",
   "execution_count": 42,
   "id": "7cb9bb5d-f2c3-4057-8928-8acd56ea1c3d",
   "metadata": {},
   "outputs": [
    {
     "data": {
      "text/plain": [
       "{'naruto': 2,\n",
       " 'is': 2,\n",
       " 'luffy': 2,\n",
       " 'the': 1,\n",
       " 'best': 1,\n",
       " 'awesome': 1,\n",
       " 'and': 1,\n",
       " 'are': 1,\n",
       " 'legends': 1}"
      ]
     },
     "execution_count": 42,
     "metadata": {},
     "output_type": "execute_result"
    }
   ],
   "source": [
    "text = \"Naruto is the best. Luffy is awesome! Naruto and Luffy are legends\"\n",
    "pattern = re.findall(r'[a-z]+', text.lower()) \n",
    "empt_dict = {}\n",
    "for word in pattern:\n",
    "    if word not in empt_dict:\n",
    "        empt_dict[word] = 1 \n",
    "    else:\n",
    "        empt_dict[word] += 1 \n",
    "sorted_values = dict(sorted(empt_dict.items(),key = lambda x : x[1],reverse=True))\n",
    "sorted_values"
   ]
  },
  {
   "cell_type": "code",
   "execution_count": null,
   "id": "3a2c541d-1b4b-4547-ba19-c3420e52911d",
   "metadata": {},
   "outputs": [],
   "source": []
  },
  {
   "cell_type": "code",
   "execution_count": null,
   "id": "f9fa05d6-15fe-4829-92d6-db134735f01b",
   "metadata": {},
   "outputs": [],
   "source": [
    "data = lambda x : x if \"naruto\" in "
   ]
  }
 ],
 "metadata": {
  "kernelspec": {
   "display_name": "Python 3 (ipykernel)",
   "language": "python",
   "name": "python3"
  },
  "language_info": {
   "codemirror_mode": {
    "name": "ipython",
    "version": 3
   },
   "file_extension": ".py",
   "mimetype": "text/x-python",
   "name": "python",
   "nbconvert_exporter": "python",
   "pygments_lexer": "ipython3",
   "version": "3.12.7"
  }
 },
 "nbformat": 4,
 "nbformat_minor": 5
}
