{
 "cells": [
  {
   "cell_type": "markdown",
   "id": "03bb3121-a0d1-4e2c-b0a3-e9dd3793976e",
   "metadata": {},
   "source": [
    "# find pi value "
   ]
  },
  {
   "cell_type": "code",
   "execution_count": 7,
   "id": "a4e1b029-b3a8-4500-a531-44447e714fd5",
   "metadata": {},
   "outputs": [
    {
     "name": "stdin",
     "output_type": "stream",
     "text": [
      "Enter The Value: 4\n"
     ]
    },
    {
     "data": {
      "text/plain": [
       "'The Value of 4.0 is 12.56'"
      ]
     },
     "execution_count": 7,
     "metadata": {},
     "output_type": "execute_result"
    }
   ],
   "source": [
    "def pi_value (x):\n",
    "    y =x*3.14\n",
    "    return f\"The Value of {x} is {y}\"\n",
    "x = float(input(\"Enter The Value:\"))\n",
    "pi_value(x)"
   ]
  },
  {
   "cell_type": "code",
   "execution_count": 5,
   "id": "59631811-64e6-4694-a363-0948c9deb183",
   "metadata": {},
   "outputs": [
    {
     "data": {
      "text/plain": [
       "'The Value of 2 is 6.28'"
      ]
     },
     "execution_count": 5,
     "metadata": {},
     "output_type": "execute_result"
    }
   ],
   "source": []
  },
  {
   "cell_type": "code",
   "execution_count": null,
   "id": "c4d14558-ae7a-40e1-aea6-448c0cddf821",
   "metadata": {},
   "outputs": [],
   "source": []
  }
 ],
 "metadata": {
  "kernelspec": {
   "display_name": "Python 3 (ipykernel)",
   "language": "python",
   "name": "python3"
  },
  "language_info": {
   "codemirror_mode": {
    "name": "ipython",
    "version": 3
   },
   "file_extension": ".py",
   "mimetype": "text/x-python",
   "name": "python",
   "nbconvert_exporter": "python",
   "pygments_lexer": "ipython3",
   "version": "3.11.7"
  }
 },
 "nbformat": 4,
 "nbformat_minor": 5
}
