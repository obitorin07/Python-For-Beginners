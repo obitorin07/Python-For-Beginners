{
 "cells": [
  {
   "cell_type": "code",
   "execution_count": 11,
   "id": "067ad87f-d51e-4d74-8a2f-0c79724154b8",
   "metadata": {},
   "outputs": [],
   "source": [
    "import zipfile\n",
    "file ='SQL Quiz.zip'\n",
    "\n",
    "unzip = zipfile.ZipFile(file)\n",
    "unzip.extractall()\n",
    "unzip.close()"
   ]
  },
  {
   "cell_type": "code",
   "execution_count": null,
   "id": "37c89f88-2ff0-430e-883b-3ca3b14c02fc",
   "metadata": {},
   "outputs": [],
   "source": []
  },
  {
   "cell_type": "code",
   "execution_count": null,
   "id": "6fd4cac5-5f81-4773-8faf-62c41d740fb2",
   "metadata": {},
   "outputs": [],
   "source": []
  }
 ],
 "metadata": {
  "kernelspec": {
   "display_name": "Python 3 (ipykernel)",
   "language": "python",
   "name": "python3"
  },
  "language_info": {
   "codemirror_mode": {
    "name": "ipython",
    "version": 3
   },
   "file_extension": ".py",
   "mimetype": "text/x-python",
   "name": "python",
   "nbconvert_exporter": "python",
   "pygments_lexer": "ipython3",
   "version": "3.11.7"
  }
 },
 "nbformat": 4,
 "nbformat_minor": 5
}
