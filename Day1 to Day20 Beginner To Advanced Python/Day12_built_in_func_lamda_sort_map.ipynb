{
  "nbformat": 4,
  "nbformat_minor": 0,
  "metadata": {
    "colab": {
      "provenance": []
    },
    "kernelspec": {
      "name": "python3",
      "display_name": "Python 3"
    },
    "language_info": {
      "name": "python"
    }
  },
  "cells": [
    {
      "cell_type": "code",
      "execution_count": null,
      "metadata": {
        "id": "AeSC8tFhDvhY"
      },
      "outputs": [],
      "source": []
    },
    {
      "cell_type": "markdown",
      "source": [
        "#Sorted function"
      ],
      "metadata": {
        "id": "G-YsL3lgFXN-"
      }
    },
    {
      "cell_type": "code",
      "source": [
        "animal = [\n",
        "    \"Lion\",\n",
        "    \"Elephant\",\n",
        "    \"Tiger\",\n",
        "    \"Giraffe\",\n",
        "    \"Bear\",\n",
        "    \"Zebra\",\n",
        "    \"Wolf\",\n",
        "    \"Dolphin\",\n",
        "    \"Eagle\",\n",
        "    \"Penguin\",\n",
        "    \"Gorilla\",\n",
        "    \"Kangaroo\",\n",
        "    \"Cheetah\",\n",
        "    \"Panda\",\n",
        "    \"Rhino\",\n",
        "    \"Hippopotamus\",\n",
        "    \"Octopus\",\n",
        "    \"Koala\",\n",
        "    \"Crocodile\",\n",
        "    \"Orangutan\"\n",
        "]\n",
        "\n",
        "animal"
      ],
      "metadata": {
        "colab": {
          "base_uri": "https://localhost:8080/"
        },
        "id": "N528vZP8FbKP",
        "outputId": "484f63e6-ae95-4739-da66-34604b7d40ae"
      },
      "execution_count": 1,
      "outputs": [
        {
          "output_type": "execute_result",
          "data": {
            "text/plain": [
              "['Lion',\n",
              " 'Elephant',\n",
              " 'Tiger',\n",
              " 'Giraffe',\n",
              " 'Bear',\n",
              " 'Zebra',\n",
              " 'Wolf',\n",
              " 'Dolphin',\n",
              " 'Eagle',\n",
              " 'Penguin',\n",
              " 'Gorilla',\n",
              " 'Kangaroo',\n",
              " 'Cheetah',\n",
              " 'Panda',\n",
              " 'Rhino',\n",
              " 'Hippopotamus',\n",
              " 'Octopus',\n",
              " 'Koala',\n",
              " 'Crocodile',\n",
              " 'Orangutan']"
            ]
          },
          "metadata": {},
          "execution_count": 1
        }
      ]
    },
    {
      "cell_type": "code",
      "source": [],
      "metadata": {
        "id": "qh5lRRFOG19n"
      },
      "execution_count": null,
      "outputs": []
    },
    {
      "cell_type": "code",
      "source": [
        "animal.sort()"
      ],
      "metadata": {
        "id": "8jSpl-lvFhDj"
      },
      "execution_count": 2,
      "outputs": []
    },
    {
      "cell_type": "code",
      "source": [
        "animal"
      ],
      "metadata": {
        "colab": {
          "base_uri": "https://localhost:8080/"
        },
        "id": "iWb-4s-UFkAc",
        "outputId": "eab77b27-f423-4b23-c31b-bb38c4c91b21"
      },
      "execution_count": 3,
      "outputs": [
        {
          "output_type": "execute_result",
          "data": {
            "text/plain": [
              "['Bear',\n",
              " 'Cheetah',\n",
              " 'Crocodile',\n",
              " 'Dolphin',\n",
              " 'Eagle',\n",
              " 'Elephant',\n",
              " 'Giraffe',\n",
              " 'Gorilla',\n",
              " 'Hippopotamus',\n",
              " 'Kangaroo',\n",
              " 'Koala',\n",
              " 'Lion',\n",
              " 'Octopus',\n",
              " 'Orangutan',\n",
              " 'Panda',\n",
              " 'Penguin',\n",
              " 'Rhino',\n",
              " 'Tiger',\n",
              " 'Wolf',\n",
              " 'Zebra']"
            ]
          },
          "metadata": {},
          "execution_count": 3
        }
      ]
    },
    {
      "cell_type": "code",
      "source": [
        "animal.sort(reverse=True)"
      ],
      "metadata": {
        "id": "8sF01CLDFnFE"
      },
      "execution_count": 4,
      "outputs": []
    },
    {
      "cell_type": "code",
      "source": [
        "animal"
      ],
      "metadata": {
        "colab": {
          "base_uri": "https://localhost:8080/"
        },
        "id": "ReD3Gkr2FuZk",
        "outputId": "3c48e913-ecf8-49c5-a965-fc5cf0fc1685"
      },
      "execution_count": 5,
      "outputs": [
        {
          "output_type": "execute_result",
          "data": {
            "text/plain": [
              "['Zebra',\n",
              " 'Wolf',\n",
              " 'Tiger',\n",
              " 'Rhino',\n",
              " 'Penguin',\n",
              " 'Panda',\n",
              " 'Orangutan',\n",
              " 'Octopus',\n",
              " 'Lion',\n",
              " 'Koala',\n",
              " 'Kangaroo',\n",
              " 'Hippopotamus',\n",
              " 'Gorilla',\n",
              " 'Giraffe',\n",
              " 'Elephant',\n",
              " 'Eagle',\n",
              " 'Dolphin',\n",
              " 'Crocodile',\n",
              " 'Cheetah',\n",
              " 'Bear']"
            ]
          },
          "metadata": {},
          "execution_count": 5
        }
      ]
    },
    {
      "cell_type": "code",
      "source": [
        "animal.sort()"
      ],
      "metadata": {
        "id": "jSjzuswJFvjo"
      },
      "execution_count": 6,
      "outputs": []
    },
    {
      "cell_type": "code",
      "source": [
        "animal"
      ],
      "metadata": {
        "colab": {
          "base_uri": "https://localhost:8080/"
        },
        "id": "v_jjTNG2FzZ6",
        "outputId": "30e9c651-bc5d-45b1-b642-fb69ea867019"
      },
      "execution_count": 7,
      "outputs": [
        {
          "output_type": "execute_result",
          "data": {
            "text/plain": [
              "['Bear',\n",
              " 'Cheetah',\n",
              " 'Crocodile',\n",
              " 'Dolphin',\n",
              " 'Eagle',\n",
              " 'Elephant',\n",
              " 'Giraffe',\n",
              " 'Gorilla',\n",
              " 'Hippopotamus',\n",
              " 'Kangaroo',\n",
              " 'Koala',\n",
              " 'Lion',\n",
              " 'Octopus',\n",
              " 'Orangutan',\n",
              " 'Panda',\n",
              " 'Penguin',\n",
              " 'Rhino',\n",
              " 'Tiger',\n",
              " 'Wolf',\n",
              " 'Zebra']"
            ]
          },
          "metadata": {},
          "execution_count": 7
        }
      ]
    },
    {
      "cell_type": "code",
      "source": [
        "sorted(animal)"
      ],
      "metadata": {
        "colab": {
          "base_uri": "https://localhost:8080/"
        },
        "id": "jP-g5GXjF1dS",
        "outputId": "6dfa2185-f1cc-45fe-e4d1-872c2983f1ad"
      },
      "execution_count": 9,
      "outputs": [
        {
          "output_type": "execute_result",
          "data": {
            "text/plain": [
              "['Bear',\n",
              " 'Cheetah',\n",
              " 'Crocodile',\n",
              " 'Dolphin',\n",
              " 'Eagle',\n",
              " 'Elephant',\n",
              " 'Giraffe',\n",
              " 'Gorilla',\n",
              " 'Hippopotamus',\n",
              " 'Kangaroo',\n",
              " 'Koala',\n",
              " 'Lion',\n",
              " 'Octopus',\n",
              " 'Orangutan',\n",
              " 'Panda',\n",
              " 'Penguin',\n",
              " 'Rhino',\n",
              " 'Tiger',\n",
              " 'Wolf',\n",
              " 'Zebra']"
            ]
          },
          "metadata": {},
          "execution_count": 9
        }
      ]
    },
    {
      "cell_type": "code",
      "source": [],
      "metadata": {
        "id": "9HMBrvx2F3Eu"
      },
      "execution_count": null,
      "outputs": []
    },
    {
      "cell_type": "markdown",
      "source": [
        "#difference between Sort() and sorted()\n",
        "##sorted()\n",
        "\n",
        "\n",
        "*   it does not change the real value it just create new variable\n",
        "\n",
        "\n",
        "##sort()\n",
        "\n",
        "*  it change the real value of existing varible\n",
        "\n",
        "\n",
        "\n",
        "\n"
      ],
      "metadata": {
        "id": "-5mIN5zZGiFY"
      }
    },
    {
      "cell_type": "code",
      "source": [
        "animal = [\n",
        "    \"Lion\",\n",
        "    \"Elephant\",\n",
        "    \"Tiger\",\n",
        "    \"Giraffe\",\n",
        "    \"Bear\",\n",
        "    \"Zebra\",\n",
        "    \"Wolf\",\n",
        "    \"Dolphin\",\n",
        "    \"Eagle\",\n",
        "    \"Penguin\",\n",
        "    \"Gorilla\",\n",
        "    \"Kangaroo\",\n",
        "    \"Cheetah\",\n",
        "    \"Panda\",\n",
        "    \"Rhino\",\n",
        "    \"Hippopotamus\",\n",
        "    \"Octopus\",\n",
        "    \"Koala\",\n",
        "    \"Crocodile\",\n",
        "    \"Orangutan\"\n",
        "]\n",
        "\n",
        "animal"
      ],
      "metadata": {
        "colab": {
          "base_uri": "https://localhost:8080/"
        },
        "id": "xF_sryq3Gmhw",
        "outputId": "5c5572d1-f1ee-4b70-e9e0-741acb6aed56"
      },
      "execution_count": 14,
      "outputs": [
        {
          "output_type": "execute_result",
          "data": {
            "text/plain": [
              "['Lion',\n",
              " 'Elephant',\n",
              " 'Tiger',\n",
              " 'Giraffe',\n",
              " 'Bear',\n",
              " 'Zebra',\n",
              " 'Wolf',\n",
              " 'Dolphin',\n",
              " 'Eagle',\n",
              " 'Penguin',\n",
              " 'Gorilla',\n",
              " 'Kangaroo',\n",
              " 'Cheetah',\n",
              " 'Panda',\n",
              " 'Rhino',\n",
              " 'Hippopotamus',\n",
              " 'Octopus',\n",
              " 'Koala',\n",
              " 'Crocodile',\n",
              " 'Orangutan']"
            ]
          },
          "metadata": {},
          "execution_count": 14
        }
      ]
    },
    {
      "cell_type": "code",
      "source": [
        "#!/usr/bin/python3\n",
        "using_sorted= sorted(animal)\n",
        "print(using_sorted)\n",
        "print('\\n')\n",
        "print(\"see here difference \\n\\n\")\n",
        "# see here it does not changed at all\n",
        "print(animal)"
      ],
      "metadata": {
        "colab": {
          "base_uri": "https://localhost:8080/"
        },
        "id": "UwZMNhnlGoE9",
        "outputId": "55935def-4fee-499c-e4d5-ba4fae8b0111"
      },
      "execution_count": 20,
      "outputs": [
        {
          "output_type": "stream",
          "name": "stdout",
          "text": [
            "['Bear', 'Cheetah', 'Crocodile', 'Dolphin', 'Eagle', 'Elephant', 'Giraffe', 'Gorilla', 'Hippopotamus', 'Kangaroo', 'Koala', 'Lion', 'Octopus', 'Orangutan', 'Panda', 'Penguin', 'Rhino', 'Tiger', 'Wolf', 'Zebra']\n",
            "\n",
            "\n",
            "see here difference \n",
            "\n",
            "\n",
            "['Lion', 'Elephant', 'Tiger', 'Giraffe', 'Bear', 'Zebra', 'Wolf', 'Dolphin', 'Eagle', 'Penguin', 'Gorilla', 'Kangaroo', 'Cheetah', 'Panda', 'Rhino', 'Hippopotamus', 'Octopus', 'Koala', 'Crocodile', 'Orangutan']\n"
          ]
        }
      ]
    },
    {
      "cell_type": "code",
      "source": [
        "#!/usr/bin/python3\n",
        "print('This is before the operation',animal)\n",
        "\n",
        "animal.sort()\n",
        "\n",
        "print('This is after the operation',animal)\n",
        "animal.sort(reverse =True)\n",
        "animal"
      ],
      "metadata": {
        "colab": {
          "base_uri": "https://localhost:8080/"
        },
        "id": "YZz3kO1CGwqR",
        "outputId": "a43e8b3f-b976-4456-da67-04e2daf18f2f"
      },
      "execution_count": 23,
      "outputs": [
        {
          "output_type": "stream",
          "name": "stdout",
          "text": [
            "This is before the operation ['Zebra', 'Wolf', 'Tiger', 'Rhino', 'Penguin', 'Panda', 'Orangutan', 'Octopus', 'Lion', 'Koala', 'Kangaroo', 'Hippopotamus', 'Gorilla', 'Giraffe', 'Elephant', 'Eagle', 'Dolphin', 'Crocodile', 'Cheetah', 'Bear']\n",
            "This is after the operation ['Bear', 'Cheetah', 'Crocodile', 'Dolphin', 'Eagle', 'Elephant', 'Giraffe', 'Gorilla', 'Hippopotamus', 'Kangaroo', 'Koala', 'Lion', 'Octopus', 'Orangutan', 'Panda', 'Penguin', 'Rhino', 'Tiger', 'Wolf', 'Zebra']\n"
          ]
        },
        {
          "output_type": "execute_result",
          "data": {
            "text/plain": [
              "['Zebra',\n",
              " 'Wolf',\n",
              " 'Tiger',\n",
              " 'Rhino',\n",
              " 'Penguin',\n",
              " 'Panda',\n",
              " 'Orangutan',\n",
              " 'Octopus',\n",
              " 'Lion',\n",
              " 'Koala',\n",
              " 'Kangaroo',\n",
              " 'Hippopotamus',\n",
              " 'Gorilla',\n",
              " 'Giraffe',\n",
              " 'Elephant',\n",
              " 'Eagle',\n",
              " 'Dolphin',\n",
              " 'Crocodile',\n",
              " 'Cheetah',\n",
              " 'Bear']"
            ]
          },
          "metadata": {},
          "execution_count": 23
        }
      ]
    },
    {
      "cell_type": "code",
      "source": [
        "animal.sort(key =len )\n",
        "# this will print by len"
      ],
      "metadata": {
        "id": "FI_Z31LiIZ0v"
      },
      "execution_count": 26,
      "outputs": []
    },
    {
      "cell_type": "code",
      "source": [
        "animal"
      ],
      "metadata": {
        "colab": {
          "base_uri": "https://localhost:8080/"
        },
        "id": "cQTVpTaII5GA",
        "outputId": "88d7eaec-99c6-4311-f3da-aeccf93e53b7"
      },
      "execution_count": 25,
      "outputs": [
        {
          "output_type": "execute_result",
          "data": {
            "text/plain": [
              "['Wolf',\n",
              " 'Lion',\n",
              " 'Bear',\n",
              " 'Zebra',\n",
              " 'Tiger',\n",
              " 'Rhino',\n",
              " 'Panda',\n",
              " 'Koala',\n",
              " 'Eagle',\n",
              " 'Penguin',\n",
              " 'Octopus',\n",
              " 'Gorilla',\n",
              " 'Giraffe',\n",
              " 'Dolphin',\n",
              " 'Cheetah',\n",
              " 'Kangaroo',\n",
              " 'Elephant',\n",
              " 'Orangutan',\n",
              " 'Crocodile',\n",
              " 'Hippopotamus']"
            ]
          },
          "metadata": {},
          "execution_count": 25
        }
      ]
    },
    {
      "cell_type": "code",
      "source": [
        "animal.sort(key =len,reverse =True )\n",
        "# this will print by len and reverse order"
      ],
      "metadata": {
        "id": "d1sm_0gyI6IE"
      },
      "execution_count": 29,
      "outputs": []
    },
    {
      "cell_type": "code",
      "source": [
        "animal"
      ],
      "metadata": {
        "colab": {
          "base_uri": "https://localhost:8080/"
        },
        "id": "hNNKkBaEJHgj",
        "outputId": "09e747ec-2a2f-4ba5-aab1-9eb3b7c9e231"
      },
      "execution_count": 30,
      "outputs": [
        {
          "output_type": "execute_result",
          "data": {
            "text/plain": [
              "['Hippopotamus',\n",
              " 'Orangutan',\n",
              " 'Crocodile',\n",
              " 'Kangaroo',\n",
              " 'Elephant',\n",
              " 'Penguin',\n",
              " 'Octopus',\n",
              " 'Gorilla',\n",
              " 'Giraffe',\n",
              " 'Dolphin',\n",
              " 'Cheetah',\n",
              " 'Zebra',\n",
              " 'Tiger',\n",
              " 'Rhino',\n",
              " 'Panda',\n",
              " 'Koala',\n",
              " 'Eagle',\n",
              " 'Wolf',\n",
              " 'Lion',\n",
              " 'Bear']"
            ]
          },
          "metadata": {},
          "execution_count": 30
        }
      ]
    },
    {
      "cell_type": "code",
      "source": [],
      "metadata": {
        "id": "h_51Qx5cJM5Q"
      },
      "execution_count": null,
      "outputs": []
    },
    {
      "cell_type": "markdown",
      "source": [
        "#about memort location\n",
        "\n",
        "*   about mutable and immuatble"
      ],
      "metadata": {
        "id": "bQq2DgqEK6vm"
      }
    },
    {
      "cell_type": "code",
      "source": [
        "a =list(range (10))"
      ],
      "metadata": {
        "id": "enjG3h31K-Lo"
      },
      "execution_count": 33,
      "outputs": []
    },
    {
      "cell_type": "code",
      "source": [
        "a"
      ],
      "metadata": {
        "colab": {
          "base_uri": "https://localhost:8080/"
        },
        "id": "joLFZSdFLF-g",
        "outputId": "742f9d48-7033-4e91-ad96-dd3232bea7b4"
      },
      "execution_count": 34,
      "outputs": [
        {
          "output_type": "execute_result",
          "data": {
            "text/plain": [
              "[0, 1, 2, 3, 4, 5, 6, 7, 8, 9]"
            ]
          },
          "metadata": {},
          "execution_count": 34
        }
      ]
    },
    {
      "cell_type": "code",
      "source": [
        "print(f\"The value of list a is{a}\")\n",
        "print(f\"The Memory location of {id(a)}\")\n",
        "# now lets modify the list\n",
        "a+=a\n",
        "\n",
        "print(f\"The value of list A after modification  is{a}\")\n",
        "print(f\"The Memory location of {id(a)}\")\n",
        "\n",
        "# id remains same because list are mutable"
      ],
      "metadata": {
        "colab": {
          "base_uri": "https://localhost:8080/"
        },
        "id": "UuRJshPcLJyW",
        "outputId": "80c82195-3d79-4919-d81f-68150148961d"
      },
      "execution_count": 53,
      "outputs": [
        {
          "output_type": "stream",
          "name": "stdout",
          "text": [
            "The value of list a is[0, 1, 2, 3, 4, 5, 6, 7, 8, 9, 0, 1, 2, 3, 4, 5, 6, 7, 8, 9, 0, 1, 2, 3, 4, 5, 6, 7, 8, 9, 0, 1, 2, 3, 4, 5, 6, 7, 8, 9, 0, 1, 2, 3, 4, 5, 6, 7, 8, 9, 0, 1, 2, 3, 4, 5, 6, 7, 8, 9, 0, 1, 2, 3, 4, 5, 6, 7, 8, 9, 0, 1, 2, 3, 4, 5, 6, 7, 8, 9, 0, 1, 2, 3, 4, 5, 6, 7, 8, 9, 0, 1, 2, 3, 4, 5, 6, 7, 8, 9, 0, 1, 2, 3, 4, 5, 6, 7, 8, 9, 0, 1, 2, 3, 4, 5, 6, 7, 8, 9, 0, 1, 2, 3, 4, 5, 6, 7, 8, 9, 0, 1, 2, 3, 4, 5, 6, 7, 8, 9, 0, 1, 2, 3, 4, 5, 6, 7, 8, 9, 0, 1, 2, 3, 4, 5, 6, 7, 8, 9, 0, 1, 2, 3, 4, 5, 6, 7, 8, 9, 0, 1, 2, 3, 4, 5, 6, 7, 8, 9, 0, 1, 2, 3, 4, 5, 6, 7, 8, 9, 0, 1, 2, 3, 4, 5, 6, 7, 8, 9, 0, 1, 2, 3, 4, 5, 6, 7, 8, 9, 0, 1, 2, 3, 4, 5, 6, 7, 8, 9, 0, 1, 2, 3, 4, 5, 6, 7, 8, 9, 0, 1, 2, 3, 4, 5, 6, 7, 8, 9, 0, 1, 2, 3, 4, 5, 6, 7, 8, 9, 0, 1, 2, 3, 4, 5, 6, 7, 8, 9, 0, 1, 2, 3, 4, 5, 6, 7, 8, 9, 0, 1, 2, 3, 4, 5, 6, 7, 8, 9, 0, 1, 2, 3, 4, 5, 6, 7, 8, 9, 0, 1, 2, 3, 4, 5, 6, 7, 8, 9, 0, 1, 2, 3, 4, 5, 6, 7, 8, 9, 0, 1, 2, 3, 4, 5, 6, 7, 8, 9]\n",
            "The Memory location of 135282770896896\n",
            "The value of list A after modification  is[0, 1, 2, 3, 4, 5, 6, 7, 8, 9, 0, 1, 2, 3, 4, 5, 6, 7, 8, 9, 0, 1, 2, 3, 4, 5, 6, 7, 8, 9, 0, 1, 2, 3, 4, 5, 6, 7, 8, 9, 0, 1, 2, 3, 4, 5, 6, 7, 8, 9, 0, 1, 2, 3, 4, 5, 6, 7, 8, 9, 0, 1, 2, 3, 4, 5, 6, 7, 8, 9, 0, 1, 2, 3, 4, 5, 6, 7, 8, 9, 0, 1, 2, 3, 4, 5, 6, 7, 8, 9, 0, 1, 2, 3, 4, 5, 6, 7, 8, 9, 0, 1, 2, 3, 4, 5, 6, 7, 8, 9, 0, 1, 2, 3, 4, 5, 6, 7, 8, 9, 0, 1, 2, 3, 4, 5, 6, 7, 8, 9, 0, 1, 2, 3, 4, 5, 6, 7, 8, 9, 0, 1, 2, 3, 4, 5, 6, 7, 8, 9, 0, 1, 2, 3, 4, 5, 6, 7, 8, 9, 0, 1, 2, 3, 4, 5, 6, 7, 8, 9, 0, 1, 2, 3, 4, 5, 6, 7, 8, 9, 0, 1, 2, 3, 4, 5, 6, 7, 8, 9, 0, 1, 2, 3, 4, 5, 6, 7, 8, 9, 0, 1, 2, 3, 4, 5, 6, 7, 8, 9, 0, 1, 2, 3, 4, 5, 6, 7, 8, 9, 0, 1, 2, 3, 4, 5, 6, 7, 8, 9, 0, 1, 2, 3, 4, 5, 6, 7, 8, 9, 0, 1, 2, 3, 4, 5, 6, 7, 8, 9, 0, 1, 2, 3, 4, 5, 6, 7, 8, 9, 0, 1, 2, 3, 4, 5, 6, 7, 8, 9, 0, 1, 2, 3, 4, 5, 6, 7, 8, 9, 0, 1, 2, 3, 4, 5, 6, 7, 8, 9, 0, 1, 2, 3, 4, 5, 6, 7, 8, 9, 0, 1, 2, 3, 4, 5, 6, 7, 8, 9, 0, 1, 2, 3, 4, 5, 6, 7, 8, 9, 0, 1, 2, 3, 4, 5, 6, 7, 8, 9, 0, 1, 2, 3, 4, 5, 6, 7, 8, 9, 0, 1, 2, 3, 4, 5, 6, 7, 8, 9, 0, 1, 2, 3, 4, 5, 6, 7, 8, 9, 0, 1, 2, 3, 4, 5, 6, 7, 8, 9, 0, 1, 2, 3, 4, 5, 6, 7, 8, 9, 0, 1, 2, 3, 4, 5, 6, 7, 8, 9, 0, 1, 2, 3, 4, 5, 6, 7, 8, 9, 0, 1, 2, 3, 4, 5, 6, 7, 8, 9, 0, 1, 2, 3, 4, 5, 6, 7, 8, 9, 0, 1, 2, 3, 4, 5, 6, 7, 8, 9, 0, 1, 2, 3, 4, 5, 6, 7, 8, 9, 0, 1, 2, 3, 4, 5, 6, 7, 8, 9, 0, 1, 2, 3, 4, 5, 6, 7, 8, 9, 0, 1, 2, 3, 4, 5, 6, 7, 8, 9, 0, 1, 2, 3, 4, 5, 6, 7, 8, 9, 0, 1, 2, 3, 4, 5, 6, 7, 8, 9, 0, 1, 2, 3, 4, 5, 6, 7, 8, 9, 0, 1, 2, 3, 4, 5, 6, 7, 8, 9, 0, 1, 2, 3, 4, 5, 6, 7, 8, 9, 0, 1, 2, 3, 4, 5, 6, 7, 8, 9, 0, 1, 2, 3, 4, 5, 6, 7, 8, 9, 0, 1, 2, 3, 4, 5, 6, 7, 8, 9, 0, 1, 2, 3, 4, 5, 6, 7, 8, 9, 0, 1, 2, 3, 4, 5, 6, 7, 8, 9, 0, 1, 2, 3, 4, 5, 6, 7, 8, 9, 0, 1, 2, 3, 4, 5, 6, 7, 8, 9, 0, 1, 2, 3, 4, 5, 6, 7, 8, 9, 0, 1, 2, 3, 4, 5, 6, 7, 8, 9, 0, 1, 2, 3, 4, 5, 6, 7, 8, 9, 0, 1, 2, 3, 4, 5, 6, 7, 8, 9, 0, 1, 2, 3, 4, 5, 6, 7, 8, 9]\n",
            "The Memory location of 135282770896896\n"
          ]
        }
      ]
    },
    {
      "cell_type": "code",
      "source": [
        "name = 'hello python'\n",
        "print(name)\n",
        "print(id(name))\n",
        "print(\"these above shown is before the climax\")\n",
        "\n",
        "name ='Im python developer'\n",
        "print(name)\n",
        "print(id(name ))\n",
        "# it will change the memory location"
      ],
      "metadata": {
        "colab": {
          "base_uri": "https://localhost:8080/"
        },
        "id": "H6nRIWzJLOEO",
        "outputId": "c1c6d22f-eefd-48c8-ffd9-ab4db1146b0b"
      },
      "execution_count": 54,
      "outputs": [
        {
          "output_type": "stream",
          "name": "stdout",
          "text": [
            "hello python\n",
            "135282770861808\n",
            "these above shown is before the climax\n",
            "Im python developer\n",
            "135282770054000\n"
          ]
        }
      ]
    },
    {
      "cell_type": "code",
      "source": [
        "\n"
      ],
      "metadata": {
        "id": "wmp72vmuMeYA"
      },
      "execution_count": 45,
      "outputs": []
    },
    {
      "cell_type": "code",
      "source": [],
      "metadata": {
        "id": "Be1pxGFvMxgH"
      },
      "execution_count": null,
      "outputs": []
    },
    {
      "cell_type": "markdown",
      "source": [
        "#handle missing value"
      ],
      "metadata": {
        "id": "5_DFnu-oQiAF"
      }
    },
    {
      "cell_type": "code",
      "source": [
        "dict_value ={'name':'Radhe','age':25, 'Place':{'India','Bharat'}}  # i know place name is same"
      ],
      "metadata": {
        "id": "OwzfG-enQmek"
      },
      "execution_count": 76,
      "outputs": []
    },
    {
      "cell_type": "code",
      "source": [
        "dict_value['Place']"
      ],
      "metadata": {
        "colab": {
          "base_uri": "https://localhost:8080/"
        },
        "id": "H-VJsuZPRFcf",
        "outputId": "4e44e0e0-5792-407d-f29f-937aef086ae6"
      },
      "execution_count": 59,
      "outputs": [
        {
          "output_type": "execute_result",
          "data": {
            "text/plain": [
              "{'Bharat', 'India'}"
            ]
          },
          "metadata": {},
          "execution_count": 59
        }
      ]
    },
    {
      "cell_type": "code",
      "source": [
        "dict_value['Place']"
      ],
      "metadata": {
        "colab": {
          "base_uri": "https://localhost:8080/"
        },
        "id": "JN2ftTnoRKwD",
        "outputId": "052e76e6-ec47-4ed3-c137-a68e6c0cdb2a"
      },
      "execution_count": 71,
      "outputs": [
        {
          "output_type": "execute_result",
          "data": {
            "text/plain": [
              "{'Bharat', 'India'}"
            ]
          },
          "metadata": {},
          "execution_count": 71
        }
      ]
    },
    {
      "cell_type": "code",
      "source": [
        "import collections as cl\n",
        "\n",
        "\n",
        "d1 = {\n",
        "    'name': 'Radhe',\n",
        "    'age': 25,\n",
        "    'Place': {'India', 'Bharat'}\n",
        "}\n",
        "\n",
        "# Initialize defaultdict with a default value for missing keys\n",
        "check = cl.defaultdict(lambda: 'key does not exist', d1)\n",
        "\n",
        "print(check['name'])  # This will print 'Radhe'\n",
        "print(check['wrong_key'])  # This will print 'key does not exist'\n"
      ],
      "metadata": {
        "colab": {
          "base_uri": "https://localhost:8080/"
        },
        "id": "h719PRdDSwOg",
        "outputId": "0146f8c6-3803-4b85-c185-3f4ef86d7203"
      },
      "execution_count": 94,
      "outputs": [
        {
          "output_type": "stream",
          "name": "stdout",
          "text": [
            "Radhe\n",
            "key does not exist\n"
          ]
        }
      ]
    },
    {
      "cell_type": "markdown",
      "source": [
        "#lamda function or anonymous function"
      ],
      "metadata": {
        "id": "_U7rulNSX22a"
      }
    },
    {
      "cell_type": "code",
      "source": [
        "addition = lambda no1 ,no2 : no1+no2\n",
        "print(addition(10,20))"
      ],
      "metadata": {
        "colab": {
          "base_uri": "https://localhost:8080/"
        },
        "id": "dE7rQ2FqTVRc",
        "outputId": "0dccf61d-4e84-4230-ced0-cca520aa7165"
      },
      "execution_count": 95,
      "outputs": [
        {
          "output_type": "stream",
          "name": "stdout",
          "text": [
            "30\n"
          ]
        }
      ]
    },
    {
      "cell_type": "code",
      "source": [
        "x = lambda a :a**2\n",
        "print(x(10))"
      ],
      "metadata": {
        "colab": {
          "base_uri": "https://localhost:8080/"
        },
        "id": "wIoBQs0GYFJN",
        "outputId": "ca01ed10-6b53-4381-8c2c-90bccf6a947f"
      },
      "execution_count": 98,
      "outputs": [
        {
          "output_type": "stream",
          "name": "stdout",
          "text": [
            "100\n"
          ]
        }
      ]
    },
    {
      "cell_type": "code",
      "source": [
        "square = lambda x : x**2\n",
        "print(square(10))"
      ],
      "metadata": {
        "colab": {
          "base_uri": "https://localhost:8080/"
        },
        "id": "DZD11CBKYMkO",
        "outputId": "f7d474cb-276d-4b5d-8898-cd71af5361c1"
      },
      "execution_count": 114,
      "outputs": [
        {
          "output_type": "stream",
          "name": "stdout",
          "text": [
            "100\n"
          ]
        }
      ]
    },
    {
      "cell_type": "code",
      "source": [
        "\n",
        "subtraction =lambda x , y: f\"The subtraction of {x} {y} is {x-y}\"\n",
        "print(subtraction(12,25))"
      ],
      "metadata": {
        "colab": {
          "base_uri": "https://localhost:8080/"
        },
        "id": "UfS2yTW9ftXf",
        "outputId": "57aaaf33-6eda-4501-81cb-21ae86df5264"
      },
      "execution_count": 120,
      "outputs": [
        {
          "output_type": "stream",
          "name": "stdout",
          "text": [
            "The subtraction of 12 25 is -13\n"
          ]
        }
      ]
    },
    {
      "cell_type": "markdown",
      "source": [
        "##comapre two numbers"
      ],
      "metadata": {
        "id": "iW8Xg-NHidGq"
      }
    },
    {
      "cell_type": "code",
      "source": [
        "finding_max =lambda x , y : x if x>y else y"
      ],
      "metadata": {
        "id": "quItnT_5g-ZH"
      },
      "execution_count": 121,
      "outputs": []
    },
    {
      "cell_type": "code",
      "source": [
        "finding_max(25,35)"
      ],
      "metadata": {
        "colab": {
          "base_uri": "https://localhost:8080/"
        },
        "id": "t1w8YYfXinrC",
        "outputId": "c8dfb8a1-666f-4f4f-e498-e9cba698d89b"
      },
      "execution_count": 122,
      "outputs": [
        {
          "output_type": "execute_result",
          "data": {
            "text/plain": [
              "35"
            ]
          },
          "metadata": {},
          "execution_count": 122
        }
      ]
    },
    {
      "cell_type": "code",
      "source": [
        "finding_max(0,1)"
      ],
      "metadata": {
        "colab": {
          "base_uri": "https://localhost:8080/"
        },
        "id": "jrZRm_0viqa7",
        "outputId": "3bcc7de1-5f16-464b-bdef-0df5afde56bd"
      },
      "execution_count": 125,
      "outputs": [
        {
          "output_type": "execute_result",
          "data": {
            "text/plain": [
              "1"
            ]
          },
          "metadata": {},
          "execution_count": 125
        }
      ]
    },
    {
      "cell_type": "markdown",
      "source": [
        "##finding len of string"
      ],
      "metadata": {
        "id": "EY_qy2-KjRzW"
      }
    },
    {
      "cell_type": "code",
      "source": [
        "find_len = lambda value : len(value)\n"
      ],
      "metadata": {
        "id": "j8DCJWu7iu-N"
      },
      "execution_count": 126,
      "outputs": []
    },
    {
      "cell_type": "code",
      "source": [
        "find_len(\"hello\")"
      ],
      "metadata": {
        "colab": {
          "base_uri": "https://localhost:8080/"
        },
        "id": "aYJcl2uHjfSe",
        "outputId": "ee0f6b89-a957-4ddc-db9a-ab058c80254a"
      },
      "execution_count": 127,
      "outputs": [
        {
          "output_type": "execute_result",
          "data": {
            "text/plain": [
              "5"
            ]
          },
          "metadata": {},
          "execution_count": 127
        }
      ]
    },
    {
      "cell_type": "code",
      "source": [
        "find_len(\"i love coding\") #it includes spaces"
      ],
      "metadata": {
        "colab": {
          "base_uri": "https://localhost:8080/"
        },
        "id": "ugPfMp0Qjhp1",
        "outputId": "f4e31b2d-73ce-4c3e-be40-b9aa1938fa1c"
      },
      "execution_count": 129,
      "outputs": [
        {
          "output_type": "execute_result",
          "data": {
            "text/plain": [
              "13"
            ]
          },
          "metadata": {},
          "execution_count": 129
        }
      ]
    },
    {
      "cell_type": "code",
      "source": [],
      "metadata": {
        "id": "b5S5UxE-jot1"
      },
      "execution_count": null,
      "outputs": []
    },
    {
      "cell_type": "markdown",
      "source": [
        "#map()"
      ],
      "metadata": {
        "id": "euqkk7lAlwbJ"
      }
    },
    {
      "cell_type": "code",
      "source": [
        "numbers =[1,2,5,6,8,9,10]\n",
        "x = map(lambda x : x*2 ,numbers)\n",
        "print(x)\n",
        "print(list(x))"
      ],
      "metadata": {
        "colab": {
          "base_uri": "https://localhost:8080/"
        },
        "id": "oPE5hqJZlzfo",
        "outputId": "f0656ae3-59f9-4432-e4fb-fc30aaafb24c"
      },
      "execution_count": 131,
      "outputs": [
        {
          "output_type": "stream",
          "name": "stdout",
          "text": [
            "<map object at 0x7b09e39abe20>\n",
            "[2, 4, 10, 12, 16, 18, 20]\n"
          ]
        }
      ]
    },
    {
      "cell_type": "code",
      "source": [
        "def sqr_no(x):\n",
        "  return x**2\n",
        "\n",
        "num =[1,2,3,4,5,6,7,8,9,10]\n",
        "\n",
        "map_fun =map(sqr_no,num)\n",
        "print(map_fun)\n",
        "print(list(map_fun))"
      ],
      "metadata": {
        "colab": {
          "base_uri": "https://localhost:8080/"
        },
        "id": "frc6Ym-zmMKh",
        "outputId": "0145bd7b-92bf-4fd3-a419-534ac6dfd981"
      },
      "execution_count": 135,
      "outputs": [
        {
          "output_type": "stream",
          "name": "stdout",
          "text": [
            "<map object at 0x7b09e3ab3eb0>\n",
            "[1, 4, 9, 16, 25, 36, 49, 64, 81, 100]\n"
          ]
        }
      ]
    },
    {
      "cell_type": "code",
      "source": [],
      "metadata": {
        "id": "T2VO7wX9mswF"
      },
      "execution_count": null,
      "outputs": []
    },
    {
      "cell_type": "markdown",
      "source": [
        "#filter()\n",
        "\n",
        "*   it only return which value is TRue"
      ],
      "metadata": {
        "id": "Qr10d37toTd5"
      }
    },
    {
      "cell_type": "code",
      "source": [
        "num =[1,2,3,4,5,6,7,8,9,10]\n",
        "\n",
        "fil =filter(lambda x :x%2==0 ,num)\n",
        "x =list(fil)"
      ],
      "metadata": {
        "id": "jQXJzoeUoUte"
      },
      "execution_count": 145,
      "outputs": []
    },
    {
      "cell_type": "code",
      "source": [
        "fil"
      ],
      "metadata": {
        "colab": {
          "base_uri": "https://localhost:8080/"
        },
        "id": "_LmyNwZBoe1x",
        "outputId": "abc04476-6ad0-4c85-d2bc-6d0e3901c7e5"
      },
      "execution_count": 146,
      "outputs": [
        {
          "output_type": "execute_result",
          "data": {
            "text/plain": [
              "<filter at 0x7b09e381a530>"
            ]
          },
          "metadata": {},
          "execution_count": 146
        }
      ]
    },
    {
      "cell_type": "code",
      "source": [
        "x"
      ],
      "metadata": {
        "colab": {
          "base_uri": "https://localhost:8080/"
        },
        "id": "V5HHOjjUoiHf",
        "outputId": "2554406b-ee1d-488e-f88e-3c8e9c4f8492"
      },
      "execution_count": 147,
      "outputs": [
        {
          "output_type": "execute_result",
          "data": {
            "text/plain": [
              "[2, 4, 6, 8, 10]"
            ]
          },
          "metadata": {},
          "execution_count": 147
        }
      ]
    },
    {
      "cell_type": "code",
      "source": [
        "a =list(filter(lambda x :x>50,list(range(100))))"
      ],
      "metadata": {
        "id": "Ii6fssM7omoQ"
      },
      "execution_count": 148,
      "outputs": []
    },
    {
      "cell_type": "code",
      "source": [
        "print(a)\n",
        "# it only return true values not false"
      ],
      "metadata": {
        "colab": {
          "base_uri": "https://localhost:8080/"
        },
        "id": "unmd-ha6qBrz",
        "outputId": "9aec0b58-2918-4da5-e02b-cc99ce173bd7"
      },
      "execution_count": 150,
      "outputs": [
        {
          "output_type": "stream",
          "name": "stdout",
          "text": [
            "[51, 52, 53, 54, 55, 56, 57, 58, 59, 60, 61, 62, 63, 64, 65, 66, 67, 68, 69, 70, 71, 72, 73, 74, 75, 76, 77, 78, 79, 80, 81, 82, 83, 84, 85, 86, 87, 88, 89, 90, 91, 92, 93, 94, 95, 96, 97, 98, 99]\n"
          ]
        }
      ]
    },
    {
      "cell_type": "code",
      "source": [],
      "metadata": {
        "id": "QjWm-nWEqCfW"
      },
      "execution_count": null,
      "outputs": []
    }
  ]
}