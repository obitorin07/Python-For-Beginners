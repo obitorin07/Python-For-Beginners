{
  "cells": [
    {
      "cell_type": "markdown",
      "metadata": {
        "id": "dhoEd5fGODPM"
      },
      "source": [
        "#About Variables"
      ]
    },
    {
      "cell_type": "code",
      "execution_count": 2,
      "metadata": {
        "id": "ORGd00xPOGrk"
      },
      "outputs": [],
      "source": [
        " a = 10\n",
        " A =20\n"
      ]
    },
    {
      "cell_type": "code",
      "execution_count": 3,
      "metadata": {
        "colab": {
          "base_uri": "https://localhost:8080/"
        },
        "id": "yPrsiY7FOJt7",
        "outputId": "303d4d3f-9068-48b6-d70b-1047368f93c3"
      },
      "outputs": [
        {
          "name": "stdout",
          "output_type": "stream",
          "text": [
            "10\n"
          ]
        }
      ],
      "source": [
        "print(a)\n"
      ]
    },
    {
      "cell_type": "code",
      "execution_count": 4,
      "metadata": {
        "colab": {
          "base_uri": "https://localhost:8080/"
        },
        "id": "O2i7dMxLOPlD",
        "outputId": "3c42d619-1635-4535-8a8e-008428fd59e6"
      },
      "outputs": [
        {
          "name": "stdout",
          "output_type": "stream",
          "text": [
            "20\n"
          ]
        }
      ],
      "source": [
        "print(A)"
      ]
    },
    {
      "cell_type": "markdown",
      "metadata": {
        "id": "7BBI6HA4OafN"
      },
      "source": [
        "About Case Sensitive"
      ]
    },
    {
      "cell_type": "code",
      "execution_count": 5,
      "metadata": {
        "id": "Ff8GWcAhOeYg"
      },
      "outputs": [],
      "source": [
        "Name =\"\n",
        "name = \"Obito\""
      ]
    },
    {
      "cell_type": "code",
      "execution_count": 6,
      "metadata": {
        "colab": {
          "base_uri": "https://localhost:8080/"
        },
        "id": "9kjWBZG3Ok32",
        "outputId": "c3832495-a34b-4188-9816-210a53ec52df"
      },
      "outputs": [
        {
          "name": "stdout",
          "output_type": "stream",
          "text": [
            "Kiran\n"
          ]
        }
      ],
      "source": [
        "# it will print Kiran because python is case sensitive each charcter has their own different value\n",
        "print(Name)"
      ]
    },
    {
      "cell_type": "code",
      "execution_count": 7,
      "metadata": {
        "colab": {
          "base_uri": "https://localhost:8080/"
        },
        "id": "-ZIy3l7cOzhb",
        "outputId": "aafbc76e-d007-40b6-ad2d-b1b481f35f13"
      },
      "outputs": [
        {
          "name": "stdout",
          "output_type": "stream",
          "text": [
            "Obito\n"
          ]
        }
      ],
      "source": [
        "print(name)"
      ]
    },
    {
      "cell_type": "code",
      "execution_count": null,
      "metadata": {
        "id": "47Mt3GVlO2dG"
      },
      "outputs": [],
      "source": []
    },
    {
      "cell_type": "markdown",
      "metadata": {
        "id": "PYEuqjSzPRTn"
      },
      "source": [
        "### variable to declare some important rules"
      ]
    },
    {
      "cell_type": "code",
      "execution_count": 8,
      "metadata": {
        "id": "fEpcNFAxPVRj"
      },
      "outputs": [],
      "source": [
        "name =\"kiran\""
      ]
    },
    {
      "cell_type": "code",
      "execution_count": 9,
      "metadata": {
        "colab": {
          "base_uri": "https://localhost:8080/",
          "height": 35
        },
        "id": "AlofegqKPYYd",
        "outputId": "d55de8f7-b60b-4136-e0cb-d39b8000c965"
      },
      "outputs": [
        {
          "data": {
            "application/vnd.google.colaboratory.intrinsic+json": {
              "type": "string"
            },
            "text/plain": [
              "'kiran'"
            ]
          },
          "execution_count": 9,
          "metadata": {},
          "output_type": "execute_result"
        }
      ],
      "source": [
        "name"
      ]
    },
    {
      "cell_type": "code",
      "execution_count": 10,
      "metadata": {
        "id": "-8lu3mLQPZAE"
      },
      "outputs": [],
      "source": [
        "_name =\"kiran\""
      ]
    },
    {
      "cell_type": "code",
      "execution_count": 11,
      "metadata": {
        "colab": {
          "base_uri": "https://localhost:8080/",
          "height": 35
        },
        "id": "S8tY4r7TPbde",
        "outputId": "76f71373-78b2-4de7-fe10-9111edad2bf9"
      },
      "outputs": [
        {
          "data": {
            "application/vnd.google.colaboratory.intrinsic+json": {
              "type": "string"
            },
            "text/plain": [
              "'kiran'"
            ]
          },
          "execution_count": 11,
          "metadata": {},
          "output_type": "execute_result"
        }
      ],
      "source": [
        "_name"
      ]
    },
    {
      "cell_type": "code",
      "execution_count": 13,
      "metadata": {
        "colab": {
          "base_uri": "https://localhost:8080/",
          "height": 106
        },
        "id": "hO_v1R26Pckl",
        "outputId": "a44d8c2a-5c18-45b8-91de-ce8c8eb794ff"
      },
      "outputs": [
        {
          "ename": "SyntaxError",
          "evalue": "invalid decimal literal (<ipython-input-13-a81377cd1e51>, line 2)",
          "output_type": "error",
          "traceback": [
            "\u001b[0;36m  File \u001b[0;32m\"<ipython-input-13-a81377cd1e51>\"\u001b[0;36m, line \u001b[0;32m2\u001b[0m\n\u001b[0;31m    1name =\"Hello my name\"\u001b[0m\n\u001b[0m    ^\u001b[0m\n\u001b[0;31mSyntaxError\u001b[0m\u001b[0;31m:\u001b[0m invalid decimal literal\n"
          ]
        }
      ],
      "source": [
        "# it will 100% shows an error\n",
        "1name =\"Hello my name\""
      ]
    },
    {
      "cell_type": "code",
      "execution_count": null,
      "metadata": {
        "id": "t8P1RZNzPf_M"
      },
      "outputs": [],
      "source": []
    },
    {
      "cell_type": "markdown",
      "metadata": {
        "id": "misEV2U4PoKx"
      },
      "source": [
        "\n",
        "\n",
        "1.   We cannot use first letter start with numers\n",
        "2.   first letters should an alphabets\n",
        "3.   We cannot use special character(@!$^&*) rather than _\n",
        "\n"
      ]
    },
    {
      "cell_type": "code",
      "execution_count": null,
      "metadata": {
        "id": "TICZkqoYQB5b"
      },
      "outputs": [],
      "source": []
    }
  ],
  "metadata": {
    "colab": {
      "provenance": []
    },
    "kernelspec": {
      "display_name": "Python 3",
      "name": "python3"
    },
    "language_info": {
      "name": "python"
    }
  },
  "nbformat": 4,
  "nbformat_minor": 0
}
