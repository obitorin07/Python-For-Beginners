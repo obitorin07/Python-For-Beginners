{
  "cells": [
    {
      "cell_type": "code",
      "execution_count": 3,
      "metadata": {
        "id": "I3FJc7-i5cFZ"
      },
      "outputs": [],
      "source": [
        "import csv\n",
        "data = [['Name',\"Age\"],['Obito',16]]\n",
        "with open('data.csv','w',newline='') as file:\n",
        "\n",
        "  csv_writer = csv.writer(file)\n",
        "\n",
        "  csv_writer.writerows(data)"
      ]
    },
    {
      "cell_type": "code",
      "execution_count": 5,
      "metadata": {
        "colab": {
          "base_uri": "https://localhost:8080/"
        },
        "id": "nn87fULM7T9k",
        "outputId": "1d02ec77-b200-4a94-e6ef-d3bc418f5e41"
      },
      "outputs": [
        {
          "name": "stdout",
          "output_type": "stream",
          "text": [
            "How many data you want to add : eg 1,2,3,4,soo on4\n",
            "Enter The Name:ramesh\n",
            "Enter The Age:15\n",
            "Enter The Name:sakshi\n",
            "Enter The Age:16\n",
            "Enter The Name:muskan\n",
            "Enter The Age:19\n",
            "Enter The Name:sharukh\n",
            "Enter The Age:22\n"
          ]
        }
      ],
      "source": [
        "import csv\n",
        "def adding_data(name,age):\n",
        "\n",
        "  with open ('data.csv','a',newline='') as csv_file:\n",
        "    csv_writer= csv.writer(csv_file)\n",
        "    csv_writer.writerow([name,age])\n",
        "\n",
        "ask_user = int(input(\"How many data you want to add : eg 1,2,3,4,soo on\"))\n",
        "for i in range(ask_user):\n",
        "  name = input('Enter The Name:')\n",
        "  age = int(input(\"Enter The Age:\"))\n",
        "  adding_data(name,age)"
      ]
    },
    {
      "cell_type": "code",
      "execution_count": 23,
      "metadata": {
        "id": "gFjVbekP66Ux",
        "colab": {
          "base_uri": "https://localhost:8080/"
        },
        "outputId": "bb0144be-fd95-4300-b699-f78fc9cd179f"
      },
      "outputs": [
        {
          "output_type": "stream",
          "name": "stdout",
          "text": [
            "['Name', 'Age'] \n",
            "\n",
            "['Obito', '16'] \n",
            "\n",
            "['ramesh', '15'] \n",
            "\n",
            "['sakshi', '16'] \n",
            "\n",
            "['muskan', '19'] \n",
            "\n",
            "['sharukh', '22'] \n",
            "\n"
          ]
        }
      ],
      "source": [
        "with open('data.csv','r',newline='') as file:\n",
        "  read_csv = csv.reader(file)\n",
        "  for i in read_csv:\n",
        "    print(i,'\\n')\n",
        ""
      ]
    },
    {
      "cell_type": "code",
      "source": [],
      "metadata": {
        "id": "j5Fth-9vIZJM"
      },
      "execution_count": null,
      "outputs": []
    }
  ],
  "metadata": {
    "colab": {
      "provenance": [],
      "gpuType": "T4"
    },
    "kernelspec": {
      "display_name": "Python 3",
      "name": "python3"
    },
    "language_info": {
      "name": "python"
    },
    "accelerator": "GPU"
  },
  "nbformat": 4,
  "nbformat_minor": 0
}