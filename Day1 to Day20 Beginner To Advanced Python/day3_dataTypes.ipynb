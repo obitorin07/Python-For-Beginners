{
  "nbformat": 4,
  "nbformat_minor": 0,
  "metadata": {
    "colab": {
      "provenance": []
    },
    "kernelspec": {
      "name": "python3",
      "display_name": "Python 3"
    },
    "language_info": {
      "name": "python"
    }
  },
  "cells": [
    {
      "cell_type": "markdown",
      "source": [
        "#Data Types"
      ],
      "metadata": {
        "id": "stlvHoNfaDSF"
      }
    },
    {
      "cell_type": "markdown",
      "source": [
        "##integer"
      ],
      "metadata": {
        "id": "-hLxLgaLYs-g"
      }
    },
    {
      "cell_type": "code",
      "execution_count": 2,
      "metadata": {
        "colab": {
          "base_uri": "https://localhost:8080/",
          "height": 0
        },
        "id": "RelQ-GQ3YqB2",
        "outputId": "e57b3916-bded-4c21-f366-38edc5f4bf77"
      },
      "outputs": [
        {
          "output_type": "stream",
          "name": "stdout",
          "text": [
            "30\n",
            "<class 'int'>\n"
          ]
        }
      ],
      "source": [
        "x =10\n",
        "y = 20\n",
        "z = x+y\n",
        "print(z)\n",
        "print(type(z))"
      ]
    },
    {
      "cell_type": "markdown",
      "source": [
        "##Boolean"
      ],
      "metadata": {
        "id": "FgHbrko2Zntm"
      }
    },
    {
      "cell_type": "code",
      "source": [
        "boolean_value=x>y\n",
        "\n",
        "print(boolean_value)\n",
        "print(type(boolean_value))"
      ],
      "metadata": {
        "colab": {
          "base_uri": "https://localhost:8080/",
          "height": 0
        },
        "id": "LqKkGd32Yvzn",
        "outputId": "51011273-94d4-4c8a-e6e2-da794fa8df62"
      },
      "execution_count": 6,
      "outputs": [
        {
          "output_type": "stream",
          "name": "stdout",
          "text": [
            "False\n",
            "<class 'bool'>\n"
          ]
        }
      ]
    },
    {
      "cell_type": "code",
      "source": [
        "x<y"
      ],
      "metadata": {
        "colab": {
          "base_uri": "https://localhost:8080/",
          "height": 0
        },
        "id": "BvuRjjBRZYbZ",
        "outputId": "b615216a-9d8d-41f4-f4a6-803096a013c4"
      },
      "execution_count": 7,
      "outputs": [
        {
          "output_type": "execute_result",
          "data": {
            "text/plain": [
              "True"
            ]
          },
          "metadata": {},
          "execution_count": 7
        }
      ]
    },
    {
      "cell_type": "code",
      "source": [],
      "metadata": {
        "id": "BaPboOBbZxCN"
      },
      "execution_count": null,
      "outputs": []
    },
    {
      "cell_type": "code",
      "source": [],
      "metadata": {
        "id": "G5os7CO9Zz4O"
      },
      "execution_count": null,
      "outputs": []
    },
    {
      "cell_type": "markdown",
      "source": [
        "##Float"
      ],
      "metadata": {
        "id": "AYwt4CInZ0pD"
      }
    },
    {
      "cell_type": "code",
      "source": [
        "a = 10.5\n",
        "b = 25.6\n",
        "c= a+b\n",
        "print(c)\n",
        "print(type(c))"
      ],
      "metadata": {
        "colab": {
          "base_uri": "https://localhost:8080/",
          "height": 0
        },
        "id": "aEctIVwaZ2Mu",
        "outputId": "ac95c0d8-60ca-4747-9c36-61d7eab58d9d"
      },
      "execution_count": 8,
      "outputs": [
        {
          "output_type": "stream",
          "name": "stdout",
          "text": [
            "36.1\n",
            "<class 'float'>\n"
          ]
        }
      ]
    },
    {
      "cell_type": "code",
      "source": [],
      "metadata": {
        "id": "ffPcPwSCZ-cT"
      },
      "execution_count": null,
      "outputs": []
    },
    {
      "cell_type": "markdown",
      "source": [
        "##List"
      ],
      "metadata": {
        "id": "3nwz25MPaQHZ"
      }
    },
    {
      "cell_type": "code",
      "source": [
        "list1 =[\"Obito\",15,15.5,\"Hello\",True]\n",
        "print(list1)\n",
        "print(type(list1))"
      ],
      "metadata": {
        "colab": {
          "base_uri": "https://localhost:8080/",
          "height": 0
        },
        "id": "CsdbqZ37aRZb",
        "outputId": "8346e03e-5efb-49ca-d840-65045e273952"
      },
      "execution_count": 10,
      "outputs": [
        {
          "output_type": "stream",
          "name": "stdout",
          "text": [
            "['Obito', 15, 15.5, 'Hello', True]\n",
            "<class 'list'>\n"
          ]
        }
      ]
    },
    {
      "cell_type": "code",
      "source": [
        "print(list1[0])"
      ],
      "metadata": {
        "colab": {
          "base_uri": "https://localhost:8080/",
          "height": 0
        },
        "id": "6jCxgJ4HacCA",
        "outputId": "05405b58-4167-4e7d-adc7-d8c91d0f29fb"
      },
      "execution_count": 11,
      "outputs": [
        {
          "output_type": "stream",
          "name": "stdout",
          "text": [
            "Obito\n"
          ]
        }
      ]
    },
    {
      "cell_type": "code",
      "source": [
        "print(list1[2])"
      ],
      "metadata": {
        "colab": {
          "base_uri": "https://localhost:8080/",
          "height": 0
        },
        "id": "xXuajFxLatVa",
        "outputId": "8dbe9c68-92a6-4e62-e752-a1d502fa9d68"
      },
      "execution_count": 12,
      "outputs": [
        {
          "output_type": "stream",
          "name": "stdout",
          "text": [
            "15.5\n"
          ]
        }
      ]
    },
    {
      "cell_type": "code",
      "source": [
        "print(list1[-1])"
      ],
      "metadata": {
        "colab": {
          "base_uri": "https://localhost:8080/",
          "height": 0
        },
        "id": "NDMu-dTiaveK",
        "outputId": "1dd91b6f-43c9-4429-da29-b9b93abc7857"
      },
      "execution_count": 13,
      "outputs": [
        {
          "output_type": "stream",
          "name": "stdout",
          "text": [
            "True\n"
          ]
        }
      ]
    },
    {
      "cell_type": "code",
      "source": [
        "print(list1[0:2])"
      ],
      "metadata": {
        "colab": {
          "base_uri": "https://localhost:8080/",
          "height": 0
        },
        "id": "Yg-vEba6ayjH",
        "outputId": "c641895b-a9a3-4739-e46b-823d66401f91"
      },
      "execution_count": 14,
      "outputs": [
        {
          "output_type": "stream",
          "name": "stdout",
          "text": [
            "['Obito', 15]\n"
          ]
        }
      ]
    },
    {
      "cell_type": "code",
      "source": [
        "print(list1[1:])"
      ],
      "metadata": {
        "colab": {
          "base_uri": "https://localhost:8080/",
          "height": 0
        },
        "id": "G6XBcO9ba1Eo",
        "outputId": "b10d90cf-83c9-477a-bd79-2c44e7f20621"
      },
      "execution_count": 15,
      "outputs": [
        {
          "output_type": "stream",
          "name": "stdout",
          "text": [
            "[15, 15.5, 'Hello', True]\n"
          ]
        }
      ]
    },
    {
      "cell_type": "code",
      "source": [],
      "metadata": {
        "id": "bSMqK5JMa5j6"
      },
      "execution_count": null,
      "outputs": []
    },
    {
      "cell_type": "markdown",
      "source": [
        "####reverse value"
      ],
      "metadata": {
        "id": "WGtpPem4blL4"
      }
    },
    {
      "cell_type": "code",
      "source": [
        "print(list1[::-1])"
      ],
      "metadata": {
        "colab": {
          "base_uri": "https://localhost:8080/",
          "height": 0
        },
        "id": "7Py0J_u3bn93",
        "outputId": "14e52f59-e93f-444d-ed9e-e47a3f463574"
      },
      "execution_count": 16,
      "outputs": [
        {
          "output_type": "stream",
          "name": "stdout",
          "text": [
            "[True, 'Hello', 15.5, 15, 'Obito']\n"
          ]
        }
      ]
    },
    {
      "cell_type": "code",
      "source": [],
      "metadata": {
        "id": "cNJOjjMDbtPC"
      },
      "execution_count": null,
      "outputs": []
    },
    {
      "cell_type": "markdown",
      "source": [
        "####apend() end of the line\n",
        "\n"
      ],
      "metadata": {
        "id": "4ra9TapYb_9E"
      }
    },
    {
      "cell_type": "code",
      "source": [
        "list1.append(\"AnimeLover\")"
      ],
      "metadata": {
        "id": "2X0-zb_qcB48"
      },
      "execution_count": 17,
      "outputs": []
    },
    {
      "cell_type": "code",
      "source": [
        "list1"
      ],
      "metadata": {
        "colab": {
          "base_uri": "https://localhost:8080/",
          "height": 0
        },
        "id": "4BwAOZYQcGiq",
        "outputId": "2944c597-0f25-46d8-ed81-e76297459f30"
      },
      "execution_count": 18,
      "outputs": [
        {
          "output_type": "execute_result",
          "data": {
            "text/plain": [
              "['Obito', 15, 15.5, 'Hello', True, 'AnimeLover']"
            ]
          },
          "metadata": {},
          "execution_count": 18
        }
      ]
    },
    {
      "cell_type": "code",
      "source": [],
      "metadata": {
        "id": "GJH8_XkLcHZy"
      },
      "execution_count": null,
      "outputs": []
    },
    {
      "cell_type": "markdown",
      "source": [
        "###insert() using index value\n"
      ],
      "metadata": {
        "id": "rKrpAWiDcLNl"
      }
    },
    {
      "cell_type": "code",
      "source": [
        "list1.insert(-1,\"I added data in last index\")"
      ],
      "metadata": {
        "id": "E4Sw8utccOpE"
      },
      "execution_count": 21,
      "outputs": []
    },
    {
      "cell_type": "code",
      "source": [
        "list1"
      ],
      "metadata": {
        "colab": {
          "base_uri": "https://localhost:8080/",
          "height": 0
        },
        "id": "FX0Hq3g3ccu4",
        "outputId": "fee224ed-1473-4f16-8ab7-1adce1632eff"
      },
      "execution_count": 22,
      "outputs": [
        {
          "output_type": "execute_result",
          "data": {
            "text/plain": [
              "['Obito',\n",
              " 15,\n",
              " 15.5,\n",
              " 'I added data in 3rd index',\n",
              " 'Hello',\n",
              " True,\n",
              " 'I added data in last index',\n",
              " 'AnimeLover']"
            ]
          },
          "metadata": {},
          "execution_count": 22
        }
      ]
    },
    {
      "cell_type": "code",
      "source": [],
      "metadata": {
        "id": "uhQoAEOlcd12"
      },
      "execution_count": null,
      "outputs": []
    },
    {
      "cell_type": "markdown",
      "source": [
        "###Remove() it will directly delete first value from list\n",
        "ex list1.remove(2)"
      ],
      "metadata": {
        "id": "GR4s56LkcvpR"
      }
    },
    {
      "cell_type": "code",
      "source": [
        "list1.remove(15.5)"
      ],
      "metadata": {
        "id": "LRNVVBf1c7S6"
      },
      "execution_count": 24,
      "outputs": []
    },
    {
      "cell_type": "code",
      "source": [
        "list1"
      ],
      "metadata": {
        "colab": {
          "base_uri": "https://localhost:8080/",
          "height": 0
        },
        "id": "Ksf8KofXc8Oh",
        "outputId": "3360cd21-4cc7-44b8-d84d-ed3f5e2b2548"
      },
      "execution_count": 25,
      "outputs": [
        {
          "output_type": "execute_result",
          "data": {
            "text/plain": [
              "['Obito',\n",
              " 15,\n",
              " 'I added data in 3rd index',\n",
              " 'Hello',\n",
              " True,\n",
              " 'I added data in last index',\n",
              " 'AnimeLover']"
            ]
          },
          "metadata": {},
          "execution_count": 25
        }
      ]
    },
    {
      "cell_type": "code",
      "source": [
        "list1.append(15)"
      ],
      "metadata": {
        "id": "zuqkxOJCdEgi"
      },
      "execution_count": 26,
      "outputs": []
    },
    {
      "cell_type": "code",
      "source": [
        "list1"
      ],
      "metadata": {
        "colab": {
          "base_uri": "https://localhost:8080/",
          "height": 0
        },
        "id": "q6Xge_h8dInP",
        "outputId": "bc6b466b-6841-4d7d-d7c9-5fa8e36db4a1"
      },
      "execution_count": 27,
      "outputs": [
        {
          "output_type": "execute_result",
          "data": {
            "text/plain": [
              "['Obito',\n",
              " 15,\n",
              " 'I added data in 3rd index',\n",
              " 'Hello',\n",
              " True,\n",
              " 'I added data in last index',\n",
              " 'AnimeLover',\n",
              " 15]"
            ]
          },
          "metadata": {},
          "execution_count": 27
        }
      ]
    },
    {
      "cell_type": "code",
      "source": [
        "#here see it will remove 15 from first 15 not last one\n",
        "list1.remove(15)"
      ],
      "metadata": {
        "id": "Fc9lm28fdJK6"
      },
      "execution_count": 28,
      "outputs": []
    },
    {
      "cell_type": "code",
      "source": [
        "list1"
      ],
      "metadata": {
        "colab": {
          "base_uri": "https://localhost:8080/",
          "height": 0
        },
        "id": "ELvcjuUhdREe",
        "outputId": "484bb368-c435-4487-e9c5-2bfdbaf70f68"
      },
      "execution_count": 29,
      "outputs": [
        {
          "output_type": "execute_result",
          "data": {
            "text/plain": [
              "['Obito',\n",
              " 'I added data in 3rd index',\n",
              " 'Hello',\n",
              " True,\n",
              " 'I added data in last index',\n",
              " 'AnimeLover',\n",
              " 15]"
            ]
          },
          "metadata": {},
          "execution_count": 29
        }
      ]
    },
    {
      "cell_type": "code",
      "source": [],
      "metadata": {
        "id": "Wr7k4RLodSDd"
      },
      "execution_count": null,
      "outputs": []
    },
    {
      "cell_type": "markdown",
      "source": [
        "###Pop() it used for remove value based on index and also it default remove last value from list"
      ],
      "metadata": {
        "id": "LgQJ4o7jdUx3"
      }
    },
    {
      "cell_type": "code",
      "source": [
        "list1"
      ],
      "metadata": {
        "colab": {
          "base_uri": "https://localhost:8080/"
        },
        "id": "lw2XqBYBdtLF",
        "outputId": "d5422b48-4729-4b07-fdc1-bb0bc834ee1b"
      },
      "execution_count": 30,
      "outputs": [
        {
          "output_type": "execute_result",
          "data": {
            "text/plain": [
              "['Obito',\n",
              " 'I added data in 3rd index',\n",
              " 'Hello',\n",
              " True,\n",
              " 'I added data in last index',\n",
              " 'AnimeLover',\n",
              " 15]"
            ]
          },
          "metadata": {},
          "execution_count": 30
        }
      ]
    },
    {
      "cell_type": "code",
      "source": [
        "list1.pop()"
      ],
      "metadata": {
        "colab": {
          "base_uri": "https://localhost:8080/"
        },
        "id": "yy64HqMndwGT",
        "outputId": "42d2fef2-a699-489e-dff4-7d5ac6576cb9"
      },
      "execution_count": 31,
      "outputs": [
        {
          "output_type": "execute_result",
          "data": {
            "text/plain": [
              "15"
            ]
          },
          "metadata": {},
          "execution_count": 31
        }
      ]
    },
    {
      "cell_type": "code",
      "source": [
        "list1"
      ],
      "metadata": {
        "colab": {
          "base_uri": "https://localhost:8080/"
        },
        "id": "zCB6Q42EdxfS",
        "outputId": "47ed4836-123e-4c71-d391-eeaa8f6720b1"
      },
      "execution_count": 32,
      "outputs": [
        {
          "output_type": "execute_result",
          "data": {
            "text/plain": [
              "['Obito',\n",
              " 'I added data in 3rd index',\n",
              " 'Hello',\n",
              " True,\n",
              " 'I added data in last index',\n",
              " 'AnimeLover']"
            ]
          },
          "metadata": {},
          "execution_count": 32
        }
      ]
    },
    {
      "cell_type": "code",
      "source": [
        "list1.pop(1)"
      ],
      "metadata": {
        "colab": {
          "base_uri": "https://localhost:8080/",
          "height": 35
        },
        "id": "EuJuqqITdyCa",
        "outputId": "4aebb6bc-cf25-430d-8a2f-3ddbe2d93d04"
      },
      "execution_count": 33,
      "outputs": [
        {
          "output_type": "execute_result",
          "data": {
            "text/plain": [
              "'I added data in 3rd index'"
            ],
            "application/vnd.google.colaboratory.intrinsic+json": {
              "type": "string"
            }
          },
          "metadata": {},
          "execution_count": 33
        }
      ]
    },
    {
      "cell_type": "code",
      "source": [
        "list1"
      ],
      "metadata": {
        "colab": {
          "base_uri": "https://localhost:8080/"
        },
        "id": "AoN0q8wpd0hE",
        "outputId": "1a6c1f5f-2cd0-4c76-c2fe-e7fc38a1d923"
      },
      "execution_count": 34,
      "outputs": [
        {
          "output_type": "execute_result",
          "data": {
            "text/plain": [
              "['Obito', 'Hello', True, 'I added data in last index', 'AnimeLover']"
            ]
          },
          "metadata": {},
          "execution_count": 34
        }
      ]
    },
    {
      "cell_type": "code",
      "source": [
        "list1.pop(-2)"
      ],
      "metadata": {
        "colab": {
          "base_uri": "https://localhost:8080/",
          "height": 35
        },
        "id": "zQMtyU3Vd0_z",
        "outputId": "1257fb08-d1e5-4e08-d92a-be1db41aa71a"
      },
      "execution_count": 35,
      "outputs": [
        {
          "output_type": "execute_result",
          "data": {
            "text/plain": [
              "'I added data in last index'"
            ],
            "application/vnd.google.colaboratory.intrinsic+json": {
              "type": "string"
            }
          },
          "metadata": {},
          "execution_count": 35
        }
      ]
    },
    {
      "cell_type": "code",
      "source": [
        "list1"
      ],
      "metadata": {
        "colab": {
          "base_uri": "https://localhost:8080/"
        },
        "id": "mhVpxZKhd4kx",
        "outputId": "a6acb36b-e043-44eb-baaf-80aadaf9d952"
      },
      "execution_count": 36,
      "outputs": [
        {
          "output_type": "execute_result",
          "data": {
            "text/plain": [
              "['Obito', 'Hello', True, 'AnimeLover']"
            ]
          },
          "metadata": {},
          "execution_count": 36
        }
      ]
    },
    {
      "cell_type": "code",
      "source": [],
      "metadata": {
        "id": "Q2PEw8kpd5SC"
      },
      "execution_count": null,
      "outputs": []
    },
    {
      "cell_type": "markdown",
      "source": [
        "###Extend() used to add another list in existing list like adding"
      ],
      "metadata": {
        "id": "S2iTZeF9eLV2"
      }
    },
    {
      "cell_type": "code",
      "source": [
        "list1"
      ],
      "metadata": {
        "colab": {
          "base_uri": "https://localhost:8080/"
        },
        "id": "jZxKKDVleQg7",
        "outputId": "0c30aefb-0594-4fe0-d079-73203ea1fa27"
      },
      "execution_count": 37,
      "outputs": [
        {
          "output_type": "execute_result",
          "data": {
            "text/plain": [
              "['Obito', 'Hello', True, 'AnimeLover']"
            ]
          },
          "metadata": {},
          "execution_count": 37
        }
      ]
    },
    {
      "cell_type": "code",
      "source": [
        "list2= [\"new\",12,25,6,78]\n",
        "list1.extend(list2)"
      ],
      "metadata": {
        "id": "XdwoXJaTeR7H"
      },
      "execution_count": 38,
      "outputs": []
    },
    {
      "cell_type": "code",
      "source": [
        "list1"
      ],
      "metadata": {
        "colab": {
          "base_uri": "https://localhost:8080/"
        },
        "id": "xJGkU2LNeZBh",
        "outputId": "14f70ed4-c429-4861-eb89-347a9b9011a4"
      },
      "execution_count": 39,
      "outputs": [
        {
          "output_type": "execute_result",
          "data": {
            "text/plain": [
              "['Obito', 'Hello', True, 'AnimeLover', 'new', 12, 25, 6, 78]"
            ]
          },
          "metadata": {},
          "execution_count": 39
        }
      ]
    },
    {
      "cell_type": "code",
      "source": [
        "list1.extend([2,3,5,6,7])"
      ],
      "metadata": {
        "id": "5RksxaJseaLG"
      },
      "execution_count": 40,
      "outputs": []
    },
    {
      "cell_type": "code",
      "source": [
        "list1"
      ],
      "metadata": {
        "colab": {
          "base_uri": "https://localhost:8080/"
        },
        "id": "WWX8BjVBehLh",
        "outputId": "adf63278-55e3-4342-91b9-979b95e98242"
      },
      "execution_count": 41,
      "outputs": [
        {
          "output_type": "execute_result",
          "data": {
            "text/plain": [
              "['Obito', 'Hello', True, 'AnimeLover', 'new', 12, 25, 6, 78, 2, 3, 5, 6, 7]"
            ]
          },
          "metadata": {},
          "execution_count": 41
        }
      ]
    },
    {
      "cell_type": "code",
      "source": [
        "list1.append(list2)"
      ],
      "metadata": {
        "id": "-CXTci25eiFW"
      },
      "execution_count": 42,
      "outputs": []
    },
    {
      "cell_type": "code",
      "source": [
        "list1"
      ],
      "metadata": {
        "colab": {
          "base_uri": "https://localhost:8080/"
        },
        "id": "s2RpJMh6e1n-",
        "outputId": "80092145-657d-40c6-f6fb-f0d8cfa2203e"
      },
      "execution_count": 43,
      "outputs": [
        {
          "output_type": "execute_result",
          "data": {
            "text/plain": [
              "['Obito',\n",
              " 'Hello',\n",
              " True,\n",
              " 'AnimeLover',\n",
              " 'new',\n",
              " 12,\n",
              " 25,\n",
              " 6,\n",
              " 78,\n",
              " 2,\n",
              " 3,\n",
              " 5,\n",
              " 6,\n",
              " 7,\n",
              " ['new', 12, 25, 6, 78]]"
            ]
          },
          "metadata": {},
          "execution_count": 43
        }
      ]
    },
    {
      "cell_type": "code",
      "source": [],
      "metadata": {
        "id": "HgN_1oX5e2UW"
      },
      "execution_count": null,
      "outputs": []
    },
    {
      "cell_type": "markdown",
      "source": [
        "###inbuild reverse()"
      ],
      "metadata": {
        "id": "V72Wt8_nfEcT"
      }
    },
    {
      "cell_type": "code",
      "source": [
        "list1"
      ],
      "metadata": {
        "colab": {
          "base_uri": "https://localhost:8080/"
        },
        "id": "TZCl2JjbfG-N",
        "outputId": "afa0d95a-83f0-403f-a7cb-5d33cccd3431"
      },
      "execution_count": 44,
      "outputs": [
        {
          "output_type": "execute_result",
          "data": {
            "text/plain": [
              "['Obito',\n",
              " 'Hello',\n",
              " True,\n",
              " 'AnimeLover',\n",
              " 'new',\n",
              " 12,\n",
              " 25,\n",
              " 6,\n",
              " 78,\n",
              " 2,\n",
              " 3,\n",
              " 5,\n",
              " 6,\n",
              " 7,\n",
              " ['new', 12, 25, 6, 78]]"
            ]
          },
          "metadata": {},
          "execution_count": 44
        }
      ]
    },
    {
      "cell_type": "code",
      "source": [
        "list1.reverse()\n",
        "print(list1)"
      ],
      "metadata": {
        "colab": {
          "base_uri": "https://localhost:8080/"
        },
        "id": "EbrUhVcjfH8m",
        "outputId": "efb97ece-4c9a-4543-94b4-193898ab1650"
      },
      "execution_count": 47,
      "outputs": [
        {
          "output_type": "stream",
          "name": "stdout",
          "text": [
            "[['new', 12, 25, 6, 78], 7, 6, 5, 3, 2, 78, 6, 25, 12, 'new', 'AnimeLover', True, 'Hello', 'Obito']\n"
          ]
        }
      ]
    },
    {
      "cell_type": "code",
      "source": [],
      "metadata": {
        "id": "s-arhO1DfKE0"
      },
      "execution_count": null,
      "outputs": []
    },
    {
      "cell_type": "markdown",
      "source": [
        "###Sort()"
      ],
      "metadata": {
        "id": "_uVLo3XMflLB"
      }
    },
    {
      "cell_type": "code",
      "source": [
        "list3=[10,20,30,5,8,9,7,15,12]\n",
        "list3.sort(reverse =True)"
      ],
      "metadata": {
        "id": "T2N0CnMifmyY"
      },
      "execution_count": 60,
      "outputs": []
    },
    {
      "cell_type": "code",
      "source": [
        "print(list3)"
      ],
      "metadata": {
        "colab": {
          "base_uri": "https://localhost:8080/"
        },
        "id": "sYIgggw_foOb",
        "outputId": "00fd9a7d-1fd8-4b9c-9c0f-fc87d0125bdb"
      },
      "execution_count": 61,
      "outputs": [
        {
          "output_type": "stream",
          "name": "stdout",
          "text": [
            "[30, 20, 15, 12, 10, 9, 8, 7, 5]\n"
          ]
        }
      ]
    },
    {
      "cell_type": "code",
      "source": [],
      "metadata": {
        "id": "rOUVNx0kfxop"
      },
      "execution_count": null,
      "outputs": []
    },
    {
      "cell_type": "markdown",
      "source": [
        "###Count()"
      ],
      "metadata": {
        "id": "MheMofSugK-X"
      }
    },
    {
      "cell_type": "code",
      "source": [
        "list1"
      ],
      "metadata": {
        "colab": {
          "base_uri": "https://localhost:8080/"
        },
        "id": "nNyDeJ1AgMSV",
        "outputId": "3386f813-348b-4fcc-d62f-0aef78192ec9"
      },
      "execution_count": 62,
      "outputs": [
        {
          "output_type": "execute_result",
          "data": {
            "text/plain": [
              "[['new', 12, 25, 6, 78],\n",
              " 7,\n",
              " 6,\n",
              " 5,\n",
              " 3,\n",
              " 2,\n",
              " 78,\n",
              " 6,\n",
              " 25,\n",
              " 12,\n",
              " 'new',\n",
              " 'AnimeLover',\n",
              " True,\n",
              " 'Hello',\n",
              " 'Obito']"
            ]
          },
          "metadata": {},
          "execution_count": 62
        }
      ]
    },
    {
      "cell_type": "code",
      "source": [
        "list1.extend([1,2,3,1,2,2,5,8,8,8,9,5])"
      ],
      "metadata": {
        "id": "8tdad6VOgMvY"
      },
      "execution_count": 63,
      "outputs": []
    },
    {
      "cell_type": "code",
      "source": [
        "list1"
      ],
      "metadata": {
        "colab": {
          "base_uri": "https://localhost:8080/"
        },
        "id": "C5vqDXHNgWjx",
        "outputId": "541cc75b-b842-4da0-b5ff-b7f2e3a98571"
      },
      "execution_count": 64,
      "outputs": [
        {
          "output_type": "execute_result",
          "data": {
            "text/plain": [
              "[['new', 12, 25, 6, 78],\n",
              " 7,\n",
              " 6,\n",
              " 5,\n",
              " 3,\n",
              " 2,\n",
              " 78,\n",
              " 6,\n",
              " 25,\n",
              " 12,\n",
              " 'new',\n",
              " 'AnimeLover',\n",
              " True,\n",
              " 'Hello',\n",
              " 'Obito',\n",
              " 1,\n",
              " 2,\n",
              " 3,\n",
              " 1,\n",
              " 2,\n",
              " 2,\n",
              " 5,\n",
              " 8,\n",
              " 8,\n",
              " 8,\n",
              " 9,\n",
              " 5]"
            ]
          },
          "metadata": {},
          "execution_count": 64
        }
      ]
    },
    {
      "cell_type": "code",
      "source": [
        "list1.count(2)"
      ],
      "metadata": {
        "colab": {
          "base_uri": "https://localhost:8080/"
        },
        "id": "ir8x7tRogXia",
        "outputId": "f79252a1-d872-47b8-eee9-7d63f825801d"
      },
      "execution_count": 65,
      "outputs": [
        {
          "output_type": "execute_result",
          "data": {
            "text/plain": [
              "4"
            ]
          },
          "metadata": {},
          "execution_count": 65
        }
      ]
    },
    {
      "cell_type": "code",
      "source": [
        "list1.count(8)"
      ],
      "metadata": {
        "colab": {
          "base_uri": "https://localhost:8080/"
        },
        "id": "r9qZDr-ZgaXp",
        "outputId": "53317e88-6b09-4a2f-b2f2-58732f4391e0"
      },
      "execution_count": 67,
      "outputs": [
        {
          "output_type": "execute_result",
          "data": {
            "text/plain": [
              "3"
            ]
          },
          "metadata": {},
          "execution_count": 67
        }
      ]
    },
    {
      "cell_type": "code",
      "source": [
        "list1.count(5)"
      ],
      "metadata": {
        "colab": {
          "base_uri": "https://localhost:8080/"
        },
        "id": "UBZhPJSKgdsB",
        "outputId": "d576bb24-e7bf-4113-c4b6-4ec884ce729c"
      },
      "execution_count": 68,
      "outputs": [
        {
          "output_type": "execute_result",
          "data": {
            "text/plain": [
              "3"
            ]
          },
          "metadata": {},
          "execution_count": 68
        }
      ]
    },
    {
      "cell_type": "code",
      "source": [],
      "metadata": {
        "id": "HZ3WuNSTgkvJ"
      },
      "execution_count": 70,
      "outputs": []
    },
    {
      "cell_type": "code",
      "source": [],
      "metadata": {
        "id": "Hms6z5oSg1Pf"
      },
      "execution_count": null,
      "outputs": []
    }
  ]
}