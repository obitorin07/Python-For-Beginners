{
 "cells": [
  {
   "cell_type": "markdown",
   "id": "0392f2c0-9966-4bfe-bcfd-9f66ccb83bff",
   "metadata": {},
   "source": [
    "# using while loop finding  factorial values"
   ]
  },
  {
   "cell_type": "code",
   "execution_count": 1,
   "id": "ba3bb9be-e869-4627-b353-f186b6be96c6",
   "metadata": {},
   "outputs": [
    {
     "name": "stdin",
     "output_type": "stream",
     "text": [
      "Which Number You Want To Find Factorial Value : 5\n"
     ]
    },
    {
     "name": "stdout",
     "output_type": "stream",
     "text": [
      "120\n"
     ]
    }
   ],
   "source": [
    "factorial =1\n",
    "number_range =int(input(\"Which Number You Want To Find Factorial Value :\"))\n",
    "while number_range >0:\n",
    "    factorial = factorial *number_range\n",
    "    number_range =number_range-1\n",
    "print(factorial)\n",
    "    "
   ]
  },
  {
   "cell_type": "code",
   "execution_count": null,
   "id": "a6a2fc84-683b-4d87-878b-4e2dec1d7776",
   "metadata": {},
   "outputs": [],
   "source": []
  },
  {
   "cell_type": "code",
   "execution_count": 3,
   "id": "5949102c-3424-41a7-ae9d-6115cc924d60",
   "metadata": {},
   "outputs": [
    {
     "name": "stdin",
     "output_type": "stream",
     "text": [
      "Enter The Number: 5\n"
     ]
    },
    {
     "name": "stdout",
     "output_type": "stream",
     "text": [
      "120\n"
     ]
    }
   ],
   "source": [
    "fact = 1\n",
    "number = int(input(\"Enter The Number:\"))\n",
    "while 0<number:\n",
    "    fact =fact*number\n",
    "    number-=1\n",
    "print(fact)\n",
    "    "
   ]
  },
  {
   "cell_type": "code",
   "execution_count": null,
   "id": "b4f2cd24-4564-46a0-a004-39bb93c3c0e9",
   "metadata": {},
   "outputs": [],
   "source": []
  },
  {
   "cell_type": "markdown",
   "id": "f4254433-8329-43ea-9959-fd3706a0eac8",
   "metadata": {},
   "source": [
    "# Using Math module"
   ]
  },
  {
   "cell_type": "code",
   "execution_count": null,
   "id": "aa61e242-86fe-46fe-a81b-ec4d52f2f6e4",
   "metadata": {},
   "outputs": [],
   "source": []
  },
  {
   "cell_type": "code",
   "execution_count": 4,
   "id": "106bea03-c08f-4874-b65f-d66a03b8c6e7",
   "metadata": {},
   "outputs": [
    {
     "name": "stdout",
     "output_type": "stream",
     "text": [
      "120\n"
     ]
    }
   ],
   "source": [
    "import math\n",
    "print(math.factorial(5))"
   ]
  },
  {
   "cell_type": "markdown",
   "id": "91532682-e8f4-4e12-860c-1e20faf4f216",
   "metadata": {},
   "source": [
    "##  lets make this dynamic"
   ]
  },
  {
   "cell_type": "code",
   "execution_count": 10,
   "id": "5fbdda0e-9ced-46ec-842e-51a079d4db56",
   "metadata": {},
   "outputs": [
    {
     "name": "stdin",
     "output_type": "stream",
     "text": [
      "Enter The Number To Perform Factorial: 4\n"
     ]
    },
    {
     "name": "stdout",
     "output_type": "stream",
     "text": [
      "The Factorial Value of 4 is :24\n"
     ]
    }
   ],
   "source": [
    "import math\n",
    "user_input =int(input(\"Enter The Number To Perform Factorial:\"))\n",
    "print(\"The Factorial Value of {} is :{}\".format(user_input,math.factorial(user_input)))"
   ]
  },
  {
   "cell_type": "code",
   "execution_count": null,
   "id": "befa4be2-29a4-4401-b17e-f631e824caee",
   "metadata": {},
   "outputs": [],
   "source": []
  }
 ],
 "metadata": {
  "kernelspec": {
   "display_name": "Python 3 (ipykernel)",
   "language": "python",
   "name": "python3"
  },
  "language_info": {
   "codemirror_mode": {
    "name": "ipython",
    "version": 3
   },
   "file_extension": ".py",
   "mimetype": "text/x-python",
   "name": "python",
   "nbconvert_exporter": "python",
   "pygments_lexer": "ipython3",
   "version": "3.11.7"
  }
 },
 "nbformat": 4,
 "nbformat_minor": 5
}
