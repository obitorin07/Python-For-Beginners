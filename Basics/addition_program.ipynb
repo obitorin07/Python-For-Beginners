{
 "cells": [
  {
   "cell_type": "code",
   "execution_count": 6,
   "id": "6923df31-2f63-4e2c-9c78-cf51d65bedb5",
   "metadata": {},
   "outputs": [
    {
     "name": "stdout",
     "output_type": "stream",
     "text": [
      "addition of two numbers 75\n"
     ]
    }
   ],
   "source": [
    "#How to Perform Addition in Python\n",
    "num1 = 25\n",
    "num2 = 50\n",
    "result = num1 + num2 \n",
    "print(\"addition of two numbers\", result)"
   ]
  },
  {
   "cell_type": "code",
   "execution_count": 7,
   "id": "e29514b4-fcf8-442f-8a2e-085982b3aab8",
   "metadata": {},
   "outputs": [
    {
     "name": "stdout",
     "output_type": "stream",
     "text": [
      "The Addition of Two Number  300\n"
     ]
    }
   ],
   "source": [
    "#How to Perform Addition in Python\n",
    "num1 = 100\n",
    "num2 = 200\n",
    "print(\"The Addition of Two Number \", num1 + num2)"
   ]
  },
  {
   "cell_type": "code",
   "execution_count": 8,
   "id": "61b88ff2-da08-44b2-a0ac-11f930805965",
   "metadata": {},
   "outputs": [
    {
     "name": "stdin",
     "output_type": "stream",
     "text": [
      "Enter the first number: 10\n",
      "Enter the second number: 25\n"
     ]
    },
    {
     "name": "stdout",
     "output_type": "stream",
     "text": [
      "The addition of two number 35\n"
     ]
    }
   ],
   "source": [
    "#How to Perform Addition in Python\n",
    "num1 = int(input(\"Enter the first number:\"))\n",
    "num2 = int(input(\"Enter the second number:\"))\n",
    "result1 = num1 + num2\n",
    "print(\"The addition of two number\",result1)"
   ]
  },
  {
   "cell_type": "code",
   "execution_count": 10,
   "id": "3627220a-b186-49ad-bb38-e8bdf264a6ac",
   "metadata": {},
   "outputs": [
    {
     "name": "stdin",
     "output_type": "stream",
     "text": [
      "Enter the first number: 15\n",
      "Enter the second number: 15\n"
     ]
    },
    {
     "name": "stdout",
     "output_type": "stream",
     "text": [
      "The addition of 15 and 15  30\n"
     ]
    }
   ],
   "source": [
    "#How to Perform Addition in Python\n",
    "num1 = int(input(\"Enter the first number:\"))\n",
    "num2 = int(input(\"Enter the second number:\"))\n",
    "print(f\"The addition of {num1} and {num2} \",num1 + num2)"
   ]
  },
  {
   "cell_type": "code",
   "execution_count": null,
   "id": "0c14d6d6-ffb2-48e5-abef-e8bbedf28821",
   "metadata": {},
   "outputs": [],
   "source": []
  }
 ],
 "metadata": {
  "kernelspec": {
   "display_name": "Python 3 (ipykernel)",
   "language": "python",
   "name": "python3"
  },
  "language_info": {
   "codemirror_mode": {
    "name": "ipython",
    "version": 3
   },
   "file_extension": ".py",
   "mimetype": "text/x-python",
   "name": "python",
   "nbconvert_exporter": "python",
   "pygments_lexer": "ipython3",
   "version": "3.12.4"
  }
 },
 "nbformat": 4,
 "nbformat_minor": 5
}
