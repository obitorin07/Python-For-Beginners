{
  "nbformat": 4,
  "nbformat_minor": 0,
  "metadata": {
    "colab": {
      "provenance": []
    },
    "kernelspec": {
      "name": "python3",
      "display_name": "Python 3"
    },
    "language_info": {
      "name": "python"
    }
  },
  "cells": [
    {
      "cell_type": "markdown",
      "source": [
        "#For Loop"
      ],
      "metadata": {
        "id": "y-hnKJTw7kED"
      }
    },
    {
      "cell_type": "code",
      "execution_count": 4,
      "metadata": {
        "id": "T9tqA2SnFWTz",
        "colab": {
          "base_uri": "https://localhost:8080/"
        },
        "outputId": "aa438f2e-0cf0-4cff-d93c-b89d312b8bc8"
      },
      "outputs": [
        {
          "output_type": "stream",
          "name": "stdout",
          "text": [
            "1\n",
            "2\n",
            "3\n",
            "4\n",
            "5\n",
            "6\n",
            "7\n",
            "8\n",
            "9\n",
            "10\n",
            "11\n",
            "12\n",
            "13\n",
            "14\n",
            "15\n",
            "16\n",
            "17\n",
            "18\n",
            "19\n",
            "20\n"
          ]
        }
      ],
      "source": [
        "for i in range(1,20+1,1):\n",
        "  print(i)"
      ]
    },
    {
      "cell_type": "code",
      "source": [
        "snacks = [\n",
        "    'Potato Chips',\n",
        "    'Popcorn',\n",
        "    'Pretzels',\n",
        "    'Trail Mix',\n",
        "    'Chocolate-covered Almonds',\n",
        "    'Granola Bars',\n",
        "    'Cheese Puffs',\n",
        "    'Fruit Salad',\n",
        "    'Mixed Nuts',\n",
        "    'Rice Cakes',\n",
        "    'Dried Mango',\n",
        "    'Hummus with Pita Bread',\n",
        "    'Cucumber Slices',\n",
        "    'Carrot Sticks',\n",
        "    'Greek Yogurt',\n",
        "    'Apple Slices with Peanut Butter',\n",
        "    'Sliced Cheese',\n",
        "    'Olives',\n",
        "    'Dark Chocolate',\n",
        "    'Raisins'\n",
        "]\n",
        "\n",
        "print(snacks)\n"
      ],
      "metadata": {
        "colab": {
          "base_uri": "https://localhost:8080/"
        },
        "id": "3FgUk8qc7lkT",
        "outputId": "4223780d-0f5f-4e61-9c71-fead75611ca2"
      },
      "execution_count": 5,
      "outputs": [
        {
          "output_type": "stream",
          "name": "stdout",
          "text": [
            "['Potato Chips', 'Popcorn', 'Pretzels', 'Trail Mix', 'Chocolate-covered Almonds', 'Granola Bars', 'Cheese Puffs', 'Fruit Salad', 'Mixed Nuts', 'Rice Cakes', 'Dried Mango', 'Hummus with Pita Bread', 'Cucumber Slices', 'Carrot Sticks', 'Greek Yogurt', 'Apple Slices with Peanut Butter', 'Sliced Cheese', 'Olives', 'Dark Chocolate', 'Raisins']\n"
          ]
        }
      ]
    },
    {
      "cell_type": "markdown",
      "source": [
        "### this is my snacks list ⏬\n",
        "lets iterate them one by one\n",
        "\n",
        "snacks = [\n",
        "    'Potato Chips',\n",
        "    'Popcorn',\n",
        "    'Pretzels',\n",
        "    'Trail Mix',\n",
        "    'Chocolate-covered Almonds',\n",
        "    'Granola Bars',\n",
        "    'Cheese Puffs',\n",
        "    'Fruit Salad',\n",
        "    'Mixed Nuts',\n",
        "    'Rice Cakes',\n",
        "    'Dried Mango',\n",
        "    'Hummus with Pita Bread',\n",
        "    'Cucumber Slices',\n",
        "    'Carrot Sticks',\n",
        "    'Greek Yogurt',\n",
        "    'Apple Slices with Peanut Butter',\n",
        "    'Sliced Cheese',\n",
        "    'Olives',\n",
        "    'Dark Chocolate',\n",
        "    'Raisins'\n",
        "]\n",
        "\n",
        "\n"
      ],
      "metadata": {
        "id": "gXRau5RO8jPw"
      }
    },
    {
      "cell_type": "code",
      "source": [
        "counting =1\n",
        "for snacks_names in snacks:\n",
        "  print(\"{} snacks name is :{}\".format(counting,snacks_names))\n",
        "  counting+=1\n",
        "print(\"The Total Numbers Of snacks :\",counting-1)\n",
        "print(\"have a good day\")"
      ],
      "metadata": {
        "colab": {
          "base_uri": "https://localhost:8080/"
        },
        "id": "n2RdWlh07mgg",
        "outputId": "1bc31709-e346-4c58-93ef-43d96823ce4c"
      },
      "execution_count": 14,
      "outputs": [
        {
          "output_type": "stream",
          "name": "stdout",
          "text": [
            "1 snacks name is :Potato Chips\n",
            "2 snacks name is :Popcorn\n",
            "3 snacks name is :Pretzels\n",
            "4 snacks name is :Trail Mix\n",
            "5 snacks name is :Chocolate-covered Almonds\n",
            "6 snacks name is :Granola Bars\n",
            "7 snacks name is :Cheese Puffs\n",
            "8 snacks name is :Fruit Salad\n",
            "9 snacks name is :Mixed Nuts\n",
            "10 snacks name is :Rice Cakes\n",
            "11 snacks name is :Dried Mango\n",
            "12 snacks name is :Hummus with Pita Bread\n",
            "13 snacks name is :Cucumber Slices\n",
            "14 snacks name is :Carrot Sticks\n",
            "15 snacks name is :Greek Yogurt\n",
            "16 snacks name is :Apple Slices with Peanut Butter\n",
            "17 snacks name is :Sliced Cheese\n",
            "18 snacks name is :Olives\n",
            "19 snacks name is :Dark Chocolate\n",
            "20 snacks name is :Raisins\n",
            "The Total Numbers Of snacks : 20\n",
            "have a good day\n"
          ]
        }
      ]
    },
    {
      "cell_type": "code",
      "source": [],
      "metadata": {
        "id": "p9kvlr3Y9LVd"
      },
      "execution_count": null,
      "outputs": []
    },
    {
      "cell_type": "markdown",
      "source": [
        "##range()"
      ],
      "metadata": {
        "id": "vn5nKGgS_hME"
      }
    },
    {
      "cell_type": "code",
      "source": [
        "a = list(range(1,20+1))"
      ],
      "metadata": {
        "id": "5ZbdPLOO_ic-"
      },
      "execution_count": 29,
      "outputs": []
    },
    {
      "cell_type": "code",
      "source": [
        "a"
      ],
      "metadata": {
        "colab": {
          "base_uri": "https://localhost:8080/"
        },
        "id": "S09np_-Z_kTp",
        "outputId": "942f9559-85cc-4bd6-db00-fe73661980d5"
      },
      "execution_count": 30,
      "outputs": [
        {
          "output_type": "execute_result",
          "data": {
            "text/plain": [
              "[1, 2, 3, 4, 5, 6, 7, 8, 9, 10, 11, 12, 13, 14, 15, 16, 17, 18, 19, 20]"
            ]
          },
          "metadata": {},
          "execution_count": 30
        }
      ]
    },
    {
      "cell_type": "code",
      "source": [],
      "metadata": {
        "id": "xVSTYKeI_lHV"
      },
      "execution_count": null,
      "outputs": []
    },
    {
      "cell_type": "markdown",
      "source": [
        "#range(start,stop,step)"
      ],
      "metadata": {
        "id": "UmRwB5Q5BVo8"
      }
    },
    {
      "cell_type": "code",
      "source": [
        "a"
      ],
      "metadata": {
        "colab": {
          "base_uri": "https://localhost:8080/"
        },
        "id": "Vdk3VCCDBccI",
        "outputId": "b975b8aa-2cdc-4270-ab55-2a5ac6367451"
      },
      "execution_count": 31,
      "outputs": [
        {
          "output_type": "execute_result",
          "data": {
            "text/plain": [
              "[1, 2, 3, 4, 5, 6, 7, 8, 9, 10, 11, 12, 13, 14, 15, 16, 17, 18, 19, 20]"
            ]
          },
          "metadata": {},
          "execution_count": 31
        }
      ]
    },
    {
      "cell_type": "code",
      "source": [
        "for i in range (3,30+1,3):\n",
        "  print(i)"
      ],
      "metadata": {
        "colab": {
          "base_uri": "https://localhost:8080/"
        },
        "id": "XiQ-Is5ABffC",
        "outputId": "20439d95-10b8-4e80-e900-046916b32397"
      },
      "execution_count": 38,
      "outputs": [
        {
          "output_type": "stream",
          "name": "stdout",
          "text": [
            "3\n",
            "6\n",
            "9\n",
            "12\n",
            "15\n",
            "18\n",
            "21\n",
            "24\n",
            "27\n",
            "30\n"
          ]
        }
      ]
    },
    {
      "cell_type": "code",
      "source": [
        "for k in range(2,30+1,2):\n",
        "  print(\"The even number\",k)"
      ],
      "metadata": {
        "colab": {
          "base_uri": "https://localhost:8080/"
        },
        "id": "dwlw9-sjBmhV",
        "outputId": "bdbe52a6-535d-4754-e8b1-868c10328692"
      },
      "execution_count": 42,
      "outputs": [
        {
          "output_type": "stream",
          "name": "stdout",
          "text": [
            "The even number 2\n",
            "The even number 4\n",
            "The even number 6\n",
            "The even number 8\n",
            "The even number 10\n",
            "The even number 12\n",
            "The even number 14\n",
            "The even number 16\n",
            "The even number 18\n",
            "The even number 20\n",
            "The even number 22\n",
            "The even number 24\n",
            "The even number 26\n",
            "The even number 28\n",
            "The even number 30\n"
          ]
        }
      ]
    },
    {
      "cell_type": "markdown",
      "source": [
        "##another way for print even numbers"
      ],
      "metadata": {
        "id": "Aq-KN2uKCeJU"
      }
    },
    {
      "cell_type": "code",
      "source": [
        "#!/usr/bin/env python3\n",
        "\n",
        "for i in range (1,20+1):\n",
        "  if i%2==0:\n",
        "    print(\"the Even numbers:\",i)\n",
        "  else:\n",
        "    print(\"The odd Number is \",i)\n",
        "\n"
      ],
      "metadata": {
        "colab": {
          "base_uri": "https://localhost:8080/"
        },
        "id": "FxlYoXPJCOHw",
        "outputId": "b3fa1bb5-4dc2-44bd-c1f0-e6eb81eb1088"
      },
      "execution_count": 46,
      "outputs": [
        {
          "output_type": "stream",
          "name": "stdout",
          "text": [
            "The odd Number is  1\n",
            "the Even numbers: 2\n",
            "The odd Number is  3\n",
            "the Even numbers: 4\n",
            "The odd Number is  5\n",
            "the Even numbers: 6\n",
            "The odd Number is  7\n",
            "the Even numbers: 8\n",
            "The odd Number is  9\n",
            "the Even numbers: 10\n",
            "The odd Number is  11\n",
            "the Even numbers: 12\n",
            "The odd Number is  13\n",
            "the Even numbers: 14\n",
            "The odd Number is  15\n",
            "the Even numbers: 16\n",
            "The odd Number is  17\n",
            "the Even numbers: 18\n",
            "The odd Number is  19\n",
            "the Even numbers: 20\n"
          ]
        }
      ]
    },
    {
      "cell_type": "code",
      "source": [
        "#!/usr/bin/env python3\n",
        "for i in range"
      ],
      "metadata": {
        "id": "27I90nq-CmZV"
      },
      "execution_count": null,
      "outputs": []
    },
    {
      "cell_type": "markdown",
      "source": [
        "##arithmetic operations"
      ],
      "metadata": {
        "id": "AdxCSelcEjpS"
      }
    },
    {
      "cell_type": "code",
      "source": [
        "#!/usr/bin/env python3\n",
        "sum_no = 0\n",
        "list1 = [2,2,9]\n",
        "for num in list1:\n",
        "  #sum = sum +num\n",
        "  sum_no +=num\n",
        "print(\"The Sum of {} is {}\".format(list1,sum_no))"
      ],
      "metadata": {
        "colab": {
          "base_uri": "https://localhost:8080/"
        },
        "id": "4X-RNJY1Eon-",
        "outputId": "39a44165-9250-49e3-e926-86c6bf432c0d"
      },
      "execution_count": 51,
      "outputs": [
        {
          "output_type": "stream",
          "name": "stdout",
          "text": [
            "The Sum of [2, 2, 9] is 13\n"
          ]
        }
      ]
    },
    {
      "cell_type": "code",
      "source": [
        "#!/usr/bin/env python3\n",
        "#it prints each values square\n",
        "list2 = [5,6,8,9,7]\n",
        "sum_no = [i **2 for i in list2]\n",
        "print(sum_no)"
      ],
      "metadata": {
        "colab": {
          "base_uri": "https://localhost:8080/"
        },
        "id": "d8LDglCaE0-Q",
        "outputId": "821f58ff-979e-4481-de80-f9a6256bb9bc"
      },
      "execution_count": 52,
      "outputs": [
        {
          "output_type": "stream",
          "name": "stdout",
          "text": [
            "[25, 36, 64, 81, 49]\n"
          ]
        }
      ]
    },
    {
      "cell_type": "code",
      "source": [
        "#!/usr/bin/env python3\n",
        "even=[i for i in range(1,30+1) if i%2==0]\n",
        "print(\"The Even Numbers =\",even)\n",
        "odd =[i for i in range(1,30+1) if i%2!=0]\n",
        "print(\"The Odd Numbers =\",odd)\n"
      ],
      "metadata": {
        "colab": {
          "base_uri": "https://localhost:8080/"
        },
        "id": "5BCJvnobHimt",
        "outputId": "803219d1-b2a0-46ff-b97b-4e86df55dd21"
      },
      "execution_count": 58,
      "outputs": [
        {
          "output_type": "stream",
          "name": "stdout",
          "text": [
            "The Even Numbers = [2, 4, 6, 8, 10, 12, 14, 16, 18, 20, 22, 24, 26, 28, 30]\n",
            "The Odd Numbers = [1, 3, 5, 7, 9, 11, 13, 15, 17, 19, 21, 23, 25, 27, 29]\n"
          ]
        }
      ]
    },
    {
      "cell_type": "code",
      "source": [
        "even"
      ],
      "metadata": {
        "colab": {
          "base_uri": "https://localhost:8080/"
        },
        "id": "71TE405OJDPi",
        "outputId": "cb3e375b-dbe0-4830-e989-36b2a929e044"
      },
      "execution_count": 55,
      "outputs": [
        {
          "output_type": "execute_result",
          "data": {
            "text/plain": [
              "[2, 4, 6, 8, 10, 12, 14, 16, 18, 20, 22, 24, 26, 28]"
            ]
          },
          "metadata": {},
          "execution_count": 55
        }
      ]
    },
    {
      "cell_type": "code",
      "source": [
        " x =[2,8,65,56,55,21,5,11,25,12,16]\n",
        " big =[i for i in x if i>10]"
      ],
      "metadata": {
        "id": "LvDnBXUPJGmL"
      },
      "execution_count": 59,
      "outputs": []
    },
    {
      "cell_type": "code",
      "source": [
        "big.sort()\n",
        "big\n"
      ],
      "metadata": {
        "colab": {
          "base_uri": "https://localhost:8080/"
        },
        "id": "rOlIpxXRUrBH",
        "outputId": "3cc3892c-4b44-4585-d441-1bef090dd29c"
      },
      "execution_count": 70,
      "outputs": [
        {
          "output_type": "execute_result",
          "data": {
            "text/plain": [
              "[11, 12, 16, 21, 25, 55, 56, 65]"
            ]
          },
          "metadata": {},
          "execution_count": 70
        }
      ]
    },
    {
      "cell_type": "code",
      "source": [],
      "metadata": {
        "colab": {
          "base_uri": "https://localhost:8080/"
        },
        "id": "KBvhqDuDUrsk",
        "outputId": "0eed520e-b1cb-4ca9-e4e8-0daa7325a0c1"
      },
      "execution_count": 68,
      "outputs": [
        {
          "output_type": "stream",
          "name": "stdout",
          "text": [
            "None\n"
          ]
        }
      ]
    },
    {
      "cell_type": "code",
      "source": [],
      "metadata": {
        "id": "ajkN-dEzU2GV"
      },
      "execution_count": null,
      "outputs": []
    },
    {
      "cell_type": "markdown",
      "source": [
        "\n",
        "##factorial value"
      ],
      "metadata": {
        "id": "M_jNC8b9VSu7"
      }
    },
    {
      "cell_type": "code",
      "source": [
        "factorial =1\n",
        "fact = int(input(\"Enter The value :\"))\n",
        "if fact ==0:\n",
        "  print(\"Number must be greather than1\")\n",
        "elif fact <0:\n",
        "  print(\"number must be positive\")\n",
        "else :\n",
        "  for fact in range(1,fact+1):\n",
        "    factorial = factorial *fact\n",
        "print(f\"The factorial of {fact}! is {factorial}\")"
      ],
      "metadata": {
        "colab": {
          "base_uri": "https://localhost:8080/"
        },
        "id": "Gnw8AdhDVV70",
        "outputId": "4a61ef09-7f94-4512-9ebc-4c3b3776da0c"
      },
      "execution_count": 74,
      "outputs": [
        {
          "output_type": "stream",
          "name": "stdout",
          "text": [
            "Enter The value :5\n",
            "The factorial of 5! is 120\n"
          ]
        }
      ]
    },
    {
      "cell_type": "code",
      "source": [],
      "metadata": {
        "id": "nck_dlU4V82N"
      },
      "execution_count": null,
      "outputs": []
    },
    {
      "cell_type": "markdown",
      "source": [
        "##pass"
      ],
      "metadata": {
        "id": "BdNtU4_YXxUr"
      }
    },
    {
      "cell_type": "code",
      "source": [
        "for i in range(10):\n",
        "  pass"
      ],
      "metadata": {
        "id": "tCW2A_iFXyS5"
      },
      "execution_count": 75,
      "outputs": []
    },
    {
      "cell_type": "code",
      "source": [],
      "metadata": {
        "id": "B74F0NXnX0N2"
      },
      "execution_count": null,
      "outputs": []
    },
    {
      "cell_type": "markdown",
      "source": [
        "##continue"
      ],
      "metadata": {
        "id": "Zp1Md518X02O"
      }
    },
    {
      "cell_type": "code",
      "source": [
        "#!/usr/bin/env python3\n",
        "my_name = 'Ray'\n",
        "list_names =['Obito','Rin','Kushina','Ray','Minato']\n",
        "for names in list_names:\n",
        "  if names ==my_name:\n",
        "    print(f\"Yeah My Name is {names}\")\n",
        "    continue\n",
        "  print(f\"My Name is not a {names}\")"
      ],
      "metadata": {
        "colab": {
          "base_uri": "https://localhost:8080/"
        },
        "id": "Xah0DuMuX26J",
        "outputId": "d47b6941-d60e-4b63-c5b0-1860b18cc311"
      },
      "execution_count": 82,
      "outputs": [
        {
          "output_type": "stream",
          "name": "stdout",
          "text": [
            "My Name is not a Obito\n",
            "My Name is not a Rin\n",
            "My Name is not a Kushina\n",
            "Yeah My Name is Ray\n",
            "My Name is not a Minato\n"
          ]
        }
      ]
    },
    {
      "cell_type": "markdown",
      "source": [
        "##break"
      ],
      "metadata": {
        "id": "-SEGPCjhZSIV"
      }
    },
    {
      "cell_type": "code",
      "source": [
        "#!/usr/bin/env python3\n",
        "my_name = 'Ray'\n",
        "list_names =['Obito','Rin','Kushina','Ray','Minato']\n",
        "for names in list_names:\n",
        "  if names ==my_name:\n",
        "    print(\"Finally Found My name huh !\")\n",
        "    print(f\"Yeah My Name is {names}\")\n",
        "    break\n",
        "  print(f\"My Name is not a {names}\")"
      ],
      "metadata": {
        "colab": {
          "base_uri": "https://localhost:8080/"
        },
        "id": "3KJa01MbYyo7",
        "outputId": "9be32502-fec1-4aa5-b178-afc9332450fb"
      },
      "execution_count": 84,
      "outputs": [
        {
          "output_type": "stream",
          "name": "stdout",
          "text": [
            "My Name is not a Obito\n",
            "My Name is not a Rin\n",
            "My Name is not a Kushina\n",
            "Finally Found My name huh !\n",
            "Yeah My Name is Ray\n"
          ]
        }
      ]
    },
    {
      "cell_type": "code",
      "source": [],
      "metadata": {
        "id": "oVao0Vg-ZV-G"
      },
      "execution_count": null,
      "outputs": []
    }
  ]
}