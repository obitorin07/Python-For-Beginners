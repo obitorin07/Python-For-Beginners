{
 "cells": [
  {
   "cell_type": "markdown",
   "id": "4074de12-4a08-42dc-bedd-8af824bf0882",
   "metadata": {},
   "source": [
    "# calculate_average using function\n"
   ]
  },
  {
   "cell_type": "code",
   "execution_count": 30,
   "id": "bfc35749-a06c-48bc-bc0a-1619bc469a8a",
   "metadata": {},
   "outputs": [],
   "source": [
    "def calculate_average(numbers):\n",
    "    add =0\n",
    "    count =0\n",
    "    for i in numbers:\n",
    "        print(i,end =\" \")\n",
    "        if type (i) == int or type(i) == float:\n",
    "            add = add +i\n",
    "            count +=1 \n",
    "        \n",
    "    average = add / count\n",
    "\n",
    "    return average"
   ]
  },
  {
   "cell_type": "code",
   "execution_count": 27,
   "id": "1576a97b-7e10-4fa2-a9fa-f0560fe6be6e",
   "metadata": {},
   "outputs": [
    {
     "name": "stdout",
     "output_type": "stream",
     "text": [
      "10 20 30 40 50 "
     ]
    },
    {
     "data": {
      "text/plain": [
       "30.0"
      ]
     },
     "execution_count": 27,
     "metadata": {},
     "output_type": "execute_result"
    }
   ],
   "source": [
    "numbers = [10,20,30,40,50]\n",
    "calculate_average(numbers)"
   ]
  },
  {
   "cell_type": "code",
   "execution_count": 32,
   "id": "b5be97cb-d200-498e-9957-c974bb4f6af6",
   "metadata": {},
   "outputs": [
    {
     "name": "stdout",
     "output_type": "stream",
     "text": [
      "0 "
     ]
    },
    {
     "data": {
      "text/plain": [
       "0.0"
      ]
     },
     "execution_count": 32,
     "metadata": {},
     "output_type": "execute_result"
    }
   ],
   "source": [
    "numbers = [0]\n",
    "calculate_average(numbers)"
   ]
  },
  {
   "cell_type": "code",
   "execution_count": 35,
   "id": "6959205f-332c-494a-9800-b0a40ccf5280",
   "metadata": {},
   "outputs": [],
   "source": [
    "def calculate_average(numbers):\n",
    "    sum_value =sum(numbers)\n",
    "    counting_values = len(numbers)\n",
    "    average = sum_value/counting_values\n",
    "    return average"
   ]
  },
  {
   "cell_type": "code",
   "execution_count": 36,
   "id": "df38aa45-c64e-49a8-9117-77fc81ccc79a",
   "metadata": {},
   "outputs": [
    {
     "data": {
      "text/plain": [
       "30.0"
      ]
     },
     "execution_count": 36,
     "metadata": {},
     "output_type": "execute_result"
    }
   ],
   "source": [
    "numbers = [10,20,30,40,50]\n",
    "calculate_average(numbers)"
   ]
  },
  {
   "cell_type": "code",
   "execution_count": null,
   "id": "a2299672-f63a-4d89-b51f-8861e127c5ef",
   "metadata": {},
   "outputs": [],
   "source": []
  },
  {
   "cell_type": "code",
   "execution_count": null,
   "id": "69732886-42a5-4f96-bea0-5936cd8a169e",
   "metadata": {},
   "outputs": [],
   "source": []
  }
 ],
 "metadata": {
  "kernelspec": {
   "display_name": "Python 3 (ipykernel)",
   "language": "python",
   "name": "python3"
  },
  "language_info": {
   "codemirror_mode": {
    "name": "ipython",
    "version": 3
   },
   "file_extension": ".py",
   "mimetype": "text/x-python",
   "name": "python",
   "nbconvert_exporter": "python",
   "pygments_lexer": "ipython3",
   "version": "3.11.7"
  }
 },
 "nbformat": 4,
 "nbformat_minor": 5
}
