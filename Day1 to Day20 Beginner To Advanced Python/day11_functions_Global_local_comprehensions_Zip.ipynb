{
  "nbformat": 4,
  "nbformat_minor": 0,
  "metadata": {
    "colab": {
      "provenance": []
    },
    "kernelspec": {
      "name": "python3",
      "display_name": "Python 3"
    },
    "language_info": {
      "name": "python"
    }
  },
  "cells": [
    {
      "cell_type": "markdown",
      "source": [
        "#Global() and Local"
      ],
      "metadata": {
        "id": "9Z35net9BjWI"
      }
    },
    {
      "cell_type": "markdown",
      "source": [
        "##global"
      ],
      "metadata": {
        "id": "Tu8gFyXSB7jI"
      }
    },
    {
      "cell_type": "code",
      "execution_count": 2,
      "metadata": {
        "colab": {
          "base_uri": "https://localhost:8080/"
        },
        "id": "ik6lYUC_8dnx",
        "outputId": "5e851c88-e4af-4d65-a90c-d615fec2e669"
      },
      "outputs": [
        {
          "output_type": "stream",
          "name": "stdout",
          "text": [
            "The Value of x 10\n"
          ]
        }
      ],
      "source": [
        "#!/usr/bin/env python3\n",
        "\n",
        "x = 10 # the global variable\n",
        "\n",
        "def value (x):\n",
        "  print(f\"The Value of x {x}\")\n",
        "\n",
        "value (x)"
      ]
    },
    {
      "cell_type": "code",
      "source": [],
      "metadata": {
        "id": "rsoMUaRnBl3N"
      },
      "execution_count": null,
      "outputs": []
    },
    {
      "cell_type": "markdown",
      "source": [
        "##local"
      ],
      "metadata": {
        "id": "neOVIsWOCCL6"
      }
    },
    {
      "cell_type": "code",
      "source": [],
      "metadata": {
        "id": "ath1LCeVE-lI"
      },
      "execution_count": null,
      "outputs": []
    },
    {
      "cell_type": "code",
      "source": [
        "#!/usr/bin/env python3\n",
        "\n",
        "x = 20\n",
        "def values(x):\n",
        "  x = 15 #local variable\n",
        "  print(f\"The Local variable is {x}\")\n",
        "print(f\"The global variable is {x}\")\n",
        "\n",
        "values(x)"
      ],
      "metadata": {
        "colab": {
          "base_uri": "https://localhost:8080/"
        },
        "id": "obT5TA63CDC8",
        "outputId": "0841b6e6-1f05-4007-949f-f96200153a58"
      },
      "execution_count": 4,
      "outputs": [
        {
          "output_type": "stream",
          "name": "stdout",
          "text": [
            "The global variable is 20\n",
            "The Local variable is 15\n"
          ]
        }
      ]
    },
    {
      "cell_type": "code",
      "source": [
        "\n",
        "\n"
      ],
      "metadata": {
        "id": "IUBb81ZjCg9s"
      },
      "execution_count": 4,
      "outputs": []
    },
    {
      "cell_type": "code",
      "source": [
        "age = 23 # age is gloabal variable\n",
        "name = 'Obito' # name is global variable\n",
        "places = ['Konaha','Japan','Leaf'] # same global\n",
        "\n",
        "\n",
        "def local():\n",
        "  age = 20 # age is glocal variable\n",
        "  name = 'Rin' # name is local variable\n",
        "  print(\"The user name is %s and age is %d and where they from %s\"%(name,age,places[0]))\n",
        "\n",
        "local()\n",
        "\n",
        "# calling global()\n",
        "print(f\"The user name is {name} and age is {age} and where they from {places[1]}\")\n"
      ],
      "metadata": {
        "colab": {
          "base_uri": "https://localhost:8080/"
        },
        "id": "YqsPwnsiE7_x",
        "outputId": "7f55c05c-2323-4194-c12c-20d1bb5e2d85"
      },
      "execution_count": 23,
      "outputs": [
        {
          "output_type": "stream",
          "name": "stdout",
          "text": [
            "The user name is Rin and age is 20 and where they from Konaha\n",
            "The user name is Obito and age is 23 and where they from Japan\n"
          ]
        }
      ]
    },
    {
      "cell_type": "markdown",
      "source": [
        "##using %s %i %d %f\n",
        "1. it is same as format()\n",
        "or f string"
      ],
      "metadata": {
        "id": "uu7-OEsLIw3e"
      }
    },
    {
      "cell_type": "code",
      "source": [
        "\n",
        "name = 'obitorin'\n",
        "age = 15\n",
        "print(\"My name is %s\"%name)\n",
        "print(\"My age is %d\"%age)"
      ],
      "metadata": {
        "colab": {
          "base_uri": "https://localhost:8080/"
        },
        "outputId": "b741a8c8-046c-4606-99db-9ea577a4d1b2",
        "id": "BO9HA7nEFje_"
      },
      "execution_count": 8,
      "outputs": [
        {
          "output_type": "stream",
          "name": "stdout",
          "text": [
            "My name is obitorin\n",
            "My age is 15\n"
          ]
        }
      ]
    },
    {
      "cell_type": "code",
      "source": [
        "print(f\"my name is {name}\")\n",
        "print(\"my age is {}\".format(age))"
      ],
      "metadata": {
        "colab": {
          "base_uri": "https://localhost:8080/"
        },
        "id": "4NjZqYyjIhY9",
        "outputId": "d926811e-a07b-4a1d-e4ea-935795529a51"
      },
      "execution_count": 11,
      "outputs": [
        {
          "output_type": "stream",
          "name": "stdout",
          "text": [
            "my name is obitorin\n",
            "my age is 15\n"
          ]
        }
      ]
    },
    {
      "cell_type": "code",
      "source": [],
      "metadata": {
        "id": "9ye3R6NEFkuC"
      },
      "execution_count": null,
      "outputs": []
    },
    {
      "cell_type": "markdown",
      "source": [
        "##global variable within fun"
      ],
      "metadata": {
        "id": "93D2czxDRNEX"
      }
    },
    {
      "cell_type": "code",
      "source": [
        "x = 20\n",
        "def global_var():\n",
        "  global x\n",
        "  x =25\n",
        "  print(\"The value \",x)\n",
        "\n",
        "print(x)\n",
        "#after fun\n",
        "global_var()\n",
        "print(x)"
      ],
      "metadata": {
        "colab": {
          "base_uri": "https://localhost:8080/"
        },
        "id": "W4_rl2EbRQUC",
        "outputId": "e11c40ec-7081-4887-ab4f-2c9a0d68c74b"
      },
      "execution_count": 28,
      "outputs": [
        {
          "output_type": "stream",
          "name": "stdout",
          "text": [
            "20\n",
            "The value  25\n",
            "25\n"
          ]
        }
      ]
    },
    {
      "cell_type": "markdown",
      "source": [
        "#Recursion\n",
        "\n",
        "1. like loop type gol gol gol gumna"
      ],
      "metadata": {
        "id": "UDoNktY7TxZx"
      }
    },
    {
      "cell_type": "code",
      "source": [
        "def fact(n):\n",
        "  if n<0:\n",
        "    print(\"Number should be positive\")\n",
        "  elif n==0:\n",
        "    print(\"Number Should be greater than 1\")\n",
        "\n",
        "  else:\n",
        "    fact =1\n",
        "    for i in range(1,n+1):\n",
        "      fact =fact*i\n",
        "    print(f\"The factorial of {n}! is {fact}\")\n",
        "\n",
        "fact(5)"
      ],
      "metadata": {
        "colab": {
          "base_uri": "https://localhost:8080/"
        },
        "id": "MDrINlyqRceA",
        "outputId": "9f833ec2-3c7d-4cb2-a161-fa44b253aa70"
      },
      "execution_count": 40,
      "outputs": [
        {
          "output_type": "stream",
          "name": "stdout",
          "text": [
            "The factorial of 5! is 120\n"
          ]
        }
      ]
    },
    {
      "cell_type": "code",
      "source": [],
      "metadata": {
        "id": "iE3PPH9zUDo_"
      },
      "execution_count": null,
      "outputs": []
    },
    {
      "cell_type": "markdown",
      "source": [
        "##Real recursion here"
      ],
      "metadata": {
        "id": "zgdHhhnyYxrW"
      }
    },
    {
      "cell_type": "code",
      "source": [
        "def fact(n):\n",
        "  if n<0 or n ==0:\n",
        "    print(\"Number should be positive\")\n",
        "  elif n==1:\n",
        "    return 1\n",
        "  else:\n",
        "    return(n *fact(n-1))\n",
        "fact(4)"
      ],
      "metadata": {
        "colab": {
          "base_uri": "https://localhost:8080/"
        },
        "id": "KVJjqLdaYzez",
        "outputId": "5510a2e7-045e-4a6b-c991-53e355f6bf49"
      },
      "execution_count": 43,
      "outputs": [
        {
          "output_type": "execute_result",
          "data": {
            "text/plain": [
              "24"
            ]
          },
          "metadata": {},
          "execution_count": 43
        }
      ]
    },
    {
      "cell_type": "code",
      "source": [
        ""
      ],
      "metadata": {
        "id": "vIX0D8z1eWTL"
      },
      "execution_count": 55,
      "outputs": []
    },
    {
      "cell_type": "markdown",
      "source": [
        "\n",
        "\n",
        "#comprehension\n"
      ],
      "metadata": {
        "id": "0gcQ_pkNgNO9"
      }
    },
    {
      "cell_type": "code",
      "source": [
        "name = 'Obitouchiha'\n",
        "empty_list =[]\n",
        "\n",
        "for i in name:\n",
        "  empty_list.append(i)"
      ],
      "metadata": {
        "id": "3O-jC-vOnboB"
      },
      "execution_count": 70,
      "outputs": []
    },
    {
      "cell_type": "code",
      "source": [
        "empty_list\n"
      ],
      "metadata": {
        "colab": {
          "base_uri": "https://localhost:8080/"
        },
        "id": "uc-KXUAZn0VY",
        "outputId": "6822a55f-118c-4f6b-fba3-07e34327b6e8"
      },
      "execution_count": 71,
      "outputs": [
        {
          "output_type": "execute_result",
          "data": {
            "text/plain": [
              "['O', 'b', 'i', 't', 'o', 'u', 'c', 'h', 'i', 'h', 'a']"
            ]
          },
          "metadata": {},
          "execution_count": 71
        }
      ]
    },
    {
      "cell_type": "code",
      "source": [
        "data =[i for i in range(10)]"
      ],
      "metadata": {
        "id": "0UkL8eF1n2ES"
      },
      "execution_count": 80,
      "outputs": []
    },
    {
      "cell_type": "code",
      "source": [
        "data"
      ],
      "metadata": {
        "colab": {
          "base_uri": "https://localhost:8080/"
        },
        "id": "Y7cEqs55oJSW",
        "outputId": "7c256a73-66fb-4112-cfb6-15d699e3af68"
      },
      "execution_count": 81,
      "outputs": [
        {
          "output_type": "execute_result",
          "data": {
            "text/plain": [
              "[0, 1, 2, 3, 4, 5, 6, 7, 8, 9]"
            ]
          },
          "metadata": {},
          "execution_count": 81
        }
      ]
    },
    {
      "cell_type": "code",
      "source": [],
      "metadata": {
        "colab": {
          "base_uri": "https://localhost:8080/"
        },
        "id": "5dwfGb2KoKq9",
        "outputId": "6663475e-01f4-460f-cc88-ec4a0c6cba2e"
      },
      "execution_count": 75,
      "outputs": [
        {
          "output_type": "execute_result",
          "data": {
            "text/plain": [
              "14"
            ]
          },
          "metadata": {},
          "execution_count": 75
        }
      ]
    },
    {
      "cell_type": "code",
      "source": [
        "numbers = range(20)\n",
        "empty_dict ={}\n",
        "\n",
        "for no in numbers:\n",
        "  if no %2==0:\n",
        "    empty_dict[no]= no**2\n",
        "\n",
        "\n",
        "empty_dict"
      ],
      "metadata": {
        "colab": {
          "base_uri": "https://localhost:8080/"
        },
        "id": "2qsGyM1noRnb",
        "outputId": "e98f6a8a-21be-412e-94c0-4639a4a2f0a1"
      },
      "execution_count": 90,
      "outputs": [
        {
          "output_type": "execute_result",
          "data": {
            "text/plain": [
              "{0: 0, 2: 4, 4: 16, 6: 36, 8: 64, 10: 100, 12: 144, 14: 196, 16: 256, 18: 324}"
            ]
          },
          "metadata": {},
          "execution_count": 90
        }
      ]
    },
    {
      "cell_type": "code",
      "source": [
        "empty_dict"
      ],
      "metadata": {
        "colab": {
          "base_uri": "https://localhost:8080/"
        },
        "id": "bT4lqEBOxDMs",
        "outputId": "e6d14406-8d01-4b35-b413-edf1ad88b490"
      },
      "execution_count": 89,
      "outputs": [
        {
          "output_type": "execute_result",
          "data": {
            "text/plain": [
              "{0: 0, 2: 4, 4: 16, 6: 36, 8: 64, 10: 100, 12: 144, 14: 196, 16: 256, 18: 324}"
            ]
          },
          "metadata": {},
          "execution_count": 89
        }
      ]
    },
    {
      "cell_type": "code",
      "source": [
        "dict_sqaures = {i :i **2 for i in numbers if i%2!=0}"
      ],
      "metadata": {
        "id": "24jmfIGjxE0N"
      },
      "execution_count": 101,
      "outputs": []
    },
    {
      "cell_type": "code",
      "source": [
        "dict_sqaures"
      ],
      "metadata": {
        "colab": {
          "base_uri": "https://localhost:8080/"
        },
        "id": "bWDLZq7LzeAs",
        "outputId": "b2854920-394e-4a83-9252-5385c0540df1"
      },
      "execution_count": 96,
      "outputs": [
        {
          "output_type": "execute_result",
          "data": {
            "text/plain": [
              "{1: 1, 3: 9, 5: 25, 7: 49, 9: 81, 11: 121, 13: 169, 15: 225, 17: 289, 19: 361}"
            ]
          },
          "metadata": {},
          "execution_count": 96
        }
      ]
    },
    {
      "cell_type": "code",
      "source": [
        "for  key ,value in dict_sqaures.items():\n",
        "  print(f\"{key} sqaure is {value}\")"
      ],
      "metadata": {
        "colab": {
          "base_uri": "https://localhost:8080/"
        },
        "id": "s4QgIOcJzorI",
        "outputId": "274b55b8-d8b1-40b3-a96c-7acd80b84d3f"
      },
      "execution_count": 99,
      "outputs": [
        {
          "output_type": "stream",
          "name": "stdout",
          "text": [
            "1 sqaure is 1\n",
            "3 sqaure is 9\n",
            "5 sqaure is 25\n",
            "7 sqaure is 49\n",
            "9 sqaure is 81\n",
            "11 sqaure is 121\n",
            "13 sqaure is 169\n",
            "15 sqaure is 225\n",
            "17 sqaure is 289\n",
            "19 sqaure is 361\n"
          ]
        }
      ]
    },
    {
      "cell_type": "code",
      "source": [
        "for  key ,value in empty_dict.items():\n",
        "  print(f\"{key} sqaure is {value}\")"
      ],
      "metadata": {
        "colab": {
          "base_uri": "https://localhost:8080/"
        },
        "id": "0vHDWT5g1BxL",
        "outputId": "a68afdef-5c0e-48f8-9559-592e8a4b8d4c"
      },
      "execution_count": 102,
      "outputs": [
        {
          "output_type": "stream",
          "name": "stdout",
          "text": [
            "0 sqaure is 0\n",
            "2 sqaure is 4\n",
            "4 sqaure is 16\n",
            "6 sqaure is 36\n",
            "8 sqaure is 64\n",
            "10 sqaure is 100\n",
            "12 sqaure is 144\n",
            "14 sqaure is 196\n",
            "16 sqaure is 256\n",
            "18 sqaure is 324\n"
          ]
        }
      ]
    },
    {
      "cell_type": "code",
      "source": [
        "dict1 = {'a':1,'b':2,'c':3,'d':4}\n",
        "double_dict= { k*2:v*3 for k,v in dict1.items() }"
      ],
      "metadata": {
        "id": "RBDYpRqj1Wxl"
      },
      "execution_count": 108,
      "outputs": []
    },
    {
      "cell_type": "code",
      "source": [
        "double_dict"
      ],
      "metadata": {
        "colab": {
          "base_uri": "https://localhost:8080/"
        },
        "id": "HS-e_brS3pho",
        "outputId": "5b61d7e2-30ef-4a79-ebc6-911d576d65da"
      },
      "execution_count": 109,
      "outputs": [
        {
          "output_type": "execute_result",
          "data": {
            "text/plain": [
              "{'aa': 3, 'bb': 6, 'cc': 9, 'dd': 12}"
            ]
          },
          "metadata": {},
          "execution_count": 109
        }
      ]
    },
    {
      "cell_type": "code",
      "source": [],
      "metadata": {
        "id": "YBMhVAyX31HB"
      },
      "execution_count": null,
      "outputs": []
    },
    {
      "cell_type": "markdown",
      "source": [
        "#Zip()\n"
      ],
      "metadata": {
        "id": "FDkb1G4Q6Avd"
      }
    },
    {
      "cell_type": "code",
      "source": [
        "# List of names\n",
        "names = ['Alice', 'Bob', 'Charlie', 'David', 'Eve', 'Frank', 'Grace', 'Hannah', 'Isaac', 'Julia']\n",
        "\n",
        "# List of marks\n",
        "marks = [85, 92, 78, 89, 95, 81, 90, 88, 84, 91]\n",
        "\n",
        "zipped = tuple(zip(names,marks))\n",
        "\n",
        "zipped2 = dict(zip(names,marks))\n",
        "print(zipped,'\\n')\n",
        "zipped2"
      ],
      "metadata": {
        "colab": {
          "base_uri": "https://localhost:8080/"
        },
        "id": "ZJPj4QDV6CBt",
        "outputId": "91435a4e-fedd-4402-8ccd-fcc58314b7dd"
      },
      "execution_count": 119,
      "outputs": [
        {
          "output_type": "stream",
          "name": "stdout",
          "text": [
            "(('Alice', 85), ('Bob', 92), ('Charlie', 78), ('David', 89), ('Eve', 95), ('Frank', 81), ('Grace', 90), ('Hannah', 88), ('Isaac', 84), ('Julia', 91)) \n",
            "\n"
          ]
        },
        {
          "output_type": "execute_result",
          "data": {
            "text/plain": [
              "{'Alice': 85,\n",
              " 'Bob': 92,\n",
              " 'Charlie': 78,\n",
              " 'David': 89,\n",
              " 'Eve': 95,\n",
              " 'Frank': 81,\n",
              " 'Grace': 90,\n",
              " 'Hannah': 88,\n",
              " 'Isaac': 84,\n",
              " 'Julia': 91}"
            ]
          },
          "metadata": {},
          "execution_count": 119
        }
      ]
    },
    {
      "cell_type": "code",
      "source": [],
      "metadata": {
        "colab": {
          "base_uri": "https://localhost:8080/"
        },
        "id": "dofTcGYg6XD5",
        "outputId": "ece8f16b-5e89-4f3a-d7bf-1a6fcb425a1c"
      },
      "execution_count": 111,
      "outputs": [
        {
          "output_type": "execute_result",
          "data": {
            "text/plain": [
              "<zip at 0x7ed0d850d1c0>"
            ]
          },
          "metadata": {},
          "execution_count": 111
        }
      ]
    },
    {
      "cell_type": "code",
      "source": [],
      "metadata": {
        "id": "m60xx9Bn6YNe"
      },
      "execution_count": null,
      "outputs": []
    },
    {
      "cell_type": "markdown",
      "source": [
        "##unzip()\n"
      ],
      "metadata": {
        "id": "9wrImPXN7ArN"
      }
    },
    {
      "cell_type": "code",
      "source": [
        "name ,mark =zip(*zipped)\n",
        "print(name)\n",
        "print(marks)"
      ],
      "metadata": {
        "colab": {
          "base_uri": "https://localhost:8080/"
        },
        "id": "kSPiz2pf7CRK",
        "outputId": "ec9af4a5-fba6-4639-a132-187cebda9bdf"
      },
      "execution_count": 122,
      "outputs": [
        {
          "output_type": "stream",
          "name": "stdout",
          "text": [
            "('Alice', 'Bob', 'Charlie', 'David', 'Eve', 'Frank', 'Grace', 'Hannah', 'Isaac', 'Julia')\n",
            "[85, 92, 78, 89, 95, 81, 90, 88, 84, 91]\n"
          ]
        }
      ]
    },
    {
      "cell_type": "code",
      "source": [
        "name"
      ],
      "metadata": {
        "colab": {
          "base_uri": "https://localhost:8080/"
        },
        "id": "LLvg0O5D7Krl",
        "outputId": "f06de68c-10e9-4e9a-df21-40de4f4acac8"
      },
      "execution_count": 121,
      "outputs": [
        {
          "output_type": "execute_result",
          "data": {
            "text/plain": [
              "('Alice',\n",
              " 'Bob',\n",
              " 'Charlie',\n",
              " 'David',\n",
              " 'Eve',\n",
              " 'Frank',\n",
              " 'Grace',\n",
              " 'Hannah',\n",
              " 'Isaac',\n",
              " 'Julia')"
            ]
          },
          "metadata": {},
          "execution_count": 121
        }
      ]
    },
    {
      "cell_type": "code",
      "source": [
        "# List of names\n",
        "names = ['Alice', 'Bob', 'Charlie', 'David', 'Eve', 'Frank', 'Grace', 'Hannah', 'Isaac', 'Julia']\n",
        "\n",
        "# List of marks\n",
        "marks = [85, 92, 78, 89, 95, 81, 90, 88, 84, 91]\n",
        "\n",
        "# List of salaries\n",
        "salaries = [50000, 60000, 55000, 70000, 48000, 75000, 65000, 62000, 58000, 68000]\n",
        "\n",
        "# List of places\n",
        "places = ['New York', 'Los Angeles', 'Chicago', 'Houston', 'Phoenix', 'Philadelphia', 'San Antonio', 'San Diego', 'Dallas', 'San Jose']\n",
        "\n",
        "# zipping data\n",
        "zipped = list(zip(names,marks,places,salaries))\n",
        "zipped"
      ],
      "metadata": {
        "colab": {
          "base_uri": "https://localhost:8080/"
        },
        "id": "yZh9z6IQ7Lra",
        "outputId": "3a80aab0-3d4b-43bf-ce2f-b1d3cdabddea"
      },
      "execution_count": 125,
      "outputs": [
        {
          "output_type": "execute_result",
          "data": {
            "text/plain": [
              "[('Alice', 85, 'New York', 50000),\n",
              " ('Bob', 92, 'Los Angeles', 60000),\n",
              " ('Charlie', 78, 'Chicago', 55000),\n",
              " ('David', 89, 'Houston', 70000),\n",
              " ('Eve', 95, 'Phoenix', 48000),\n",
              " ('Frank', 81, 'Philadelphia', 75000),\n",
              " ('Grace', 90, 'San Antonio', 65000),\n",
              " ('Hannah', 88, 'San Diego', 62000),\n",
              " ('Isaac', 84, 'Dallas', 58000),\n",
              " ('Julia', 91, 'San Jose', 68000)]"
            ]
          },
          "metadata": {},
          "execution_count": 125
        }
      ]
    },
    {
      "cell_type": "code",
      "source": [],
      "metadata": {
        "id": "gotimu0Z_MQQ"
      },
      "execution_count": null,
      "outputs": []
    },
    {
      "cell_type": "markdown",
      "source": [
        "###unzip only specific values\n",
        "1. for _ work as placeholder if i have 4 variables are zipped and i want to unzip only 3 so in 4 th position '_' we use this underscore line\n",
        "\n",
        "\n",
        "*   name ,mark,location,_=zip(*zipped)\n",
        "\n",
        "\n",
        "\n",
        "\n",
        "2. for multiple variable you dont want to unzip use *_\n",
        "\n",
        "\n",
        "*  name ,mark,*_=zip(*zipped)\n",
        "\n"
      ],
      "metadata": {
        "id": "IHo7b2oM_Z-q"
      }
    },
    {
      "cell_type": "code",
      "source": [
        "name ,mark,*_=zip(*zipped)"
      ],
      "metadata": {
        "id": "fDptISs5_dDP"
      },
      "execution_count": 138,
      "outputs": []
    },
    {
      "cell_type": "code",
      "source": [
        "name"
      ],
      "metadata": {
        "colab": {
          "base_uri": "https://localhost:8080/"
        },
        "id": "32RDTW5_BiMB",
        "outputId": "52e3b3eb-a4c2-49fb-98f0-6da74d25c6b2"
      },
      "execution_count": 128,
      "outputs": [
        {
          "output_type": "execute_result",
          "data": {
            "text/plain": [
              "('Alice',\n",
              " 'Bob',\n",
              " 'Charlie',\n",
              " 'David',\n",
              " 'Eve',\n",
              " 'Frank',\n",
              " 'Grace',\n",
              " 'Hannah',\n",
              " 'Isaac',\n",
              " 'Julia')"
            ]
          },
          "metadata": {},
          "execution_count": 128
        }
      ]
    },
    {
      "cell_type": "code",
      "source": [
        "mark"
      ],
      "metadata": {
        "colab": {
          "base_uri": "https://localhost:8080/"
        },
        "id": "bZmCJRXqBn8w",
        "outputId": "3d6a89e3-2feb-4bd9-c65f-f0ca860c98d1"
      },
      "execution_count": 139,
      "outputs": [
        {
          "output_type": "execute_result",
          "data": {
            "text/plain": [
              "(85, 92, 78, 89, 95, 81, 90, 88, 84, 91)"
            ]
          },
          "metadata": {},
          "execution_count": 139
        }
      ]
    },
    {
      "cell_type": "code",
      "source": [],
      "metadata": {
        "id": "H3g2ar0aBrRo"
      },
      "execution_count": null,
      "outputs": []
    }
  ]
}