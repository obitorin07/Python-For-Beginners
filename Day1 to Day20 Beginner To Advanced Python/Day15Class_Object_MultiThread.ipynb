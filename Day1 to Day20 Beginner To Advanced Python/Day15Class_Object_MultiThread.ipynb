{
  "nbformat": 4,
  "nbformat_minor": 0,
  "metadata": {
    "colab": {
      "provenance": []
    },
    "kernelspec": {
      "name": "python3",
      "display_name": "Python 3"
    },
    "language_info": {
      "name": "python"
    }
  },
  "cells": [
    {
      "cell_type": "markdown",
      "source": [
        "#OOP Concepts"
      ],
      "metadata": {
        "id": "4xYcWUySPEzy"
      }
    },
    {
      "cell_type": "markdown",
      "source": [
        "##Class"
      ],
      "metadata": {
        "id": "UBiYJOxcRE7E"
      }
    },
    {
      "cell_type": "code",
      "execution_count": 12,
      "metadata": {
        "colab": {
          "base_uri": "https://localhost:8080/",
          "height": 0
        },
        "id": "_U9x9Gf9PEN0",
        "outputId": "c71f49b5-9f5d-4085-e100-58ef16c70827"
      },
      "outputs": [
        {
          "output_type": "stream",
          "name": "stdout",
          "text": [
            "Enter The Name :obito\n",
            "Enter The Age :25\n",
            "Enter The Marks:365\n",
            "Enter The Course Name:Python\n",
            "Excecution is Done\n",
            "The User total marks is 365\n"
          ]
        }
      ],
      "source": [
        "class Student :\n",
        "  def __init__ (self,marks,name,age,course):\n",
        "    self.name =name\n",
        "    self.marks=marks\n",
        "    self.age =age\n",
        "    self.course =course\n",
        "  def course_info(self):\n",
        "    print(f\"The User Name is :{self.name}\")\n",
        "    print(f\"The User Enrolled For This course :{self.course} \")\n",
        "  def get_age (self):\n",
        "    print(\"The Use age is \",self.age)\n",
        "\n",
        "  def get_marks(self):\n",
        "    print(f\"The User total marks is {self.marks}\")\n",
        "\n",
        "try:\n",
        "  name = str(input(\"Enter The Name :\"))\n",
        "  age = int(input(\"Enter The Age :\"))\n",
        "  marks = int(input(\"Enter The Marks:\"))\n",
        "  course = str(input(\"Enter The Course Name:\"))\n",
        "except:\n",
        "  print('Fill Correctly')\n",
        "\n",
        "finally:\n",
        "  print(\"Excecution is Done\")\n",
        "\n",
        "\n",
        "info = Student(name=name,age=age,marks=marks,course=course)\n",
        "\n",
        "info.get_marks()"
      ]
    },
    {
      "cell_type": "code",
      "source": [],
      "metadata": {
        "id": "eQHRCciYPElR"
      },
      "execution_count": null,
      "outputs": []
    },
    {
      "cell_type": "markdown",
      "source": [
        "##Inheritance"
      ],
      "metadata": {
        "id": "RlOxFdqLZIWC"
      }
    },
    {
      "cell_type": "code",
      "source": [
        "t"
      ],
      "metadata": {
        "id": "Dfw0Y33KZgTF"
      },
      "execution_count": null,
      "outputs": []
    },
    {
      "cell_type": "code",
      "source": [
        "class Hello:\n",
        "  def message(self):\n",
        "    print(\"Hello world \")\n",
        "\n",
        "class new_class (Hello):\n",
        "  def new_pass(self):\n",
        "    print(\"python is good\")\n",
        "\n",
        "# creating object of class\n",
        "\n",
        "new_message =new_class()\n",
        "new_message.message()\n",
        "new_message.new_pass()"
      ],
      "metadata": {
        "colab": {
          "base_uri": "https://localhost:8080/",
          "height": 0
        },
        "id": "tBgvGByyPapn",
        "outputId": "d8009f2b-d332-4a34-d677-42e54e64ac45"
      },
      "execution_count": 19,
      "outputs": [
        {
          "output_type": "stream",
          "name": "stdout",
          "text": [
            "Hello world \n",
            "python is good\n"
          ]
        }
      ]
    },
    {
      "cell_type": "code",
      "source": [
        "new_message.message()"
      ],
      "metadata": {
        "colab": {
          "base_uri": "https://localhost:8080/",
          "height": 0
        },
        "id": "qEegXmoHZrM4",
        "outputId": "4b0117b4-16d5-4286-ad5a-8af131e72b3d"
      },
      "execution_count": 17,
      "outputs": [
        {
          "output_type": "stream",
          "name": "stdout",
          "text": [
            "Hello world \n"
          ]
        }
      ]
    },
    {
      "cell_type": "code",
      "source": [
        "new_message.new_pass()"
      ],
      "metadata": {
        "colab": {
          "base_uri": "https://localhost:8080/",
          "height": 0
        },
        "id": "Yiuhc9OcZtvE",
        "outputId": "24791e3e-5e05-4b4a-e2f3-64cbffe02d45"
      },
      "execution_count": 20,
      "outputs": [
        {
          "output_type": "stream",
          "name": "stdout",
          "text": [
            "python is good\n"
          ]
        }
      ]
    },
    {
      "cell_type": "markdown",
      "source": [
        "##Multiple Inheritance\n",
        "* these are just an example for practice code i know this code does not make any sense"
      ],
      "metadata": {
        "id": "i88UmhBzcchu"
      }
    },
    {
      "cell_type": "code",
      "source": [
        "class father:\n",
        "  def childrens (self):\n",
        "    print(\"I have 4 Childs\\n1.Riya\\n2.Rakesh\\n3.Soniya\\n4.Sakshi\")\n",
        "\n",
        "class riya(father):\n",
        "  print(\"Im The eldest from family\")\n",
        "\n",
        "class rakesh(father):\n",
        "  print(\"Im the only one male child for father \")\n",
        "\n",
        "class soniya(father):\n",
        "  print(\"Im good studying\")\n",
        "\n",
        "class sakshi(father):\n",
        "  print(\"im cutest daughter\")\n",
        "\n",
        "create =sakshi()\n",
        "create.childrens()"
      ],
      "metadata": {
        "colab": {
          "base_uri": "https://localhost:8080/",
          "height": 0
        },
        "id": "fcsmq32TZyDP",
        "outputId": "cec41f1a-8941-45ab-b111-75b32ab0293c"
      },
      "execution_count": 27,
      "outputs": [
        {
          "output_type": "stream",
          "name": "stdout",
          "text": [
            "Im The eldest from family\n",
            "Im the only one male child for father \n",
            "Im good studying\n",
            "im cutest daughter\n",
            "I have 4 Childs\n",
            "1.Riya\n",
            "2.Rakesh\n",
            "3.Soniya\n",
            "4.Sakshi\n"
          ]
        }
      ]
    },
    {
      "cell_type": "code",
      "source": [],
      "metadata": {
        "id": "s-9vH9rwc2w4"
      },
      "execution_count": null,
      "outputs": []
    },
    {
      "cell_type": "markdown",
      "source": [
        "##Multiple Inheritance"
      ],
      "metadata": {
        "id": "H2pX6ZwAgw9U"
      }
    },
    {
      "cell_type": "code",
      "source": [
        "class Animal:\n",
        "    def eat(self):\n",
        "        print(\"Animal is eating\")\n",
        "\n",
        "class Dog(Animal):\n",
        "    def bark(self):\n",
        "        print(\"Dog is barking\")\n",
        "\n",
        "class Cat(Animal):\n",
        "    def meow(self):\n",
        "        print(\"Cat is meowing\")\n",
        "\n",
        "# Subclass of Dog\n",
        "class Labrador(Dog):\n",
        "    def wag_tail(self):\n",
        "        print(\"Labrador is wagging tail\")\n",
        "\n",
        "# Subclass of Cat\n",
        "class PersianCat(Cat):\n",
        "    def fluffy_fur(self):\n",
        "        print(\"Persian cat has fluffy fur\")\n",
        "\n",
        "# Instances\n",
        "dog = Dog()\n",
        "dog.eat()   # Output: Animal is eating\n",
        "dog.bark()  # Output: Dog is barking\n",
        "\n",
        "cat = Cat()\n",
        "cat.eat()   # Output: Animal is eating\n",
        "cat.meow()  # Output: Cat is meowing\n",
        "\n",
        "labrador = Labrador()\n",
        "labrador.eat()      # Output: Animal is eating\n",
        "labrador.bark()     # Output: Dog is barking\n",
        "labrador.wag_tail() # Output: Labrador is wagging tail\n",
        "\n",
        "persian_cat = PersianCat()\n",
        "persian_cat.eat()       # Output: Animal is eating\n",
        "persian_cat.meow()      # Output: Cat is meowing\n",
        "persian_cat.fluffy_fur()# Output: Persian cat has fluffy fur\n"
      ],
      "metadata": {
        "colab": {
          "base_uri": "https://localhost:8080/",
          "height": 0
        },
        "id": "E2bX_So6gzMI",
        "outputId": "3419f462-5783-4f6d-8fff-b0125045b067"
      },
      "execution_count": 29,
      "outputs": [
        {
          "output_type": "stream",
          "name": "stdout",
          "text": [
            "Animal is eating\n",
            "Dog is barking\n",
            "Animal is eating\n",
            "Cat is meowing\n",
            "Animal is eating\n",
            "Dog is barking\n",
            "Labrador is wagging tail\n",
            "Animal is eating\n",
            "Cat is meowing\n",
            "Persian cat has fluffy fur\n"
          ]
        }
      ]
    },
    {
      "cell_type": "code",
      "source": [],
      "metadata": {
        "id": "uBCmvfO8hW18"
      },
      "execution_count": null,
      "outputs": []
    },
    {
      "cell_type": "markdown",
      "source": [
        "##Polymorphism\n",
        "\n",
        "\n",
        ">Polymorphism, derived from the Greek words \"poly\" meaning \"many\" and \"morph\" meaning \"form\", refers to the ability of objects to take on multiple forms or behave differently based on their types. In object-oriented programming, polymorphism typically allows objects of different classes to be treated as objects of a common superclass, enabling them to respond to the same method call in different ways. This flexibility and versatility in behavior are key aspects of polymorphism.\n",
        "\n"
      ],
      "metadata": {
        "id": "yM5wCuxPjUFf"
      }
    },
    {
      "cell_type": "code",
      "source": [
        "class Animal:\n",
        "    def speak(self):\n",
        "        return \"Animal speaks\"\n",
        "\n",
        "class Dog(Animal):\n",
        "    def speak(self):\n",
        "        return \"Woof!\"\n",
        "\n",
        "class Cat(Animal):\n",
        "    def speak(self):\n",
        "        return \"Meow!\"\n",
        "\n",
        "# Creating instances\n",
        "dog = Dog()\n",
        "cat = Cat()\n",
        "\n",
        "# Calling the speak() method on instances\n",
        "dog_sound = dog.speak()\n",
        "cat_sound = cat.speak()\n",
        "\n",
        "print(f\"The dog sounds {dog_sound}\")  # Output: Woof!\n",
        "print(f\"cat sounds {cat_sound}\")  # Output: Meow!\n"
      ],
      "metadata": {
        "colab": {
          "base_uri": "https://localhost:8080/",
          "height": 0
        },
        "id": "npZ3PWqRjWgs",
        "outputId": "a80a4e04-9a86-4470-d3f6-6bdc418af78e"
      },
      "execution_count": 34,
      "outputs": [
        {
          "output_type": "stream",
          "name": "stdout",
          "text": [
            "The dog sounds Woof!\n",
            "cat sounds Meow!\n"
          ]
        }
      ]
    },
    {
      "cell_type": "code",
      "source": [],
      "metadata": {
        "id": "fVFaKKQJjdQr"
      },
      "execution_count": null,
      "outputs": []
    },
    {
      "cell_type": "markdown",
      "source": [
        "#Multithreading\n",
        "\n",
        "> import time\n",
        "* multithreading means multiple task are perform same time\n",
        "\n",
        "* When working with multithreading in Python using the threading module, you typically use the start() and join() methods in combination with creating Thread objects."
      ],
      "metadata": {
        "id": "pACXqcRnpm5_"
      }
    },
    {
      "cell_type": "code",
      "source": [
        "import time\n",
        "def find_sqaure(numbers):\n",
        "  for i in range(numbers):\n",
        "    print(f\"{i} square is :\",i*i)\n",
        "    time.sleep(2) # it delay for each print 10 seconds\n",
        "def find_cube(numbers):\n",
        "  for i in range(numbers):\n",
        "    print(f\"{i} cube is :\",i*i)\n",
        "    time.sleep(2) # it delay for each print 10 seconds\n",
        "find_sqaure(5)\n",
        "find_cube(5)\n",
        "t = time.time() #1 jan 1970\n",
        "print(time.time()-t)"
      ],
      "metadata": {
        "colab": {
          "base_uri": "https://localhost:8080/",
          "height": 0
        },
        "id": "73ZTax3uppck",
        "outputId": "85b639e9-4b4b-4538-cac6-1cba2c93bd34"
      },
      "execution_count": 3,
      "outputs": [
        {
          "output_type": "stream",
          "name": "stdout",
          "text": [
            "0 square is : 0\n",
            "1 square is : 1\n",
            "2 square is : 4\n",
            "3 square is : 9\n",
            "4 square is : 16\n",
            "0 cube is : 0\n",
            "1 cube is : 1\n",
            "2 cube is : 4\n",
            "3 cube is : 9\n",
            "4 cube is : 16\n",
            "6.556510925292969e-05\n"
          ]
        }
      ]
    },
    {
      "cell_type": "code",
      "source": [],
      "metadata": {
        "id": "F6-uouvKp9Jt"
      },
      "execution_count": null,
      "outputs": []
    },
    {
      "cell_type": "markdown",
      "source": [
        "##Real multi threading\n",
        "\n",
        "* in code it shows really"
      ],
      "metadata": {
        "id": "joL7jthGtWql"
      }
    },
    {
      "cell_type": "code",
      "source": [
        "import threading\n",
        "import time\n",
        "\n",
        "def find_square(numbers):\n",
        "    for i in range(numbers):\n",
        "        print(f\"{i} square is:\", i * i)\n",
        "        time.sleep(10)  # Delay for each print 10 seconds\n",
        "\n",
        "def find_cube(numbers):\n",
        "    for i in range(numbers):\n",
        "        print(f\"{i} cube is:\", i * i * i)\n",
        "        time.sleep(5)  # Delay for each print 5 seconds\n",
        "\n",
        "# Create threads for each function\n",
        "thread1 = threading.Thread(target=find_square, args=(10,))\n",
        "thread2 = threading.Thread(target=find_cube, args=(25,))\n",
        "\n",
        "# Start the threads\n",
        "thread1.start()\n",
        "thread2.start()\n",
        "\n",
        "# Wait for the threads to finish\n",
        "thread1.join()\n",
        "thread2.join()\n",
        "\n",
        "print(\"Both threads have completed execution.\")\n"
      ],
      "metadata": {
        "colab": {
          "base_uri": "https://localhost:8080/",
          "height": 0
        },
        "id": "KJSTkUWmta7n",
        "outputId": "cf9372fd-a3b3-4142-d72f-ec63965f6c17"
      },
      "execution_count": 14,
      "outputs": [
        {
          "output_type": "stream",
          "name": "stdout",
          "text": [
            "0 square is: 0\n",
            "0 cube is: 0\n",
            "1 cube is: 1\n",
            "1 square is: 1\n",
            "2 cube is: 8\n",
            "3 cube is: 27\n",
            "2 square is: 4\n",
            "4 cube is: 64\n",
            "5 cube is: 125\n",
            "3 square is: 9\n",
            "6 cube is: 216\n",
            "7 cube is: 343\n",
            "4 square is: 16\n",
            "8 cube is: 512\n",
            "9 cube is: 729\n",
            "5 square is: 25\n",
            "10 cube is: 1000\n",
            "11 cube is: 1331\n",
            "6 square is: 36\n",
            "12 cube is: 1728\n",
            "13 cube is: 2197\n",
            "7 square is: 49\n",
            "14 cube is: 2744\n",
            "15 cube is: 3375\n",
            "8 square is: 64\n",
            "16 cube is: 4096\n",
            "17 cube is: 4913\n",
            "9 square is: 81\n",
            "18 cube is: 5832\n",
            "19 cube is: 6859\n",
            "20 cube is: 8000\n",
            "21 cube is: 9261\n",
            "22 cube is: 10648\n",
            "23 cube is: 12167\n",
            "24 cube is: 13824\n",
            "Both threads have completed execution.\n"
          ]
        }
      ]
    },
    {
      "cell_type": "code",
      "source": [],
      "metadata": {
        "id": "TfZeQp5otb0V"
      },
      "execution_count": null,
      "outputs": []
    },
    {
      "cell_type": "markdown",
      "source": [
        "#Module"
      ],
      "metadata": {
        "id": "v8ruefZy6P5X"
      }
    },
    {
      "cell_type": "code",
      "source": [
        "import calendar\n",
        "cal = calendar.month(2024,4)\n",
        "print(cal)\n",
        "\n",
        "calendar.isleap(2024) ,calendar.isleap(2023)"
      ],
      "metadata": {
        "colab": {
          "base_uri": "https://localhost:8080/",
          "height": 0
        },
        "id": "gvckED-_6Q5v",
        "outputId": "68460d88-8bbe-42f4-bff5-d33292913723"
      },
      "execution_count": 11,
      "outputs": [
        {
          "output_type": "stream",
          "name": "stdout",
          "text": [
            "     April 2024\n",
            "Mo Tu We Th Fr Sa Su\n",
            " 1  2  3  4  5  6  7\n",
            " 8  9 10 11 12 13 14\n",
            "15 16 17 18 19 20 21\n",
            "22 23 24 25 26 27 28\n",
            "29 30\n",
            "\n"
          ]
        },
        {
          "output_type": "execute_result",
          "data": {
            "text/plain": [
              "(True, False)"
            ]
          },
          "metadata": {},
          "execution_count": 11
        }
      ]
    },
    {
      "cell_type": "code",
      "source": [],
      "metadata": {
        "id": "_40QEe0n6bKM"
      },
      "execution_count": null,
      "outputs": []
    }
  ]
}