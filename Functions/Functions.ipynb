{
 "cells": [
  {
   "cell_type": "code",
   "execution_count": 15,
   "id": "b8649190-2003-46c1-a2c3-a94c877ea956",
   "metadata": {},
   "outputs": [
    {
     "name": "stdout",
     "output_type": "stream",
     "text": [
      "This will Print First\n"
     ]
    },
    {
     "data": {
      "text/plain": [
       "45"
      ]
     },
     "execution_count": 15,
     "metadata": {},
     "output_type": "execute_result"
    }
   ],
   "source": [
    "def message(a,b):\n",
    "    addition = a+b\n",
    "    return addition\n",
    "print(\"This will Print First\")\n",
    "message(20,25)"
   ]
  },
  {
   "cell_type": "code",
   "execution_count": 13,
   "id": "54b9d635-52f1-4342-9939-2b6f209fa239",
   "metadata": {},
   "outputs": [
    {
     "data": {
      "text/plain": [
       "30"
      ]
     },
     "execution_count": 13,
     "metadata": {},
     "output_type": "execute_result"
    }
   ],
   "source": [
    "message (10,20)"
   ]
  },
  {
   "cell_type": "markdown",
   "id": "4056bd8d-f4e1-40cd-b0b5-2a4bd9562be0",
   "metadata": {},
   "source": [
    "# calculate area of rectanagle"
   ]
  },
  {
   "cell_type": "code",
   "execution_count": 16,
   "id": "d073dc91-12be-4e57-a678-a49b5527b2c7",
   "metadata": {},
   "outputs": [
    {
     "data": {
      "text/plain": [
       "200"
      ]
     },
     "execution_count": 16,
     "metadata": {},
     "output_type": "execute_result"
    }
   ],
   "source": [
    "def calculate_area_of_rectangle(length,width):\n",
    "    result  = length *width\n",
    "    return result \n",
    "calculate_area_of_rectangle(10,20)\n",
    "    "
   ]
  },
  {
   "cell_type": "markdown",
   "id": "8c93871f-9d16-4668-887e-25826498472a",
   "metadata": {},
   "source": [
    "# Even odd"
   ]
  },
  {
   "cell_type": "code",
   "execution_count": 26,
   "id": "2209cb7b-cf1e-4493-a8ca-26a719586944",
   "metadata": {},
   "outputs": [],
   "source": [
    "def iseven(a):\n",
    "    if a%2==0:\n",
    "       return True\n",
    "    else:\n",
    "        return False\n",
    "\n"
   ]
  },
  {
   "cell_type": "code",
   "execution_count": 25,
   "id": "ce15ea68-cbbe-4552-a715-7e7b32b75fd7",
   "metadata": {},
   "outputs": [
    {
     "data": {
      "text/plain": [
       "True"
      ]
     },
     "execution_count": 25,
     "metadata": {},
     "output_type": "execute_result"
    }
   ],
   "source": [
    "iseven(10)\n"
   ]
  },
  {
   "cell_type": "code",
   "execution_count": 28,
   "id": "c3939dcc-93ce-4e77-b49b-f81d88cfb56b",
   "metadata": {},
   "outputs": [
    {
     "data": {
      "text/plain": [
       "False"
      ]
     },
     "execution_count": 28,
     "metadata": {},
     "output_type": "execute_result"
    }
   ],
   "source": [
    "iseven(11145)\n"
   ]
  },
  {
   "cell_type": "markdown",
   "id": "b0aa05ec-c692-41ea-a661-db5ba9bcc3cc",
   "metadata": {},
   "source": [
    "# Find Max value "
   ]
  },
  {
   "cell_type": "code",
   "execution_count": 36,
   "id": "0e074a7a-c182-47c1-9e89-4819dd46aeaf",
   "metadata": {},
   "outputs": [],
   "source": [
    "def calculate_max(a,b,c):\n",
    "    if a >b and a>c: \n",
    "        return \"A Is Bigger {}\".format(a)\n",
    "    elif b>a and b>c:\n",
    "        return \"B Is Bigger {}\".format(b)\n",
    "    else:\n",
    "        return f\"c is bigger {c}\"\n"
   ]
  },
  {
   "cell_type": "code",
   "execution_count": 37,
   "id": "e6076996-5d92-448f-8911-3577a00f3e1c",
   "metadata": {},
   "outputs": [
    {
     "data": {
      "text/plain": [
       "'B Is Bigger 30'"
      ]
     },
     "execution_count": 37,
     "metadata": {},
     "output_type": "execute_result"
    }
   ],
   "source": [
    "calculate_max(15, 30, 20)"
   ]
  },
  {
   "cell_type": "code",
   "execution_count": 38,
   "id": "f42a8bb1-e131-4508-8c3c-a09d1fb7e1c6",
   "metadata": {},
   "outputs": [
    {
     "data": {
      "text/plain": [
       "'B Is Bigger 25'"
      ]
     },
     "execution_count": 38,
     "metadata": {},
     "output_type": "execute_result"
    }
   ],
   "source": [
    "calculate_max(12, 25, 18)"
   ]
  },
  {
   "cell_type": "code",
   "execution_count": 39,
   "id": "aa117649-e469-4438-a992-6d757a382c26",
   "metadata": {},
   "outputs": [
    {
     "data": {
      "text/plain": [
       "'c is bigger 18'"
      ]
     },
     "execution_count": 39,
     "metadata": {},
     "output_type": "execute_result"
    }
   ],
   "source": [
    "calculate_max(12, 10,18)"
   ]
  },
  {
   "cell_type": "code",
   "execution_count": 40,
   "id": "958430f7-a409-4a42-9844-4c5d933ca6e1",
   "metadata": {},
   "outputs": [
    {
     "data": {
      "text/plain": [
       "'A Is Bigger 100'"
      ]
     },
     "execution_count": 40,
     "metadata": {},
     "output_type": "execute_result"
    }
   ],
   "source": [
    "calculate_max(100,25,1)"
   ]
  },
  {
   "cell_type": "code",
   "execution_count": null,
   "id": "3bcb1942-cb71-4828-84eb-a442752dc1a9",
   "metadata": {},
   "outputs": [],
   "source": []
  }
 ],
 "metadata": {
  "kernelspec": {
   "display_name": "Python 3 (ipykernel)",
   "language": "python",
   "name": "python3"
  },
  "language_info": {
   "codemirror_mode": {
    "name": "ipython",
    "version": 3
   },
   "file_extension": ".py",
   "mimetype": "text/x-python",
   "name": "python",
   "nbconvert_exporter": "python",
   "pygments_lexer": "ipython3",
   "version": "3.11.7"
  }
 },
 "nbformat": 4,
 "nbformat_minor": 5
}
