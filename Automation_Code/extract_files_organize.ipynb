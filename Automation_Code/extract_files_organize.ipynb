{
 "cells": [
  {
   "cell_type": "markdown",
   "id": "59bb3c35-b7bf-483e-b41a-c5f304827b76",
   "metadata": {},
   "source": [
    "## ==========================================================\n",
    "##  FILE ORGANIZER SCRIPT: Copy .html, .py, .css files\n",
    "##  from project folder into separate folders side-by-side\n",
    "## ==========================================================\n"
   ]
  },
  {
   "cell_type": "code",
   "execution_count": 1,
   "id": "4bf70230-500c-4b9d-8108-92b79404236e",
   "metadata": {},
   "outputs": [
    {
     "name": "stdout",
     "output_type": "stream",
     "text": [
      "✅ All files copied to respective folders beside your project.\n"
     ]
    }
   ],
   "source": [
    "    import os\n",
    "    import shutil\n",
    "    \n",
    "    # Your root project folder (change path accordingly)\n",
    "    project_dir = r\"C:\\Users\\kiran\\OneDrive\\Desktop\\Kira\"\n",
    "    \n",
    "    # Destination folders (created next to the Kira folder)\n",
    "    base_path = os.path.abspath(project_dir)\n",
    "    parent_dir = os.path.dirname(base_path)\n",
    "    \n",
    "    html_folder = os.path.join(parent_dir, 'Kira_html_files')\n",
    "    py_folder = os.path.join(parent_dir, 'Kira_py_files')\n",
    "    css_folder = os.path.join(parent_dir, 'Kira_css_files')\n",
    "        \n",
    "    # Create destination folders if they don't exist\n",
    "    os.makedirs(html_folder, exist_ok=True)\n",
    "    os.makedirs(py_folder, exist_ok=True)\n",
    "    os.makedirs(css_folder, exist_ok=True)\n",
    "    \n",
    "    # Traverse the project folder\n",
    "    for root, dirs, files in os.walk(project_dir):\n",
    "        for file in files:\n",
    "            ext = os.path.splitext(file)[1].lower()\n",
    "            file_path = os.path.join(root, file)\n",
    "    \n",
    "            # Avoid copying files from the destination folders themselves\n",
    "            if html_folder in root or py_folder in root or css_folder in root:\n",
    "                continue\n",
    "    \n",
    "            if ext == '.html':\n",
    "                shutil.copy(file_path, html_folder)\n",
    "            elif ext == '.py':\n",
    "                shutil.copy(file_path, py_folder)\n",
    "            elif ext == '.css':\n",
    "                shutil.copy(file_path, css_folder)\n",
    "    \n",
    "    print(\"✅ All files copied to respective folders beside your project.\")\n"
   ]
  },
  {
   "cell_type": "code",
   "execution_count": null,
   "id": "8814ec54-a58d-47c0-9a4e-3fd83f906a76",
   "metadata": {},
   "outputs": [],
   "source": []
  }
 ],
 "metadata": {
  "kernelspec": {
   "display_name": "Python 3 (ipykernel)",
   "language": "python",
   "name": "python3"
  },
  "language_info": {
   "codemirror_mode": {
    "name": "ipython",
    "version": 3
   },
   "file_extension": ".py",
   "mimetype": "text/x-python",
   "name": "python",
   "nbconvert_exporter": "python",
   "pygments_lexer": "ipython3",
   "version": "3.12.7"
  }
 },
 "nbformat": 4,
 "nbformat_minor": 5
}
