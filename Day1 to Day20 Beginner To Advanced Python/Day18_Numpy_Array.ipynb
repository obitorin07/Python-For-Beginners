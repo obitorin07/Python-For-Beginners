{
  "nbformat": 4,
  "nbformat_minor": 0,
  "metadata": {
    "colab": {
      "provenance": []
    },
    "kernelspec": {
      "name": "python3",
      "display_name": "Python 3"
    },
    "language_info": {
      "name": "python"
    }
  },
  "cells": [
    {
      "cell_type": "markdown",
      "source": [
        "#Numpy For data analysis"
      ],
      "metadata": {
        "id": "y72FV5GqzxaX"
      }
    },
    {
      "cell_type": "code",
      "execution_count": null,
      "metadata": {
        "colab": {
          "base_uri": "https://localhost:8080/"
        },
        "id": "GoatRF67zuW-",
        "outputId": "aee13536-f1e2-480b-b50c-161d59bf2397"
      },
      "outputs": [
        {
          "output_type": "stream",
          "name": "stdout",
          "text": [
            "[10, 25, 15, 13, 16, 17, 10, 25, 15, 13, 16, 17]\n"
          ]
        }
      ],
      "source": [
        "import numpy as np\n",
        "\n",
        "x = [10,25,15,13,16,17]\n",
        "\n",
        "print(x*2)"
      ]
    },
    {
      "cell_type": "code",
      "source": [
        "# without using numy\n",
        "for i in x:\n",
        "  print(i*2)"
      ],
      "metadata": {
        "colab": {
          "base_uri": "https://localhost:8080/"
        },
        "id": "ktTCDs3U0Vah",
        "outputId": "9919d3ee-8737-469d-e0f5-2308cfc6e2c5"
      },
      "execution_count": null,
      "outputs": [
        {
          "output_type": "stream",
          "name": "stdout",
          "text": [
            "20\n",
            "50\n",
            "30\n",
            "26\n",
            "32\n",
            "34\n"
          ]
        }
      ]
    },
    {
      "cell_type": "code",
      "source": [
        "#using numpy\n",
        "y = np.array(x)\n",
        "print(type(y))\n",
        "print(y*2)\n",
        "print(y>13)\n",
        "print(y[y>13])"
      ],
      "metadata": {
        "colab": {
          "base_uri": "https://localhost:8080/"
        },
        "id": "jl_xo6w40dW_",
        "outputId": "ff1fd9dd-4dee-4f9d-a0d8-85d86e0b05d9"
      },
      "execution_count": null,
      "outputs": [
        {
          "output_type": "stream",
          "name": "stdout",
          "text": [
            "<class 'numpy.ndarray'>\n",
            "[20 50 30 26 32 34]\n",
            "[False  True  True False  True  True]\n",
            "[25 15 16 17]\n"
          ]
        }
      ]
    },
    {
      "cell_type": "code",
      "source": [
        "y"
      ],
      "metadata": {
        "colab": {
          "base_uri": "https://localhost:8080/"
        },
        "id": "cGvdslFl0qL_",
        "outputId": "11bca245-0a56-4093-eed2-f9365cb46819"
      },
      "execution_count": null,
      "outputs": [
        {
          "output_type": "execute_result",
          "data": {
            "text/plain": [
              "array([10, 25, 15, 13, 16, 17])"
            ]
          },
          "metadata": {},
          "execution_count": 8
        }
      ]
    },
    {
      "cell_type": "code",
      "source": [
        "z =y -10\n"
      ],
      "metadata": {
        "id": "JxB47GLG07Yr"
      },
      "execution_count": null,
      "outputs": []
    },
    {
      "cell_type": "code",
      "source": [
        "z"
      ],
      "metadata": {
        "colab": {
          "base_uri": "https://localhost:8080/"
        },
        "id": "cvB7OcvH0-6U",
        "outputId": "cdda6af1-0b70-4e35-fd03-d8e2b47a1aea"
      },
      "execution_count": null,
      "outputs": [
        {
          "output_type": "execute_result",
          "data": {
            "text/plain": [
              "array([ 0, 15,  5,  3,  6,  7])"
            ]
          },
          "metadata": {},
          "execution_count": 12
        }
      ]
    },
    {
      "cell_type": "code",
      "source": [],
      "metadata": {
        "id": "T0Q8sW3L0_QF"
      },
      "execution_count": null,
      "outputs": []
    },
    {
      "cell_type": "markdown",
      "source": [
        "#random"
      ],
      "metadata": {
        "id": "pGl0Phmh4Lmh"
      }
    },
    {
      "cell_type": "code",
      "source": [
        "from numpy import random\n",
        "\n",
        "x = random.randint(2,20)\n",
        "print(x)"
      ],
      "metadata": {
        "colab": {
          "base_uri": "https://localhost:8080/"
        },
        "id": "hZxL3Qos4Mk8",
        "outputId": "44f4fde1-d74b-425f-9ca8-67c9d03728f9"
      },
      "execution_count": null,
      "outputs": [
        {
          "output_type": "stream",
          "name": "stdout",
          "text": [
            "3\n"
          ]
        }
      ]
    },
    {
      "cell_type": "code",
      "source": [
        "import numpy as np\n",
        "data = [10,20,30,40,50,60,70]\n",
        "print(data*2)\n",
        "\n",
        "#using numpy\n",
        "\n",
        "result = np.array(data)\n",
        "print(result*2)"
      ],
      "metadata": {
        "id": "GNEdY8UI4WSi",
        "colab": {
          "base_uri": "https://localhost:8080/"
        },
        "outputId": "d81129c8-6468-4792-f894-bf263d245e42"
      },
      "execution_count": null,
      "outputs": [
        {
          "output_type": "stream",
          "name": "stdout",
          "text": [
            "[10, 20, 30, 40, 50, 60, 70, 10, 20, 30, 40, 50, 60, 70]\n",
            "[ 20  40  60  80 100 120 140]\n"
          ]
        }
      ]
    },
    {
      "cell_type": "code",
      "source": [
        "import numpy as np\n",
        "a = np.arange(10)\n",
        "print(a)\n",
        "b = a[::2]\n",
        "print(b)\n",
        "print(np.shares_memory(a,b)) #checks whether a and b shares memory\n",
        "print(a,\"\\n\",b)"
      ],
      "metadata": {
        "id": "iUHUz7u0-3iR",
        "colab": {
          "base_uri": "https://localhost:8080/"
        },
        "outputId": "37fe2b0f-dcfa-4139-a728-74e8d0c8811b"
      },
      "execution_count": null,
      "outputs": [
        {
          "output_type": "stream",
          "name": "stdout",
          "text": [
            "[0 1 2 3 4 5 6 7 8 9]\n",
            "[0 2 4 6 8]\n",
            "True\n",
            "[0 1 2 3 4 5 6 7 8 9] \n",
            " [0 2 4 6 8]\n"
          ]
        }
      ]
    },
    {
      "cell_type": "code",
      "source": [
        "import numpy as np\n",
        "arr = np.array([[1,2,3,4,5,6],[5,6,7,8,9,10]])\n",
        "print(type(arr))\n",
        "print()\n",
        "print(arr)\n",
        "print(arr[0,-1])\n",
        "print(arr[1,-3])\n",
        "\n",
        "print(arr[0])\n",
        "print(arr[1])"
      ],
      "metadata": {
        "colab": {
          "base_uri": "https://localhost:8080/"
        },
        "id": "g642DmNwP6JP",
        "outputId": "1af21521-da2b-454b-90eb-1a3f789a6487"
      },
      "execution_count": null,
      "outputs": [
        {
          "output_type": "stream",
          "name": "stdout",
          "text": [
            "<class 'numpy.ndarray'>\n",
            "\n",
            "[[ 1  2  3  4  5  6]\n",
            " [ 5  6  7  8  9 10]]\n",
            "6\n",
            "8\n",
            "[1 2 3 4 5 6]\n",
            "[ 5  6  7  8  9 10]\n"
          ]
        }
      ]
    },
    {
      "cell_type": "code",
      "source": [],
      "metadata": {
        "id": "2kQf-udoQ2ms"
      },
      "execution_count": null,
      "outputs": []
    },
    {
      "cell_type": "markdown",
      "source": [
        "#slicing"
      ],
      "metadata": {
        "id": "B2_810aLRw8_"
      }
    },
    {
      "cell_type": "code",
      "source": [
        "import numpy as np\n",
        "arr = np.array([1,2,5,98,7,5,12])\n",
        "print(arr[2:5])"
      ],
      "metadata": {
        "colab": {
          "base_uri": "https://localhost:8080/"
        },
        "id": "lhK6wYC_RysL",
        "outputId": "e5d58888-1e7f-4b5e-9dbe-b78b6d955ff1"
      },
      "execution_count": null,
      "outputs": [
        {
          "output_type": "stream",
          "name": "stdout",
          "text": [
            "[ 5 98  7]\n"
          ]
        }
      ]
    },
    {
      "cell_type": "code",
      "source": [
        "print(arr[1:6:2])"
      ],
      "metadata": {
        "colab": {
          "base_uri": "https://localhost:8080/"
        },
        "id": "BUtWaYzGR7aJ",
        "outputId": "edefec09-1e97-4301-d8a9-228e6631c516"
      },
      "execution_count": null,
      "outputs": [
        {
          "output_type": "stream",
          "name": "stdout",
          "text": [
            "[ 2 98  5]\n"
          ]
        }
      ]
    },
    {
      "cell_type": "code",
      "source": [],
      "metadata": {
        "id": "Rqk-rZAsSXSQ"
      },
      "execution_count": null,
      "outputs": []
    },
    {
      "cell_type": "markdown",
      "source": [
        "#masking arrrays"
      ],
      "metadata": {
        "id": "DuTBmmrFXCKf"
      }
    },
    {
      "cell_type": "code",
      "source": [
        "a = np.arange(15)\n",
        "print(a)\n",
        "\n",
        "mask = (a%2==0) #masking even numbers\n",
        "print(a[mask])"
      ],
      "metadata": {
        "colab": {
          "base_uri": "https://localhost:8080/"
        },
        "id": "aeOemcW4XDwF",
        "outputId": "651cd319-01a0-402e-e0d3-7067383efa27"
      },
      "execution_count": null,
      "outputs": [
        {
          "output_type": "stream",
          "name": "stdout",
          "text": [
            "[ 0  1  2  3  4  5  6  7  8  9 10 11 12 13 14]\n",
            "[ 0  2  4  6  8 10 12 14]\n"
          ]
        }
      ]
    },
    {
      "cell_type": "code",
      "source": [
        "a = np.arange(15)\n",
        "print(a)\n",
        "\n",
        "mask = (a%2!=0) #masking even numbers\n",
        "print(a[mask])"
      ],
      "metadata": {
        "colab": {
          "base_uri": "https://localhost:8080/"
        },
        "id": "ypIBStVzXKZy",
        "outputId": "e3325429-fe8f-4065-f218-fe5ed0427708"
      },
      "execution_count": null,
      "outputs": [
        {
          "output_type": "stream",
          "name": "stdout",
          "text": [
            "[ 0  1  2  3  4  5  6  7  8  9 10 11 12 13 14]\n",
            "[ 1  3  5  7  9 11 13]\n"
          ]
        }
      ]
    },
    {
      "cell_type": "code",
      "source": [
        "a%2"
      ],
      "metadata": {
        "colab": {
          "base_uri": "https://localhost:8080/"
        },
        "id": "RpYKuBmxaCEe",
        "outputId": "22b6cb30-0872-497e-f86f-cad062920f15"
      },
      "execution_count": null,
      "outputs": [
        {
          "output_type": "execute_result",
          "data": {
            "text/plain": [
              "array([0, 1, 0, 1, 0, 1, 0, 1, 0, 1, 0, 1, 0, 1, 0])"
            ]
          },
          "metadata": {},
          "execution_count": 43
        }
      ]
    },
    {
      "cell_type": "code",
      "source": [],
      "metadata": {
        "id": "ldoS3zkbaboZ"
      },
      "execution_count": null,
      "outputs": []
    },
    {
      "cell_type": "markdown",
      "source": [
        "#numpy matrices"
      ],
      "metadata": {
        "id": "5wVvkg8VamBm"
      }
    },
    {
      "cell_type": "code",
      "source": [
        "a = np.matrix('1,2;3,4')\n",
        "print(a)\n",
        "b = np.matrix([[1,2],[4,5]])\n",
        "print(b)"
      ],
      "metadata": {
        "colab": {
          "base_uri": "https://localhost:8080/"
        },
        "id": "V3fT2B3HapMb",
        "outputId": "2998a4e9-b66a-4dca-a6af-d05158911e1a"
      },
      "execution_count": null,
      "outputs": [
        {
          "output_type": "stream",
          "name": "stdout",
          "text": [
            "[[1 2]\n",
            " [3 4]]\n",
            "[[1 2]\n",
            " [4 5]]\n"
          ]
        }
      ]
    },
    {
      "cell_type": "code",
      "source": [],
      "metadata": {
        "id": "xF1rbcSgayum"
      },
      "execution_count": null,
      "outputs": []
    },
    {
      "cell_type": "markdown",
      "source": [
        "#numpy broad casting"
      ],
      "metadata": {
        "id": "VIOBOE1tbo3M"
      }
    },
    {
      "cell_type": "code",
      "source": [
        "a = np.arange(0,40,5)\n",
        "\n",
        "print(a)\n",
        "\n",
        "b = np.arange(0,30,6)\n",
        "print(b)\n",
        "\n",
        "print(a.shape) #checking how many elements are there\n",
        "print(a)\n",
        "\n",
        "print()\n",
        "print(b.shape)\n",
        "print(b)"
      ],
      "metadata": {
        "colab": {
          "base_uri": "https://localhost:8080/"
        },
        "id": "gWIWGy5hbrRD",
        "outputId": "2cfef87c-edc6-4b78-c3c3-dc5a3381f760"
      },
      "execution_count": null,
      "outputs": [
        {
          "output_type": "stream",
          "name": "stdout",
          "text": [
            "[ 0  5 10 15 20 25 30 35]\n",
            "[ 0  6 12 18 24]\n",
            "(8,)\n",
            "[ 0  5 10 15 20 25 30 35]\n",
            "\n",
            "(5,)\n",
            "[ 0  6 12 18 24]\n"
          ]
        }
      ]
    },
    {
      "cell_type": "code",
      "source": [
        "a =a[:,np.newaxis]\n",
        "a.shape"
      ],
      "metadata": {
        "colab": {
          "base_uri": "https://localhost:8080/"
        },
        "id": "R-f7EIlNbvQ1",
        "outputId": "597fc0be-80b0-4066-bc2d-259cd6fd8fb5"
      },
      "execution_count": null,
      "outputs": [
        {
          "output_type": "execute_result",
          "data": {
            "text/plain": [
              "(8, 1, 1)"
            ]
          },
          "metadata": {},
          "execution_count": 64
        }
      ]
    },
    {
      "cell_type": "code",
      "source": [
        "print(a)"
      ],
      "metadata": {
        "colab": {
          "base_uri": "https://localhost:8080/"
        },
        "id": "kg0ZWfnDc4Rn",
        "outputId": "5446a9af-4450-43f1-ac83-88cd461271d3"
      },
      "execution_count": null,
      "outputs": [
        {
          "output_type": "stream",
          "name": "stdout",
          "text": [
            "[[[ 0]]\n",
            "\n",
            " [[ 5]]\n",
            "\n",
            " [[10]]\n",
            "\n",
            " [[15]]\n",
            "\n",
            " [[20]]\n",
            "\n",
            " [[25]]\n",
            "\n",
            " [[30]]\n",
            "\n",
            " [[35]]]\n"
          ]
        }
      ]
    },
    {
      "cell_type": "code",
      "source": [
        "b"
      ],
      "metadata": {
        "colab": {
          "base_uri": "https://localhost:8080/"
        },
        "id": "ACNh_Fqsc7k5",
        "outputId": "39034cb1-e783-49da-87c9-de8a4ef06b52"
      },
      "execution_count": null,
      "outputs": [
        {
          "output_type": "execute_result",
          "data": {
            "text/plain": [
              "array([ 0,  6, 12, 18, 24])"
            ]
          },
          "metadata": {},
          "execution_count": 71
        }
      ]
    },
    {
      "cell_type": "code",
      "source": [
        "a+b"
      ],
      "metadata": {
        "colab": {
          "base_uri": "https://localhost:8080/"
        },
        "id": "smTRHpOndWx2",
        "outputId": "b12d8a7d-be0a-4baa-81ef-755aafbf1c29"
      },
      "execution_count": null,
      "outputs": [
        {
          "output_type": "execute_result",
          "data": {
            "text/plain": [
              "array([[[ 0,  6, 12, 18, 24]],\n",
              "\n",
              "       [[ 5, 11, 17, 23, 29]],\n",
              "\n",
              "       [[10, 16, 22, 28, 34]],\n",
              "\n",
              "       [[15, 21, 27, 33, 39]],\n",
              "\n",
              "       [[20, 26, 32, 38, 44]],\n",
              "\n",
              "       [[25, 31, 37, 43, 49]],\n",
              "\n",
              "       [[30, 36, 42, 48, 54]],\n",
              "\n",
              "       [[35, 41, 47, 53, 59]]])"
            ]
          },
          "metadata": {},
          "execution_count": 72
        }
      ]
    },
    {
      "cell_type": "code",
      "source": [],
      "metadata": {
        "id": "_cE4GP_rdZ3w"
      },
      "execution_count": null,
      "outputs": []
    },
    {
      "cell_type": "markdown",
      "source": [
        "#DATA STRUCTURE"
      ],
      "metadata": {
        "id": "P7Bk2AWid1o0"
      }
    },
    {
      "cell_type": "markdown",
      "source": [
        "##Array/Vectors"
      ],
      "metadata": {
        "id": "vz4Nfiopd_Mz"
      }
    },
    {
      "cell_type": "code",
      "source": [
        "from array import *\n",
        "\n",
        "array1 = array (\"i\",[10,20,30,40,50])\n",
        "print(array1)\n",
        "for x in array1:\n",
        "  print(x*2)"
      ],
      "metadata": {
        "colab": {
          "base_uri": "https://localhost:8080/"
        },
        "id": "25N30B3pd4Sk",
        "outputId": "692c5b22-6180-40cc-8fd0-4353c7468b59"
      },
      "execution_count": 3,
      "outputs": [
        {
          "output_type": "stream",
          "name": "stdout",
          "text": [
            "array('i', [10, 20, 30, 40, 50])\n",
            "20\n",
            "40\n",
            "60\n",
            "80\n",
            "100\n"
          ]
        }
      ]
    },
    {
      "cell_type": "code",
      "source": [
        "help(array)"
      ],
      "metadata": {
        "id": "61NWRaLseSkA",
        "colab": {
          "base_uri": "https://localhost:8080/"
        },
        "outputId": "874df720-9ee6-4f30-806f-6e88a1dd6cd8"
      },
      "execution_count": 4,
      "outputs": [
        {
          "output_type": "stream",
          "name": "stdout",
          "text": [
            "Help on class array in module array:\n",
            "\n",
            "class array(builtins.object)\n",
            " |  array(typecode [, initializer]) -> array\n",
            " |  \n",
            " |  Return a new array whose items are restricted by typecode, and\n",
            " |  initialized from the optional initializer value, which must be a list,\n",
            " |  string or iterable over elements of the appropriate type.\n",
            " |  \n",
            " |  Arrays represent basic values and behave very much like lists, except\n",
            " |  the type of objects stored in them is constrained. The type is specified\n",
            " |  at object creation time by using a type code, which is a single character.\n",
            " |  The following type codes are defined:\n",
            " |  \n",
            " |      Type code   C Type             Minimum size in bytes\n",
            " |      'b'         signed integer     1\n",
            " |      'B'         unsigned integer   1\n",
            " |      'u'         Unicode character  2 (see note)\n",
            " |      'h'         signed integer     2\n",
            " |      'H'         unsigned integer   2\n",
            " |      'i'         signed integer     2\n",
            " |      'I'         unsigned integer   2\n",
            " |      'l'         signed integer     4\n",
            " |      'L'         unsigned integer   4\n",
            " |      'q'         signed integer     8 (see note)\n",
            " |      'Q'         unsigned integer   8 (see note)\n",
            " |      'f'         floating point     4\n",
            " |      'd'         floating point     8\n",
            " |  \n",
            " |  NOTE: The 'u' typecode corresponds to Python's unicode character. On\n",
            " |  narrow builds this is 2-bytes on wide builds this is 4-bytes.\n",
            " |  \n",
            " |  NOTE: The 'q' and 'Q' type codes are only available if the platform\n",
            " |  C compiler used to build Python supports 'long long', or, on Windows,\n",
            " |  '__int64'.\n",
            " |  \n",
            " |  Methods:\n",
            " |  \n",
            " |  append() -- append a new item to the end of the array\n",
            " |  buffer_info() -- return information giving the current memory info\n",
            " |  byteswap() -- byteswap all the items of the array\n",
            " |  count() -- return number of occurrences of an object\n",
            " |  extend() -- extend array by appending multiple elements from an iterable\n",
            " |  fromfile() -- read items from a file object\n",
            " |  fromlist() -- append items from the list\n",
            " |  frombytes() -- append items from the string\n",
            " |  index() -- return index of first occurrence of an object\n",
            " |  insert() -- insert a new item into the array at a provided position\n",
            " |  pop() -- remove and return item (default last)\n",
            " |  remove() -- remove first occurrence of an object\n",
            " |  reverse() -- reverse the order of the items in the array\n",
            " |  tofile() -- write all items to a file object\n",
            " |  tolist() -- return the array converted to an ordinary list\n",
            " |  tobytes() -- return the array converted to a string\n",
            " |  \n",
            " |  Attributes:\n",
            " |  \n",
            " |  typecode -- the typecode character used to create the array\n",
            " |  itemsize -- the length in bytes of one array item\n",
            " |  \n",
            " |  Methods defined here:\n",
            " |  \n",
            " |  __add__(self, value, /)\n",
            " |      Return self+value.\n",
            " |  \n",
            " |  __contains__(self, key, /)\n",
            " |      Return key in self.\n",
            " |  \n",
            " |  __copy__(self, /)\n",
            " |      Return a copy of the array.\n",
            " |  \n",
            " |  __deepcopy__(self, unused, /)\n",
            " |      Return a copy of the array.\n",
            " |  \n",
            " |  __delitem__(self, key, /)\n",
            " |      Delete self[key].\n",
            " |  \n",
            " |  __eq__(self, value, /)\n",
            " |      Return self==value.\n",
            " |  \n",
            " |  __ge__(self, value, /)\n",
            " |      Return self>=value.\n",
            " |  \n",
            " |  __getattribute__(self, name, /)\n",
            " |      Return getattr(self, name).\n",
            " |  \n",
            " |  __getitem__(self, key, /)\n",
            " |      Return self[key].\n",
            " |  \n",
            " |  __gt__(self, value, /)\n",
            " |      Return self>value.\n",
            " |  \n",
            " |  __iadd__(self, value, /)\n",
            " |      Implement self+=value.\n",
            " |  \n",
            " |  __imul__(self, value, /)\n",
            " |      Implement self*=value.\n",
            " |  \n",
            " |  __iter__(self, /)\n",
            " |      Implement iter(self).\n",
            " |  \n",
            " |  __le__(self, value, /)\n",
            " |      Return self<=value.\n",
            " |  \n",
            " |  __len__(self, /)\n",
            " |      Return len(self).\n",
            " |  \n",
            " |  __lt__(self, value, /)\n",
            " |      Return self<value.\n",
            " |  \n",
            " |  __mul__(self, value, /)\n",
            " |      Return self*value.\n",
            " |  \n",
            " |  __ne__(self, value, /)\n",
            " |      Return self!=value.\n",
            " |  \n",
            " |  __reduce_ex__(self, value, /)\n",
            " |      Return state information for pickling.\n",
            " |  \n",
            " |  __repr__(self, /)\n",
            " |      Return repr(self).\n",
            " |  \n",
            " |  __rmul__(self, value, /)\n",
            " |      Return value*self.\n",
            " |  \n",
            " |  __setitem__(self, key, value, /)\n",
            " |      Set self[key] to value.\n",
            " |  \n",
            " |  __sizeof__(self, /)\n",
            " |      Size of the array in memory, in bytes.\n",
            " |  \n",
            " |  append(self, v, /)\n",
            " |      Append new value v to the end of the array.\n",
            " |  \n",
            " |  buffer_info(self, /)\n",
            " |      Return a tuple (address, length) giving the current memory address and the length in items of the buffer used to hold array's contents.\n",
            " |      \n",
            " |      The length should be multiplied by the itemsize attribute to calculate\n",
            " |      the buffer length in bytes.\n",
            " |  \n",
            " |  byteswap(self, /)\n",
            " |      Byteswap all items of the array.\n",
            " |      \n",
            " |      If the items in the array are not 1, 2, 4, or 8 bytes in size, RuntimeError is\n",
            " |      raised.\n",
            " |  \n",
            " |  count(self, v, /)\n",
            " |      Return number of occurrences of v in the array.\n",
            " |  \n",
            " |  extend(self, bb, /)\n",
            " |      Append items to the end of the array.\n",
            " |  \n",
            " |  frombytes(self, buffer, /)\n",
            " |      Appends items from the string, interpreting it as an array of machine values, as if it had been read from a file using the fromfile() method.\n",
            " |  \n",
            " |  fromfile(self, f, n, /)\n",
            " |      Read n objects from the file object f and append them to the end of the array.\n",
            " |  \n",
            " |  fromlist(self, list, /)\n",
            " |      Append items to array from list.\n",
            " |  \n",
            " |  fromunicode(self, ustr, /)\n",
            " |      Extends this array with data from the unicode string ustr.\n",
            " |      \n",
            " |      The array must be a unicode type array; otherwise a ValueError is raised.\n",
            " |      Use array.frombytes(ustr.encode(...)) to append Unicode data to an array of\n",
            " |      some other type.\n",
            " |  \n",
            " |  index(self, v, start=0, stop=9223372036854775807, /)\n",
            " |      Return index of first occurrence of v in the array.\n",
            " |      \n",
            " |      Raise ValueError if the value is not present.\n",
            " |  \n",
            " |  insert(self, i, v, /)\n",
            " |      Insert a new item v into the array before position i.\n",
            " |  \n",
            " |  pop(self, i=-1, /)\n",
            " |      Return the i-th element and delete it from the array.\n",
            " |      \n",
            " |      i defaults to -1.\n",
            " |  \n",
            " |  remove(self, v, /)\n",
            " |      Remove the first occurrence of v in the array.\n",
            " |  \n",
            " |  reverse(self, /)\n",
            " |      Reverse the order of the items in the array.\n",
            " |  \n",
            " |  tobytes(self, /)\n",
            " |      Convert the array to an array of machine values and return the bytes representation.\n",
            " |  \n",
            " |  tofile(self, f, /)\n",
            " |      Write all items (as machine values) to the file object f.\n",
            " |  \n",
            " |  tolist(self, /)\n",
            " |      Convert array to an ordinary list with the same items.\n",
            " |  \n",
            " |  tounicode(self, /)\n",
            " |      Extends this array with data from the unicode string ustr.\n",
            " |      \n",
            " |      Convert the array to a unicode string.  The array must be a unicode type array;\n",
            " |      otherwise a ValueError is raised.  Use array.tobytes().decode() to obtain a\n",
            " |      unicode string from an array of some other type.\n",
            " |  \n",
            " |  ----------------------------------------------------------------------\n",
            " |  Static methods defined here:\n",
            " |  \n",
            " |  __new__(*args, **kwargs) from builtins.type\n",
            " |      Create and return a new object.  See help(type) for accurate signature.\n",
            " |  \n",
            " |  ----------------------------------------------------------------------\n",
            " |  Data descriptors defined here:\n",
            " |  \n",
            " |  itemsize\n",
            " |      the size, in bytes, of one array item\n",
            " |  \n",
            " |  typecode\n",
            " |      the typecode character used to create the array\n",
            " |  \n",
            " |  ----------------------------------------------------------------------\n",
            " |  Data and other attributes defined here:\n",
            " |  \n",
            " |  __hash__ = None\n",
            "\n"
          ]
        }
      ]
    },
    {
      "cell_type": "code",
      "source": [],
      "metadata": {
        "id": "61EyDIyuubZp"
      },
      "execution_count": null,
      "outputs": []
    },
    {
      "cell_type": "markdown",
      "source": [
        "#array insertion and deletion operations"
      ],
      "metadata": {
        "id": "O8YkWGtWurea"
      }
    },
    {
      "cell_type": "code",
      "source": [
        "from array import *\n",
        "\n",
        "a = array('i',[1,2,3,5,4])\n",
        "\n",
        "print(a)"
      ],
      "metadata": {
        "colab": {
          "base_uri": "https://localhost:8080/"
        },
        "id": "w0HZZnjAuwXA",
        "outputId": "6ae2e7f5-4374-4e1b-81e7-465f229b24a8"
      },
      "execution_count": 8,
      "outputs": [
        {
          "output_type": "stream",
          "name": "stdout",
          "text": [
            "array('i', [1, 2, 3, 5, 4])\n"
          ]
        }
      ]
    },
    {
      "cell_type": "code",
      "source": [
        "a.append(10)"
      ],
      "metadata": {
        "id": "Cn1oWZh2u7Nh"
      },
      "execution_count": 10,
      "outputs": []
    },
    {
      "cell_type": "code",
      "source": [
        "a"
      ],
      "metadata": {
        "colab": {
          "base_uri": "https://localhost:8080/"
        },
        "id": "C6i7e3WWvWt4",
        "outputId": "dc08e6b9-7134-4135-bf05-f12a4cf895ac"
      },
      "execution_count": 11,
      "outputs": [
        {
          "output_type": "execute_result",
          "data": {
            "text/plain": [
              "array('i', [1, 2, 3, 5, 4, 10])"
            ]
          },
          "metadata": {},
          "execution_count": 11
        }
      ]
    },
    {
      "cell_type": "code",
      "source": [
        "a.insert(15,5)"
      ],
      "metadata": {
        "id": "EeSIraGvvaCG"
      },
      "execution_count": 12,
      "outputs": []
    },
    {
      "cell_type": "code",
      "source": [
        "a"
      ],
      "metadata": {
        "colab": {
          "base_uri": "https://localhost:8080/"
        },
        "id": "81Y0m0pNvhqa",
        "outputId": "18cf0b1b-0a33-4f44-9893-038c800388f8"
      },
      "execution_count": 13,
      "outputs": [
        {
          "output_type": "execute_result",
          "data": {
            "text/plain": [
              "array('i', [1, 2, 3, 5, 4, 10, 5])"
            ]
          },
          "metadata": {},
          "execution_count": 13
        }
      ]
    },
    {
      "cell_type": "code",
      "source": [
        "a.insert(1,100)"
      ],
      "metadata": {
        "id": "7fXeFLuRviKx"
      },
      "execution_count": 14,
      "outputs": []
    },
    {
      "cell_type": "code",
      "source": [
        "a"
      ],
      "metadata": {
        "colab": {
          "base_uri": "https://localhost:8080/"
        },
        "id": "ophqbG6-vpan",
        "outputId": "df25f97c-f9e7-46eb-ef97-25b7b364e788"
      },
      "execution_count": 15,
      "outputs": [
        {
          "output_type": "execute_result",
          "data": {
            "text/plain": [
              "array('i', [1, 100, 2, 3, 5, 4, 10, 5])"
            ]
          },
          "metadata": {},
          "execution_count": 15
        }
      ]
    },
    {
      "cell_type": "code",
      "source": [
        "for i in a:\n",
        "  print(i)"
      ],
      "metadata": {
        "colab": {
          "base_uri": "https://localhost:8080/"
        },
        "id": "4NZn9DdsvqIN",
        "outputId": "a7906220-ae0f-404c-99ce-d906f2f38ee5"
      },
      "execution_count": 18,
      "outputs": [
        {
          "output_type": "stream",
          "name": "stdout",
          "text": [
            "1\n",
            "100\n",
            "2\n",
            "3\n",
            "5\n",
            "4\n",
            "10\n"
          ]
        }
      ]
    },
    {
      "cell_type": "code",
      "source": [
        "a.pop()"
      ],
      "metadata": {
        "colab": {
          "base_uri": "https://localhost:8080/"
        },
        "id": "5ore7K7Av_aZ",
        "outputId": "94f670fe-3aef-4193-e761-62dd3c0b9670"
      },
      "execution_count": 17,
      "outputs": [
        {
          "output_type": "execute_result",
          "data": {
            "text/plain": [
              "5"
            ]
          },
          "metadata": {},
          "execution_count": 17
        }
      ]
    },
    {
      "cell_type": "code",
      "source": [
        "a.remove(100) # it will remove the first occurance"
      ],
      "metadata": {
        "id": "zhZmt3sYwDi0"
      },
      "execution_count": 19,
      "outputs": []
    },
    {
      "cell_type": "code",
      "source": [
        "a"
      ],
      "metadata": {
        "colab": {
          "base_uri": "https://localhost:8080/"
        },
        "id": "0QCD8J7AwILq",
        "outputId": "ab412d7e-15bb-4e4a-ef37-53d3ae1aa905"
      },
      "execution_count": 20,
      "outputs": [
        {
          "output_type": "execute_result",
          "data": {
            "text/plain": [
              "array('i', [1, 2, 3, 5, 4, 10])"
            ]
          },
          "metadata": {},
          "execution_count": 20
        }
      ]
    },
    {
      "cell_type": "code",
      "source": [
        "a.reverse()"
      ],
      "metadata": {
        "id": "FuKzGXXJwIqP"
      },
      "execution_count": 28,
      "outputs": []
    },
    {
      "cell_type": "code",
      "source": [
        "a"
      ],
      "metadata": {
        "colab": {
          "base_uri": "https://localhost:8080/"
        },
        "id": "ieLV89oBwQSH",
        "outputId": "b5e5852f-67fd-4394-d1b1-d7074e02df87"
      },
      "execution_count": 29,
      "outputs": [
        {
          "output_type": "execute_result",
          "data": {
            "text/plain": [
              "array('i', [10, 4, 5, 3, 2, 1])"
            ]
          },
          "metadata": {},
          "execution_count": 29
        }
      ]
    },
    {
      "cell_type": "code",
      "source": [
        "#update\n",
        "a[2] = 25"
      ],
      "metadata": {
        "id": "daTKs_Q2wRAV"
      },
      "execution_count": 30,
      "outputs": []
    },
    {
      "cell_type": "code",
      "source": [
        "a"
      ],
      "metadata": {
        "colab": {
          "base_uri": "https://localhost:8080/"
        },
        "id": "V30sdNovxX4G",
        "outputId": "0cb0c1bd-3262-4825-a8b5-8e5a0e3f9956"
      },
      "execution_count": 31,
      "outputs": [
        {
          "output_type": "execute_result",
          "data": {
            "text/plain": [
              "array('i', [10, 4, 25, 3, 2, 1])"
            ]
          },
          "metadata": {},
          "execution_count": 31
        }
      ]
    },
    {
      "cell_type": "code",
      "source": [
        "for i in a:\n",
        "  print(i)"
      ],
      "metadata": {
        "colab": {
          "base_uri": "https://localhost:8080/"
        },
        "id": "rOOoag_3xYHH",
        "outputId": "ad4fedec-b6b9-4db0-acc0-df4aff2d142b"
      },
      "execution_count": 32,
      "outputs": [
        {
          "output_type": "stream",
          "name": "stdout",
          "text": [
            "10\n",
            "4\n",
            "25\n",
            "3\n",
            "2\n",
            "1\n"
          ]
        }
      ]
    },
    {
      "cell_type": "code",
      "source": [],
      "metadata": {
        "id": "o1CEi2Nmx1gn"
      },
      "execution_count": null,
      "outputs": []
    },
    {
      "cell_type": "markdown",
      "source": [
        "#2D array"
      ],
      "metadata": {
        "id": "mL3hjE_oyErh"
      }
    },
    {
      "cell_type": "code",
      "source": [
        ""
      ],
      "metadata": {
        "id": "JKp19ETxyGKI"
      },
      "execution_count": 33,
      "outputs": []
    },
    {
      "cell_type": "code",
      "source": [
        "x"
      ],
      "metadata": {
        "colab": {
          "base_uri": "https://localhost:8080/"
        },
        "id": "q23NKmnwyXJT",
        "outputId": "733e7e05-9fb8-4e02-ee02-119ebddff519"
      },
      "execution_count": 34,
      "outputs": [
        {
          "output_type": "execute_result",
          "data": {
            "text/plain": [
              "[[1, 2, 3, 4, 5, 6], [2, 4, 6, 8, 10, 12], [3, 6, 9, 12, 15, 18]]"
            ]
          },
          "metadata": {},
          "execution_count": 34
        }
      ]
    },
    {
      "cell_type": "code",
      "source": [
        "print(x[0])"
      ],
      "metadata": {
        "colab": {
          "base_uri": "https://localhost:8080/"
        },
        "id": "kNILJctCyXd1",
        "outputId": "a1f6f5d5-f001-4916-fddd-55cbefdfb463"
      },
      "execution_count": 35,
      "outputs": [
        {
          "output_type": "stream",
          "name": "stdout",
          "text": [
            "[1, 2, 3, 4, 5, 6]\n"
          ]
        }
      ]
    },
    {
      "cell_type": "code",
      "source": [
        "for i in x[2]:\n",
        "  print(i)"
      ],
      "metadata": {
        "colab": {
          "base_uri": "https://localhost:8080/"
        },
        "id": "apQ6olgRyjbY",
        "outputId": "bddd9c76-c71e-4a1b-ad15-278b8743dca7"
      },
      "execution_count": 39,
      "outputs": [
        {
          "output_type": "stream",
          "name": "stdout",
          "text": [
            "3\n",
            "6\n",
            "9\n",
            "12\n",
            "15\n",
            "18\n"
          ]
        }
      ]
    },
    {
      "cell_type": "code",
      "source": [
        "print(x[0])"
      ],
      "metadata": {
        "colab": {
          "base_uri": "https://localhost:8080/"
        },
        "id": "qxEqybInypay",
        "outputId": "ecbbd8ea-cc25-4595-bca5-3ca1ebe92145"
      },
      "execution_count": 56,
      "outputs": [
        {
          "output_type": "stream",
          "name": "stdout",
          "text": [
            "[1, 2, 3, 4, 5, 6]\n"
          ]
        }
      ]
    },
    {
      "cell_type": "code",
      "source": [
        "print(x[1][2])"
      ],
      "metadata": {
        "colab": {
          "base_uri": "https://localhost:8080/"
        },
        "id": "1xF9_lp5zE46",
        "outputId": "029515cd-badd-4d53-8f7d-253e07d847bb"
      },
      "execution_count": 57,
      "outputs": [
        {
          "output_type": "stream",
          "name": "stdout",
          "text": [
            "6\n"
          ]
        }
      ]
    },
    {
      "cell_type": "code",
      "source": [],
      "metadata": {
        "id": "Adi1wM_H08Y7"
      },
      "execution_count": null,
      "outputs": []
    },
    {
      "cell_type": "markdown",
      "source": [
        "##inserting data into 2d array"
      ],
      "metadata": {
        "id": "2H0AzY_91B2p"
      }
    },
    {
      "cell_type": "code",
      "source": [
        "from array import *"
      ],
      "metadata": {
        "id": "8b8AOHhr1kJV"
      },
      "execution_count": 69,
      "outputs": []
    },
    {
      "cell_type": "code",
      "source": [
        "array1 = [ [1,2,3,4,5,6],[2,4,6,8,10,12],[3,6,9,12,15,18] ]\n",
        "print(array1)"
      ],
      "metadata": {
        "colab": {
          "base_uri": "https://localhost:8080/"
        },
        "id": "AjJNdRr41FL3",
        "outputId": "9cf38d6f-873f-4804-ab33-35cb2e5ad9db"
      },
      "execution_count": 66,
      "outputs": [
        {
          "output_type": "stream",
          "name": "stdout",
          "text": [
            "[[1, 2, 3, 4, 5, 6], [2, 4, 6, 8, 10, 12], [3, 6, 9, 12, 15, 18]]\n"
          ]
        }
      ]
    },
    {
      "cell_type": "code",
      "source": [
        "array2 = [100,150,200,250,300]"
      ],
      "metadata": {
        "id": "sQMKFyiX1LmL"
      },
      "execution_count": 67,
      "outputs": []
    },
    {
      "cell_type": "code",
      "source": [
        "array2.insert(2,255)"
      ],
      "metadata": {
        "id": "H_QlZqpQ14Wg"
      },
      "execution_count": 70,
      "outputs": []
    },
    {
      "cell_type": "code",
      "source": [
        "array2"
      ],
      "metadata": {
        "colab": {
          "base_uri": "https://localhost:8080/"
        },
        "id": "6XIDxkhc2COV",
        "outputId": "dd7241b6-ccb9-4d56-fb1e-4a49046b8555"
      },
      "execution_count": 71,
      "outputs": [
        {
          "output_type": "execute_result",
          "data": {
            "text/plain": [
              "[100, 150, 255, 200, 250, 300]"
            ]
          },
          "metadata": {},
          "execution_count": 71
        }
      ]
    },
    {
      "cell_type": "code",
      "source": [
        "array1.append(array2)"
      ],
      "metadata": {
        "id": "rfUemUr52EyT"
      },
      "execution_count": 72,
      "outputs": []
    },
    {
      "cell_type": "code",
      "source": [
        "array1"
      ],
      "metadata": {
        "colab": {
          "base_uri": "https://localhost:8080/"
        },
        "id": "Qbu7omqq2Lif",
        "outputId": "da593b86-d386-4cc7-acf1-10bdb5d527cc"
      },
      "execution_count": 73,
      "outputs": [
        {
          "output_type": "execute_result",
          "data": {
            "text/plain": [
              "[[1, 2, 3, 4, 5, 6],\n",
              " [2, 4, 6, 8, 10, 12],\n",
              " [3, 6, 9, 12, 15, 18],\n",
              " [100, 150, 255, 200, 250, 300]]"
            ]
          },
          "metadata": {},
          "execution_count": 73
        }
      ]
    },
    {
      "cell_type": "code",
      "source": [
        "array1.pop()"
      ],
      "metadata": {
        "colab": {
          "base_uri": "https://localhost:8080/"
        },
        "id": "utv6qKBl2Mh0",
        "outputId": "0b294097-bd34-46a1-bd22-9e73c7e49d00"
      },
      "execution_count": 75,
      "outputs": [
        {
          "output_type": "execute_result",
          "data": {
            "text/plain": [
              "[100, 150, 255, 200, 250, 300]"
            ]
          },
          "metadata": {},
          "execution_count": 75
        }
      ]
    },
    {
      "cell_type": "code",
      "source": [
        "array1.insert(2,array2)"
      ],
      "metadata": {
        "id": "LXnze1UP2OoO"
      },
      "execution_count": 76,
      "outputs": []
    },
    {
      "cell_type": "code",
      "source": [
        "array1"
      ],
      "metadata": {
        "colab": {
          "base_uri": "https://localhost:8080/"
        },
        "id": "eD7VbtkZ2W0r",
        "outputId": "abfdb9d7-e765-41db-8071-79ca3b09fa8c"
      },
      "execution_count": 77,
      "outputs": [
        {
          "output_type": "execute_result",
          "data": {
            "text/plain": [
              "[[1, 2, 3, 4, 5, 6],\n",
              " [2, 4, 6, 8, 10, 12],\n",
              " [100, 150, 255, 200, 250, 300],\n",
              " [3, 6, 9, 12, 15, 18]]"
            ]
          },
          "metadata": {},
          "execution_count": 77
        }
      ]
    },
    {
      "cell_type": "code",
      "source": [
        "array1[2][0]=101"
      ],
      "metadata": {
        "id": "CHa4UBXi2YIS"
      },
      "execution_count": 78,
      "outputs": []
    },
    {
      "cell_type": "code",
      "source": [
        "array1"
      ],
      "metadata": {
        "colab": {
          "base_uri": "https://localhost:8080/"
        },
        "id": "uH1ooGYq3NOc",
        "outputId": "01a250c3-2b56-42b1-b62b-0a1101768f67"
      },
      "execution_count": 82,
      "outputs": [
        {
          "output_type": "execute_result",
          "data": {
            "text/plain": [
              "[[1, 2, 3, 4, 5, 6], [2, 4, 6, 8, 10, 12], [0, 200, 25], [3, 6, 9, 12, 15, 18]]"
            ]
          },
          "metadata": {},
          "execution_count": 82
        }
      ]
    },
    {
      "cell_type": "code",
      "source": [
        "array1[2]=[0,200,25]"
      ],
      "metadata": {
        "id": "M1Ui18rr3Opl"
      },
      "execution_count": 81,
      "outputs": []
    },
    {
      "cell_type": "code",
      "source": [
        "array1"
      ],
      "metadata": {
        "colab": {
          "base_uri": "https://localhost:8080/"
        },
        "id": "pid5XLgy3dMm",
        "outputId": "ec4608bf-97b9-45ff-be5f-a05d75255fe4"
      },
      "execution_count": 83,
      "outputs": [
        {
          "output_type": "execute_result",
          "data": {
            "text/plain": [
              "[[1, 2, 3, 4, 5, 6], [2, 4, 6, 8, 10, 12], [0, 200, 25], [3, 6, 9, 12, 15, 18]]"
            ]
          },
          "metadata": {},
          "execution_count": 83
        }
      ]
    },
    {
      "cell_type": "code",
      "source": [
        "del array1[2]"
      ],
      "metadata": {
        "id": "e1EMiWNW3h9n"
      },
      "execution_count": 84,
      "outputs": []
    },
    {
      "cell_type": "code",
      "source": [
        "array1"
      ],
      "metadata": {
        "colab": {
          "base_uri": "https://localhost:8080/"
        },
        "id": "gfwmP_CL4t2B",
        "outputId": "dd4170c7-fc7f-4457-ed3b-10710c0c767b"
      },
      "execution_count": 85,
      "outputs": [
        {
          "output_type": "execute_result",
          "data": {
            "text/plain": [
              "[[1, 2, 3, 4, 5, 6], [2, 4, 6, 8, 10, 12], [3, 6, 9, 12, 15, 18]]"
            ]
          },
          "metadata": {},
          "execution_count": 85
        }
      ]
    },
    {
      "cell_type": "code",
      "source": [],
      "metadata": {
        "id": "rL5YuYsk4wH9"
      },
      "execution_count": null,
      "outputs": []
    },
    {
      "cell_type": "markdown",
      "source": [
        "#matrix"
      ],
      "metadata": {
        "id": "zxs_9b0m4xVl"
      }
    },
    {
      "cell_type": "code",
      "source": [
        "from numpy import *\n",
        "a = array([['Monday', 18, 20, 22, 17 ],['Tuesday', 11, 25, 15, 16],\n",
        "['Wednesday', 18, 14, 17, 21],['Thursday', 1, 5, 7, 27],['Friday', 1, 5, 8, 7],\n",
        "['Saturday',14,16,18,20],['Sunday',3,6,9,12]])\n",
        "print(a)"
      ],
      "metadata": {
        "colab": {
          "base_uri": "https://localhost:8080/"
        },
        "id": "FEYbSx0S4yOT",
        "outputId": "ffc04214-0953-45d5-f1a3-756c48be4769"
      },
      "execution_count": 98,
      "outputs": [
        {
          "output_type": "stream",
          "name": "stdout",
          "text": [
            "[['Monday' '18' '20' '22' '17']\n",
            " ['Tuesday' '11' '25' '15' '16']\n",
            " ['Wednesday' '18' '14' '17' '21']\n",
            " ['Thursday' '1' '5' '7' '27']\n",
            " ['Friday' '1' '5' '8' '7']\n",
            " ['Saturday' '14' '16' '18' '20']\n",
            " ['Sunday' '3' '6' '9' '12']]\n"
          ]
        }
      ]
    },
    {
      "cell_type": "code",
      "source": [
        "x = reshape(a,(7,5))\n",
        "x"
      ],
      "metadata": {
        "colab": {
          "base_uri": "https://localhost:8080/"
        },
        "id": "NrJerLw87FYu",
        "outputId": "b4d19d8b-814a-4c3d-c32f-5e01b0f155d0"
      },
      "execution_count": 104,
      "outputs": [
        {
          "output_type": "execute_result",
          "data": {
            "text/plain": [
              "array([['Monday', '18', '20', '22', '17'],\n",
              "       ['Tuesday', '11', '25', '15', '16'],\n",
              "       ['Wednesday', '18', '14', '17', '21'],\n",
              "       ['Thursday', '1', '5', '7', '27'],\n",
              "       ['Friday', '1', '5', '8', '7'],\n",
              "       ['Saturday', '14', '16', '18', '20'],\n",
              "       ['Sunday', '3', '6', '9', '12']], dtype='<U21')"
            ]
          },
          "metadata": {},
          "execution_count": 104
        }
      ]
    },
    {
      "cell_type": "code",
      "source": [
        "x[2][1:]"
      ],
      "metadata": {
        "colab": {
          "base_uri": "https://localhost:8080/"
        },
        "id": "ybEHSIsh7YOw",
        "outputId": "680fb0f1-3aae-4b81-db7f-182ad993a565"
      },
      "execution_count": 107,
      "outputs": [
        {
          "output_type": "execute_result",
          "data": {
            "text/plain": [
              "array(['18', '14', '17', '21'], dtype='<U21')"
            ]
          },
          "metadata": {},
          "execution_count": 107
        }
      ]
    },
    {
      "cell_type": "code",
      "source": [],
      "metadata": {
        "id": "09Kr9k_47_Xj"
      },
      "execution_count": null,
      "outputs": []
    },
    {
      "cell_type": "markdown",
      "source": [
        "##adding row and column"
      ],
      "metadata": {
        "id": "Ax4kjvSx8uy4"
      }
    },
    {
      "cell_type": "code",
      "source": [
        "from numpy import *\n",
        "a = array([['Monday', 18, 20, 22, 17 ],['Tuesday', 11, 25, 15, 16],\n",
        "['Wednesday', 18, 14, 17, 21],['Thursday', 1, 5, 7, 27],['Friday', 1, 5, 8, 7],\n",
        "['Saturday',14,16,18,20],['Sunday',3,6,9,12]])\n",
        "\n",
        "x = reshape(a,(7,5))\n",
        "\n",
        "\n",
        "row = append(x,[['hello',15,152,16,12]],0) # adding row\n",
        "print(row)\n",
        "\n",
        "column =insert(x,[3],[[0],[1],[2],[4],[5],[7],[11]],1)\n",
        "\n",
        "print(column)"
      ],
      "metadata": {
        "colab": {
          "base_uri": "https://localhost:8080/"
        },
        "id": "YrIYhyeq8xKY",
        "outputId": "2c91c612-5a40-476e-c517-21702556a224"
      },
      "execution_count": 136,
      "outputs": [
        {
          "output_type": "stream",
          "name": "stdout",
          "text": [
            "[['Monday' '18' '20' '22' '17']\n",
            " ['Tuesday' '11' '25' '15' '16']\n",
            " ['Wednesday' '18' '14' '17' '21']\n",
            " ['Thursday' '1' '5' '7' '27']\n",
            " ['Friday' '1' '5' '8' '7']\n",
            " ['Saturday' '14' '16' '18' '20']\n",
            " ['Sunday' '3' '6' '9' '12']\n",
            " ['hello' '15' '152' '16' '12']]\n",
            "[['Monday' '18' '20' '0' '22' '17']\n",
            " ['Tuesday' '11' '25' '1' '15' '16']\n",
            " ['Wednesday' '18' '14' '2' '17' '21']\n",
            " ['Thursday' '1' '5' '4' '7' '27']\n",
            " ['Friday' '1' '5' '5' '8' '7']\n",
            " ['Saturday' '14' '16' '7' '18' '20']\n",
            " ['Sunday' '3' '6' '11' '9' '12']]\n"
          ]
        }
      ]
    },
    {
      "cell_type": "code",
      "source": [],
      "metadata": {
        "id": "JYJO0mU_9C4A"
      },
      "execution_count": null,
      "outputs": []
    },
    {
      "cell_type": "markdown",
      "source": [
        "##delete matric"
      ],
      "metadata": {
        "id": "mimI_oEL_LVW"
      }
    },
    {
      "cell_type": "code",
      "source": [
        "n1 = delete (x[1], 0) # 0 is row"
      ],
      "metadata": {
        "id": "gpx4vxUA_M4t"
      },
      "execution_count": 151,
      "outputs": []
    },
    {
      "cell_type": "code",
      "source": [
        "n2 = delete(x [2] , 2)# 2nd column means column"
      ],
      "metadata": {
        "id": "l3pD3V1C_dAl"
      },
      "execution_count": 162,
      "outputs": []
    },
    {
      "cell_type": "code",
      "source": [
        "print(n1)"
      ],
      "metadata": {
        "colab": {
          "base_uri": "https://localhost:8080/"
        },
        "id": "MmYJv4ah_mE9",
        "outputId": "90ef50de-fe1e-43f9-dbe8-068cd60d8f56"
      },
      "execution_count": 160,
      "outputs": [
        {
          "output_type": "stream",
          "name": "stdout",
          "text": [
            "['11' '25' '15' '16']\n"
          ]
        }
      ]
    },
    {
      "cell_type": "code",
      "source": [
        "print(n2)"
      ],
      "metadata": {
        "colab": {
          "base_uri": "https://localhost:8080/"
        },
        "id": "9aZm1xW-_xb_",
        "outputId": "9ff6f5c9-b37a-40a8-aca1-37bd395f54bc"
      },
      "execution_count": 161,
      "outputs": [
        {
          "output_type": "stream",
          "name": "stdout",
          "text": [
            "['Wednesday' '18' '17' '21']\n"
          ]
        }
      ]
    },
    {
      "cell_type": "code",
      "source": [
        "print(x)"
      ],
      "metadata": {
        "colab": {
          "base_uri": "https://localhost:8080/"
        },
        "id": "3kP5Ua5-_zgF",
        "outputId": "fa65684e-fa80-4edf-a0ef-5ef18ea1410a"
      },
      "execution_count": 158,
      "outputs": [
        {
          "output_type": "stream",
          "name": "stdout",
          "text": [
            "[['Monday' '18' '20' '22' '17']\n",
            " ['Tuesday' '11' '25' '15' '16']\n",
            " ['Wednesday' '18' '14' '17' '21']\n",
            " ['Thursday' '1' '5' '7' '27']\n",
            " ['Friday' '1' '5' '8' '7']\n",
            " ['Saturday' '14' '16' '18' '20']\n",
            " ['Sunday' '3' '6' '9' '12']]\n"
          ]
        }
      ]
    },
    {
      "cell_type": "code",
      "source": [],
      "metadata": {
        "id": "poeXuzLqA8Tr"
      },
      "execution_count": null,
      "outputs": []
    },
    {
      "cell_type": "markdown",
      "source": [
        "#diagonal"
      ],
      "metadata": {
        "id": "BnfwgscGBV9y"
      }
    },
    {
      "cell_type": "code",
      "source": [
        "import numpy as np\n",
        "\n",
        "z = np.diag(1+np.arange(5))\n",
        "print(np.arange(5))\n",
        "print(z)\n",
        "print(type(z))"
      ],
      "metadata": {
        "colab": {
          "base_uri": "https://localhost:8080/"
        },
        "id": "5tHBLC9-BXm6",
        "outputId": "1cf5b564-839d-4677-e5ad-30580c129684"
      },
      "execution_count": 168,
      "outputs": [
        {
          "output_type": "stream",
          "name": "stdout",
          "text": [
            "[0 1 2 3 4]\n",
            "[[1 0 0 0 0]\n",
            " [0 2 0 0 0]\n",
            " [0 0 3 0 0]\n",
            " [0 0 0 4 0]\n",
            " [0 0 0 0 5]]\n",
            "<class 'numpy.ndarray'>\n"
          ]
        }
      ]
    },
    {
      "cell_type": "code",
      "source": [],
      "metadata": {
        "id": "4g1zbtn9Br_I"
      },
      "execution_count": null,
      "outputs": []
    }
  ]
}