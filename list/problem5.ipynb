{
 "cells": [
  {
   "cell_type": "code",
   "execution_count": 59,
   "id": "54a72c4b-863b-44c8-a38f-b2878b77aaa2",
   "metadata": {},
   "outputs": [],
   "source": [
    "cart = [\n",
    "    {\"item\": \"pen\", \"price\": 10, \"qty\": 3},\n",
    "    {\"item\": \"notebook\", \"price\": 50, \"qty\": 2},\n",
    "    {\"item\": \"eraser\", \"price\": 5, \"qty\": 5}\n",
    "]\n",
    "#total price of products "
   ]
  },
  {
   "cell_type": "code",
   "execution_count": 61,
   "id": "cc7e3ed8-bdcc-44a2-aede-ee8c19b798fc",
   "metadata": {},
   "outputs": [
    {
     "name": "stdout",
     "output_type": "stream",
     "text": [
      "155\n"
     ]
    }
   ],
   "source": [
    "total_price = 0\n",
    "for items in cart: \n",
    "    # print(f\"Item :{items['item']} --> Price: {items['price']} Quantity:{items['qty']}\")\n",
    "    # print(items['price'] * items['qty'])\n",
    "    total_price+= items['price'] * items['qty']\n",
    "print(total_price)"
   ]
  },
  {
   "cell_type": "code",
   "execution_count": 85,
   "id": "843fcdeb-e71e-4258-967b-bdf6d0724792",
   "metadata": {},
   "outputs": [
    {
     "name": "stdout",
     "output_type": "stream",
     "text": [
      "pen x 3 = 30$\n",
      "notebook x 2 = 100$\n",
      "eraser x 5 = 25$\n",
      "Total Price : 155$\n"
     ]
    }
   ],
   "source": [
    "prod_total_price = 0 \n",
    "for data in cart :\n",
    "    product_name = data['item']\n",
    "    product_price = data['price']\n",
    "    product_quantity = data['qty']\n",
    "    print(f\"{product_name} x {product_quantity} = {product_price * product_quantity}$\")\n",
    "    prod_total_price =  prod_total_price + (product_price * product_quantity)\n",
    "print(f\"Total Price : {prod_total_price}$\")"
   ]
  },
  {
   "cell_type": "code",
   "execution_count": null,
   "id": "112947a3-6670-422e-ad7e-30928c1e34d5",
   "metadata": {},
   "outputs": [],
   "source": []
  }
 ],
 "metadata": {
  "kernelspec": {
   "display_name": "Python 3 (ipykernel)",
   "language": "python",
   "name": "python3"
  },
  "language_info": {
   "codemirror_mode": {
    "name": "ipython",
    "version": 3
   },
   "file_extension": ".py",
   "mimetype": "text/x-python",
   "name": "python",
   "nbconvert_exporter": "python",
   "pygments_lexer": "ipython3",
   "version": "3.12.7"
  }
 },
 "nbformat": 4,
 "nbformat_minor": 5
}
