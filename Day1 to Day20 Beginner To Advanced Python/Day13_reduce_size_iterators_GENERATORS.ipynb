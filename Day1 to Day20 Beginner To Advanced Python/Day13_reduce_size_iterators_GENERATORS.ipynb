{
  "nbformat": 4,
  "nbformat_minor": 0,
  "metadata": {
    "colab": {
      "provenance": []
    },
    "kernelspec": {
      "name": "python3",
      "display_name": "Python 3"
    },
    "language_info": {
      "name": "python"
    }
  },
  "cells": [
    {
      "cell_type": "markdown",
      "source": [
        "#iterators()"
      ],
      "metadata": {
        "id": "OVAgPUoxtvPo"
      }
    },
    {
      "cell_type": "code",
      "execution_count": 1,
      "metadata": {
        "colab": {
          "base_uri": "https://localhost:8080/"
        },
        "id": "ZG0h1y_Atclr",
        "outputId": "573c74c3-902a-4b31-cd90-792840f2bdc4"
      },
      "outputs": [
        {
          "output_type": "execute_result",
          "data": {
            "text/plain": [
              "['Disha', 'Muskan', 'Raja ', 'Hinata', 'yash']"
            ]
          },
          "metadata": {},
          "execution_count": 1
        }
      ],
      "source": [
        "names = ['Disha',\"Muskan\",\"Raja \",'Hinata','yash']\n",
        "names"
      ]
    },
    {
      "cell_type": "code",
      "source": [
        "x = names.__iter__()"
      ],
      "metadata": {
        "id": "gDb2hqMMuIKv"
      },
      "execution_count": 19,
      "outputs": []
    },
    {
      "cell_type": "code",
      "source": [
        "print(x)"
      ],
      "metadata": {
        "colab": {
          "base_uri": "https://localhost:8080/"
        },
        "id": "IXlEKuryv2jH",
        "outputId": "99930212-a02d-40d6-ac91-7c210c187ec4"
      },
      "execution_count": 20,
      "outputs": [
        {
          "output_type": "stream",
          "name": "stdout",
          "text": [
            "<list_iterator object at 0x7a2ca3da6890>\n"
          ]
        }
      ]
    },
    {
      "cell_type": "code",
      "source": [
        "for obj in names:\n",
        "  print(f\"This is a object {obj}\")"
      ],
      "metadata": {
        "colab": {
          "base_uri": "https://localhost:8080/"
        },
        "id": "ZAD0_VGPv37F",
        "outputId": "85c411a6-27b8-4519-fd18-da2af38bfbbf"
      },
      "execution_count": 21,
      "outputs": [
        {
          "output_type": "stream",
          "name": "stdout",
          "text": [
            "This is a object Disha\n",
            "This is a object Muskan\n",
            "This is a object Raja \n",
            "This is a object Hinata\n",
            "This is a object yash\n"
          ]
        }
      ]
    },
    {
      "cell_type": "code",
      "source": [],
      "metadata": {
        "id": "r2RPQItJwC_b"
      },
      "execution_count": null,
      "outputs": []
    },
    {
      "cell_type": "markdown",
      "source": [
        "#converting data into directly to iterator\n",
        "\n",
        "1.   IT SAVE STORAGE\n",
        "\n",
        "\n"
      ],
      "metadata": {
        "id": "tXwfiHJCwU7V"
      }
    },
    {
      "cell_type": "code",
      "source": [
        "new_iterators = iter(names)"
      ],
      "metadata": {
        "id": "XZ3ktDecwY_K"
      },
      "execution_count": 33,
      "outputs": []
    },
    {
      "cell_type": "code",
      "source": [
        "print(next(new_iterators))"
      ],
      "metadata": {
        "colab": {
          "base_uri": "https://localhost:8080/"
        },
        "id": "vymalTdPwoTh",
        "outputId": "208155ec-ea21-4276-e87e-d02454b9087b"
      },
      "execution_count": 34,
      "outputs": [
        {
          "output_type": "stream",
          "name": "stdout",
          "text": [
            "Disha\n"
          ]
        }
      ]
    },
    {
      "cell_type": "code",
      "source": [
        "name  =  [i for i in range(20000)]\n"
      ],
      "metadata": {
        "id": "6_jlIiHLws4M"
      },
      "execution_count": 43,
      "outputs": []
    },
    {
      "cell_type": "code",
      "source": [
        "name"
      ],
      "metadata": {
        "id": "moYuhTvA08Ed"
      },
      "execution_count": null,
      "outputs": []
    },
    {
      "cell_type": "code",
      "source": [
        "import sys\n",
        "print(f\"The size of variable size :  {sys.getsizeof(name)} bytes\")"
      ],
      "metadata": {
        "colab": {
          "base_uri": "https://localhost:8080/"
        },
        "id": "9BD0bcDs1CAA",
        "outputId": "b312c32d-e9fa-4e2e-f0a9-09f8dcbf3610"
      },
      "execution_count": 54,
      "outputs": [
        {
          "output_type": "stream",
          "name": "stdout",
          "text": [
            "The size of variable size :  173016 bytes\n"
          ]
        }
      ]
    },
    {
      "cell_type": "code",
      "source": [
        "convert_data = iter(name)"
      ],
      "metadata": {
        "id": "eQb_whmy1IoF"
      },
      "execution_count": 55,
      "outputs": []
    },
    {
      "cell_type": "code",
      "source": [
        "import sys\n",
        "print(f\"The size of variable size :  {sys.getsizeof(name)} bytes\")\n",
        "print('-----------------------------------------')\n",
        "\n",
        "print(\"after iterator\")\n",
        "import sys\n",
        "print(f\"The size of variable size :  {sys.getsizeof(convert_data)} bytes\")"
      ],
      "metadata": {
        "colab": {
          "base_uri": "https://localhost:8080/"
        },
        "id": "WZEOE-Gt3CXn",
        "outputId": "a612d254-02ce-48d8-b04c-b5d82ebbcca2"
      },
      "execution_count": 57,
      "outputs": [
        {
          "output_type": "stream",
          "name": "stdout",
          "text": [
            "The size of variable size :  173016 bytes\n",
            "-----------------------------------------\n",
            "after iterator\n",
            "The size of variable size :  48 bytes\n"
          ]
        }
      ]
    },
    {
      "cell_type": "code",
      "source": [],
      "metadata": {
        "id": "w2PtkDbE3GSc"
      },
      "execution_count": null,
      "outputs": []
    },
    {
      "cell_type": "markdown",
      "source": [
        "##lets calculate"
      ],
      "metadata": {
        "id": "Y2_LX2et3VNy"
      }
    },
    {
      "cell_type": "code",
      "source": [
        "x = 173016/1024 #kb\n",
        "y =x/1024 #Mb\n",
        "z =y /1024 #gb\n",
        "\n",
        "print(x)\n",
        "print(y)\n",
        "\n",
        "print(z)\n",
        "\n",
        "a = 173016/(1024*1024)"
      ],
      "metadata": {
        "colab": {
          "base_uri": "https://localhost:8080/"
        },
        "id": "ZU_Ww8X93XPc",
        "outputId": "506526db-659d-4a03-81a0-d57a1f07ce5e"
      },
      "execution_count": 61,
      "outputs": [
        {
          "output_type": "stream",
          "name": "stdout",
          "text": [
            "168.9609375\n",
            "0.16500091552734375\n",
            "0.00016113370656967163\n"
          ]
        }
      ]
    },
    {
      "cell_type": "code",
      "source": [
        "a"
      ],
      "metadata": {
        "colab": {
          "base_uri": "https://localhost:8080/"
        },
        "id": "DFOswZl53omu",
        "outputId": "ee689359-ceca-4e4f-e27c-9ffd0b900e2b"
      },
      "execution_count": 62,
      "outputs": [
        {
          "output_type": "execute_result",
          "data": {
            "text/plain": [
              "0.16500091552734375"
            ]
          },
          "metadata": {},
          "execution_count": 62
        }
      ]
    },
    {
      "cell_type": "markdown",
      "source": [
        "##next ()\n",
        "\n",
        "* it just print next values"
      ],
      "metadata": {
        "id": "2mAK9swy8wPq"
      }
    },
    {
      "cell_type": "code",
      "source": [
        "X ='I DONT KNOW WHAT TO DO'\n",
        "\n",
        "y = iter(X)\n"
      ],
      "metadata": {
        "colab": {
          "base_uri": "https://localhost:8080/"
        },
        "id": "GpVwJiEn41a8",
        "outputId": "cbf67e03-7222-458f-d237-d497d9397821"
      },
      "execution_count": 65,
      "outputs": [
        {
          "output_type": "stream",
          "name": "stdout",
          "text": [
            "I\n"
          ]
        }
      ]
    },
    {
      "cell_type": "code",
      "source": [
        "print(next(y))"
      ],
      "metadata": {
        "colab": {
          "base_uri": "https://localhost:8080/"
        },
        "id": "2KRcPums8pPA",
        "outputId": "8253d8c4-f554-4fd4-fe79-fbe23b71dccb"
      },
      "execution_count": 70,
      "outputs": [
        {
          "output_type": "stream",
          "name": "stdout",
          "text": [
            "T\n"
          ]
        }
      ]
    },
    {
      "cell_type": "code",
      "source": [
        "def gen (x):\n",
        "  for x in range(x):\n",
        "    yield x**2\n",
        "  #yield means produce\n",
        "  #\n"
      ],
      "metadata": {
        "id": "8paavwGxBK6F"
      },
      "execution_count": 89,
      "outputs": []
    },
    {
      "cell_type": "code",
      "source": [
        "square = gen(10)\n",
        "next(square)"
      ],
      "metadata": {
        "colab": {
          "base_uri": "https://localhost:8080/"
        },
        "id": "20yUWB78BQCT",
        "outputId": "1aded8ce-d528-4ef7-ea5b-3c4c5775a979"
      },
      "execution_count": 98,
      "outputs": [
        {
          "output_type": "execute_result",
          "data": {
            "text/plain": [
              "0"
            ]
          },
          "metadata": {},
          "execution_count": 98
        }
      ]
    },
    {
      "cell_type": "code",
      "source": [
        "next(square)"
      ],
      "metadata": {
        "colab": {
          "base_uri": "https://localhost:8080/"
        },
        "id": "gZQQDJ9mCKJM",
        "outputId": "bc6d5fad-6ddf-4e64-ea7e-0ab2c3e3a402"
      },
      "execution_count": 100,
      "outputs": [
        {
          "output_type": "execute_result",
          "data": {
            "text/plain": [
              "4"
            ]
          },
          "metadata": {},
          "execution_count": 100
        }
      ]
    },
    {
      "cell_type": "code",
      "source": [],
      "metadata": {
        "id": "F8KMjM3ADoRN"
      },
      "execution_count": null,
      "outputs": []
    },
    {
      "cell_type": "markdown",
      "source": [
        "#generator()\n",
        "\n",
        "* generator use yield()\n",
        "* also also use next()\n",
        "* without next it will return an object\n",
        "* yeild return one by one value\n",
        "* also know as lazy function\n",
        "* it save memory space"
      ],
      "metadata": {
        "id": "JxRW5HtWDrk4"
      }
    },
    {
      "cell_type": "code",
      "source": [
        "def new_gen(x):\n",
        "  for i in range(x):\n",
        "    yield i\n"
      ],
      "metadata": {
        "id": "20b7eOfND02v"
      },
      "execution_count": 132,
      "outputs": []
    },
    {
      "cell_type": "code",
      "source": [
        "x =new_gen(2000)"
      ],
      "metadata": {
        "id": "oZJ60G1zEhHN"
      },
      "execution_count": 133,
      "outputs": []
    },
    {
      "cell_type": "code",
      "source": [
        "\n",
        "print(next(x))"
      ],
      "metadata": {
        "colab": {
          "base_uri": "https://localhost:8080/"
        },
        "id": "Md_wUzpxEsc1",
        "outputId": "5d9e9ce4-4376-4305-f797-aa1560a272d9"
      },
      "execution_count": 138,
      "outputs": [
        {
          "output_type": "stream",
          "name": "stdout",
          "text": [
            "4\n"
          ]
        }
      ]
    },
    {
      "cell_type": "code",
      "source": [],
      "metadata": {
        "id": "CQpjCP8kFVOU"
      },
      "execution_count": null,
      "outputs": []
    },
    {
      "cell_type": "markdown",
      "source": [
        "#Fibonacci series using gen"
      ],
      "metadata": {
        "id": "w8WxpqKCJKrl"
      }
    },
    {
      "cell_type": "code",
      "source": [
        "def fib (limit):\n",
        "  a,b =0,1\n",
        "  while a<limit:\n",
        "    yield a\n",
        "    a,b =b,a+b\n",
        ""
      ],
      "metadata": {
        "id": "0F5MOOPpJOkZ"
      },
      "execution_count": 139,
      "outputs": []
    },
    {
      "cell_type": "code",
      "source": [
        "x = fib(10)"
      ],
      "metadata": {
        "id": "lx5ynpMxJjKL"
      },
      "execution_count": 150,
      "outputs": []
    },
    {
      "cell_type": "code",
      "source": [
        "print(next(x))"
      ],
      "metadata": {
        "colab": {
          "base_uri": "https://localhost:8080/"
        },
        "id": "PWSKOKXFJl4I",
        "outputId": "6ed8f69b-38e4-4a4f-afb1-6078f2a54f19"
      },
      "execution_count": 151,
      "outputs": [
        {
          "output_type": "stream",
          "name": "stdout",
          "text": [
            "0\n"
          ]
        }
      ]
    },
    {
      "cell_type": "code",
      "source": [
        "#another way\n",
        "while True:\n",
        "  try:\n",
        "    print(next(x),end ='\\n')\n",
        "\n",
        "  except StopIteration:\n",
        "    break"
      ],
      "metadata": {
        "colab": {
          "base_uri": "https://localhost:8080/"
        },
        "id": "h_kwewITJpAg",
        "outputId": "71a8cfbe-4982-40b5-c555-99c6e1800443"
      },
      "execution_count": 152,
      "outputs": [
        {
          "output_type": "stream",
          "name": "stdout",
          "text": [
            "1\n",
            "1\n",
            "2\n",
            "3\n",
            "5\n",
            "8\n"
          ]
        }
      ]
    },
    {
      "cell_type": "code",
      "source": [],
      "metadata": {
        "id": "6w6C9m3wJ6rx"
      },
      "execution_count": null,
      "outputs": []
    }
  ]
}