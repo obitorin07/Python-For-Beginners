{
  "nbformat": 4,
  "nbformat_minor": 0,
  "metadata": {
    "colab": {
      "provenance": []
    },
    "kernelspec": {
      "name": "python3",
      "display_name": "Python 3"
    },
    "language_info": {
      "name": "python"
    }
  },
  "cells": [
    {
      "cell_type": "markdown",
      "source": [
        "#function"
      ],
      "metadata": {
        "id": "2VO0xGihNrml"
      }
    },
    {
      "cell_type": "code",
      "source": [
        "def rectange_angle(height,width):\n",
        "  return height*width\n",
        "\n",
        "print(rectange_angle(width=10,height=20))"
      ],
      "metadata": {
        "colab": {
          "base_uri": "https://localhost:8080/"
        },
        "id": "eGQKyZusNszv",
        "outputId": "23db2fac-3d2a-4f8a-d4f7-4e638f8d7585"
      },
      "execution_count": 1,
      "outputs": [
        {
          "output_type": "stream",
          "name": "stdout",
          "text": [
            "200\n"
          ]
        }
      ]
    },
    {
      "cell_type": "code",
      "execution_count": 12,
      "metadata": {
        "colab": {
          "base_uri": "https://localhost:8080/"
        },
        "id": "qOVCR5i0KRHS",
        "outputId": "5f62ef3e-a494-4ad0-a0cb-660a45d59c45"
      },
      "outputs": [
        {
          "output_type": "stream",
          "name": "stdout",
          "text": [
            "20 is bigger than 10\n",
            "50 is bigger than 12\n",
            "Both numbers equal\n"
          ]
        }
      ],
      "source": [
        "def find_big(num1,num2):\n",
        "  if num1>num2:\n",
        "    print(f\"{num1} is bigger than {num2}\")\n",
        "  elif num1<num2:\n",
        "    print(f\"{num2} is bigger than {num1}\")\n",
        "  else:\n",
        "    print(\"Both numbers equal\")\n",
        "\n",
        "find_big(10,20)\n",
        "find_big(50,12)\n",
        "find_big(10,10)"
      ]
    },
    {
      "cell_type": "code",
      "source": [
        "def parameter(a, b=10,c=20):\n",
        "  print(f\"a is {a} b is {b} and c is {c}\\n\")\n",
        "parameter(10,20)\n",
        "parameter(25)\n",
        "parameter(\"hello\",c = 255)\n",
        "\n",
        "parameter(\"i dont know \",b=100000,c=2)\n",
        "\n"
      ],
      "metadata": {
        "colab": {
          "base_uri": "https://localhost:8080/"
        },
        "id": "qr43UOA2NvnA",
        "outputId": "69fe6179-9fdb-4f14-c04c-404988111e83"
      },
      "execution_count": 25,
      "outputs": [
        {
          "output_type": "stream",
          "name": "stdout",
          "text": [
            "a is 10 b is 20 and c is 20\n",
            "\n",
            "a is 25 b is 10 and c is 20\n",
            "\n",
            "a is hello b is 10 and c is 255\n",
            "\n",
            "a is i dont know  b is 100000 and c is 2\n",
            "\n"
          ]
        }
      ]
    },
    {
      "cell_type": "code",
      "source": [
        "x = 20\n",
        "def value (x):\n",
        "  print(\"the local x\",x)\n",
        "  x = 56\n",
        "  print('The X value is ',x)\n",
        "print('The x value is ',x)\n"
      ],
      "metadata": {
        "colab": {
          "base_uri": "https://localhost:8080/"
        },
        "id": "zKWGbTf_RMwG",
        "outputId": "c59c6e0c-9460-4a60-b720-f5abd529e7a8"
      },
      "execution_count": 31,
      "outputs": [
        {
          "output_type": "stream",
          "name": "stdout",
          "text": [
            "The x value is  20\n"
          ]
        }
      ]
    },
    {
      "cell_type": "code",
      "source": [
        "value(x)\n",
        "#when i call function then inside x value value shows"
      ],
      "metadata": {
        "colab": {
          "base_uri": "https://localhost:8080/"
        },
        "id": "QRvDxqwjSS7d",
        "outputId": "03230dc7-053b-41da-ba03-3265b4308cdc"
      },
      "execution_count": 32,
      "outputs": [
        {
          "output_type": "stream",
          "name": "stdout",
          "text": [
            "the local x 20\n",
            "The X value is  56\n"
          ]
        }
      ]
    },
    {
      "cell_type": "code",
      "source": [],
      "metadata": {
        "id": "wPFdAxWhSVfb"
      },
      "execution_count": null,
      "outputs": []
    },
    {
      "cell_type": "markdown",
      "source": [
        "#*args\n",
        "1. number of args can pass here\n",
        "2. syntax is def fun_name (*args)"
      ],
      "metadata": {
        "id": "gsAAZw7ZTZLo"
      }
    },
    {
      "cell_type": "code",
      "source": [
        "def no_of_args_pass(*value):\n",
        "  for i in value:\n",
        "    print(i)\n"
      ],
      "metadata": {
        "id": "JVSHuU4FTamu"
      },
      "execution_count": 33,
      "outputs": []
    },
    {
      "cell_type": "code",
      "source": [
        "no_of_args_pass(\"hello\",\"python\",\"developers\",'sharingan')"
      ],
      "metadata": {
        "colab": {
          "base_uri": "https://localhost:8080/"
        },
        "id": "n6VGK0XWT4Hr",
        "outputId": "6631b470-0ab3-441a-bfe9-09e5e83f848d"
      },
      "execution_count": 35,
      "outputs": [
        {
          "output_type": "stream",
          "name": "stdout",
          "text": [
            "hello\n",
            "python\n",
            "developers\n",
            "sharingan\n"
          ]
        }
      ]
    },
    {
      "cell_type": "code",
      "source": [
        "no_of_args_pass(1,2,5,9,7,8,4,6,5,9,8,7,8)"
      ],
      "metadata": {
        "colab": {
          "base_uri": "https://localhost:8080/"
        },
        "id": "GPEkkeGBT_Ob",
        "outputId": "908ad1b5-75e4-4fd5-bb20-c0d725626a78"
      },
      "execution_count": 36,
      "outputs": [
        {
          "output_type": "stream",
          "name": "stdout",
          "text": [
            "1\n",
            "2\n",
            "5\n",
            "9\n",
            "7\n",
            "8\n",
            "4\n",
            "6\n",
            "5\n",
            "9\n",
            "8\n",
            "7\n",
            "8\n"
          ]
        }
      ]
    },
    {
      "cell_type": "code",
      "source": [],
      "metadata": {
        "id": "gAMMaCzKUGxz"
      },
      "execution_count": null,
      "outputs": []
    },
    {
      "cell_type": "markdown",
      "source": [
        "#**kwargs\n",
        "1. this is dict type number of args can  add in pair key value\n",
        "syntax def fun_name (**kwargs):\n",
        "    statement"
      ],
      "metadata": {
        "id": "COu-mqBrURMc"
      }
    },
    {
      "cell_type": "code",
      "source": [
        "def user_data (**data):\n",
        "  print(f\"The Type of data is {type(data)}\")\\\n",
        "\n",
        "  for key ,value in data.items():\n",
        "    print(f\"{key} is {value}\")"
      ],
      "metadata": {
        "id": "tgc_bxGSUhcG"
      },
      "execution_count": 37,
      "outputs": []
    },
    {
      "cell_type": "code",
      "source": [
        "user_data(FirstName=\"Ray\",LastName=\"Vision\",email='rayvision@gmail.com')"
      ],
      "metadata": {
        "colab": {
          "base_uri": "https://localhost:8080/"
        },
        "id": "3z9waMSvVAfR",
        "outputId": "52f55e76-6438-4d57-fec5-3b02e8e37b02"
      },
      "execution_count": 39,
      "outputs": [
        {
          "output_type": "stream",
          "name": "stdout",
          "text": [
            "The Type of data is <class 'dict'>\n",
            "FirstName is Ray\n",
            "LastName is Vision\n",
            "email is rayvision@gmail.com\n"
          ]
        }
      ]
    },
    {
      "cell_type": "code",
      "source": [
        "user_data(FirstName=\"Hinata\",LastName=\"Hyuga\",email='narutohina@gmail.com',place ='Japan',children_name =['Boruto','Himawari'])"
      ],
      "metadata": {
        "colab": {
          "base_uri": "https://localhost:8080/"
        },
        "id": "POnGSEHeVTRr",
        "outputId": "a8063365-6001-4a92-ce59-ac418760a614"
      },
      "execution_count": 40,
      "outputs": [
        {
          "output_type": "stream",
          "name": "stdout",
          "text": [
            "The Type of data is <class 'dict'>\n",
            "FirstName is Hinata\n",
            "LastName is Hyuga\n",
            "email is narutohina@gmail.com\n",
            "place is Japan\n",
            "children_name is ['Boruto', 'Himawari']\n"
          ]
        }
      ]
    },
    {
      "cell_type": "code",
      "source": [],
      "metadata": {
        "id": "IwXV5E8FVtko"
      },
      "execution_count": null,
      "outputs": []
    }
  ]
}