{
 "cells": [
  {
   "cell_type": "markdown",
   "id": "24cf1f20-8cfb-42e7-a413-53146cc79cb0",
   "metadata": {},
   "source": [
    "## Separating Integers and Strings from a Mixed List: A Python Example"
   ]
  },
  {
   "cell_type": "code",
   "execution_count": 1,
   "id": "4898de0f-4ae6-4d39-9ca6-b1fa6a3b646a",
   "metadata": {},
   "outputs": [
    {
     "name": "stdout",
     "output_type": "stream",
     "text": [
      "1\n",
      "3\n",
      "5\n",
      "7\n",
      "9\n",
      "apple\n",
      "banana\n",
      "orange\n",
      "grape\n",
      "kiwi\n"
     ]
    }
   ],
   "source": [
    "mixed_list = [1, 3, 5, 7, 9, \"apple\", \"banana\", \"orange\", \"grape\", \"kiwi\"]\n",
    "for i in mixed_list:\n",
    "    print(i)"
   ]
  },
  {
   "cell_type": "code",
   "execution_count": 11,
   "id": "48552560-af86-4a5a-846b-ee694ad791bd",
   "metadata": {},
   "outputs": [
    {
     "name": "stdout",
     "output_type": "stream",
     "text": [
      "Before The List: [1, 3, 5, 7, 9, 'apple', 'banana', 'orange', 'grape', 'kiwi']\n",
      "------------------------------------------------------------------\n",
      "After Extracting Intger Data From mixed_list: [1, 3, 5, 7, 9]\n",
      "After Extracting String Data From mixed_list: ['apple', 'banana', 'orange', 'grape', 'kiwi']\n"
     ]
    }
   ],
   "source": [
    "integer_values=[]\n",
    "string_value=[]\n",
    "for i in mixed_list:\n",
    "    if type (i)== int or type (i)== float:\n",
    "        integer_values.append(i)\n",
    "    else:\n",
    "        string_value.append(i)\n",
    "print(\"Before The List:\",mixed_list)\n",
    "print(\"------------------------------------------------------------------\")\n",
    "print(\"After Extracting Intger Data From mixed_list:\",integer_values)\n",
    "print(\"After Extracting String Data From mixed_list:\",string_value)"
   ]
  },
  {
   "cell_type": "code",
   "execution_count": 6,
   "id": "2978ef1d-6a4c-44df-949f-a1ba7908c70c",
   "metadata": {},
   "outputs": [
    {
     "data": {
      "text/plain": [
       "[1, 3, 5, 7, 9]"
      ]
     },
     "execution_count": 6,
     "metadata": {},
     "output_type": "execute_result"
    }
   ],
   "source": [
    "integer_values"
   ]
  },
  {
   "cell_type": "code",
   "execution_count": 7,
   "id": "f321352d-8b2a-4347-aae3-852249277f1d",
   "metadata": {},
   "outputs": [
    {
     "data": {
      "text/plain": [
       "['apple', 'banana', 'orange', 'grape', 'kiwi']"
      ]
     },
     "execution_count": 7,
     "metadata": {},
     "output_type": "execute_result"
    }
   ],
   "source": [
    "string_value"
   ]
  },
  {
   "cell_type": "code",
   "execution_count": null,
   "id": "0356e770-b18a-4e4a-9fff-7f61c06c2e6f",
   "metadata": {},
   "outputs": [],
   "source": []
  }
 ],
 "metadata": {
  "kernelspec": {
   "display_name": "Python 3 (ipykernel)",
   "language": "python",
   "name": "python3"
  },
  "language_info": {
   "codemirror_mode": {
    "name": "ipython",
    "version": 3
   },
   "file_extension": ".py",
   "mimetype": "text/x-python",
   "name": "python",
   "nbconvert_exporter": "python",
   "pygments_lexer": "ipython3",
   "version": "3.11.7"
  }
 },
 "nbformat": 4,
 "nbformat_minor": 5
}
